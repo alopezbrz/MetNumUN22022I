{
  "cells": [
    {
      "cell_type": "markdown",
      "metadata": {
        "id": "ydW-Cp4REnEe"
      },
      "source": [
        "<div align=\"center\">\n",
        "<img style=\"display: block; margin: auto;\" alt=\"photo\" src=\"https://upload.wikimedia.org/wikipedia/en/d/de/Quantopian_logo_2017.png\">\n",
        "</div> \n",
        "\n",
        "\n",
        "# Colab Yahoo Introduction to the Research Environment\n",
        "\n",
        "The research environment is powered by IPython notebooks, which allow one to perform a great deal of data analysis and statistical validation. We'll demonstrate a few simple techniques here."
      ]
    },
    {
      "cell_type": "markdown",
      "metadata": {
        "id": "CRAZIpakEnEj"
      },
      "source": [
        "##Code Cells vs. Text Cells\n",
        "\n",
        "As you can see, each cell can be either code or text. To select between them, choose from the 'Cell Type' dropdown menu on the top left."
      ]
    },
    {
      "cell_type": "markdown",
      "metadata": {
        "id": "DQ49NGLoEnEk"
      },
      "source": [
        "##Executing a Command\n",
        "\n",
        "A code cell will be evaluated when you press play, or when you press the shortcut, shift-enter. Evaluating a cell evaluates each line of code in sequence, and prints the results of the last line below the cell."
      ]
    },
    {
      "cell_type": "code",
      "execution_count": 1,
      "metadata": {
        "colab": {
          "base_uri": "https://localhost:8080/"
        },
        "id": "KE3OSs-AEnEl",
        "outputId": "0871a0ff-0e71-4542-fe2a-297b4ae0735e"
      },
      "outputs": [
        {
          "output_type": "execute_result",
          "data": {
            "text/plain": [
              "4"
            ]
          },
          "metadata": {},
          "execution_count": 1
        }
      ],
      "source": [
        "2 + 2"
      ]
    },
    {
      "cell_type": "markdown",
      "metadata": {
        "id": "Uqskt_2YlQYe"
      },
      "source": [
        "**My own example 1**"
      ]
    },
    {
      "cell_type": "code",
      "execution_count": 2,
      "metadata": {
        "colab": {
          "base_uri": "https://localhost:8080/"
        },
        "id": "oZvHafailPnf",
        "outputId": "60a611e6-e041-468e-80a4-f8f65529061d"
      },
      "outputs": [
        {
          "output_type": "execute_result",
          "data": {
            "text/plain": [
              "975"
            ]
          },
          "metadata": {},
          "execution_count": 2
        }
      ],
      "source": [
        "888 + 87\n"
      ]
    },
    {
      "cell_type": "markdown",
      "metadata": {
        "id": "oPPlhdlzEnEm"
      },
      "source": [
        "Sometimes there is no result to be printed, as is the case with assignment."
      ]
    },
    {
      "cell_type": "code",
      "execution_count": 3,
      "metadata": {
        "collapsed": true,
        "id": "Z4grFlsDEnEm"
      },
      "outputs": [],
      "source": [
        "X = 2"
      ]
    },
    {
      "cell_type": "markdown",
      "metadata": {
        "id": "CLW7ShI5mJHt"
      },
      "source": [
        "**My own example 2**"
      ]
    },
    {
      "cell_type": "code",
      "execution_count": 4,
      "metadata": {
        "id": "CZPd-g5mmJhJ"
      },
      "outputs": [],
      "source": [
        "L= 8888"
      ]
    },
    {
      "cell_type": "markdown",
      "metadata": {
        "id": "vz5ETS4WEnEn"
      },
      "source": [
        "Remember that only the result from the last line is printed."
      ]
    },
    {
      "cell_type": "code",
      "execution_count": 5,
      "metadata": {
        "colab": {
          "base_uri": "https://localhost:8080/"
        },
        "id": "gbUiPYI3EnEo",
        "outputId": "554799c1-6f78-4c3c-c35c-6b3685987db2"
      },
      "outputs": [
        {
          "output_type": "execute_result",
          "data": {
            "text/plain": [
              "6"
            ]
          },
          "metadata": {},
          "execution_count": 5
        }
      ],
      "source": [
        "2 + 2\n",
        "3 + 3"
      ]
    },
    {
      "cell_type": "markdown",
      "metadata": {
        "id": "HM4JFjCHmdVG"
      },
      "source": [
        "**My own example 3**"
      ]
    },
    {
      "cell_type": "code",
      "execution_count": 6,
      "metadata": {
        "colab": {
          "base_uri": "https://localhost:8080/"
        },
        "id": "6bNmPxhOmdpk",
        "outputId": "849b44bd-9b02-4159-cffa-fe9dcc2ba705"
      },
      "outputs": [
        {
          "output_type": "execute_result",
          "data": {
            "text/plain": [
              "824"
            ]
          },
          "metadata": {},
          "execution_count": 6
        }
      ],
      "source": [
        "88+97\n",
        "66+758"
      ]
    },
    {
      "cell_type": "markdown",
      "metadata": {
        "id": "dmJi5wb4EnEo"
      },
      "source": [
        "However, you can print whichever lines you want using the `print` statement."
      ]
    },
    {
      "cell_type": "code",
      "execution_count": 7,
      "metadata": {
        "colab": {
          "base_uri": "https://localhost:8080/"
        },
        "id": "dlMzqF2gEnEp",
        "outputId": "c2382d45-0749-4a8f-d84e-6456ad58e167"
      },
      "outputs": [
        {
          "output_type": "stream",
          "name": "stdout",
          "text": [
            "4\n"
          ]
        },
        {
          "output_type": "execute_result",
          "data": {
            "text/plain": [
              "6"
            ]
          },
          "metadata": {},
          "execution_count": 7
        }
      ],
      "source": [
        "print(2 + 2)\n",
        "3 + 3"
      ]
    },
    {
      "cell_type": "markdown",
      "metadata": {
        "id": "3z5CXVhUmtR1"
      },
      "source": [
        "**My own example 4**"
      ]
    },
    {
      "cell_type": "code",
      "execution_count": 8,
      "metadata": {
        "colab": {
          "base_uri": "https://localhost:8080/"
        },
        "id": "9un1sBpMmxkt",
        "outputId": "4ea05a5e-d18c-4b07-a89b-616d05e7d842"
      },
      "outputs": [
        {
          "output_type": "stream",
          "name": "stdout",
          "text": [
            "16744\n"
          ]
        },
        {
          "output_type": "execute_result",
          "data": {
            "text/plain": [
              "243019"
            ]
          },
          "metadata": {},
          "execution_count": 8
        }
      ],
      "source": [
        "print (8888+7856)\n",
        "8974+234045"
      ]
    },
    {
      "cell_type": "markdown",
      "metadata": {
        "id": "ZAmnTqjHEnEq"
      },
      "source": [
        "##Knowing When a Cell is Running\n",
        "\n",
        "While a cell is running, a `[*]` will display on the left. When a cell has yet to be executed, `[ ]` will display. When it has been run, a number will display indicating the order in which it was run during the execution of the notebook `[5]`. Try on this cell and note it happening."
      ]
    },
    {
      "cell_type": "code",
      "execution_count": 9,
      "metadata": {
        "colab": {
          "base_uri": "https://localhost:8080/"
        },
        "id": "9Sh3ZaPAEnEq",
        "outputId": "3c1023df-d2f5-4a09-9559-b2903e78c3f5"
      },
      "outputs": [
        {
          "output_type": "execute_result",
          "data": {
            "text/plain": [
              "49999995000000"
            ]
          },
          "metadata": {},
          "execution_count": 9
        }
      ],
      "source": [
        "#Take some time to run something\n",
        "c = 0\n",
        "for i in range(10000000):\n",
        "    c = c + i\n",
        "c"
      ]
    },
    {
      "cell_type": "markdown",
      "metadata": {
        "id": "wWD9I13jm6y4"
      },
      "source": [
        "**My own Example 5**"
      ]
    },
    {
      "cell_type": "code",
      "execution_count": 10,
      "metadata": {
        "colab": {
          "base_uri": "https://localhost:8080/"
        },
        "id": "1ExRpIx-m-hc",
        "outputId": "3bea07b4-2c2f-4b5e-dd7a-38570229b595"
      },
      "outputs": [
        {
          "output_type": "execute_result",
          "data": {
            "text/plain": [
              "1800030888"
            ]
          },
          "metadata": {},
          "execution_count": 10
        }
      ],
      "source": [
        "#Take some time to run something\n",
        "e = 888\n",
        "for i in range(60000):\n",
        "    e = e + i + 1\n",
        "e"
      ]
    },
    {
      "cell_type": "markdown",
      "metadata": {
        "id": "ZgD5ktlNEnEq"
      },
      "source": [
        "##Importing Libraries\n",
        "\n",
        "The vast majority of the time, you'll want to use functions from pre-built libraries. You can't import every library on Quantopian due to security issues, but you can import most of the common scientific ones. Here I import numpy and pandas, the two most common and useful libraries in quant finance. I recommend copying this import statement to every new notebook.\n",
        "\n",
        "Notice that you can rename libraries to whatever you want after importing. The `as` statement allows this. Here we use `np` and `pd` as aliases for `numpy` and `pandas`. This is a very common aliasing and will be found in most code snippets around the web. The point behind this is to allow you to type fewer characters when you are frequently accessing these libraries."
      ]
    },
    {
      "cell_type": "code",
      "execution_count": 11,
      "metadata": {
        "collapsed": true,
        "id": "Mz48FtHtEnEr"
      },
      "outputs": [],
      "source": [
        "import numpy as np\n",
        "import pandas as pd\n",
        "\n",
        "# This is a plotting library for pretty pictures.\n",
        "import matplotlib.pyplot as plt"
      ]
    },
    {
      "cell_type": "markdown",
      "metadata": {
        "id": "pMrxzTXpEnEr"
      },
      "source": [
        "##Tab Autocomplete\n",
        "\n",
        "Pressing tab will give you a list of IPython's best guesses for what you might want to type next. This is incredibly valuable and will save you a lot of time. If there is only one possible option for what you could type next, IPython will fill that in for you. Try pressing tab very frequently, it will seldom fill in anything you don't want, as if there is ambiguity a list will be shown. This is a great way to see what functions are available in a library.\n",
        "\n",
        "Try placing your cursor after the `.` and pressing tab."
      ]
    },
    {
      "cell_type": "code",
      "execution_count": 12,
      "metadata": {
        "colab": {
          "base_uri": "https://localhost:8080/"
        },
        "id": "C4i5XJTRlIQR",
        "outputId": "fb86d4c6-4773-43c3-d9c2-28993bad7137"
      },
      "outputs": [
        {
          "output_type": "execute_result",
          "data": {
            "text/plain": [
              "<function RandomState.beta>"
            ]
          },
          "metadata": {},
          "execution_count": 12
        }
      ],
      "source": [
        "np.random.beta    "
      ]
    },
    {
      "cell_type": "markdown",
      "metadata": {
        "id": "HBmhMQQ_EnEs"
      },
      "source": [
        "##Getting Documentation Help\n",
        "\n",
        "Placing a question mark after a function and executing that line of code will give you the documentation IPython has for that function. It's often best to do this in a new cell, as you avoid re-executing other code and running into bugs."
      ]
    },
    {
      "cell_type": "code",
      "execution_count": 13,
      "metadata": {
        "collapsed": true,
        "id": "1GwTwYHhEnEs"
      },
      "outputs": [],
      "source": [
        "np.random.normal?"
      ]
    },
    {
      "cell_type": "markdown",
      "metadata": {
        "id": "GZcWqDyIEnEs"
      },
      "source": [
        "##Sampling\n",
        "\n",
        "We'll sample some random data using a function from `numpy`."
      ]
    },
    {
      "cell_type": "code",
      "execution_count": 14,
      "metadata": {
        "id": "xNQYx1FjEnEt"
      },
      "outputs": [],
      "source": [
        "# Sample 100 points with a mean of 0 and an std of 1. This is a standard normal distribution.\n",
        "X = np.random.normal(0, 1, 100)"
      ]
    },
    {
      "cell_type": "markdown",
      "metadata": {
        "id": "CHvzPicfJkTS"
      },
      "source": [
        "**My Own Example 6**"
      ]
    },
    {
      "cell_type": "code",
      "execution_count": 15,
      "metadata": {
        "id": "BL24u_a5JsvZ"
      },
      "outputs": [],
      "source": [
        "Z= np.random.normal (0,5,250)"
      ]
    },
    {
      "cell_type": "markdown",
      "metadata": {
        "id": "p3zaV-naEnEt"
      },
      "source": [
        "##Plotting\n",
        "\n",
        "We can use the plotting library we imported as follows."
      ]
    },
    {
      "cell_type": "code",
      "execution_count": 16,
      "metadata": {
        "colab": {
          "base_uri": "https://localhost:8080/",
          "height": 284
        },
        "id": "W04St5giEnEt",
        "outputId": "1655d970-8509-4ece-ff4f-1a6c52f8dff9"
      },
      "outputs": [
        {
          "output_type": "execute_result",
          "data": {
            "text/plain": [
              "[<matplotlib.lines.Line2D at 0x7efcfb7d2c10>]"
            ]
          },
          "metadata": {},
          "execution_count": 16
        },
        {
          "output_type": "display_data",
          "data": {
            "text/plain": [
              "<Figure size 432x288 with 1 Axes>"
            ],
            "image/png": "[encoded data removed]"
          },
          "metadata": {
            "needs_background": "light"
          }
        }
      ],
      "source": [
        "plt.plot(X)"
      ]
    },
    {
      "cell_type": "markdown",
      "metadata": {
        "id": "MmFfcj1TJiM2"
      },
      "source": [
        "**My Own Example 7**"
      ]
    },
    {
      "cell_type": "code",
      "execution_count": 17,
      "metadata": {
        "colab": {
          "base_uri": "https://localhost:8080/",
          "height": 284
        },
        "id": "ZsQavNONKDmG",
        "outputId": "78f6e164-88ff-4013-f547-32f02b7ba796"
      },
      "outputs": [
        {
          "output_type": "execute_result",
          "data": {
            "text/plain": [
              "[<matplotlib.lines.Line2D at 0x7efcfb739410>]"
            ]
          },
          "metadata": {},
          "execution_count": 17
        },
        {
          "output_type": "display_data",
          "data": {
            "text/plain": [
              "<Figure size 432x288 with 1 Axes>"
            ],
            "image/png": "[encoded data removed]"
          },
          "metadata": {
            "needs_background": "light"
          }
        }
      ],
      "source": [
        "plt.plot(Z)"
      ]
    },
    {
      "cell_type": "markdown",
      "metadata": {
        "id": "V8xkW9G0EnEt"
      },
      "source": [
        "###Squelching Line Output\n",
        "\n",
        "You might have noticed the annoying line of the form `[<matplotlib.lines.Line2D at 0x7f72fdbc1710>]` before the plots. This is because the `.plot` function actually produces output. Sometimes we wish not to display output, we can accomplish this with the semi-colon as follows."
      ]
    },
    {
      "cell_type": "code",
      "execution_count": 18,
      "metadata": {
        "colab": {
          "base_uri": "https://localhost:8080/",
          "height": 265
        },
        "id": "ghNQMUhaEnEu",
        "outputId": "2be0f478-b2ca-4466-cbe1-698252c94dd2"
      },
      "outputs": [
        {
          "output_type": "display_data",
          "data": {
            "text/plain": [
              "<Figure size 432x288 with 1 Axes>"
            ],
            "image/png": "[encoded data removed]"
          },
          "metadata": {
            "needs_background": "light"
          }
        }
      ],
      "source": [
        "plt.plot(X);"
      ]
    },
    {
      "cell_type": "markdown",
      "metadata": {
        "id": "9qvkCmEXK72R"
      },
      "source": [
        "**My Own Example 8**"
      ]
    },
    {
      "cell_type": "code",
      "execution_count": 19,
      "metadata": {
        "colab": {
          "base_uri": "https://localhost:8080/",
          "height": 265
        },
        "id": "cAFAI-RGLDhA",
        "outputId": "5583ba19-1a04-44d2-d7d4-964500018c5f"
      },
      "outputs": [
        {
          "output_type": "display_data",
          "data": {
            "text/plain": [
              "<Figure size 432x288 with 1 Axes>"
            ],
            "image/png": "[encoded data removed]"
          },
          "metadata": {
            "needs_background": "light"
          }
        }
      ],
      "source": [
        "plt.plot(Z);"
      ]
    },
    {
      "cell_type": "markdown",
      "metadata": {
        "id": "LMrc6lfXEnEu"
      },
      "source": [
        "###Adding Axis Labels\n",
        "\n",
        "No self-respecting quant leaves a graph without labeled axes. Here are some commands to help with that."
      ]
    },
    {
      "cell_type": "code",
      "execution_count": 20,
      "metadata": {
        "colab": {
          "base_uri": "https://localhost:8080/",
          "height": 279
        },
        "id": "a9Qu76QPEnEu",
        "outputId": "5b461af5-9482-4e27-ae1a-62f0448db257"
      },
      "outputs": [
        {
          "output_type": "display_data",
          "data": {
            "text/plain": [
              "<Figure size 432x288 with 1 Axes>"
            ],
            "image/png": "[encoded data removed]"
          },
          "metadata": {
            "needs_background": "light"
          }
        }
      ],
      "source": [
        "X = np.random.normal(0, 1, 100)\n",
        "X2 = np.random.normal(0, 1, 100)\n",
        "\n",
        "plt.plot(X);\n",
        "plt.plot(X2);\n",
        "plt.xlabel('Time') # The data we generated is unitless, but don't forget units in general.\n",
        "plt.ylabel('Returns')\n",
        "plt.legend(['X', 'X2']);"
      ]
    },
    {
      "cell_type": "markdown",
      "metadata": {
        "id": "EQV53IbBLM_X"
      },
      "source": [
        "**My Own example 9**"
      ]
    },
    {
      "cell_type": "code",
      "execution_count": 21,
      "metadata": {
        "colab": {
          "base_uri": "https://localhost:8080/",
          "height": 279
        },
        "id": "nTDv5InILVHJ",
        "outputId": "7a244fe8-d4ec-4342-ede5-1662bc071f4e"
      },
      "outputs": [
        {
          "output_type": "display_data",
          "data": {
            "text/plain": [
              "<Figure size 432x288 with 1 Axes>"
            ],
            "image/png": "[encoded data removed]"
          },
          "metadata": {
            "needs_background": "light"
          }
        }
      ],
      "source": [
        "L= np.random.normal(1, 5, 300)\n",
        "L2= np.random.normal(1, 5, 300)\n",
        "\n",
        "plt.plot(L);\n",
        "plt.plot(L2);\n",
        "plt.xlabel('Manzanas') \n",
        "plt.ylabel('Arandanos')\n",
        "plt.legend(['L', 'L2']);"
      ]
    },
    {
      "cell_type": "markdown",
      "metadata": {
        "id": "btTN9YaFEnEu"
      },
      "source": [
        "##Generating Statistics\n",
        "\n",
        "Let's use `numpy` to take some simple statistics."
      ]
    },
    {
      "cell_type": "code",
      "execution_count": 22,
      "metadata": {
        "colab": {
          "base_uri": "https://localhost:8080/"
        },
        "id": "cM0cG4mJEnEu",
        "outputId": "e33ea57a-175f-475e-e36c-cf390399d8cf"
      },
      "outputs": [
        {
          "output_type": "execute_result",
          "data": {
            "text/plain": [
              "-0.019058848865900188"
            ]
          },
          "metadata": {},
          "execution_count": 22
        }
      ],
      "source": [
        "np.mean(X)"
      ]
    },
    {
      "cell_type": "markdown",
      "metadata": {
        "id": "0CyQmej0L306"
      },
      "source": [
        "**My Own Example 10** "
      ]
    },
    {
      "cell_type": "code",
      "execution_count": 23,
      "metadata": {
        "colab": {
          "base_uri": "https://localhost:8080/"
        },
        "id": "O24tni07L-4F",
        "outputId": "75760a88-028f-414c-8055-c20b83169b7a"
      },
      "outputs": [
        {
          "output_type": "execute_result",
          "data": {
            "text/plain": [
              "0.045979065462694084"
            ]
          },
          "metadata": {},
          "execution_count": 23
        }
      ],
      "source": [
        "np.mean(Z)"
      ]
    },
    {
      "cell_type": "code",
      "execution_count": 24,
      "metadata": {
        "colab": {
          "base_uri": "https://localhost:8080/"
        },
        "id": "383jlDx-EnEu",
        "outputId": "08685649-94b1-4472-9f8e-ce56667cedcd"
      },
      "outputs": [
        {
          "output_type": "execute_result",
          "data": {
            "text/plain": [
              "1.0601557608983867"
            ]
          },
          "metadata": {},
          "execution_count": 24
        }
      ],
      "source": [
        "np.std(X)"
      ]
    },
    {
      "cell_type": "markdown",
      "metadata": {
        "id": "TFqHjnA3MJNg"
      },
      "source": [
        "**My Own Example 11**"
      ]
    },
    {
      "cell_type": "code",
      "execution_count": 25,
      "metadata": {
        "colab": {
          "base_uri": "https://localhost:8080/"
        },
        "id": "PcLjH9QfMOrk",
        "outputId": "49012d6f-c028-4c8f-f21a-1f138527fec0"
      },
      "outputs": [
        {
          "output_type": "execute_result",
          "data": {
            "text/plain": [
              "4.622300864726164"
            ]
          },
          "metadata": {},
          "execution_count": 25
        }
      ],
      "source": [
        "np.std(Z)"
      ]
    },
    {
      "cell_type": "code",
      "execution_count": 26,
      "metadata": {
        "colab": {
          "base_uri": "https://localhost:8080/"
        },
        "id": "2ISWWSzbps-k",
        "outputId": "531f2d43-ac88-4e13-ea19-32cdfdd66121"
      },
      "outputs": [
        {
          "output_type": "stream",
          "name": "stdout",
          "text": [
            "Requirement already satisfied: pandas-datareader in /usr/local/lib/python3.7/dist-packages (0.9.0)\n",
            "Collecting pandas-datareader\n",
            "  Downloading pandas_datareader-0.10.0-py3-none-any.whl (109 kB)\n",
            "\u001b[K     |████████████████████████████████| 109 kB 29.0 MB/s \n",
            "\u001b[?25hRequirement already satisfied: requests>=2.19.0 in /usr/local/lib/python3.7/dist-packages (from pandas-datareader) (2.23.0)\n",
            "Requirement already satisfied: pandas>=0.23 in /usr/local/lib/python3.7/dist-packages (from pandas-datareader) (1.3.5)\n",
            "Requirement already satisfied: lxml in /usr/local/lib/python3.7/dist-packages (from pandas-datareader) (4.2.6)\n",
            "Requirement already satisfied: numpy>=1.17.3 in /usr/local/lib/python3.7/dist-packages (from pandas>=0.23->pandas-datareader) (1.21.5)\n",
            "Requirement already satisfied: pytz>=2017.3 in /usr/local/lib/python3.7/dist-packages (from pandas>=0.23->pandas-datareader) (2018.9)\n",
            "Requirement already satisfied: python-dateutil>=2.7.3 in /usr/local/lib/python3.7/dist-packages (from pandas>=0.23->pandas-datareader) (2.8.2)\n",
            "Requirement already satisfied: six>=1.5 in /usr/local/lib/python3.7/dist-packages (from python-dateutil>=2.7.3->pandas>=0.23->pandas-datareader) (1.15.0)\n",
            "Requirement already satisfied: urllib3!=1.25.0,!=1.25.1,<1.26,>=1.21.1 in /usr/local/lib/python3.7/dist-packages (from requests>=2.19.0->pandas-datareader) (1.24.3)\n",
            "Requirement already satisfied: chardet<4,>=3.0.2 in /usr/local/lib/python3.7/dist-packages (from requests>=2.19.0->pandas-datareader) (3.0.4)\n",
            "Requirement already satisfied: idna<3,>=2.5 in /usr/local/lib/python3.7/dist-packages (from requests>=2.19.0->pandas-datareader) (2.10)\n",
            "Requirement already satisfied: certifi>=2017.4.17 in /usr/local/lib/python3.7/dist-packages (from requests>=2.19.0->pandas-datareader) (2021.10.8)\n",
            "Installing collected packages: pandas-datareader\n",
            "  Attempting uninstall: pandas-datareader\n",
            "    Found existing installation: pandas-datareader 0.9.0\n",
            "    Uninstalling pandas-datareader-0.9.0:\n",
            "      Successfully uninstalled pandas-datareader-0.9.0\n",
            "Successfully installed pandas-datareader-0.10.0\n"
          ]
        }
      ],
      "source": [
        "!pip install --upgrade pandas-datareader\n"
      ]
    },
    {
      "cell_type": "markdown",
      "metadata": {
        "id": "GoxKGTVaEnEu"
      },
      "source": [
        "##Getting Real Pricing Data\n",
        "\n",
        "Randomly sampled data can be great for testing ideas, but let's get some real data. We can use `get_pricing` to do that. You can use the `?` syntax as discussed above to get more information on `get_pricing`'s arguments."
      ]
    },
    {
      "cell_type": "code",
      "execution_count": 27,
      "metadata": {
        "colab": {
          "base_uri": "https://localhost:8080/"
        },
        "id": "6_wGrpaIjiyx",
        "outputId": "ca4bfa8b-8dc7-4653-bd6b-c222f819bdc7"
      },
      "outputs": [
        {
          "output_type": "stream",
          "name": "stdout",
          "text": [
            "Collecting yfinance\n",
            "  Downloading yfinance-0.1.70-py2.py3-none-any.whl (26 kB)\n",
            "Requirement already satisfied: numpy>=1.15 in /usr/local/lib/python3.7/dist-packages (from yfinance) (1.21.5)\n",
            "Collecting lxml>=4.5.1\n",
            "  Downloading lxml-4.8.0-cp37-cp37m-manylinux_2_17_x86_64.manylinux2014_x86_64.manylinux_2_24_x86_64.whl (6.4 MB)\n",
            "\u001b[K     |████████████████████████████████| 6.4 MB 19.8 MB/s \n",
            "\u001b[?25hRequirement already satisfied: pandas>=0.24.0 in /usr/local/lib/python3.7/dist-packages (from yfinance) (1.3.5)\n",
            "Requirement already satisfied: multitasking>=0.0.7 in /usr/local/lib/python3.7/dist-packages (from yfinance) (0.0.10)\n",
            "Collecting requests>=2.26\n",
            "  Downloading requests-2.27.1-py2.py3-none-any.whl (63 kB)\n",
            "\u001b[K     |████████████████████████████████| 63 kB 1.5 MB/s \n",
            "\u001b[?25hRequirement already satisfied: pytz>=2017.3 in /usr/local/lib/python3.7/dist-packages (from pandas>=0.24.0->yfinance) (2018.9)\n",
            "Requirement already satisfied: python-dateutil>=2.7.3 in /usr/local/lib/python3.7/dist-packages (from pandas>=0.24.0->yfinance) (2.8.2)\n",
            "Requirement already satisfied: six>=1.5 in /usr/local/lib/python3.7/dist-packages (from python-dateutil>=2.7.3->pandas>=0.24.0->yfinance) (1.15.0)\n",
            "Requirement already satisfied: certifi>=2017.4.17 in /usr/local/lib/python3.7/dist-packages (from requests>=2.26->yfinance) (2021.10.8)\n",
            "Requirement already satisfied: idna<4,>=2.5 in /usr/local/lib/python3.7/dist-packages (from requests>=2.26->yfinance) (2.10)\n",
            "Requirement already satisfied: charset-normalizer~=2.0.0 in /usr/local/lib/python3.7/dist-packages (from requests>=2.26->yfinance) (2.0.12)\n",
            "Requirement already satisfied: urllib3<1.27,>=1.21.1 in /usr/local/lib/python3.7/dist-packages (from requests>=2.26->yfinance) (1.24.3)\n",
            "Installing collected packages: requests, lxml, yfinance\n",
            "  Attempting uninstall: requests\n",
            "    Found existing installation: requests 2.23.0\n",
            "    Uninstalling requests-2.23.0:\n",
            "      Successfully uninstalled requests-2.23.0\n",
            "  Attempting uninstall: lxml\n",
            "    Found existing installation: lxml 4.2.6\n",
            "    Uninstalling lxml-4.2.6:\n",
            "      Successfully uninstalled lxml-4.2.6\n",
            "\u001b[31mERROR: pip's dependency resolver does not currently take into account all the packages that are installed. This behaviour is the source of the following dependency conflicts.\n",
            "google-colab 1.0.0 requires requests~=2.23.0, but you have requests 2.27.1 which is incompatible.\n",
            "datascience 0.10.6 requires folium==0.2.1, but you have folium 0.8.3 which is incompatible.\u001b[0m\n",
            "Successfully installed lxml-4.8.0 requests-2.27.1 yfinance-0.1.70\n"
          ]
        }
      ],
      "source": [
        "!pip install yfinance"
      ]
    },
    {
      "cell_type": "code",
      "execution_count": 28,
      "metadata": {
        "colab": {
          "base_uri": "https://localhost:8080/"
        },
        "id": "Yfm623FZEnEv",
        "outputId": "f5630604-1ba2-4bef-f32d-c9b7ff22cd8f"
      },
      "outputs": [
        {
          "output_type": "stream",
          "name": "stdout",
          "text": [
            "\r[*********************100%***********************]  1 of 1 completed\n"
          ]
        }
      ],
      "source": [
        "import yfinance as yf\n",
        "\n",
        "data = yf.download(\"MSFT\", start=\"2012-1-1\", end=\"2015-6-1\") "
      ]
    },
    {
      "cell_type": "markdown",
      "metadata": {
        "id": "7kioGPx8EnEv"
      },
      "source": [
        "Our data is now a dataframe. You can see the datetime index and the colums with different pricing data."
      ]
    },
    {
      "cell_type": "markdown",
      "metadata": {
        "id": "Ew2O12zGf1op"
      },
      "source": [
        "**My Own Example 12**"
      ]
    },
    {
      "cell_type": "code",
      "execution_count": 29,
      "metadata": {
        "colab": {
          "base_uri": "https://localhost:8080/"
        },
        "id": "Fdblqdvpf7WA",
        "outputId": "5d2a24e2-6479-447f-ef1c-e7c986411a40"
      },
      "outputs": [
        {
          "output_type": "stream",
          "name": "stdout",
          "text": [
            "\r[*********************100%***********************]  1 of 1 completed\n"
          ]
        }
      ],
      "source": [
        "datos = yf.download(\"DMLRY\", start=\"2015-1-1\", end=\"2022-1-1\") "
      ]
    },
    {
      "cell_type": "code",
      "execution_count": 30,
      "metadata": {
        "colab": {
          "base_uri": "https://localhost:8080/",
          "height": 455
        },
        "id": "7w96Hr4QEnEv",
        "outputId": "3f0c06b7-1f19-4c20-939f-84d82b24e56e"
      },
      "outputs": [
        {
          "output_type": "execute_result",
          "data": {
            "text/plain": [
              "                 Open       High        Low      Close  Adj Close  Volume\n",
              "Date                                                                     \n",
              "2015-01-02  20.712500  20.762501  20.545000  20.652500  15.553029   54800\n",
              "2015-01-05  20.077499  20.107500  19.672501  19.702499  14.837603  154000\n",
              "2015-01-06  20.100000  20.250000  19.799999  19.889999  14.978803   82000\n",
              "2015-01-07  20.000000  20.102501  19.732500  20.055000  15.103066   82800\n",
              "2015-01-08  20.297501  20.680000  20.272499  20.587500  15.504082   87600\n",
              "...               ...        ...        ...        ...        ...     ...\n",
              "2021-12-27  24.000000  24.400000  23.860001  24.120001  24.120001  139200\n",
              "2021-12-28  23.850000  24.110001  23.850000  24.000000  24.000000   94700\n",
              "2021-12-29  23.450001  23.870001  23.450001  23.850000  23.850000   52300\n",
              "2021-12-30  23.500000  23.850000  23.450001  23.450001  23.450001  103900\n",
              "2021-12-31  23.559999  23.709999  23.500000  23.590000  23.590000  101400\n",
              "\n",
              "[1763 rows x 6 columns]"
            ],
            "text/html": [
              "\n",
              "  <div id=\"df-ed06ec35-0444-4193-9662-0c94e1dcfb4d\">\n",
              "    <div class=\"colab-df-container\">\n",
              "      <div>\n",
              "<style scoped>\n",
              "    .dataframe tbody tr th:only-of-type {\n",
              "        vertical-align: middle;\n",
              "    }\n",
              "\n",
              "    .dataframe tbody tr th {\n",
              "        vertical-align: top;\n",
              "    }\n",
              "\n",
              "    .dataframe thead th {\n",
              "        text-align: right;\n",
              "    }\n",
              "</style>\n",
              "<table border=\"1\" class=\"dataframe\">\n",
              "  <thead>\n",
              "    <tr style=\"text-align: right;\">\n",
              "      <th></th>\n",
              "      <th>Open</th>\n",
              "      <th>High</th>\n",
              "      <th>Low</th>\n",
              "      <th>Close</th>\n",
              "      <th>Adj Close</th>\n",
              "      <th>Volume</th>\n",
              "    </tr>\n",
              "    <tr>\n",
              "      <th>Date</th>\n",
              "      <th></th>\n",
              "      <th></th>\n",
              "      <th></th>\n",
              "      <th></th>\n",
              "      <th></th>\n",
              "      <th></th>\n",
              "    </tr>\n",
              "  </thead>\n",
              "  <tbody>\n",
              "    <tr>\n",
              "      <th>2015-01-02</th>\n",
              "      <td>20.712500</td>\n",
              "      <td>20.762501</td>\n",
              "      <td>20.545000</td>\n",
              "      <td>20.652500</td>\n",
              "      <td>15.553029</td>\n",
              "      <td>54800</td>\n",
              "    </tr>\n",
              "    <tr>\n",
              "      <th>2015-01-05</th>\n",
              "      <td>20.077499</td>\n",
              "      <td>20.107500</td>\n",
              "      <td>19.672501</td>\n",
              "      <td>19.702499</td>\n",
              "      <td>14.837603</td>\n",
              "      <td>154000</td>\n",
              "    </tr>\n",
              "    <tr>\n",
              "      <th>2015-01-06</th>\n",
              "      <td>20.100000</td>\n",
              "      <td>20.250000</td>\n",
              "      <td>19.799999</td>\n",
              "      <td>19.889999</td>\n",
              "      <td>14.978803</td>\n",
              "      <td>82000</td>\n",
              "    </tr>\n",
              "    <tr>\n",
              "      <th>2015-01-07</th>\n",
              "      <td>20.000000</td>\n",
              "      <td>20.102501</td>\n",
              "      <td>19.732500</td>\n",
              "      <td>20.055000</td>\n",
              "      <td>15.103066</td>\n",
              "      <td>82800</td>\n",
              "    </tr>\n",
              "    <tr>\n",
              "      <th>2015-01-08</th>\n",
              "      <td>20.297501</td>\n",
              "      <td>20.680000</td>\n",
              "      <td>20.272499</td>\n",
              "      <td>20.587500</td>\n",
              "      <td>15.504082</td>\n",
              "      <td>87600</td>\n",
              "    </tr>\n",
              "    <tr>\n",
              "      <th>...</th>\n",
              "      <td>...</td>\n",
              "      <td>...</td>\n",
              "      <td>...</td>\n",
              "      <td>...</td>\n",
              "      <td>...</td>\n",
              "      <td>...</td>\n",
              "    </tr>\n",
              "    <tr>\n",
              "      <th>2021-12-27</th>\n",
              "      <td>24.000000</td>\n",
              "      <td>24.400000</td>\n",
              "      <td>23.860001</td>\n",
              "      <td>24.120001</td>\n",
              "      <td>24.120001</td>\n",
              "      <td>139200</td>\n",
              "    </tr>\n",
              "    <tr>\n",
              "      <th>2021-12-28</th>\n",
              "      <td>23.850000</td>\n",
              "      <td>24.110001</td>\n",
              "      <td>23.850000</td>\n",
              "      <td>24.000000</td>\n",
              "      <td>24.000000</td>\n",
              "      <td>94700</td>\n",
              "    </tr>\n",
              "    <tr>\n",
              "      <th>2021-12-29</th>\n",
              "      <td>23.450001</td>\n",
              "      <td>23.870001</td>\n",
              "      <td>23.450001</td>\n",
              "      <td>23.850000</td>\n",
              "      <td>23.850000</td>\n",
              "      <td>52300</td>\n",
              "    </tr>\n",
              "    <tr>\n",
              "      <th>2021-12-30</th>\n",
              "      <td>23.500000</td>\n",
              "      <td>23.850000</td>\n",
              "      <td>23.450001</td>\n",
              "      <td>23.450001</td>\n",
              "      <td>23.450001</td>\n",
              "      <td>103900</td>\n",
              "    </tr>\n",
              "    <tr>\n",
              "      <th>2021-12-31</th>\n",
              "      <td>23.559999</td>\n",
              "      <td>23.709999</td>\n",
              "      <td>23.500000</td>\n",
              "      <td>23.590000</td>\n",
              "      <td>23.590000</td>\n",
              "      <td>101400</td>\n",
              "    </tr>\n",
              "  </tbody>\n",
              "</table>\n",
              "<p>1763 rows × 6 columns</p>\n",
              "</div>\n",
              "      <button class=\"colab-df-convert\" onclick=\"convertToInteractive('df-ed06ec35-0444-4193-9662-0c94e1dcfb4d')\"\n",
              "              title=\"Convert this dataframe to an interactive table.\"\n",
              "              style=\"display:none;\">\n",
              "        \n",
              "  <svg xmlns=\"http://www.w3.org/2000/svg\" height=\"24px\"viewBox=\"0 0 24 24\"\n",
              "       width=\"24px\">\n",
              "    <path d=\"M0 0h24v24H0V0z\" fill=\"none\"/>\n",
              "    <path d=\"M18.56 5.44l.94 2.06.94-2.06 2.06-.94-2.06-.94-.94-2.06-.94 2.06-2.06.94zm-11 1L8.5 8.5l.94-2.06 2.06-.94-2.06-.94L8.5 2.5l-.94 2.06-2.06.94zm10 10l.94 2.06.94-2.06 2.06-.94-2.06-.94-.94-2.06-.94 2.06-2.06.94z\"/><path d=\"M17.41 7.96l-1.37-1.37c-.4-.4-.92-.59-1.43-.59-.52 0-1.04.2-1.43.59L10.3 9.45l-7.72 7.72c-.78.78-.78 2.05 0 2.83L4 21.41c.39.39.9.59 1.41.59.51 0 1.02-.2 1.41-.59l7.78-7.78 2.81-2.81c.8-.78.8-2.07 0-2.86zM5.41 20L4 18.59l7.72-7.72 1.47 1.35L5.41 20z\"/>\n",
              "  </svg>\n",
              "      </button>\n",
              "      \n",
              "  <style>\n",
              "    .colab-df-container {\n",
              "      display:flex;\n",
              "      flex-wrap:wrap;\n",
              "      gap: 12px;\n",
              "    }\n",
              "\n",
              "    .colab-df-convert {\n",
              "      background-color: #E8F0FE;\n",
              "      border: none;\n",
              "      border-radius: 50%;\n",
              "      cursor: pointer;\n",
              "      display: none;\n",
              "      fill: #1967D2;\n",
              "      height: 32px;\n",
              "      padding: 0 0 0 0;\n",
              "      width: 32px;\n",
              "    }\n",
              "\n",
              "    .colab-df-convert:hover {\n",
              "      background-color: #E2EBFA;\n",
              "      box-shadow: 0px 1px 2px rgba(60, 64, 67, 0.3), 0px 1px 3px 1px rgba(60, 64, 67, 0.15);\n",
              "      fill: #174EA6;\n",
              "    }\n",
              "\n",
              "    [theme=dark] .colab-df-convert {\n",
              "      background-color: #3B4455;\n",
              "      fill: #D2E3FC;\n",
              "    }\n",
              "\n",
              "    [theme=dark] .colab-df-convert:hover {\n",
              "      background-color: #434B5C;\n",
              "      box-shadow: 0px 1px 3px 1px rgba(0, 0, 0, 0.15);\n",
              "      filter: drop-shadow(0px 1px 2px rgba(0, 0, 0, 0.3));\n",
              "      fill: #FFFFFF;\n",
              "    }\n",
              "  </style>\n",
              "\n",
              "      <script>\n",
              "        const buttonEl =\n",
              "          document.querySelector('#df-ed06ec35-0444-4193-9662-0c94e1dcfb4d button.colab-df-convert');\n",
              "        buttonEl.style.display =\n",
              "          google.colab.kernel.accessAllowed ? 'block' : 'none';\n",
              "\n",
              "        async function convertToInteractive(key) {\n",
              "          const element = document.querySelector('#df-ed06ec35-0444-4193-9662-0c94e1dcfb4d');\n",
              "          const dataTable =\n",
              "            await google.colab.kernel.invokeFunction('convertToInteractive',\n",
              "                                                     [key], {});\n",
              "          if (!dataTable) return;\n",
              "\n",
              "          const docLinkHtml = 'Like what you see? Visit the ' +\n",
              "            '<a target=\"_blank\" href=https://colab.research.google.com/notebooks/data_table.ipynb>data table notebook</a>'\n",
              "            + ' to learn more about interactive tables.';\n",
              "          element.innerHTML = '';\n",
              "          dataTable['output_type'] = 'display_data';\n",
              "          await google.colab.output.renderOutput(dataTable, element);\n",
              "          const docLink = document.createElement('div');\n",
              "          docLink.innerHTML = docLinkHtml;\n",
              "          element.appendChild(docLink);\n",
              "        }\n",
              "      </script>\n",
              "    </div>\n",
              "  </div>\n",
              "  "
            ]
          },
          "metadata": {},
          "execution_count": 30
        }
      ],
      "source": [
        "datos"
      ]
    },
    {
      "cell_type": "markdown",
      "metadata": {
        "id": "diGtny7QEnEv"
      },
      "source": [
        "This is a pandas dataframe, so we can index in to just get price like this. For more info on pandas, please [click here](http://pandas.pydata.org/pandas-docs/stable/10min.html)."
      ]
    },
    {
      "cell_type": "code",
      "execution_count": 31,
      "metadata": {
        "id": "xd3g7hHlqGDr"
      },
      "outputs": [],
      "source": [
        "X= data[\"Close\"]"
      ]
    },
    {
      "cell_type": "code",
      "execution_count": 32,
      "metadata": {
        "id": "vaf4dM2-EnEv"
      },
      "outputs": [],
      "source": [
        "T = datos['Close']"
      ]
    },
    {
      "cell_type": "markdown",
      "metadata": {
        "id": "1sTxUhA-EnEv"
      },
      "source": [
        "Because there is now also date information in our data, we provide two series to `.plot`. `X.index` gives us the datetime index, and `X.values` gives us the pricing values. These are used as the X and Y coordinates to make a graph."
      ]
    },
    {
      "cell_type": "code",
      "execution_count": 33,
      "metadata": {
        "colab": {
          "base_uri": "https://localhost:8080/",
          "height": 265
        },
        "id": "2r71p2hsEnEv",
        "outputId": "6005c715-2800-4dc9-ea37-9ebd8e81c598"
      },
      "outputs": [
        {
          "output_type": "display_data",
          "data": {
            "text/plain": [
              "<Figure size 432x288 with 1 Axes>"
            ],
            "image/png": "[encoded data removed]"
          },
          "metadata": {
            "needs_background": "light"
          }
        }
      ],
      "source": [
        "plt.plot(X.index, X.values)\n",
        "plt.ylabel('Price')\n",
        "plt.legend(['MSFT']);"
      ]
    },
    {
      "cell_type": "markdown",
      "metadata": {
        "id": "P3Ek8yFqEnEw"
      },
      "source": [
        "We can get statistics again on real data."
      ]
    },
    {
      "cell_type": "markdown",
      "metadata": {
        "id": "kpFDKmKphHP4"
      },
      "source": [
        "**My Own Example 13**"
      ]
    },
    {
      "cell_type": "code",
      "execution_count": 34,
      "metadata": {
        "colab": {
          "base_uri": "https://localhost:8080/",
          "height": 265
        },
        "id": "WjnqVb2GhK2W",
        "outputId": "d627fa9e-3024-4b57-800a-5a77cb5b947f"
      },
      "outputs": [
        {
          "output_type": "display_data",
          "data": {
            "text/plain": [
              "<Figure size 432x288 with 1 Axes>"
            ],
            "image/png": "[encoded data removed]"
          },
          "metadata": {
            "needs_background": "light"
          }
        }
      ],
      "source": [
        "plt.plot(T.index, T.values)\n",
        "plt.ylabel('Precio')\n",
        "plt.legend(['DMLRY']);"
      ]
    },
    {
      "cell_type": "markdown",
      "metadata": {
        "id": "KSA87hNdhdRZ"
      },
      "source": [
        "**My Own Example 14**"
      ]
    },
    {
      "cell_type": "code",
      "execution_count": 35,
      "metadata": {
        "colab": {
          "base_uri": "https://localhost:8080/"
        },
        "id": "iK-Dq0sQh6pO",
        "outputId": "9dda349a-dd17-4ea5-fbf7-80b261c92b3b"
      },
      "outputs": [
        {
          "output_type": "execute_result",
          "data": {
            "text/plain": [
              "17.75592880822418"
            ]
          },
          "metadata": {},
          "execution_count": 35
        }
      ],
      "source": [
        "np.mean(T)"
      ]
    },
    {
      "cell_type": "code",
      "execution_count": 36,
      "metadata": {
        "colab": {
          "base_uri": "https://localhost:8080/"
        },
        "id": "XcdS5rHtEnEw",
        "outputId": "d141c3e3-e461-44e3-83f4-10c9d25e1992"
      },
      "outputs": [
        {
          "output_type": "execute_result",
          "data": {
            "text/plain": [
              "6.691260772637948"
            ]
          },
          "metadata": {},
          "execution_count": 36
        }
      ],
      "source": [
        "np.std(X)"
      ]
    },
    {
      "cell_type": "markdown",
      "metadata": {
        "id": "Dkyat_-HiU3n"
      },
      "source": [
        "**My Own Example 15**"
      ]
    },
    {
      "cell_type": "code",
      "execution_count": 37,
      "metadata": {
        "colab": {
          "base_uri": "https://localhost:8080/"
        },
        "id": "0uG2atYGiY6Y",
        "outputId": "ea56043f-7e57-4ddc-eb69-1af5ae40333b"
      },
      "outputs": [
        {
          "output_type": "execute_result",
          "data": {
            "text/plain": [
              "4.1194654021764086"
            ]
          },
          "metadata": {},
          "execution_count": 37
        }
      ],
      "source": [
        "np.std(T)"
      ]
    },
    {
      "cell_type": "markdown",
      "metadata": {
        "id": "j17G-VFVEnEw"
      },
      "source": [
        "##Getting Returns from Prices\n",
        "\n",
        "We can use the `pct_change` function to get returns. Notice how we drop the first element after doing this, as it will be `NaN` (nothing -> something results in a NaN percent change)."
      ]
    },
    {
      "cell_type": "code",
      "execution_count": 38,
      "metadata": {
        "id": "3Y8YbrMUEnEw"
      },
      "outputs": [],
      "source": [
        "R = X.pct_change()[1:]"
      ]
    },
    {
      "cell_type": "markdown",
      "metadata": {
        "id": "1rN7Cwdnii-9"
      },
      "source": [
        "**My Own Example 16**"
      ]
    },
    {
      "cell_type": "code",
      "execution_count": 39,
      "metadata": {
        "id": "qbV3WwDailMZ"
      },
      "outputs": [],
      "source": [
        "Y = T.pct_change()[2:]"
      ]
    },
    {
      "cell_type": "markdown",
      "metadata": {
        "id": "71Uay1KKEnEw"
      },
      "source": [
        "We can plot the returns distribution as a histogram."
      ]
    },
    {
      "cell_type": "code",
      "execution_count": 40,
      "metadata": {
        "colab": {
          "base_uri": "https://localhost:8080/",
          "height": 279
        },
        "id": "B9MXHP_EEnEw",
        "outputId": "432d4967-192c-47da-e736-194f51ca20d5"
      },
      "outputs": [
        {
          "output_type": "display_data",
          "data": {
            "text/plain": [
              "<Figure size 432x288 with 1 Axes>"
            ],
            "image/png": "[encoded data removed]"
          },
          "metadata": {
            "needs_background": "light"
          }
        }
      ],
      "source": [
        "plt.hist(R, bins=20)\n",
        "plt.xlabel('Return')\n",
        "plt.ylabel('Frequency')\n",
        "plt.legend(['MSFT Returns']);"
      ]
    },
    {
      "cell_type": "markdown",
      "metadata": {
        "id": "CcPoe3DdEnEx"
      },
      "source": [
        "Get statistics again."
      ]
    },
    {
      "cell_type": "markdown",
      "metadata": {
        "id": "2LFse6_Ki6CF"
      },
      "source": [
        "**My Own Example 17**"
      ]
    },
    {
      "cell_type": "code",
      "execution_count": 41,
      "metadata": {
        "colab": {
          "base_uri": "https://localhost:8080/",
          "height": 279
        },
        "id": "AMGtOb3-i90R",
        "outputId": "277e65c9-3b60-48e5-f347-c6e1523d772f"
      },
      "outputs": [
        {
          "output_type": "display_data",
          "data": {
            "text/plain": [
              "<Figure size 432x288 with 1 Axes>"
            ],
            "image/png": "[encoded data removed]"
          },
          "metadata": {
            "needs_background": "light"
          }
        }
      ],
      "source": [
        "plt.hist(Y, bins=30)\n",
        "plt.xlabel('Returno')\n",
        "plt.ylabel('Frecuencia')\n",
        "plt.legend(['DMLRY Returns']);"
      ]
    },
    {
      "cell_type": "code",
      "execution_count": 42,
      "metadata": {
        "colab": {
          "base_uri": "https://localhost:8080/"
        },
        "id": "11CaKif7EnEx",
        "outputId": "94be36eb-99a9-43c4-ef51-6d5e8cb0fb2e"
      },
      "outputs": [
        {
          "output_type": "execute_result",
          "data": {
            "text/plain": [
              "0.0007593053938455802"
            ]
          },
          "metadata": {},
          "execution_count": 42
        }
      ],
      "source": [
        "np.mean(R)"
      ]
    },
    {
      "cell_type": "markdown",
      "metadata": {
        "id": "Z8CIc5FClU5P"
      },
      "source": [
        "**My Own Example 18**"
      ]
    },
    {
      "cell_type": "code",
      "execution_count": 43,
      "metadata": {
        "colab": {
          "base_uri": "https://localhost:8080/"
        },
        "id": "C0RJrQFOlYVU",
        "outputId": "2f4730ae-9b73-431a-ceef-f1beda2386a5"
      },
      "outputs": [
        {
          "output_type": "execute_result",
          "data": {
            "text/plain": [
              "0.0003391825013557215"
            ]
          },
          "metadata": {},
          "execution_count": 43
        }
      ],
      "source": [
        "np.mean(Y)"
      ]
    },
    {
      "cell_type": "code",
      "execution_count": 44,
      "metadata": {
        "colab": {
          "base_uri": "https://localhost:8080/"
        },
        "id": "zsIYQvb4EnEx",
        "outputId": "04086705-f475-4063-c25f-392978e65d70"
      },
      "outputs": [
        {
          "output_type": "execute_result",
          "data": {
            "text/plain": [
              "0.014427919863141542"
            ]
          },
          "metadata": {},
          "execution_count": 44
        }
      ],
      "source": [
        "np.std(R)"
      ]
    },
    {
      "cell_type": "markdown",
      "metadata": {
        "id": "IS7gczxJmjxD"
      },
      "source": [
        "**My Own Example 19**"
      ]
    },
    {
      "cell_type": "code",
      "execution_count": 45,
      "metadata": {
        "colab": {
          "base_uri": "https://localhost:8080/"
        },
        "id": "iEZOICFHmm5Q",
        "outputId": "0d03134c-7c00-4a74-e562-2f98804194ad"
      },
      "outputs": [
        {
          "output_type": "execute_result",
          "data": {
            "text/plain": [
              "0.021685173943106522"
            ]
          },
          "metadata": {},
          "execution_count": 45
        }
      ],
      "source": [
        "np.std(Y)"
      ]
    },
    {
      "cell_type": "markdown",
      "metadata": {
        "id": "gy8pR0Q6EnEx"
      },
      "source": [
        "Now let's go backwards and generate data out of a normal distribution using the statistics we estimated from Microsoft's returns. We'll see that we have good reason to suspect Microsoft's returns may not be normal, as the resulting normal distribution looks far different."
      ]
    },
    {
      "cell_type": "code",
      "execution_count": 46,
      "metadata": {
        "colab": {
          "base_uri": "https://localhost:8080/",
          "height": 279
        },
        "id": "6gHkrbyzEnEx",
        "outputId": "ca18ee79-251b-4b50-f45f-91ac6a2105f9"
      },
      "outputs": [
        {
          "output_type": "display_data",
          "data": {
            "text/plain": [
              "<Figure size 432x288 with 1 Axes>"
            ],
            "image/png": "[encoded data removed]"
          },
          "metadata": {
            "needs_background": "light"
          }
        }
      ],
      "source": [
        "plt.hist(np.random.normal(np.mean(R), np.std(R), 10000), bins=20)\n",
        "plt.xlabel('Return')\n",
        "plt.ylabel('Frequency')\n",
        "plt.legend(['Normally Distributed Returns']);"
      ]
    },
    {
      "cell_type": "markdown",
      "metadata": {
        "id": "2roxZ6JDmwtY"
      },
      "source": [
        "**My Own Example 20**"
      ]
    },
    {
      "cell_type": "code",
      "execution_count": 47,
      "metadata": {
        "colab": {
          "base_uri": "https://localhost:8080/",
          "height": 279
        },
        "id": "kNC2Y3-snVo5",
        "outputId": "c23172a3-161e-4228-e5eb-ff8153f693f5"
      },
      "outputs": [
        {
          "output_type": "display_data",
          "data": {
            "text/plain": [
              "<Figure size 432x288 with 1 Axes>"
            ],
            "image/png": "[encoded data removed]"
          },
          "metadata": {
            "needs_background": "light"
          }
        }
      ],
      "source": [
        "plt.hist(np.random.normal(np.mean(Y), np.std(Y), 50000), bins=30)\n",
        "plt.xlabel('Retorno')\n",
        "plt.ylabel('Frecuencia')\n",
        "plt.legend(['Distribución Normal de los Retornos']);"
      ]
    },
    {
      "cell_type": "markdown",
      "metadata": {
        "id": "RhK0dRHQEnEx"
      },
      "source": [
        "##Generating a Moving Average\n",
        "\n",
        "`pandas` has some nice tools to allow us to generate rolling statistics. Here's an example. Notice how there's no moving average for the first 60 days, as we don't have 60 days of data on which to generate the statistic."
      ]
    },
    {
      "cell_type": "code",
      "execution_count": 48,
      "metadata": {
        "colab": {
          "base_uri": "https://localhost:8080/",
          "height": 265
        },
        "id": "-Dg6Jj-aEnEx",
        "outputId": "12b74f05-e0fb-4b3e-9cf5-e72617e90aad"
      },
      "outputs": [
        {
          "output_type": "display_data",
          "data": {
            "text/plain": [
              "<Figure size 432x288 with 1 Axes>"
            ],
            "image/png": "[encoded data removed]"
          },
          "metadata": {
            "needs_background": "light"
          }
        }
      ],
      "source": [
        "# Take the average of the last 60 days at each timepoint.\n",
        "MAVG = X.rolling(2).mean()\n",
        "plt.plot(X.index, X.values)\n",
        "plt.plot(MAVG.index, MAVG.values)\n",
        "plt.ylabel('Price')\n",
        "plt.legend(['MSFT', '60-day MAVG']);"
      ]
    },
    {
      "cell_type": "markdown",
      "metadata": {
        "id": "5S50NlaToA66"
      },
      "source": [
        "**My Own Example 21**"
      ]
    },
    {
      "cell_type": "code",
      "execution_count": 49,
      "metadata": {
        "colab": {
          "base_uri": "https://localhost:8080/",
          "height": 265
        },
        "id": "2K89hDq2oDy0",
        "outputId": "2f746f87-6664-4c95-a86a-72419ae04580"
      },
      "outputs": [
        {
          "output_type": "display_data",
          "data": {
            "text/plain": [
              "<Figure size 432x288 with 1 Axes>"
            ],
            "image/png": "[encoded data removed]"
          },
          "metadata": {
            "needs_background": "light"
          }
        }
      ],
      "source": [
        "DMAVG = T.rolling(2).mean()\n",
        "plt.plot(X.index, X.values)\n",
        "plt.plot(DMAVG.index, DMAVG.values)\n",
        "plt.ylabel('Precio')\n",
        "plt.legend(['DMLRY',\"Promedio 60 minutos\"]);"
      ]
    },
    {
      "cell_type": "markdown",
      "metadata": {
        "id": "T51K3OvSEnEy"
      },
      "source": [
        "This presentation is for informational purposes only and does not constitute an offer to sell, a solicitation to buy, or a recommendation for any security; nor does it constitute an offer to provide investment advisory or other services by Quantopian, Inc. (\"Quantopian\"). Nothing contained herein constitutes investment advice or offers any opinion with respect to the suitability of any security, and any views expressed herein should not be taken as advice to buy, sell, or hold any security or as an endorsement of any security or company. In preparing the information contained herein, Quantopian, Inc. has not taken into account the investment needs, objectives, and financial circumstances of any particular investor. Any views expressed and data illustrated herein were prepared based upon information, believed to be reliable, available to Quantopian, Inc. at the time of publication. Quantopian makes no guarantees as to their accuracy or completeness. All information is subject to change and may quickly become unreliable for various reasons, including changes in market conditions or economic circumstances."
      ]
    },
    {
      "cell_type": "markdown",
      "metadata": {
        "id": "vlZsrHJjFoDm"
      },
      "source": [
        "<div align=\"center\">\n",
        "<img style=\"display: block; margin: auto;\" alt=\"photo\" src=\"https://upload.wikimedia.org/wikipedia/en/d/de/Quantopian_logo_2017.png\">\n",
        "</div> \n",
        "\n",
        "# Introduction to Python\n",
        "by Maxwell Margenot\n",
        "\n",
        "Part of the Quantopian Lecture Series:\n",
        "\n",
        "* [www.quantopian.com/lectures](https://www.quantopian.com/lectures)\n",
        "* [github.com/quantopian/research_public](https://github.com/quantopian/research_public)\n",
        "\n",
        "\n",
        "---\n",
        "\n",
        "All of the coding that you will do on the Quantopian platform will be in Python. It is also just a good, jack-of-all-trades language to know! Here we will provide you with the basics so that you can feel confident going through our other lectures and understanding what is happening."
      ]
    },
    {
      "cell_type": "markdown",
      "metadata": {
        "id": "v_LtlPxAFoDq"
      },
      "source": [
        "## Code Comments\n",
        "\n",
        "A comment is a note made by a programmer in the source code of a program. Its purpose is to clarify the source code and make it easier for people to follow along with what is happening. Anything in a comment is generally ignored when the code is actually run, making comments useful for including explanations and reasoning as well as removing specific lines of code that you may be unsure about. Comments in Python are created by using the pound symbol (`# Insert Text Here`). Including a `#` in a line of code will comment out anything that follows it."
      ]
    },
    {
      "cell_type": "code",
      "execution_count": 50,
      "metadata": {
        "id": "HzTSteQCFoDq"
      },
      "outputs": [],
      "source": [
        "# This is a comment\n",
        "# These lines of code will not change any values\n",
        "# Anything following the first # is not run as code"
      ]
    },
    {
      "cell_type": "markdown",
      "metadata": {
        "id": "wnn3g2m9pdrt"
      },
      "source": [
        "**My Own Example 22**"
      ]
    },
    {
      "cell_type": "code",
      "execution_count": 51,
      "metadata": {
        "id": "pPAcIvjNphOL"
      },
      "outputs": [],
      "source": [
        "#Muy bien, aquí voy. Concéntrate. Velocidad. Soy veloz. Un ganador, cuarenta y dos perdedores. Yo desayuno perdedores. \n",
        "#¿Desayuno? Tal vez debí desayunar. Un desayunito estaría bien. No, no, no, concéntrate. Velocidad. Soy más que rápido, más que veloz. Soy un Rayo."
      ]
    },
    {
      "cell_type": "markdown",
      "metadata": {
        "id": "PtVGWe--FoDs"
      },
      "source": [
        "You may hear text enclosed in triple quotes (`\"\"\" Insert Text Here \"\"\"`) referred to as multi-line comments, but this is not entirely accurate. This is a special type of `string` (a data type we will cover), called a `docstring`, used to explain the purpose of a function."
      ]
    },
    {
      "cell_type": "code",
      "execution_count": 52,
      "metadata": {
        "colab": {
          "base_uri": "https://localhost:8080/",
          "height": 36
        },
        "id": "3CT735yUFoDs",
        "outputId": "6730326d-c1aa-448d-ec5b-95ead319147c"
      },
      "outputs": [
        {
          "output_type": "execute_result",
          "data": {
            "text/plain": [
              "' This is a special string '"
            ],
            "application/vnd.google.colaboratory.intrinsic+json": {
              "type": "string"
            }
          },
          "metadata": {},
          "execution_count": 52
        }
      ],
      "source": [
        "\"\"\" This is a special string \"\"\""
      ]
    },
    {
      "cell_type": "markdown",
      "metadata": {
        "id": "JGdKBUToq07u"
      },
      "source": [
        "**My Own Example 23**"
      ]
    },
    {
      "cell_type": "code",
      "execution_count": 53,
      "metadata": {
        "colab": {
          "base_uri": "https://localhost:8080/",
          "height": 36
        },
        "id": "_cIASHPtq3q5",
        "outputId": "6017e9d1-b61c-417a-cb99-ed4c20f72cbe"
      },
      "outputs": [
        {
          "output_type": "execute_result",
          "data": {
            "text/plain": [
              "' Ejemplo totalmente distinto a los demás posibles de un string especial'"
            ],
            "application/vnd.google.colaboratory.intrinsic+json": {
              "type": "string"
            }
          },
          "metadata": {},
          "execution_count": 53
        }
      ],
      "source": [
        "\"\"\" Ejemplo totalmente distinto a los demás posibles de un string especial\"\"\""
      ]
    },
    {
      "cell_type": "markdown",
      "metadata": {
        "id": "GL2nO4x4FoDs"
      },
      "source": [
        "Make sure you read the comments within each code cell (if they are there). They will provide more real-time explanations of what is going on as you look at each line of code."
      ]
    },
    {
      "cell_type": "markdown",
      "metadata": {
        "id": "uqjGQD7RFoDt"
      },
      "source": [
        "## Variables\n",
        "\n",
        "Variables provide names for values in programming. If you want to save a value for later or repeated use, you give the value a name, storing the contents in a variable. Variables in programming work in a fundamentally similar way to variables in algebra, but in Python they can take on various different data types.\n",
        "\n",
        "The basic variable types that we will cover in this section are `integers`, `floating point numbers`, `booleans`, and `strings`. \n",
        "\n",
        "An `integer` in programming is the same as in mathematics, a round number with no values after the decimal point. We use the built-in `print` function here to display the values of our variables as well as their types!"
      ]
    },
    {
      "cell_type": "code",
      "execution_count": 54,
      "metadata": {
        "colab": {
          "base_uri": "https://localhost:8080/"
        },
        "id": "y04ss69-FoDt",
        "outputId": "34f73cbb-2416-43d5-f006-973378254b69"
      },
      "outputs": [
        {
          "output_type": "stream",
          "name": "stdout",
          "text": [
            "50 <class 'int'>\n"
          ]
        }
      ],
      "source": [
        "my_integer = 50\n",
        "print(my_integer, type(my_integer))"
      ]
    },
    {
      "cell_type": "markdown",
      "metadata": {
        "id": "fT4DDXN7sKnC"
      },
      "source": [
        "**My Own example 24**"
      ]
    },
    {
      "cell_type": "code",
      "execution_count": 55,
      "metadata": {
        "colab": {
          "base_uri": "https://localhost:8080/"
        },
        "id": "sMt3muV7sXwj",
        "outputId": "3251772b-e229-4807-fe4d-37ccf598e0c9"
      },
      "outputs": [
        {
          "output_type": "stream",
          "name": "stdout",
          "text": [
            "888 <class 'int'>\n"
          ]
        }
      ],
      "source": [
        "Numero= 888\n",
        "print(Numero,type(Numero))"
      ]
    },
    {
      "cell_type": "markdown",
      "metadata": {
        "id": "R-ZekhXqFoDu"
      },
      "source": [
        "Variables, regardless of type, are assigned by using a single equals sign (`=`). Variables are case-sensitive so any changes in variation in the capitals of a variable name will reference a different variable entirely."
      ]
    },
    {
      "cell_type": "code",
      "execution_count": 56,
      "metadata": {
        "id": "G3RiuMSNFoDv"
      },
      "outputs": [],
      "source": [
        "one = 1\n",
        "#print(One)"
      ]
    },
    {
      "cell_type": "markdown",
      "metadata": {
        "id": "5HTX8HdpFoDv"
      },
      "source": [
        "A `floating point` number, or a `float` is a fancy name for a real number (again as in mathematics). To define a `float`, we need to either include a decimal point or specify that the value is a float."
      ]
    },
    {
      "cell_type": "code",
      "execution_count": 57,
      "metadata": {
        "colab": {
          "base_uri": "https://localhost:8080/"
        },
        "id": "zzWlMRAfFoDw",
        "outputId": "6666c035-1f6b-4435-e507-9521d343c47d",
        "scrolled": true
      },
      "outputs": [
        {
          "output_type": "stream",
          "name": "stdout",
          "text": [
            "1.0 <class 'float'>\n",
            "1.0 <class 'float'>\n"
          ]
        }
      ],
      "source": [
        "my_float = 1.0\n",
        "print(my_float, type(my_float))\n",
        "my_float = float(1)\n",
        "print(my_float, type(my_float))"
      ]
    },
    {
      "cell_type": "markdown",
      "metadata": {
        "id": "UkvGMNzFFoDw"
      },
      "source": [
        "A variable of type `float` will not round the number that you store in it, while a variable of type `integer` will. This makes `floats` more suitable for mathematical calculations where you want more than just integers.\n",
        "\n",
        "Note that as we used the `float()` function to force an number to be considered a `float`, we can use the `int()` function to force a number to be considered an `int`."
      ]
    },
    {
      "cell_type": "markdown",
      "metadata": {
        "id": "UYCaWVjDtQmw"
      },
      "source": [
        "**My Own Example 25**"
      ]
    },
    {
      "cell_type": "code",
      "execution_count": 58,
      "metadata": {
        "colab": {
          "base_uri": "https://localhost:8080/"
        },
        "id": "cJ8W_vtytVlb",
        "outputId": "292e2931-63ca-48be-8a7b-6371111978a6"
      },
      "outputs": [
        {
          "output_type": "stream",
          "name": "stdout",
          "text": [
            "888.41 <class 'float'>\n"
          ]
        }
      ],
      "source": [
        "Decimal= 888.41\n",
        "print(Decimal, type(Decimal))"
      ]
    },
    {
      "cell_type": "code",
      "execution_count": 59,
      "metadata": {
        "colab": {
          "base_uri": "https://localhost:8080/"
        },
        "id": "9AMfS9UWFoDw",
        "outputId": "c8bcf64e-8556-4602-ecf2-1357642f1233"
      },
      "outputs": [
        {
          "output_type": "stream",
          "name": "stdout",
          "text": [
            "3 <class 'int'>\n"
          ]
        }
      ],
      "source": [
        "my_int = int(3.14159)\n",
        "print(my_int, type(my_int))"
      ]
    },
    {
      "cell_type": "markdown",
      "metadata": {
        "id": "6_5gmeO6tzCV"
      },
      "source": [
        "**My Own Example 26**"
      ]
    },
    {
      "cell_type": "code",
      "execution_count": 60,
      "metadata": {
        "colab": {
          "base_uri": "https://localhost:8080/"
        },
        "id": "hWsZBWGgt2RP",
        "outputId": "ada400dc-b488-4433-908b-d46a6faaeacb"
      },
      "outputs": [
        {
          "output_type": "stream",
          "name": "stdout",
          "text": [
            "8996\n"
          ]
        }
      ],
      "source": [
        "Entero= int(8996.123)\n",
        "print(Entero)"
      ]
    },
    {
      "cell_type": "markdown",
      "metadata": {
        "id": "xHx5IzlWFoDx"
      },
      "source": [
        "The `int()` function will also truncate any digits that a number may have after the decimal point!\n",
        "\n",
        "Strings allow you to include text as a variable to operate on. They are defined using either single quotes ('') or double quotes (\"\")."
      ]
    },
    {
      "cell_type": "code",
      "execution_count": 61,
      "metadata": {
        "colab": {
          "base_uri": "https://localhost:8080/"
        },
        "id": "I0CTXrOJFoDx",
        "outputId": "e79d71d9-10a6-49da-b9b3-16da19bee6f8"
      },
      "outputs": [
        {
          "output_type": "stream",
          "name": "stdout",
          "text": [
            "This is a string with single quotes\n",
            "This is a string with double quotes\n"
          ]
        }
      ],
      "source": [
        "my_string = 'This is a string with single quotes'\n",
        "print(my_string)\n",
        "my_string = \"This is a string with double quotes\"\n",
        "print(my_string)"
      ]
    },
    {
      "cell_type": "markdown",
      "metadata": {
        "id": "ZLymII6duZd7"
      },
      "source": [
        "**My Own Example 27**"
      ]
    },
    {
      "cell_type": "code",
      "execution_count": 62,
      "metadata": {
        "colab": {
          "base_uri": "https://localhost:8080/"
        },
        "id": "IfAmRNaIutyO",
        "outputId": "5a5bd596-bb3e-4eb8-82a1-5ca61909e213"
      },
      "outputs": [
        {
          "output_type": "stream",
          "name": "stdout",
          "text": [
            "Escribir algo con comillas sencillas\n",
            "Lo mismo pero con comillas dobles, no cambia nada\n"
          ]
        }
      ],
      "source": [
        "ComillaS= 'Escribir algo con comillas sencillas'\n",
        "ComillaD= \"Lo mismo pero con comillas dobles, no cambia nada\"\n",
        "print(ComillaS)\n",
        "print(ComillaD)"
      ]
    },
    {
      "cell_type": "markdown",
      "metadata": {
        "id": "yfDKfL5pFoDx"
      },
      "source": [
        "Both are allowed so that we can include apostrophes or quotation marks in a string if we so choose."
      ]
    },
    {
      "cell_type": "code",
      "execution_count": 63,
      "metadata": {
        "colab": {
          "base_uri": "https://localhost:8080/"
        },
        "id": "cG2x0vfLFoDx",
        "outputId": "776f5cdd-c342-4040-c717-ab13c91220bf"
      },
      "outputs": [
        {
          "output_type": "stream",
          "name": "stdout",
          "text": [
            "\"Jabberwocky\", by Lewis Carroll\n",
            "'Twas brillig, and the slithy toves / Did gyre and gimble in the wabe;\n"
          ]
        }
      ],
      "source": [
        "my_string = '\"Jabberwocky\", by Lewis Carroll'\n",
        "print(my_string)\n",
        "my_string = \"'Twas brillig, and the slithy toves / Did gyre and gimble in the wabe;\"\n",
        "print(my_string)"
      ]
    },
    {
      "cell_type": "markdown",
      "metadata": {
        "id": "3Fj1AXrqvFDr"
      },
      "source": [
        "**My Own Example 28**"
      ]
    },
    {
      "cell_type": "code",
      "execution_count": 64,
      "metadata": {
        "colab": {
          "base_uri": "https://localhost:8080/"
        },
        "id": "83rBcyhRvKCZ",
        "outputId": "5332a785-8484-4015-d6fb-5b533f6dc174"
      },
      "outputs": [
        {
          "output_type": "stream",
          "name": "stdout",
          "text": [
            "\"Comillas dentro del String\"\n",
            "Ser o no ser, esa es la cuestión. ¿Qué es más noble para el alma sufrir...?\n"
          ]
        }
      ],
      "source": [
        "Caracteres_Especiales1='\"Comillas dentro del String\"'\n",
        "print(Caracteres_Especiales1)\n",
        "Caracteres_Especiales2=\"Ser o no ser, esa es la cuestión. ¿Qué es más noble para el alma sufrir...?\"\n",
        "print(Caracteres_Especiales2)"
      ]
    },
    {
      "cell_type": "markdown",
      "metadata": {
        "id": "DQ99vPLTFoDy"
      },
      "source": [
        "Booleans, or `bools` are binary variable types. A `bool` can only take on one of two values, these being `True` or `False`. There is much more to this idea of truth values when it comes to programming, which we cover later in the [Logical Operators](#id-section5) of this notebook."
      ]
    },
    {
      "cell_type": "code",
      "execution_count": 65,
      "metadata": {
        "colab": {
          "base_uri": "https://localhost:8080/"
        },
        "id": "GHnExq2RFoDy",
        "outputId": "27cad6b9-5dd3-4898-c988-82dd14ae3a52"
      },
      "outputs": [
        {
          "output_type": "stream",
          "name": "stdout",
          "text": [
            "True <class 'bool'>\n"
          ]
        }
      ],
      "source": [
        "my_bool = True\n",
        "print(my_bool, type(my_bool))"
      ]
    },
    {
      "cell_type": "markdown",
      "metadata": {
        "id": "RKpuHCh9w3G7"
      },
      "source": [
        "**My Own Example 29**"
      ]
    },
    {
      "cell_type": "code",
      "execution_count": 66,
      "metadata": {
        "colab": {
          "base_uri": "https://localhost:8080/"
        },
        "id": "d42javAjw7WJ",
        "outputId": "96f8c60d-ad6e-4735-84f6-bd3aca14663b"
      },
      "outputs": [
        {
          "output_type": "stream",
          "name": "stdout",
          "text": [
            "False <class 'bool'>\n"
          ]
        }
      ],
      "source": [
        "Hacer200Ejemplos= False\n",
        "print(Hacer200Ejemplos, type(Hacer200Ejemplos))"
      ]
    },
    {
      "cell_type": "markdown",
      "metadata": {
        "id": "cpSPSEm3FoDy"
      },
      "source": [
        "There are many more data types that you can assign as variables in Python, but these are the basic ones! We will cover a few more later as we move through this tutorial."
      ]
    },
    {
      "cell_type": "markdown",
      "metadata": {
        "id": "PGCRBsP6FoDy"
      },
      "source": [
        "## Basic Math\n",
        "\n",
        "Python has a number of built-in math functions. These can be extended even further by importing the **math** package or by including any number of other calculation-based packages.\n",
        "\n",
        "All of the basic arithmetic operations are supported: `+`, `-`, `/`, and `*`. You can create exponents by using `**` and modular arithmetic is introduced with the mod operator, `%`."
      ]
    },
    {
      "cell_type": "code",
      "execution_count": 67,
      "metadata": {
        "colab": {
          "base_uri": "https://localhost:8080/"
        },
        "id": "VM2xhbFdFoDy",
        "outputId": "22cd68a7-7ca1-4f2b-f479-ae9014a89805"
      },
      "outputs": [
        {
          "output_type": "stream",
          "name": "stdout",
          "text": [
            "Addition:  4\n",
            "Subtraction:  3\n",
            "Multiplication:  10\n",
            "Division:  5.0\n",
            "Exponentiation:  9\n"
          ]
        }
      ],
      "source": [
        "print('Addition: ', 2 + 2)\n",
        "print('Subtraction: ', 7 - 4)\n",
        "print('Multiplication: ', 2 * 5)\n",
        "print('Division: ', 10 / 2)\n",
        "print('Exponentiation: ', 3**2)"
      ]
    },
    {
      "cell_type": "markdown",
      "metadata": {
        "id": "HmYsyQTn1pmS"
      },
      "source": [
        "**My Own Example 30**"
      ]
    },
    {
      "cell_type": "code",
      "execution_count": 68,
      "metadata": {
        "colab": {
          "base_uri": "https://localhost:8080/"
        },
        "id": "b9yBRK0p1uvR",
        "outputId": "4721375b-8fce-4115-f2f7-c7cd2a905a2f"
      },
      "outputs": [
        {
          "output_type": "stream",
          "name": "stdout",
          "text": [
            "7431\n"
          ]
        }
      ],
      "source": [
        "print(889+6542)"
      ]
    },
    {
      "cell_type": "markdown",
      "metadata": {
        "id": "xpVHIT821-k2"
      },
      "source": [
        "**My Own Example 31**"
      ]
    },
    {
      "cell_type": "code",
      "execution_count": 69,
      "metadata": {
        "colab": {
          "base_uri": "https://localhost:8080/"
        },
        "id": "putoP8fc2FMT",
        "outputId": "f68d2d17-ed36-4a33-a1b0-92a10c68de10"
      },
      "outputs": [
        {
          "output_type": "stream",
          "name": "stdout",
          "text": [
            "46240\n"
          ]
        }
      ],
      "source": [
        "print(55898-9658)"
      ]
    },
    {
      "cell_type": "markdown",
      "metadata": {
        "id": "3-NTX-Kx2W_p"
      },
      "source": [
        "**My Own Example 32**"
      ]
    },
    {
      "cell_type": "code",
      "execution_count": 70,
      "metadata": {
        "colab": {
          "base_uri": "https://localhost:8080/"
        },
        "id": "iD69ywV12axV",
        "outputId": "9867698d-a403-44f6-f8bb-66f3ba17596f"
      },
      "outputs": [
        {
          "output_type": "stream",
          "name": "stdout",
          "text": [
            "87024\n"
          ]
        }
      ],
      "source": [
        "print(888*98)"
      ]
    },
    {
      "cell_type": "markdown",
      "metadata": {
        "id": "1Ft-ukhr2juU"
      },
      "source": [
        "**My Own Example 33**"
      ]
    },
    {
      "cell_type": "code",
      "execution_count": 71,
      "metadata": {
        "colab": {
          "base_uri": "https://localhost:8080/"
        },
        "id": "FvwXrnmr2q4w",
        "outputId": "16931363-0df4-45fa-9610-6b32e4d97628"
      },
      "outputs": [
        {
          "output_type": "stream",
          "name": "stdout",
          "text": [
            "98.91396648044693\n"
          ]
        }
      ],
      "source": [
        "print(88528/895)"
      ]
    },
    {
      "cell_type": "markdown",
      "metadata": {
        "id": "S4HriV-d23eI"
      },
      "source": [
        "**My Own Example 34**"
      ]
    },
    {
      "cell_type": "code",
      "execution_count": 72,
      "metadata": {
        "colab": {
          "base_uri": "https://localhost:8080/"
        },
        "id": "nMAyDRap27TP",
        "outputId": "b69127ed-c30e-43c3-d1b3-882bc42d1c02"
      },
      "outputs": [
        {
          "output_type": "stream",
          "name": "stdout",
          "text": [
            "13895262897955414433433046432043095301371431686809798752840818715399468568921636811761348326143495573078016\n"
          ]
        }
      ],
      "source": [
        "print(888**36)"
      ]
    },
    {
      "cell_type": "markdown",
      "metadata": {
        "id": "5LzOa0NOFoDz"
      },
      "source": [
        "If you are not familiar with the the mod operator, it operates like a remainder function. If we type $15 \\ \\% \\ 4$, it will return the remainder after dividing $15$ by $4$."
      ]
    },
    {
      "cell_type": "code",
      "execution_count": 73,
      "metadata": {
        "colab": {
          "base_uri": "https://localhost:8080/"
        },
        "id": "lAtQTTtxFoDz",
        "outputId": "01d117c3-dd6b-4417-fb39-fae29a7c9c44"
      },
      "outputs": [
        {
          "output_type": "stream",
          "name": "stdout",
          "text": [
            "Modulo:  3\n"
          ]
        }
      ],
      "source": [
        "print('Modulo: ', 15 % 4)"
      ]
    },
    {
      "cell_type": "markdown",
      "metadata": {
        "id": "GOcW7WYR3Er5"
      },
      "source": [
        "**My Own Example 35**"
      ]
    },
    {
      "cell_type": "code",
      "execution_count": 74,
      "metadata": {
        "colab": {
          "base_uri": "https://localhost:8080/"
        },
        "id": "XaabdIbn3Jxu",
        "outputId": "b24c0745-606a-416b-b06d-8ab404e3ed21"
      },
      "outputs": [
        {
          "output_type": "stream",
          "name": "stdout",
          "text": [
            "Mod: 6\n"
          ]
        }
      ],
      "source": [
        "print(\"Mod:\",888%7)"
      ]
    },
    {
      "cell_type": "markdown",
      "metadata": {
        "id": "C-wTIUthFoDz"
      },
      "source": [
        "Mathematical functions also work on variables!"
      ]
    },
    {
      "cell_type": "code",
      "execution_count": 75,
      "metadata": {
        "colab": {
          "base_uri": "https://localhost:8080/"
        },
        "id": "bN2FqLkbFoDz",
        "outputId": "64e4654e-7fbe-4af0-9ff8-04c079dcadbd",
        "scrolled": true
      },
      "outputs": [
        {
          "output_type": "stream",
          "name": "stdout",
          "text": [
            "20\n"
          ]
        }
      ],
      "source": [
        "first_integer = 4\n",
        "second_integer = 5\n",
        "print(first_integer * second_integer)"
      ]
    },
    {
      "cell_type": "markdown",
      "metadata": {
        "id": "6kcxGe1z4g42"
      },
      "source": [
        "**My Own Example 36**"
      ]
    },
    {
      "cell_type": "code",
      "execution_count": 76,
      "metadata": {
        "colab": {
          "base_uri": "https://localhost:8080/"
        },
        "id": "gls8quqf4mGt",
        "outputId": "e8870040-0bf1-4cf5-adc3-1e3d10e63d40"
      },
      "outputs": [
        {
          "output_type": "stream",
          "name": "stdout",
          "text": [
            "0.08340547479029224\n"
          ]
        }
      ],
      "source": [
        "ValorRandom1=5588\n",
        "ValorRandom2=66998\n",
        "print(ValorRandom1/ValorRandom2)"
      ]
    },
    {
      "cell_type": "markdown",
      "metadata": {
        "id": "KT-9L5fqFoDz"
      },
      "source": [
        "Make sure that your variables are floats if you want to have decimal points in your answer. If you perform math exclusively with integers, you get an integer. Including any float in the calculation will make the result a float."
      ]
    },
    {
      "cell_type": "code",
      "execution_count": 77,
      "metadata": {
        "colab": {
          "base_uri": "https://localhost:8080/"
        },
        "id": "Al3l_xmQFoD0",
        "outputId": "6a3b1b11-391a-45c4-cae9-406b6e1fc68b"
      },
      "outputs": [
        {
          "output_type": "stream",
          "name": "stdout",
          "text": [
            "3.6666666666666665\n"
          ]
        }
      ],
      "source": [
        "first_integer = 11\n",
        "second_integer = 3\n",
        "print(first_integer / second_integer)"
      ]
    },
    {
      "cell_type": "code",
      "execution_count": 78,
      "metadata": {
        "colab": {
          "base_uri": "https://localhost:8080/"
        },
        "id": "bpDcvmfHFoD0",
        "outputId": "96abd19d-1163-4a3d-f8a2-5b87ee8b6d73"
      },
      "outputs": [
        {
          "output_type": "stream",
          "name": "stdout",
          "text": [
            "3.6666666666666665\n"
          ]
        }
      ],
      "source": [
        "first_number = 11.0\n",
        "second_number = 3.0\n",
        "print(first_number / second_number)"
      ]
    },
    {
      "cell_type": "markdown",
      "metadata": {
        "id": "qFceWRam6qoh"
      },
      "source": [
        "**My Own Example 37**"
      ]
    },
    {
      "cell_type": "code",
      "execution_count": 79,
      "metadata": {
        "colab": {
          "base_uri": "https://localhost:8080/"
        },
        "id": "muW06Ovu7Dzd",
        "outputId": "27bec22a-466f-4bdc-df74-a9877d89a198"
      },
      "outputs": [
        {
          "output_type": "stream",
          "name": "stdout",
          "text": [
            "37501.03\n"
          ]
        }
      ],
      "source": [
        "A=888.65\n",
        "B=42.2\n",
        "print(A*B)"
      ]
    },
    {
      "cell_type": "markdown",
      "metadata": {
        "id": "D-pXsykpFoD0"
      },
      "source": [
        "Python has a few built-in math functions. The most notable of these are:\n",
        "\n",
        "* `abs()`\n",
        "* `round()`\n",
        "* `max()`\n",
        "* `min()`\n",
        "* `sum()`\n",
        "\n",
        "These functions all act as you would expect, given their names. Calling `abs()` on a number will return its absolute value. The `round()` function will round a number to a specified number of the decimal points (the default is $0$). Calling `max()` or `min()` on a collection of numbers will return, respectively, the maximum or minimum value in the collection. Calling `sum()` on a collection of numbers will add them all up. If you're not familiar with how collections of values in Python work, don't worry! We will cover collections in-depth in the next section. \n",
        "\n",
        "Additional math functionality can be added in with the `math` package."
      ]
    },
    {
      "cell_type": "code",
      "execution_count": 80,
      "metadata": {
        "id": "emPg334BFoD0"
      },
      "outputs": [],
      "source": [
        "import math"
      ]
    },
    {
      "cell_type": "markdown",
      "metadata": {
        "id": "McyMZcnQFoD0"
      },
      "source": [
        "The math library adds a long list of new mathematical functions to Python. Feel free to check out the [documentation](https://docs.python.org/2/library/math.html) for the full list and details. It concludes some mathematical constants"
      ]
    },
    {
      "cell_type": "code",
      "execution_count": 81,
      "metadata": {
        "colab": {
          "base_uri": "https://localhost:8080/"
        },
        "id": "L2k9rxKzFoD0",
        "outputId": "bea98ea0-a67f-46cb-84ef-565ee05c8ed6"
      },
      "outputs": [
        {
          "output_type": "stream",
          "name": "stdout",
          "text": [
            "Pi:  3.141592653589793\n",
            "Euler's Constant:  2.718281828459045\n"
          ]
        }
      ],
      "source": [
        "print('Pi: ', math.pi)\n",
        "print(\"Euler's Constant: \", math.e)"
      ]
    },
    {
      "cell_type": "markdown",
      "metadata": {
        "id": "9Rv4S_NjFoD0"
      },
      "source": [
        "As well as some commonly used math functions"
      ]
    },
    {
      "cell_type": "code",
      "execution_count": 82,
      "metadata": {
        "colab": {
          "base_uri": "https://localhost:8080/"
        },
        "id": "VWf7haJBFoD1",
        "outputId": "e6496ed7-e7f9-4cc4-e23a-03bb201db61c"
      },
      "outputs": [
        {
          "output_type": "stream",
          "name": "stdout",
          "text": [
            "Cosine of pi:  -1.0\n"
          ]
        }
      ],
      "source": [
        "print('Cosine of pi: ', math.cos(math.pi))"
      ]
    },
    {
      "cell_type": "markdown",
      "metadata": {
        "id": "kA5FNItb7hD7"
      },
      "source": [
        "**My Own Example 38**"
      ]
    },
    {
      "cell_type": "code",
      "execution_count": 83,
      "metadata": {
        "colab": {
          "base_uri": "https://localhost:8080/"
        },
        "id": "sahYdvtG7nFU",
        "outputId": "07dd9786-f671-438b-be27-73aa412b0246"
      },
      "outputs": [
        {
          "output_type": "stream",
          "name": "stdout",
          "text": [
            "Coseno 45: 0.5253219888177297\n"
          ]
        }
      ],
      "source": [
        "print(\"Coseno 45:\", math.cos(45))"
      ]
    },
    {
      "cell_type": "markdown",
      "metadata": {
        "id": "4IXs_3ueFoD1"
      },
      "source": [
        "## Collections\n",
        "### Lists\n",
        "\n",
        "A `list` in Python is an ordered collection of objects that can contain any data type. We define a `list` using brackets (`[]`)."
      ]
    },
    {
      "cell_type": "code",
      "execution_count": 84,
      "metadata": {
        "colab": {
          "base_uri": "https://localhost:8080/"
        },
        "id": "VaKo0mCRFoD1",
        "outputId": "c5b75662-53ac-42ae-f7af-39bbb1d16dce"
      },
      "outputs": [
        {
          "output_type": "stream",
          "name": "stdout",
          "text": [
            "[1, 2, 3]\n"
          ]
        }
      ],
      "source": [
        "my_list = [1, 2, 3]\n",
        "print(my_list)"
      ]
    },
    {
      "cell_type": "markdown",
      "metadata": {
        "id": "0mgQyzKE79D0"
      },
      "source": [
        "**My Own Example 39**"
      ]
    },
    {
      "cell_type": "code",
      "execution_count": 85,
      "metadata": {
        "colab": {
          "base_uri": "https://localhost:8080/"
        },
        "id": "hfIpb8ac8FcU",
        "outputId": "5686dfae-a22c-45b4-df0b-de4622fcf913"
      },
      "outputs": [
        {
          "output_type": "stream",
          "name": "stdout",
          "text": [
            "[77, 65, 96, 88, 12, 36]\n"
          ]
        }
      ],
      "source": [
        "GolesTemporada=[77,65,96,88,12,36]\n",
        "print(GolesTemporada)"
      ]
    },
    {
      "cell_type": "markdown",
      "metadata": {
        "id": "_R2m8C0p763Q"
      },
      "source": [
        ""
      ]
    },
    {
      "cell_type": "markdown",
      "metadata": {
        "id": "qMKvepO5FoD1"
      },
      "source": [
        "We can access and index the list by using brackets as well. In order to select an individual element, simply type the list name followed by the index of the item you are looking for in braces."
      ]
    },
    {
      "cell_type": "code",
      "execution_count": 86,
      "metadata": {
        "colab": {
          "base_uri": "https://localhost:8080/"
        },
        "id": "TvaK4gOgFoD1",
        "outputId": "5da7810d-101e-4f01-eec2-859b95b9329a"
      },
      "outputs": [
        {
          "output_type": "stream",
          "name": "stdout",
          "text": [
            "1\n",
            "3\n"
          ]
        }
      ],
      "source": [
        "print(my_list[0])\n",
        "print(my_list[2])"
      ]
    },
    {
      "cell_type": "markdown",
      "metadata": {
        "id": "HcbEcowP8ymJ"
      },
      "source": [
        "**My Own Example 40**"
      ]
    },
    {
      "cell_type": "code",
      "execution_count": 87,
      "metadata": {
        "colab": {
          "base_uri": "https://localhost:8080/"
        },
        "id": "VQHVTbvt82s5",
        "outputId": "042ac8f7-2169-45ad-cd1e-61c67f915340"
      },
      "outputs": [
        {
          "output_type": "stream",
          "name": "stdout",
          "text": [
            "12\n"
          ]
        }
      ],
      "source": [
        "print(GolesTemporada[4])"
      ]
    },
    {
      "cell_type": "markdown",
      "metadata": {
        "id": "jIgIoeH48-Xa"
      },
      "source": [
        "**My Own Example 41**"
      ]
    },
    {
      "cell_type": "code",
      "execution_count": 88,
      "metadata": {
        "colab": {
          "base_uri": "https://localhost:8080/"
        },
        "id": "R-KkXj9Z9FA6",
        "outputId": "d33835c9-a74f-41c1-9cf2-184c95b98f8d"
      },
      "outputs": [
        {
          "output_type": "stream",
          "name": "stdout",
          "text": [
            "96\n"
          ]
        }
      ],
      "source": [
        "print(GolesTemporada[2])"
      ]
    },
    {
      "cell_type": "markdown",
      "metadata": {
        "id": "rw1U2_RsFoD1"
      },
      "source": [
        "Indexing in Python starts from $0$. If you have a list of length $n$, the first element of the list is at index $0$, the second element is at index $1$, and so on and so forth. The final element of the list will be at index $n-1$. Be careful! Trying to access a non-existent index will cause an error."
      ]
    },
    {
      "cell_type": "code",
      "execution_count": 89,
      "metadata": {
        "id": "a5OIwA_aFoD1"
      },
      "outputs": [],
      "source": [
        "#print('The first, second, and third list elements: ', my_list[0], my_list[1], my_list[2])\n",
        "#print('Accessing outside the list bounds causes an error: ', my_list[3])"
      ]
    },
    {
      "cell_type": "markdown",
      "metadata": {
        "id": "L7hR-hrAFoD2"
      },
      "source": [
        "We can see the number of elements in a list by calling the `len()` function."
      ]
    },
    {
      "cell_type": "code",
      "execution_count": 90,
      "metadata": {
        "colab": {
          "base_uri": "https://localhost:8080/"
        },
        "id": "XX7u73fJFoD2",
        "outputId": "4244d952-50a5-4845-8bc5-96a6f50cd42a"
      },
      "outputs": [
        {
          "output_type": "stream",
          "name": "stdout",
          "text": [
            "3\n"
          ]
        }
      ],
      "source": [
        "print(len(my_list))"
      ]
    },
    {
      "cell_type": "markdown",
      "metadata": {
        "id": "QFzMfGOg9nAi"
      },
      "source": [
        "**My Own Example 42**"
      ]
    },
    {
      "cell_type": "code",
      "execution_count": 91,
      "metadata": {
        "colab": {
          "base_uri": "https://localhost:8080/"
        },
        "id": "-aB8EUQu9sCs",
        "outputId": "03c27962-59a7-4829-d35e-510943accbb2"
      },
      "outputs": [
        {
          "output_type": "stream",
          "name": "stdout",
          "text": [
            "6\n"
          ]
        }
      ],
      "source": [
        "print(len(GolesTemporada))"
      ]
    },
    {
      "cell_type": "markdown",
      "metadata": {
        "id": "J_PbE6tRFoD2"
      },
      "source": [
        "We can update and change a list by accessing an index and assigning new value."
      ]
    },
    {
      "cell_type": "code",
      "execution_count": 92,
      "metadata": {
        "colab": {
          "base_uri": "https://localhost:8080/"
        },
        "id": "Bj6Q87-5FoD2",
        "outputId": "b3804bf1-adf5-4932-ad3b-5a2dc2be3b96"
      },
      "outputs": [
        {
          "output_type": "stream",
          "name": "stdout",
          "text": [
            "[1, 2, 3]\n",
            "[42, 2, 3]\n"
          ]
        }
      ],
      "source": [
        "print(my_list)\n",
        "my_list[0] = 42\n",
        "print(my_list)"
      ]
    },
    {
      "cell_type": "markdown",
      "metadata": {
        "id": "H6BnjTS4-KCx"
      },
      "source": [
        "**My Own Example 43**"
      ]
    },
    {
      "cell_type": "code",
      "execution_count": 93,
      "metadata": {
        "colab": {
          "base_uri": "https://localhost:8080/"
        },
        "id": "HjJPGocj-UTA",
        "outputId": "dedfb367-7cd8-4085-a6de-c57949a96696"
      },
      "outputs": [
        {
          "output_type": "stream",
          "name": "stdout",
          "text": [
            "[77, 65, 96, 88, 12, 36]\n",
            "[77, 65, 96, 88, 888, 36]\n"
          ]
        }
      ],
      "source": [
        "print(GolesTemporada)\n",
        "GolesTemporada[4]=888\n",
        "print(GolesTemporada)"
      ]
    },
    {
      "cell_type": "markdown",
      "metadata": {
        "id": "6I_d_j6i-rPM"
      },
      "source": [
        "**My Own Example 44**"
      ]
    },
    {
      "cell_type": "code",
      "execution_count": 94,
      "metadata": {
        "colab": {
          "base_uri": "https://localhost:8080/"
        },
        "id": "woQ-hDwC-zGw",
        "outputId": "d912d9b5-7262-4d15-fb5f-cacd8df3a651"
      },
      "outputs": [
        {
          "output_type": "stream",
          "name": "stdout",
          "text": [
            "[77, 65, 96, 88, 888, 36]\n",
            "[88, 65, 96, 88, 888, 36]\n"
          ]
        }
      ],
      "source": [
        "print(GolesTemporada)\n",
        "GolesTemporada[0]=88\n",
        "print(GolesTemporada)"
      ]
    },
    {
      "cell_type": "markdown",
      "metadata": {
        "id": "MuVSNrtkFoD2"
      },
      "source": [
        "This is fundamentally different from how strings are handled. A `list` is mutable, meaning that you can change a `list`'s elements without changing the list itself. Some data types, like `strings`, are immutable, meaning you cannot change them at all. Once a `string` or other immutable data type has been created, it cannot be directly modified without creating an entirely new object."
      ]
    },
    {
      "cell_type": "code",
      "execution_count": 95,
      "metadata": {
        "id": "GoyEP8i3FoD2"
      },
      "outputs": [],
      "source": [
        "my_string = \"Strings never change\"\n",
        "#my_string[0] = 'Z'"
      ]
    },
    {
      "cell_type": "markdown",
      "metadata": {
        "id": "_RDIF2aaFoD2"
      },
      "source": [
        "As we stated before, a list can contain any data type. Thus, lists can also contain strings."
      ]
    },
    {
      "cell_type": "code",
      "execution_count": 96,
      "metadata": {
        "colab": {
          "base_uri": "https://localhost:8080/"
        },
        "id": "ir0UkJXoFoD3",
        "outputId": "5ff5352e-6ae2-4379-bb5c-e35930d2d974"
      },
      "outputs": [
        {
          "output_type": "stream",
          "name": "stdout",
          "text": [
            "['one', 'two', 'three']\n"
          ]
        }
      ],
      "source": [
        "my_list_2 = ['one', 'two', 'three']\n",
        "print(my_list_2)"
      ]
    },
    {
      "cell_type": "markdown",
      "metadata": {
        "id": "JvFM9-_K_R4L"
      },
      "source": [
        "**My Own Example 45**"
      ]
    },
    {
      "cell_type": "code",
      "execution_count": 97,
      "metadata": {
        "colab": {
          "base_uri": "https://localhost:8080/"
        },
        "id": "F7ioI7Aa_Z36",
        "outputId": "8cad5735-668e-4348-8a85-dfdffc0c96ff"
      },
      "outputs": [
        {
          "output_type": "stream",
          "name": "stdout",
          "text": [
            "['Brasil', 'Colombia', 'Japón', 'Nicaragua', 'Inglaterra']\n"
          ]
        }
      ],
      "source": [
        "ListA=[\"Brasil\",\"Colombia\",\"Japón\",\"Nicaragua\",\"Inglaterra\"]\n",
        "print(ListA)"
      ]
    },
    {
      "cell_type": "markdown",
      "metadata": {
        "id": "jdQh8CaAFoD3"
      },
      "source": [
        "Lists can also contain multiple different data types at once!"
      ]
    },
    {
      "cell_type": "code",
      "execution_count": 98,
      "metadata": {
        "id": "Sw44yHNcFoD3"
      },
      "outputs": [],
      "source": [
        "my_list_3 = [True, 'False', 42]"
      ]
    },
    {
      "cell_type": "markdown",
      "metadata": {
        "id": "zafjfBBcAGh3"
      },
      "source": [
        "**My Own example 46**"
      ]
    },
    {
      "cell_type": "code",
      "execution_count": 99,
      "metadata": {
        "colab": {
          "base_uri": "https://localhost:8080/"
        },
        "id": "IGaojQjWAKP0",
        "outputId": "49e2263a-d81e-43ce-8a05-a450b17bc3ab"
      },
      "outputs": [
        {
          "output_type": "stream",
          "name": "stdout",
          "text": [
            "[88, 'Dorlan Pabon', True]\n"
          ]
        }
      ],
      "source": [
        "ListAVar=[88,\"Dorlan Pabon\",True]\n",
        "print(ListAVar)"
      ]
    },
    {
      "cell_type": "markdown",
      "metadata": {
        "id": "HJ9JUXP4FoD3"
      },
      "source": [
        "If you want to put two lists together, they can be combined with a `+` symbol."
      ]
    },
    {
      "cell_type": "code",
      "execution_count": 100,
      "metadata": {
        "colab": {
          "base_uri": "https://localhost:8080/"
        },
        "id": "gMH5VwORFoD3",
        "outputId": "0a69a898-913d-4326-d8f1-25da2a6df5b0"
      },
      "outputs": [
        {
          "output_type": "stream",
          "name": "stdout",
          "text": [
            "[42, 2, 3, 'one', 'two', 'three', True, 'False', 42]\n"
          ]
        }
      ],
      "source": [
        "my_list_4 = my_list + my_list_2 + my_list_3\n",
        "print(my_list_4)"
      ]
    },
    {
      "cell_type": "markdown",
      "metadata": {
        "id": "hK-xWxAOBTSE"
      },
      "source": [
        "**My Own Example 47**"
      ]
    },
    {
      "cell_type": "code",
      "execution_count": 101,
      "metadata": {
        "colab": {
          "base_uri": "https://localhost:8080/"
        },
        "id": "Xfkel6PvBYR7",
        "outputId": "950cab65-7603-4a56-a03c-7bdce5934c68"
      },
      "outputs": [
        {
          "output_type": "stream",
          "name": "stdout",
          "text": [
            "['Brasil', 'Colombia', 'Japón', 'Nicaragua', 'Inglaterra', 88, 'Dorlan Pabon', True]\n"
          ]
        }
      ],
      "source": [
        "LisTASum= ListA + ListAVar\n",
        "\n",
        "print(LisTASum)"
      ]
    },
    {
      "cell_type": "markdown",
      "metadata": {
        "id": "fFKwuDVlFoD3"
      },
      "source": [
        "In addition to accessing individual elements of a list, we can access groups of elements through slicing."
      ]
    },
    {
      "cell_type": "code",
      "execution_count": 102,
      "metadata": {
        "id": "LuBcG0F-FoD3"
      },
      "outputs": [],
      "source": [
        "my_list = ['friends', 'romans', 'countrymen', 'lend', 'me', 'your', 'ears']"
      ]
    },
    {
      "cell_type": "markdown",
      "metadata": {
        "id": "-KQfwrvWFoD4"
      },
      "source": [
        "#### Slicing\n",
        "\n",
        "We use the colon (`:`) to slice lists. "
      ]
    },
    {
      "cell_type": "code",
      "execution_count": 103,
      "metadata": {
        "colab": {
          "base_uri": "https://localhost:8080/"
        },
        "id": "mpSXnk-4FoD4",
        "outputId": "49f7ce5e-1f89-440f-dfcc-39eb1faa7de5",
        "scrolled": true
      },
      "outputs": [
        {
          "output_type": "stream",
          "name": "stdout",
          "text": [
            "['countrymen', 'lend']\n"
          ]
        }
      ],
      "source": [
        "print(my_list[2:4])"
      ]
    },
    {
      "cell_type": "markdown",
      "metadata": {
        "id": "ZO1XAsEMB91H"
      },
      "source": [
        "**My Own Example 48**"
      ]
    },
    {
      "cell_type": "code",
      "execution_count": 104,
      "metadata": {
        "colab": {
          "base_uri": "https://localhost:8080/"
        },
        "id": "k6DWdWWwCCSX",
        "outputId": "0d7ee3de-0d0c-4f7b-f484-015156843804"
      },
      "outputs": [
        {
          "output_type": "stream",
          "name": "stdout",
          "text": [
            "['Colombia', 'Japón']\n"
          ]
        }
      ],
      "source": [
        "print(LisTASum[1:3])"
      ]
    },
    {
      "cell_type": "markdown",
      "metadata": {
        "id": "zQDjVMNqFoD4"
      },
      "source": [
        "Using `:` we can select a group of elements in the list starting from the first element indicated and going up to  (but not including) the last element indicated.\n",
        "\n",
        "We can also select everything after a certain point"
      ]
    },
    {
      "cell_type": "code",
      "execution_count": 105,
      "metadata": {
        "colab": {
          "base_uri": "https://localhost:8080/"
        },
        "id": "7Hg8AlVrFoD4",
        "outputId": "788f00dc-c096-4fb7-bdc5-5d0f07065de9",
        "scrolled": true
      },
      "outputs": [
        {
          "output_type": "stream",
          "name": "stdout",
          "text": [
            "['romans', 'countrymen', 'lend', 'me', 'your', 'ears']\n"
          ]
        }
      ],
      "source": [
        "print(my_list[1:])"
      ]
    },
    {
      "cell_type": "markdown",
      "metadata": {
        "id": "ZjlAjUVsCkzv"
      },
      "source": [
        "**My Own Example 49**"
      ]
    },
    {
      "cell_type": "code",
      "execution_count": 106,
      "metadata": {
        "colab": {
          "base_uri": "https://localhost:8080/"
        },
        "id": "9ukjLQPVCrlu",
        "outputId": "fb213c43-2d56-4b92-e95f-eef2ed327e29"
      },
      "outputs": [
        {
          "output_type": "stream",
          "name": "stdout",
          "text": [
            "[True]\n"
          ]
        }
      ],
      "source": [
        "print(ListAVar[2:])"
      ]
    },
    {
      "cell_type": "markdown",
      "metadata": {
        "id": "TtpCetfyFoD4"
      },
      "source": [
        "And everything before a certain point"
      ]
    },
    {
      "cell_type": "code",
      "execution_count": 107,
      "metadata": {
        "colab": {
          "base_uri": "https://localhost:8080/"
        },
        "id": "uTSBNghEFoD4",
        "outputId": "73de15af-ead5-4b59-c140-00e07618cf53",
        "scrolled": true
      },
      "outputs": [
        {
          "output_type": "stream",
          "name": "stdout",
          "text": [
            "['friends', 'romans', 'countrymen', 'lend']\n"
          ]
        }
      ],
      "source": [
        "print(my_list[:4])"
      ]
    },
    {
      "cell_type": "markdown",
      "metadata": {
        "id": "w9K5s3oqDHHC"
      },
      "source": [
        "**My Own Example 50**"
      ]
    },
    {
      "cell_type": "code",
      "execution_count": 108,
      "metadata": {
        "colab": {
          "base_uri": "https://localhost:8080/"
        },
        "id": "duU0a0B7DR8b",
        "outputId": "33caa682-10d0-4a2d-8fd1-ab5b2ef087c7"
      },
      "outputs": [
        {
          "output_type": "stream",
          "name": "stdout",
          "text": [
            "['Brasil', 'Colombia', 'Japón']\n"
          ]
        }
      ],
      "source": [
        "print(ListA[:3])"
      ]
    },
    {
      "cell_type": "markdown",
      "metadata": {
        "id": "qpcAgg4dF3uf"
      },
      "source": [
        "**My Own example 51**\n",
        "\n"
      ]
    },
    {
      "cell_type": "code",
      "execution_count": 109,
      "metadata": {
        "colab": {
          "base_uri": "https://localhost:8080/"
        },
        "id": "6_HMfyaGF-IL",
        "outputId": "891d6ee9-686f-44f5-faaf-7d0afa9a93f5"
      },
      "outputs": [
        {
          "output_type": "stream",
          "name": "stdout",
          "text": [
            "['Brasil']\n"
          ]
        }
      ],
      "source": [
        "print(ListA[:1])"
      ]
    },
    {
      "cell_type": "markdown",
      "metadata": {
        "id": "-clmh8qeFoD4"
      },
      "source": [
        "Using negative numbers will count from the end of the indices instead of from the beginning. For example, an index of `-1` indicates the last element of the list."
      ]
    },
    {
      "cell_type": "code",
      "execution_count": 110,
      "metadata": {
        "colab": {
          "base_uri": "https://localhost:8080/"
        },
        "id": "rZFoZxinFoD4",
        "outputId": "92125b09-46de-4786-9138-0a26542ebf70"
      },
      "outputs": [
        {
          "output_type": "stream",
          "name": "stdout",
          "text": [
            "ears\n"
          ]
        }
      ],
      "source": [
        "print(my_list[-1])"
      ]
    },
    {
      "cell_type": "markdown",
      "metadata": {
        "id": "vwSC4RljGbRd"
      },
      "source": [
        "**My Own Example 52**"
      ]
    },
    {
      "cell_type": "code",
      "execution_count": 111,
      "metadata": {
        "colab": {
          "base_uri": "https://localhost:8080/"
        },
        "id": "jKYBPypqGnzh",
        "outputId": "e79cbe21-2b16-4810-8c20-f944341c1e8c"
      },
      "outputs": [
        {
          "output_type": "stream",
          "name": "stdout",
          "text": [
            "Nicaragua\n"
          ]
        }
      ],
      "source": [
        "print(LisTASum[-5])"
      ]
    },
    {
      "cell_type": "markdown",
      "metadata": {
        "id": "nVwM9euhFoD5"
      },
      "source": [
        "You can also add a third component to slicing. Instead of simply indicating the first and final parts of your slice, you can specify the step size that you want to take. So instead of taking every single element, you can take every other element."
      ]
    },
    {
      "cell_type": "code",
      "execution_count": 112,
      "metadata": {
        "colab": {
          "base_uri": "https://localhost:8080/"
        },
        "id": "IAB5tIZIFoD5",
        "outputId": "f89b5f17-d07a-4fff-a0dd-5ad74627adf9"
      },
      "outputs": [
        {
          "output_type": "stream",
          "name": "stdout",
          "text": [
            "['friends', 'countrymen', 'me', 'ears']\n"
          ]
        }
      ],
      "source": [
        "print(my_list[0:7:2])"
      ]
    },
    {
      "cell_type": "markdown",
      "metadata": {
        "id": "0EewWr-AG5Nh"
      },
      "source": [
        "**My Own Example 53**"
      ]
    },
    {
      "cell_type": "code",
      "execution_count": 113,
      "metadata": {
        "colab": {
          "base_uri": "https://localhost:8080/"
        },
        "id": "C2B_vrIfHAKG",
        "outputId": "12d11845-1218-45fb-b284-12a80f331880"
      },
      "outputs": [
        {
          "output_type": "stream",
          "name": "stdout",
          "text": [
            "['Colombia', 'Nicaragua', 88]\n"
          ]
        }
      ],
      "source": [
        "print(LisTASum[1:6:2])"
      ]
    },
    {
      "cell_type": "markdown",
      "metadata": {
        "id": "MexIuTBkFoD5"
      },
      "source": [
        "Here we have selected the entire list (because `0:7` will yield elements `0` through `6`) and we have selected a step size of `2`. So this will spit out element `0` , element `2`, element `4`, and so on through the list element selected. We can skip indicated the beginning and end of our slice, only indicating the step, if we like."
      ]
    },
    {
      "cell_type": "code",
      "execution_count": 114,
      "metadata": {
        "colab": {
          "base_uri": "https://localhost:8080/"
        },
        "id": "vffUQsX8FoD5",
        "outputId": "b1e4c97b-1467-4e7e-cc75-42ca21ffad94"
      },
      "outputs": [
        {
          "output_type": "stream",
          "name": "stdout",
          "text": [
            "['friends', 'countrymen', 'me', 'ears']\n"
          ]
        }
      ],
      "source": [
        "print(my_list[::2])"
      ]
    },
    {
      "cell_type": "markdown",
      "metadata": {
        "id": "H9VMPjYtFoD5"
      },
      "source": [
        "Lists implictly select the beginning and end of the list when not otherwise specified."
      ]
    },
    {
      "cell_type": "markdown",
      "metadata": {
        "id": "Txxk2SXXHlZh"
      },
      "source": [
        "**My Own Example 54**"
      ]
    },
    {
      "cell_type": "code",
      "execution_count": 115,
      "metadata": {
        "colab": {
          "base_uri": "https://localhost:8080/"
        },
        "id": "JRPoq-H_Hqzu",
        "outputId": "e2afb690-49b6-4a9f-f848-cfb2e40b2a15"
      },
      "outputs": [
        {
          "output_type": "stream",
          "name": "stdout",
          "text": [
            "['Brasil', 'Nicaragua', 'Dorlan Pabon']\n"
          ]
        }
      ],
      "source": [
        "print(LisTASum[::3])"
      ]
    },
    {
      "cell_type": "code",
      "execution_count": 116,
      "metadata": {
        "colab": {
          "base_uri": "https://localhost:8080/"
        },
        "id": "MYjDHm27FoD5",
        "outputId": "9ba3e6ab-2508-489c-d444-2d213c4856bb"
      },
      "outputs": [
        {
          "output_type": "stream",
          "name": "stdout",
          "text": [
            "['friends', 'romans', 'countrymen', 'lend', 'me', 'your', 'ears']\n"
          ]
        }
      ],
      "source": [
        "print(my_list[:])"
      ]
    },
    {
      "cell_type": "markdown",
      "metadata": {
        "id": "cjo1zwgFFoD5"
      },
      "source": [
        "With a negative step size we can even reverse the list!"
      ]
    },
    {
      "cell_type": "code",
      "execution_count": 117,
      "metadata": {
        "colab": {
          "base_uri": "https://localhost:8080/"
        },
        "id": "OWN0poONFoD5",
        "outputId": "23fc3f76-c67e-4825-bbd8-746ad1de2add"
      },
      "outputs": [
        {
          "output_type": "stream",
          "name": "stdout",
          "text": [
            "['ears', 'your', 'me', 'lend', 'countrymen', 'romans', 'friends']\n"
          ]
        }
      ],
      "source": [
        "print(my_list[::-1])"
      ]
    },
    {
      "cell_type": "markdown",
      "metadata": {
        "id": "HsRAIOdoIM2g"
      },
      "source": [
        "**My Own example 55**"
      ]
    },
    {
      "cell_type": "code",
      "execution_count": 118,
      "metadata": {
        "colab": {
          "base_uri": "https://localhost:8080/"
        },
        "id": "hx8UFSRVITAs",
        "outputId": "97e5c0df-8695-4081-9a6a-86f78e2002f7"
      },
      "outputs": [
        {
          "output_type": "stream",
          "name": "stdout",
          "text": [
            "[True, 'Dorlan Pabon', 88, 'Inglaterra', 'Nicaragua', 'Japón', 'Colombia', 'Brasil']\n"
          ]
        }
      ],
      "source": [
        "print(LisTASum[::-1])"
      ]
    },
    {
      "cell_type": "markdown",
      "metadata": {
        "id": "x6_6xtF2FoD6"
      },
      "source": [
        "Python does not have native matrices, but with lists we can produce a working fascimile. Other packages, such as `numpy`, add matrices as a separate data type, but in base Python the best way to create a matrix is to use a list of lists."
      ]
    },
    {
      "cell_type": "markdown",
      "metadata": {
        "id": "zWqgZdeEFoD6"
      },
      "source": [
        "We can also use built-in functions to generate lists. In particular we will look at `range()` (because we will be using it later!). Range can take several different inputs and will return a list."
      ]
    },
    {
      "cell_type": "code",
      "execution_count": 119,
      "metadata": {
        "colab": {
          "base_uri": "https://localhost:8080/"
        },
        "id": "Wd-P0xfxFoD6",
        "outputId": "4ca2f39c-72f2-4ede-976e-3d80ddffc649"
      },
      "outputs": [
        {
          "output_type": "stream",
          "name": "stdout",
          "text": [
            "range(0, 10)\n"
          ]
        }
      ],
      "source": [
        "b = 10\n",
        "my_list = range(b)\n",
        "print(my_list)"
      ]
    },
    {
      "cell_type": "markdown",
      "metadata": {
        "id": "EszL7_cBjlAw"
      },
      "source": [
        "**My Own Example 56**"
      ]
    },
    {
      "cell_type": "code",
      "execution_count": 120,
      "metadata": {
        "colab": {
          "base_uri": "https://localhost:8080/"
        },
        "id": "KLA0jwPCjo5i",
        "outputId": "a58d40b6-e5da-46f8-deec-16ced940db9f"
      },
      "outputs": [
        {
          "output_type": "stream",
          "name": "stdout",
          "text": [
            "range(0, 56)\n"
          ]
        }
      ],
      "source": [
        "j= 56\n",
        "ListAA= range(j)\n",
        "print(ListAA)"
      ]
    },
    {
      "cell_type": "markdown",
      "metadata": {
        "id": "_md2uQsnFoD6"
      },
      "source": [
        "Similar to our list-slicing methods from before, we can define both a start and an end for our range. This will return a list that is includes the start and excludes the end, just like a slice."
      ]
    },
    {
      "cell_type": "code",
      "execution_count": 121,
      "metadata": {
        "colab": {
          "base_uri": "https://localhost:8080/"
        },
        "id": "wdk3ho-UFoD6",
        "outputId": "b6b33aae-27dd-455b-ecb5-db89dde95d74"
      },
      "outputs": [
        {
          "output_type": "stream",
          "name": "stdout",
          "text": [
            "range(0, 10)\n"
          ]
        }
      ],
      "source": [
        "a = 0\n",
        "b = 10\n",
        "my_list = range(a, b)\n",
        "print(my_list)"
      ]
    },
    {
      "cell_type": "markdown",
      "metadata": {
        "id": "-Wpu6KlwkHeL"
      },
      "source": [
        "**My Own Example 57**"
      ]
    },
    {
      "cell_type": "code",
      "execution_count": 122,
      "metadata": {
        "colab": {
          "base_uri": "https://localhost:8080/"
        },
        "id": "Vsv7prbKkJwP",
        "outputId": "f661b437-db3f-42fb-9516-64b5fb5cd744"
      },
      "outputs": [
        {
          "output_type": "stream",
          "name": "stdout",
          "text": [
            "range(2, 88)\n"
          ]
        }
      ],
      "source": [
        "k=2\n",
        "l=88\n",
        "ListAa= range(k,l)\n",
        "print(ListAa)"
      ]
    },
    {
      "cell_type": "markdown",
      "metadata": {
        "id": "Jg-GPGK2FoD6"
      },
      "source": [
        "We can also specify a step size. This again has the same behavior as a slice."
      ]
    },
    {
      "cell_type": "code",
      "execution_count": 123,
      "metadata": {
        "colab": {
          "base_uri": "https://localhost:8080/"
        },
        "id": "FcwF1eTEFoD6",
        "outputId": "a8b1b4a4-a277-4251-fc61-c51d141f9106",
        "scrolled": true
      },
      "outputs": [
        {
          "output_type": "stream",
          "name": "stdout",
          "text": [
            "range(0, 10, 2)\n"
          ]
        }
      ],
      "source": [
        "a = 0\n",
        "b = 10\n",
        "step = 2\n",
        "my_list = range(a, b, step)\n",
        "print(my_list)"
      ]
    },
    {
      "cell_type": "markdown",
      "metadata": {
        "id": "K6EZd9dAkZgJ"
      },
      "source": [
        "**My Own Example 58**"
      ]
    },
    {
      "cell_type": "code",
      "execution_count": 124,
      "metadata": {
        "colab": {
          "base_uri": "https://localhost:8080/"
        },
        "id": "NvlhExCKkdtl",
        "outputId": "2e6e2f9b-ec8e-4b3e-e96e-7e247775dce8"
      },
      "outputs": [
        {
          "output_type": "stream",
          "name": "stdout",
          "text": [
            "range(2, 88, 4)\n"
          ]
        }
      ],
      "source": [
        "k=2\n",
        "l=88\n",
        "p=4\n",
        "ListAa= range(k,l,p)\n",
        "print(ListAa)"
      ]
    },
    {
      "cell_type": "markdown",
      "metadata": {
        "id": "ZmyePuhlFoD6"
      },
      "source": [
        "### Tuples\n",
        "\n",
        "A `tuple` is a data type similar to a list in that it can hold different kinds of data types. The key difference here is that a `tuple` is immutable. We define a `tuple` by separating the elements we want to include by commas. It is conventional to surround a `tuple` with parentheses."
      ]
    },
    {
      "cell_type": "code",
      "execution_count": 125,
      "metadata": {
        "colab": {
          "base_uri": "https://localhost:8080/"
        },
        "id": "9ysQy7WlFoD7",
        "outputId": "8423bdf7-a300-496c-82c0-5baa0fe55165"
      },
      "outputs": [
        {
          "output_type": "stream",
          "name": "stdout",
          "text": [
            "('I', 'have', 30, 'cats')\n"
          ]
        }
      ],
      "source": [
        "my_tuple = 'I', 'have', 30, 'cats'\n",
        "print(my_tuple)"
      ]
    },
    {
      "cell_type": "markdown",
      "metadata": {
        "id": "-jKNnDhcsPJE"
      },
      "source": [
        "**My Own Example 59**"
      ]
    },
    {
      "cell_type": "code",
      "execution_count": 126,
      "metadata": {
        "colab": {
          "base_uri": "https://localhost:8080/"
        },
        "id": "gHx3y-7gsT7h",
        "outputId": "faeaab7b-f6a8-406d-95d1-89a189b738a2"
      },
      "outputs": [
        {
          "output_type": "stream",
          "name": "stdout",
          "text": [
            "(95, 'Rayo', 'McQueen', 'Piston')\n"
          ]
        }
      ],
      "source": [
        "Tupla= 95, \"Rayo\", \"McQueen\",\"Piston\"\n",
        "print(Tupla)"
      ]
    },
    {
      "cell_type": "markdown",
      "metadata": {
        "id": "_Je71O5DFoD7"
      },
      "source": [
        "As mentioned before, tuples are immutable. You can't change any part of them without defining a new tuple."
      ]
    },
    {
      "cell_type": "code",
      "execution_count": 127,
      "metadata": {
        "id": "oe088TXRFoD7"
      },
      "outputs": [],
      "source": [
        "#my_tuple[3] = 'dogs' # Attempts to change the 'cats' value stored in the the tuple to 'dogs'"
      ]
    },
    {
      "cell_type": "markdown",
      "metadata": {
        "id": "WubVHM_TFoD7"
      },
      "source": [
        "You can slice tuples the same way that you slice lists!"
      ]
    },
    {
      "cell_type": "code",
      "execution_count": 128,
      "metadata": {
        "colab": {
          "base_uri": "https://localhost:8080/"
        },
        "id": "PUjnA7BRFoD7",
        "outputId": "b3d531a1-4ab2-4922-f770-9ac55f9cf486"
      },
      "outputs": [
        {
          "output_type": "stream",
          "name": "stdout",
          "text": [
            "('have', 30)\n"
          ]
        }
      ],
      "source": [
        "print(my_tuple[1:3])"
      ]
    },
    {
      "cell_type": "markdown",
      "metadata": {
        "id": "0fqBB-GBtPmE"
      },
      "source": [
        "**My Own Example 60**"
      ]
    },
    {
      "cell_type": "code",
      "execution_count": 129,
      "metadata": {
        "colab": {
          "base_uri": "https://localhost:8080/"
        },
        "id": "xNm_7FsptSZY",
        "outputId": "40fbebd9-177b-4dd5-bf06-eac7aebd5a16"
      },
      "outputs": [
        {
          "output_type": "stream",
          "name": "stdout",
          "text": [
            "('Rayo',)\n"
          ]
        }
      ],
      "source": [
        "print(Tupla[1:2])"
      ]
    },
    {
      "cell_type": "markdown",
      "metadata": {
        "id": "YanwulkcFoD7"
      },
      "source": [
        "And concatenate them the way that you would with strings!"
      ]
    },
    {
      "cell_type": "code",
      "execution_count": 130,
      "metadata": {
        "colab": {
          "base_uri": "https://localhost:8080/"
        },
        "id": "SJL-JHy1FoD7",
        "outputId": "7f4faa5d-da33-44c7-9057-05134c767404"
      },
      "outputs": [
        {
          "output_type": "stream",
          "name": "stdout",
          "text": [
            "('I', 'have', 30, 'cats', 'make', 'that', 50)\n"
          ]
        }
      ],
      "source": [
        "my_other_tuple = ('make', 'that', 50)\n",
        "print(my_tuple + my_other_tuple)"
      ]
    },
    {
      "cell_type": "markdown",
      "metadata": {
        "id": "Bz4Xi7oqtgwA"
      },
      "source": [
        "**My Own Example 61**"
      ]
    },
    {
      "cell_type": "code",
      "execution_count": 131,
      "metadata": {
        "colab": {
          "base_uri": "https://localhost:8080/"
        },
        "id": "g0VYv9Natkov",
        "outputId": "d0bc563b-3e85-40a6-df19-45231662d7f9"
      },
      "outputs": [
        {
          "output_type": "stream",
          "name": "stdout",
          "text": [
            "(95, 'Rayo', 'McQueen', 'Piston', 86, 'Chick', 'Hicks', 'Piston')\n"
          ]
        }
      ],
      "source": [
        "Tupla2= (86,\"Chick\",\"Hicks\",\"Piston\")\n",
        "print(Tupla+Tupla2)"
      ]
    },
    {
      "cell_type": "markdown",
      "metadata": {
        "id": "eTaN3hNoFoD7"
      },
      "source": [
        "We can 'pack' values together, creating a tuple (as above), or we can 'unpack' values from a tuple, taking them out."
      ]
    },
    {
      "cell_type": "code",
      "execution_count": 132,
      "metadata": {
        "colab": {
          "base_uri": "https://localhost:8080/"
        },
        "id": "wQ078PFDFoD8",
        "outputId": "5df14744-04e1-48c3-f608-3d96fa046145"
      },
      "outputs": [
        {
          "output_type": "stream",
          "name": "stdout",
          "text": [
            "make that 50\n"
          ]
        }
      ],
      "source": [
        "str_1, str_2, int_1 = my_other_tuple\n",
        "print(str_1, str_2, int_1)"
      ]
    },
    {
      "cell_type": "markdown",
      "metadata": {
        "id": "s4G4-8JoutKR"
      },
      "source": [
        "**My Own Example 62**"
      ]
    },
    {
      "cell_type": "code",
      "execution_count": 133,
      "metadata": {
        "colab": {
          "base_uri": "https://localhost:8080/"
        },
        "id": "w36fr0jAuwxF",
        "outputId": "cb6a87ad-1e89-4992-e9f6-e969b47874d0"
      },
      "outputs": [
        {
          "output_type": "stream",
          "name": "stdout",
          "text": [
            "86 Chick Hicks Piston\n"
          ]
        }
      ],
      "source": [
        "int_1,str_1,str_2,str_3=Tupla2\n",
        "print(int_1,str_1,str_2,str_3)"
      ]
    },
    {
      "cell_type": "markdown",
      "metadata": {
        "id": "SddvFxc-FoD8"
      },
      "source": [
        "Unpacking assigns each value of the tuple in order to each variable on the left hand side of the equals sign. Some functions, including user-defined functions, may return tuples, so we can use this to directly unpack them and access the values that we want."
      ]
    },
    {
      "cell_type": "markdown",
      "metadata": {
        "id": "oPKhq758FoD8"
      },
      "source": [
        "### Sets\n",
        "\n",
        "A `set` is a collection of unordered, unique elements. It works almost exactly as you would expect a normal set of things in mathematics to work and is defined using braces (`{}`)."
      ]
    },
    {
      "cell_type": "code",
      "execution_count": 134,
      "metadata": {
        "colab": {
          "base_uri": "https://localhost:8080/"
        },
        "id": "FIFvUdqAFoD8",
        "outputId": "85f30150-227f-4a28-d56c-e3cc0e484a0a"
      },
      "outputs": [
        {
          "output_type": "stream",
          "name": "stdout",
          "text": [
            "{'dogs', 4, 7, 'man I just LOVE the number 4', 42, 'the number 4', 'lizards'} <class 'set'>\n"
          ]
        }
      ],
      "source": [
        "things_i_like = {'dogs', 7, 'the number 4', 4, 4, 4, 42, 'lizards', 'man I just LOVE the number 4'}\n",
        "print(things_i_like, type(things_i_like))"
      ]
    },
    {
      "cell_type": "markdown",
      "metadata": {
        "id": "bRhiT5O7zLkp"
      },
      "source": [
        "**My Own Example 63**"
      ]
    },
    {
      "cell_type": "code",
      "execution_count": 135,
      "metadata": {
        "colab": {
          "base_uri": "https://localhost:8080/"
        },
        "id": "7EuplmMyzQYh",
        "outputId": "48e7856a-bf89-4ab2-e89d-02a8ec8c3fa2"
      },
      "outputs": [
        {
          "output_type": "stream",
          "name": "stdout",
          "text": [
            "{3, 4, 5, 'Arbitraje', 'Guayos', 'Balón', 14, 15, 22, 'Camisetas'} <class 'set'>\n"
          ]
        }
      ],
      "source": [
        "Fulvo={\"Balón\",3,\"Camisetas\",22,3,4,5,\"Guayos\",15,15,14,\"Arbitraje\"}\n",
        "\n",
        "print(Fulvo,type(Fulvo))"
      ]
    },
    {
      "cell_type": "markdown",
      "metadata": {
        "id": "XREec0hiFoD8"
      },
      "source": [
        "Note how any extra instances of the same item are removed in the final set. We can also create a `set` from a list, using the `set()` function."
      ]
    },
    {
      "cell_type": "code",
      "execution_count": 136,
      "metadata": {
        "colab": {
          "base_uri": "https://localhost:8080/"
        },
        "id": "8nXoJ66yFoD8",
        "outputId": "301d95c1-d6e5-4f58-b798-3810c3ddbfda"
      },
      "outputs": [
        {
          "output_type": "stream",
          "name": "stdout",
          "text": [
            "{'cows', 'dogs', 'sponges', 'lizards', 'bats', 'cats'}\n"
          ]
        }
      ],
      "source": [
        "animal_list = ['cats', 'dogs', 'dogs', 'dogs', 'lizards', 'sponges', 'cows', 'bats', 'sponges']\n",
        "animal_set = set(animal_list)\n",
        "print(animal_set) # Removes all extra instances from the list)"
      ]
    },
    {
      "cell_type": "markdown",
      "metadata": {
        "id": "C0eLxC3iz508"
      },
      "source": [
        "**My Own Example 64**"
      ]
    },
    {
      "cell_type": "code",
      "execution_count": 137,
      "metadata": {
        "colab": {
          "base_uri": "https://localhost:8080/"
        },
        "id": "zLqb6fm9z4sw",
        "outputId": "152e9ea2-cdc8-480e-bb37-fc953ec28e94"
      },
      "outputs": [
        {
          "output_type": "stream",
          "name": "stdout",
          "text": [
            "{'Dulces', 'Cereal', 'Pan', 'Frutas', 'Huevos', 'Leche'}\n"
          ]
        }
      ],
      "source": [
        "ListaC= [\"Pan\",\"Huevos\",\"Leche\",\"Cereal\",\"Frutas\",\"Dulces\",\"Pan\",\"Pan\"]\n",
        "SetC= set(ListaC)\n",
        "print(SetC)"
      ]
    },
    {
      "cell_type": "markdown",
      "metadata": {
        "id": "tJBIq0oRFoD8"
      },
      "source": [
        "Calling `len()` on a set will tell you how many elements are in it."
      ]
    },
    {
      "cell_type": "code",
      "execution_count": 138,
      "metadata": {
        "colab": {
          "base_uri": "https://localhost:8080/"
        },
        "id": "KYCm3WB6FoD8",
        "outputId": "c0bf1b65-b37b-4ede-d5dc-33e01df1be79"
      },
      "outputs": [
        {
          "output_type": "stream",
          "name": "stdout",
          "text": [
            "6\n"
          ]
        }
      ],
      "source": [
        "print(len(animal_set))"
      ]
    },
    {
      "cell_type": "markdown",
      "metadata": {
        "id": "mDO92N1S0eIV"
      },
      "source": [
        "**My Own Example 65**"
      ]
    },
    {
      "cell_type": "code",
      "execution_count": 139,
      "metadata": {
        "colab": {
          "base_uri": "https://localhost:8080/"
        },
        "id": "BxD3CTNn0clx",
        "outputId": "daa52d1f-add7-4e15-ea7c-8c28a1907a1c"
      },
      "outputs": [
        {
          "output_type": "stream",
          "name": "stdout",
          "text": [
            "6\n"
          ]
        }
      ],
      "source": [
        "print(len(SetC))"
      ]
    },
    {
      "cell_type": "markdown",
      "metadata": {
        "id": "uJKlBiNVFoD9"
      },
      "source": [
        "Because a `set` is unordered, we can't access individual elements using an index. We can, however, easily check for membership (to see if something is contained in a set) and take the unions and intersections of sets by using the built-in set functions."
      ]
    },
    {
      "cell_type": "code",
      "execution_count": 140,
      "metadata": {
        "colab": {
          "base_uri": "https://localhost:8080/"
        },
        "id": "h5pRRuudFoD9",
        "outputId": "2f59de48-6008-42e4-a9c3-a1d67a56487d"
      },
      "outputs": [
        {
          "output_type": "execute_result",
          "data": {
            "text/plain": [
              "True"
            ]
          },
          "metadata": {},
          "execution_count": 140
        }
      ],
      "source": [
        "'cats' in animal_set # Here we check for membership using the `in` keyword."
      ]
    },
    {
      "cell_type": "markdown",
      "metadata": {
        "id": "BDBmLWXk2RqG"
      },
      "source": [
        "**My Own Example 66**"
      ]
    },
    {
      "cell_type": "code",
      "execution_count": 141,
      "metadata": {
        "colab": {
          "base_uri": "https://localhost:8080/"
        },
        "id": "DHTzBIJJ2UqQ",
        "outputId": "9dcdaff4-c322-4b4d-9033-c01b5b39b045"
      },
      "outputs": [
        {
          "output_type": "execute_result",
          "data": {
            "text/plain": [
              "False"
            ]
          },
          "metadata": {},
          "execution_count": 141
        }
      ],
      "source": [
        "\"Champiñones\" in Fulvo"
      ]
    },
    {
      "cell_type": "markdown",
      "metadata": {
        "id": "ClilCs-g2gEN"
      },
      "source": [
        "**My Own Example 67**"
      ]
    },
    {
      "cell_type": "code",
      "execution_count": 142,
      "metadata": {
        "colab": {
          "base_uri": "https://localhost:8080/"
        },
        "id": "Y_aV8A032j8n",
        "outputId": "9162eb62-d7aa-462a-8cbd-c6754532b608"
      },
      "outputs": [
        {
          "output_type": "execute_result",
          "data": {
            "text/plain": [
              "True"
            ]
          },
          "metadata": {},
          "execution_count": 142
        }
      ],
      "source": [
        "\"Balón\" in Fulvo"
      ]
    },
    {
      "cell_type": "markdown",
      "metadata": {
        "id": "I6SSkW1M2-Zp"
      },
      "source": [
        "**My Own Example 68**"
      ]
    },
    {
      "cell_type": "code",
      "execution_count": 143,
      "metadata": {
        "colab": {
          "base_uri": "https://localhost:8080/"
        },
        "id": "cfoUF5dk3BiG",
        "outputId": "46828f24-9a95-44da-8be3-f9dbcbb0c78c"
      },
      "outputs": [
        {
          "output_type": "execute_result",
          "data": {
            "text/plain": [
              "False"
            ]
          },
          "metadata": {},
          "execution_count": 143
        }
      ],
      "source": [
        "\"Carros\" in SetC"
      ]
    },
    {
      "cell_type": "markdown",
      "metadata": {
        "id": "e6ChS9b6FoD9"
      },
      "source": [
        "Here we checked to see whether the string 'cats' was contained within our `animal_set` and it returned `True`, telling us that it is indeed in our set.\n",
        "\n",
        "We can connect sets by using typical mathematical set operators, namely `|`, for union, and `&`, for intersection. Using `|` or `&` will return exactly what you would expect if you are familiar with sets in mathematics."
      ]
    },
    {
      "cell_type": "code",
      "execution_count": 144,
      "metadata": {
        "colab": {
          "base_uri": "https://localhost:8080/"
        },
        "id": "rGYsFiPDFoD9",
        "outputId": "65736afe-c27e-4f04-b963-0e8662cfc8c4"
      },
      "outputs": [
        {
          "output_type": "stream",
          "name": "stdout",
          "text": [
            "{'cows', 'dogs', 4, 7, 'sponges', 'man I just LOVE the number 4', 42, 'the number 4', 'lizards', 'bats', 'cats'}\n"
          ]
        }
      ],
      "source": [
        "print(animal_set | things_i_like) # You can also write things_i_like | animal_set with no difference"
      ]
    },
    {
      "cell_type": "markdown",
      "metadata": {
        "id": "rG0TEbmFFoD9"
      },
      "source": [
        "Pairing two sets together with `|` combines the sets, removing any repetitions to make every set element unique."
      ]
    },
    {
      "cell_type": "markdown",
      "metadata": {
        "id": "pZrcn2QC3M_I"
      },
      "source": [
        "**My Own Example 69**"
      ]
    },
    {
      "cell_type": "code",
      "execution_count": 145,
      "metadata": {
        "colab": {
          "base_uri": "https://localhost:8080/"
        },
        "id": "8vipoRFw3P8O",
        "outputId": "99323382-9fc1-4d2e-cab3-ea038f54cc26"
      },
      "outputs": [
        {
          "output_type": "stream",
          "name": "stdout",
          "text": [
            "{'Dulces', 3, 4, 5, 'Cereal', 'Arbitraje', 'Guayos', 'Balón', 'Pan', 14, 15, 22, 'Camisetas', 'Huevos', 'Leche', 'Frutas'}\n"
          ]
        }
      ],
      "source": [
        "print(Fulvo|SetC)"
      ]
    },
    {
      "cell_type": "code",
      "execution_count": 146,
      "metadata": {
        "colab": {
          "base_uri": "https://localhost:8080/"
        },
        "id": "b1YFGkdcFoD9",
        "outputId": "4b071468-902f-45bb-8dd7-59c0661c688d"
      },
      "outputs": [
        {
          "output_type": "stream",
          "name": "stdout",
          "text": [
            "{'dogs', 'lizards'}\n"
          ]
        }
      ],
      "source": [
        "print(animal_set & things_i_like) # You can also write things_i_like & animal_set with no difference"
      ]
    },
    {
      "cell_type": "markdown",
      "metadata": {
        "id": "TQSGXBRl3iY_"
      },
      "source": [
        "**My Own Example 70**"
      ]
    },
    {
      "cell_type": "code",
      "execution_count": 147,
      "metadata": {
        "colab": {
          "base_uri": "https://localhost:8080/"
        },
        "id": "kIS1KMLJ3kuW",
        "outputId": "8d45bdcb-9394-40aa-feb0-e18158455e18"
      },
      "outputs": [
        {
          "output_type": "stream",
          "name": "stdout",
          "text": [
            "set()\n"
          ]
        }
      ],
      "source": [
        "print(Fulvo&SetC)"
      ]
    },
    {
      "cell_type": "markdown",
      "metadata": {
        "id": "aKeZWkr7FoD9"
      },
      "source": [
        "Pairing two sets together with `&` will calculate the intersection of both sets, returning a set that only contains what they have in common.\n",
        "\n",
        "If you are interested in learning more about the built-in functions for sets, feel free to check out the [documentation](https://docs.python.org/2/library/sets.html)."
      ]
    },
    {
      "cell_type": "markdown",
      "metadata": {
        "id": "p2VkM1SOFoD9"
      },
      "source": [
        "### Dictionaries\n",
        "\n",
        "Another essential data structure in Python is the dictionary. Dictionaries are defined with a combination of curly braces (`{}`) and colons (`:`). The braces define the beginning and end of a dictionary and the colons indicate key-value pairs. A dictionary is essentially a set of key-value pairs. The key of any entry must be an immutable data type. This makes both strings and tuples candidates. Keys can be both added and deleted.\n",
        "\n",
        "In the following example, we have a dictionary composed of key-value pairs where the key is a genre of fiction (`string`) and the value is a list of books (`list`) within that genre. Since a collection is still considered a single entity, we can use one to collect multiple variables or values into one key-value pair."
      ]
    },
    {
      "cell_type": "code",
      "execution_count": 148,
      "metadata": {
        "id": "LxaBLDmaFoD9"
      },
      "outputs": [],
      "source": [
        "my_dict = {\"High Fantasy\": [\"Wheel of Time\", \"Lord of the Rings\"], \n",
        "           \"Sci-fi\": [\"Book of the New Sun\", \"Neuromancer\", \"Snow Crash\"],\n",
        "           \"Weird Fiction\": [\"At the Mountains of Madness\", \"The House on the Borderland\"]}"
      ]
    },
    {
      "cell_type": "markdown",
      "metadata": {
        "id": "svOpspQe35jg"
      },
      "source": [
        "**My Own Example 71**"
      ]
    },
    {
      "cell_type": "code",
      "execution_count": 149,
      "metadata": {
        "id": "15nFS6Pd4Qhe"
      },
      "outputs": [],
      "source": [
        "Dicc= {\"MOBA\":[\"LOL\", \"Dota\"],\"Deportes\":[\"FIFA\", \"NBA2K\"],\"Shooter\":[\"COD\",\"Batllefield\"]}"
      ]
    },
    {
      "cell_type": "markdown",
      "metadata": {
        "id": "uKVyem2UFoD-"
      },
      "source": [
        "After defining a dictionary, we can access any individual value by indicating its key in brackets."
      ]
    },
    {
      "cell_type": "code",
      "execution_count": 150,
      "metadata": {
        "colab": {
          "base_uri": "https://localhost:8080/"
        },
        "id": "qEpJj6DAFoD-",
        "outputId": "39b0d3ec-8d12-4d29-f364-f1462d6eba2f"
      },
      "outputs": [
        {
          "output_type": "stream",
          "name": "stdout",
          "text": [
            "['Book of the New Sun', 'Neuromancer', 'Snow Crash']\n"
          ]
        }
      ],
      "source": [
        "print(my_dict[\"Sci-fi\"])"
      ]
    },
    {
      "cell_type": "markdown",
      "metadata": {
        "id": "0roWiY0S4pOM"
      },
      "source": [
        "**My Own Example 72**"
      ]
    },
    {
      "cell_type": "code",
      "execution_count": 151,
      "metadata": {
        "colab": {
          "base_uri": "https://localhost:8080/"
        },
        "id": "fABhItlX4sMg",
        "outputId": "51f5a510-90ab-46bc-f63a-0dd505e6d4f1"
      },
      "outputs": [
        {
          "output_type": "stream",
          "name": "stdout",
          "text": [
            "['COD', 'Batllefield']\n"
          ]
        }
      ],
      "source": [
        "print(Dicc[\"Shooter\"])"
      ]
    },
    {
      "cell_type": "markdown",
      "metadata": {
        "id": "JhQiqbsDFoD-"
      },
      "source": [
        "We can also change the value associated with a given key"
      ]
    },
    {
      "cell_type": "code",
      "execution_count": 152,
      "metadata": {
        "colab": {
          "base_uri": "https://localhost:8080/"
        },
        "id": "Luu1AKCuFoD-",
        "outputId": "582843ab-f8ce-4a40-c3ec-f79f42024b04"
      },
      "outputs": [
        {
          "output_type": "stream",
          "name": "stdout",
          "text": [
            "I can't read\n"
          ]
        }
      ],
      "source": [
        "my_dict[\"Sci-fi\"] = \"I can't read\"\n",
        "print(my_dict[\"Sci-fi\"])"
      ]
    },
    {
      "cell_type": "markdown",
      "metadata": {
        "id": "Zr95AbLwRJfg"
      },
      "source": [
        "**My Own Example 73**"
      ]
    },
    {
      "cell_type": "code",
      "execution_count": 153,
      "metadata": {
        "colab": {
          "base_uri": "https://localhost:8080/"
        },
        "id": "4F48HYWWRMI3",
        "outputId": "af1fe952-e9f6-424f-8190-4ef8d1aa922d"
      },
      "outputs": [
        {
          "output_type": "stream",
          "name": "stdout",
          "text": [
            "Disparitos\n"
          ]
        }
      ],
      "source": [
        "Dicc[\"Shooter\"]= \"Disparitos\"\n",
        "print(Dicc[\"Shooter\"])"
      ]
    },
    {
      "cell_type": "markdown",
      "metadata": {
        "id": "36ud19-gRd9X"
      },
      "source": [
        "**My Own Example 74**"
      ]
    },
    {
      "cell_type": "code",
      "execution_count": 154,
      "metadata": {
        "colab": {
          "base_uri": "https://localhost:8080/"
        },
        "id": "IsZxBd0fRhCS",
        "outputId": "c55d8797-5d45-484f-9279-fe7589b5e27c"
      },
      "outputs": [
        {
          "output_type": "stream",
          "name": "stdout",
          "text": [
            "Fulvo\n"
          ]
        }
      ],
      "source": [
        "Dicc[\"Deportes\"]= \"Fulvo\"\n",
        "print(Dicc[\"Deportes\"])"
      ]
    },
    {
      "cell_type": "markdown",
      "metadata": {
        "id": "wTw5m4UaFoD-"
      },
      "source": [
        "Adding a new key-value pair is as simple as defining it."
      ]
    },
    {
      "cell_type": "code",
      "execution_count": 155,
      "metadata": {
        "colab": {
          "base_uri": "https://localhost:8080/"
        },
        "id": "sgw4pHv_FoD-",
        "outputId": "f1422577-1fa1-4038-8243-3392863c659e"
      },
      "outputs": [
        {
          "output_type": "stream",
          "name": "stdout",
          "text": [
            "['Pillars of the Earth']\n"
          ]
        }
      ],
      "source": [
        "my_dict[\"Historical Fiction\"] = [\"Pillars of the Earth\"]\n",
        "print(my_dict[\"Historical Fiction\"])"
      ]
    },
    {
      "cell_type": "markdown",
      "metadata": {
        "id": "EDyAVUVVRwEc"
      },
      "source": [
        "**My Own Example 75**"
      ]
    },
    {
      "cell_type": "code",
      "execution_count": 156,
      "metadata": {
        "colab": {
          "base_uri": "https://localhost:8080/"
        },
        "id": "aBel83uBRy2d",
        "outputId": "2b21c8f1-0f2f-42a3-e273-e6663dd487f9"
      },
      "outputs": [
        {
          "output_type": "stream",
          "name": "stdout",
          "text": [
            "['SuperCell']\n"
          ]
        }
      ],
      "source": [
        "Dicc[\"Celular\"]= [\"SuperCell\"]\n",
        "print(Dicc[\"Celular\"])"
      ]
    },
    {
      "cell_type": "code",
      "execution_count": 157,
      "metadata": {
        "colab": {
          "base_uri": "https://localhost:8080/"
        },
        "id": "EE2MTbwVFoD-",
        "outputId": "e7aeec09-6a1b-401c-f273-92dfb896bc01"
      },
      "outputs": [
        {
          "output_type": "stream",
          "name": "stdout",
          "text": [
            "{'High Fantasy': ['Wheel of Time', 'Lord of the Rings'], 'Sci-fi': \"I can't read\", 'Weird Fiction': ['At the Mountains of Madness', 'The House on the Borderland'], 'Historical Fiction': ['Pillars of the Earth']}\n"
          ]
        }
      ],
      "source": [
        "print(my_dict)"
      ]
    },
    {
      "cell_type": "markdown",
      "metadata": {
        "id": "D-xkrD77SGfa"
      },
      "source": [
        "**My Own Example 76**"
      ]
    },
    {
      "cell_type": "code",
      "execution_count": 158,
      "metadata": {
        "colab": {
          "base_uri": "https://localhost:8080/"
        },
        "id": "4FYvarBxSKnq",
        "outputId": "5412226e-d76e-4e3c-ce31-bf5a3a24bf0d"
      },
      "outputs": [
        {
          "output_type": "stream",
          "name": "stdout",
          "text": [
            "{'MOBA': ['LOL', 'Dota'], 'Deportes': 'Fulvo', 'Shooter': 'Disparitos', 'Celular': ['SuperCell']}\n"
          ]
        }
      ],
      "source": [
        "print(Dicc)"
      ]
    },
    {
      "cell_type": "markdown",
      "metadata": {
        "id": "ddAKfXm-FoD_"
      },
      "source": [
        "## String Shenanigans\n",
        "\n",
        "We already know that strings are generally used for text. We can used built-in operations to combine, split, and format strings easily, depending on our needs.\n",
        "\n",
        "The `+` symbol indicates concatenation in string language. It will combine two strings into a longer string."
      ]
    },
    {
      "cell_type": "code",
      "execution_count": 159,
      "metadata": {
        "colab": {
          "base_uri": "https://localhost:8080/"
        },
        "id": "PZHvv7kQFoD_",
        "outputId": "c49d6e16-f78f-446b-ee7e-4abb304e8e82"
      },
      "outputs": [
        {
          "output_type": "stream",
          "name": "stdout",
          "text": [
            "\"Beware the Jabberwock, my son! /The jaws that bite, the claws that catch! /Beware the Jubjub bird, and shun /The frumious Bandersnatch!\"/\n"
          ]
        }
      ],
      "source": [
        "first_string = '\"Beware the Jabberwock, my son! /The jaws that bite, the claws that catch! /'\n",
        "second_string = 'Beware the Jubjub bird, and shun /The frumious Bandersnatch!\"/'\n",
        "third_string = first_string + second_string\n",
        "print(third_string)"
      ]
    },
    {
      "cell_type": "markdown",
      "metadata": {
        "id": "dx2c5D0uSW3Q"
      },
      "source": [
        "**My Own Example 77**"
      ]
    },
    {
      "cell_type": "code",
      "execution_count": 160,
      "metadata": {
        "colab": {
          "base_uri": "https://localhost:8080/"
        },
        "id": "unISvlx1SdEA",
        "outputId": "85c1cfb2-dbb4-44b6-b3d3-3457f8a3c1fb"
      },
      "outputs": [
        {
          "output_type": "stream",
          "name": "stdout",
          "text": [
            "Pisa la pelota Maradona, arranca por la derecha el genio del fútbol mundial\n"
          ]
        }
      ],
      "source": [
        "Aa=\"Pisa la pelota Maradona,\"\n",
        "Bb=\" arranca por la derecha el genio del fútbol mundial\"\n",
        "Ab= Aa+Bb\n",
        "print(Ab)"
      ]
    },
    {
      "cell_type": "markdown",
      "metadata": {
        "id": "xhhjUCcvS_Od"
      },
      "source": [
        "**My Own Example 78**"
      ]
    },
    {
      "cell_type": "code",
      "execution_count": 161,
      "metadata": {
        "colab": {
          "base_uri": "https://localhost:8080/"
        },
        "id": "ewa6GFjTTC7r",
        "outputId": "25b91ddd-cb40-4e32-d9be-4a4591d25e19"
      },
      "outputs": [
        {
          "output_type": "stream",
          "name": "stdout",
          "text": [
            "deja el tendal y va a tocar para Burruchaga...¡Siempre Maradona! ¡Genio! ¡Genio! ¡Genio! Ta-ta-ta-ta-ta-ta… Goooooool… Gooooool\n"
          ]
        }
      ],
      "source": [
        "Cc=\"deja el tendal y va a tocar para Burruchaga...\"\n",
        "Dd=\"¡Siempre Maradona! ¡Genio! ¡Genio! ¡Genio! Ta-ta-ta-ta-ta-ta… Goooooool… Gooooool\"\n",
        "Cd= Cc+Dd\n",
        "print(Cd)"
      ]
    },
    {
      "cell_type": "markdown",
      "metadata": {
        "id": "bajyTjCzFoD_"
      },
      "source": [
        "Strings are also indexed much in the same way that lists are."
      ]
    },
    {
      "cell_type": "code",
      "execution_count": 162,
      "metadata": {
        "colab": {
          "base_uri": "https://localhost:8080/"
        },
        "id": "AFMtJjhpFoD_",
        "outputId": "1a8bd558-d2c4-49a3-a813-085a5faae9be"
      },
      "outputs": [
        {
          "output_type": "stream",
          "name": "stdout",
          "text": [
            "The first letter is:  S\n",
            "The last letter is:  s\n",
            "The second to last letter is:  u\n",
            "The first five characters are:  Super\n",
            "Reverse it!:  suoicodilaipxecitsiligarfilacrepuS\n"
          ]
        }
      ],
      "source": [
        "my_string = 'Supercalifragilisticexpialidocious'\n",
        "print('The first letter is: ', my_string[0]) # Uppercase S\n",
        "print('The last letter is: ', my_string[-1]) # lowercase s\n",
        "print('The second to last letter is: ', my_string[-2]) # lowercase u\n",
        "print('The first five characters are: ', my_string[0:5]) # Remember: slicing doesn't include the final element!\n",
        "print('Reverse it!: ', my_string[::-1])"
      ]
    },
    {
      "cell_type": "markdown",
      "metadata": {
        "id": "9kBm8toJTmIf"
      },
      "source": [
        "**My Own Example 79**"
      ]
    },
    {
      "cell_type": "code",
      "execution_count": 163,
      "metadata": {
        "colab": {
          "base_uri": "https://localhost:8080/"
        },
        "id": "KnUAL0WYTpBA",
        "outputId": "859c6a89-957b-477c-aeef-1c36b03ed6ba"
      },
      "outputs": [
        {
          "output_type": "stream",
          "name": "stdout",
          "text": [
            "La primera letra es d\n"
          ]
        }
      ],
      "source": [
        "print(\"La primera letra es\", Cd[0])"
      ]
    },
    {
      "cell_type": "markdown",
      "metadata": {
        "id": "WvG44l_GFoD_"
      },
      "source": [
        "Built-in objects and classes often have special functions associated with them that are called methods. We access these methods by using a period ('.'). We will cover objects and their associated methods more in another lecture!\n",
        "\n",
        "Using string methods we can count instances of a character or group of characters."
      ]
    },
    {
      "cell_type": "code",
      "execution_count": 164,
      "metadata": {
        "colab": {
          "base_uri": "https://localhost:8080/"
        },
        "id": "61EalnMkFoD_",
        "outputId": "526da528-df7b-4681-80c5-14fbdce7ec60",
        "scrolled": true
      },
      "outputs": [
        {
          "output_type": "stream",
          "name": "stdout",
          "text": [
            "Count of the letter i in Supercalifragilisticexpialidocious:  7\n",
            "Count of \"li\" in the same word:  3\n"
          ]
        }
      ],
      "source": [
        "print('Count of the letter i in Supercalifragilisticexpialidocious: ', my_string.count('i'))\n",
        "print('Count of \"li\" in the same word: ', my_string.count('li'))"
      ]
    },
    {
      "cell_type": "markdown",
      "metadata": {
        "id": "qj3WLEcMUyov"
      },
      "source": [
        "**My Own Example 80**"
      ]
    },
    {
      "cell_type": "code",
      "execution_count": 165,
      "metadata": {
        "colab": {
          "base_uri": "https://localhost:8080/"
        },
        "id": "JyMX1xD6U2Qz",
        "outputId": "39a6c98d-c018-45e0-83a9-710d908fab24"
      },
      "outputs": [
        {
          "output_type": "stream",
          "name": "stdout",
          "text": [
            "Contador letra a: 12\n"
          ]
        }
      ],
      "source": [
        "print(\"Contador letra a:\", Ab.count(\"a\"))"
      ]
    },
    {
      "cell_type": "markdown",
      "metadata": {
        "id": "SX_yLtX6FoD_"
      },
      "source": [
        "We can also find the first instance of a character or group of characters in a string."
      ]
    },
    {
      "cell_type": "markdown",
      "metadata": {
        "id": "SekToCD6VG3D"
      },
      "source": [
        "**My Own Example 81**"
      ]
    },
    {
      "cell_type": "code",
      "execution_count": 166,
      "metadata": {
        "colab": {
          "base_uri": "https://localhost:8080/"
        },
        "id": "_lMT4sWhVKI3",
        "outputId": "83143ab9-1a63-4409-e40b-a903abf01fc1"
      },
      "outputs": [
        {
          "output_type": "stream",
          "name": "stdout",
          "text": [
            "Contador letra c: 2\n"
          ]
        }
      ],
      "source": [
        "print(\"Contador letra c:\", Ab.count(\"c\"))"
      ]
    },
    {
      "cell_type": "code",
      "execution_count": 167,
      "metadata": {
        "colab": {
          "base_uri": "https://localhost:8080/"
        },
        "id": "JvLAjGUeFoD_",
        "outputId": "b81f4b1d-1c49-4d9a-f0a3-e71b39e1e533"
      },
      "outputs": [
        {
          "output_type": "stream",
          "name": "stdout",
          "text": [
            "The first time i appears is at index:  8\n"
          ]
        }
      ],
      "source": [
        "print('The first time i appears is at index: ', my_string.find('i'))"
      ]
    },
    {
      "cell_type": "markdown",
      "metadata": {
        "id": "Nou0esAwVSdN"
      },
      "source": [
        "**My Own Example 82**"
      ]
    },
    {
      "cell_type": "code",
      "execution_count": 168,
      "metadata": {
        "colab": {
          "base_uri": "https://localhost:8080/"
        },
        "id": "coutmpeTVWSx",
        "outputId": "b11b0c8b-1691-4045-a869-97695fd2c504"
      },
      "outputs": [
        {
          "output_type": "stream",
          "name": "stdout",
          "text": [
            "Primera vez que aparece la letra a es en la posición: 3\n"
          ]
        }
      ],
      "source": [
        "print(\"Primera vez que aparece la letra a es en la posición:\", Ab.find(\"a\"))"
      ]
    },
    {
      "cell_type": "markdown",
      "metadata": {
        "id": "IEOGz_rvFoEA"
      },
      "source": [
        "As well as replace characters in a string."
      ]
    },
    {
      "cell_type": "code",
      "execution_count": 169,
      "metadata": {
        "colab": {
          "base_uri": "https://localhost:8080/"
        },
        "id": "Ikuy7IAcFoEA",
        "outputId": "961f119b-aed1-4c07-d778-5e7174d23cb8"
      },
      "outputs": [
        {
          "output_type": "stream",
          "name": "stdout",
          "text": [
            "All i's are now a's:  Supercalafragalastacexpaaladocaous\n"
          ]
        }
      ],
      "source": [
        "print(\"All i's are now a's: \", my_string.replace('i', 'a'))"
      ]
    },
    {
      "cell_type": "markdown",
      "metadata": {
        "id": "Pcnz4BLcbiU-"
      },
      "source": [
        "**My Own Example 83**"
      ]
    },
    {
      "cell_type": "code",
      "execution_count": 170,
      "metadata": {
        "colab": {
          "base_uri": "https://localhost:8080/"
        },
        "id": "YAKrA0g1bldf",
        "outputId": "1622b633-ab56-4d37-a403-e88fb6a08ee6"
      },
      "outputs": [
        {
          "output_type": "stream",
          "name": "stdout",
          "text": [
            "Todas las A con E ahora: Pise le pelote Meredone, errence por le dereche el genio del fútbol mundiel\n"
          ]
        }
      ],
      "source": [
        "print(\"Todas las A con E ahora:\", Ab.replace(\"a\",\"e\"))"
      ]
    },
    {
      "cell_type": "code",
      "execution_count": 171,
      "metadata": {
        "colab": {
          "base_uri": "https://localhost:8080/"
        },
        "id": "ok5v-cptFoEA",
        "outputId": "69c07d71-aba8-43bb-fed8-67f42e746dfe"
      },
      "outputs": [
        {
          "output_type": "stream",
          "name": "stdout",
          "text": [
            "It's raining cats and more cats\n"
          ]
        }
      ],
      "source": [
        "print(\"It's raining cats and dogs\".replace('dogs', 'more cats'))"
      ]
    },
    {
      "cell_type": "markdown",
      "metadata": {
        "id": "UXQaF3M_b7ci"
      },
      "source": [
        "**My Own Example 84**"
      ]
    },
    {
      "cell_type": "code",
      "execution_count": 172,
      "metadata": {
        "colab": {
          "base_uri": "https://localhost:8080/"
        },
        "id": "QufUpTOqb_Do",
        "outputId": "075c362f-c200-49e8-c401-83acb7595f33"
      },
      "outputs": [
        {
          "output_type": "stream",
          "name": "stdout",
          "text": [
            "Juan Clavo un clavito\n"
          ]
        }
      ],
      "source": [
        "print(\"Pablito Clavo un clavito\".replace(\"Pablito\",\"Juan\"))"
      ]
    },
    {
      "cell_type": "markdown",
      "metadata": {
        "id": "vZmvnJrYFoEA"
      },
      "source": [
        "There are also some methods that are unique to strings. The function `upper()` will convert all characters in a string to uppercase, while `lower()` will convert all characters in a string to lowercase!"
      ]
    },
    {
      "cell_type": "code",
      "execution_count": 173,
      "metadata": {
        "colab": {
          "base_uri": "https://localhost:8080/"
        },
        "id": "8Yy6ARmsFoEA",
        "outputId": "1510694e-17a2-416c-ff66-6514f11b8675"
      },
      "outputs": [
        {
          "output_type": "stream",
          "name": "stdout",
          "text": [
            "I CAN'T HEAR YOU\n",
            "i said hello\n"
          ]
        }
      ],
      "source": [
        "my_string = \"I can't hear you\"\n",
        "print(my_string.upper())\n",
        "my_string = \"I said HELLO\"\n",
        "print(my_string.lower())"
      ]
    },
    {
      "cell_type": "markdown",
      "metadata": {
        "id": "zBfkAZ9NcOgO"
      },
      "source": [
        "**My Own Example 85**"
      ]
    },
    {
      "cell_type": "code",
      "execution_count": 174,
      "metadata": {
        "colab": {
          "base_uri": "https://localhost:8080/"
        },
        "id": "CXegNPA9cRJ0",
        "outputId": "1c7f8fc3-8571-47d0-b5b7-0319607f8101"
      },
      "outputs": [
        {
          "output_type": "stream",
          "name": "stdout",
          "text": [
            "INGENIERÍA MECÁNICA EN LA UNAL\n"
          ]
        }
      ],
      "source": [
        "UPDO= \"Ingeniería Mecánica en la UNAL\"\n",
        "print(UPDO.upper())"
      ]
    },
    {
      "cell_type": "markdown",
      "metadata": {
        "id": "OsM_Fffscj29"
      },
      "source": [
        "**My own Example 86**"
      ]
    },
    {
      "cell_type": "code",
      "execution_count": 175,
      "metadata": {
        "colab": {
          "base_uri": "https://localhost:8080/"
        },
        "id": "c55la1LTcnn5",
        "outputId": "a33e7bfe-e2e1-4933-db33-8b5491b843fe"
      },
      "outputs": [
        {
          "output_type": "stream",
          "name": "stdout",
          "text": [
            "ingeniería mecánica en la unal\n"
          ]
        }
      ],
      "source": [
        "print(UPDO.lower())"
      ]
    },
    {
      "cell_type": "markdown",
      "metadata": {
        "id": "c8r30Yp2FoEA"
      },
      "source": [
        "### String Formatting\n",
        "\n",
        "Using the `format()` method we can add in variable values and generally format our strings."
      ]
    },
    {
      "cell_type": "code",
      "execution_count": 176,
      "metadata": {
        "colab": {
          "base_uri": "https://localhost:8080/"
        },
        "id": "CB0N5uYvFoEA",
        "outputId": "8e5c0b44-d626-4c6a-869f-d41720e17509"
      },
      "outputs": [
        {
          "output_type": "stream",
          "name": "stdout",
          "text": [
            "Marco Polo\n"
          ]
        }
      ],
      "source": [
        "my_string = \"{0} {1}\".format('Marco', 'Polo')\n",
        "print(my_string)"
      ]
    },
    {
      "cell_type": "markdown",
      "metadata": {
        "id": "HEstpPotczA_"
      },
      "source": [
        "**My Own Example 87**"
      ]
    },
    {
      "cell_type": "code",
      "execution_count": 177,
      "metadata": {
        "colab": {
          "base_uri": "https://localhost:8080/"
        },
        "id": "hbsI3qz_cyHG",
        "outputId": "67da3d94-082b-4eff-897b-b073006a22f5"
      },
      "outputs": [
        {
          "output_type": "stream",
          "name": "stdout",
          "text": [
            "Dragon Ball\n"
          ]
        }
      ],
      "source": [
        "STRR= \"{0} {1}\".format(\"Dragon\", \"Ball\")\n",
        "print(STRR)"
      ]
    },
    {
      "cell_type": "markdown",
      "metadata": {
        "id": "-VQ4CDcedfqE"
      },
      "source": [
        "**My Own Example 88**"
      ]
    },
    {
      "cell_type": "code",
      "execution_count": 178,
      "metadata": {
        "colab": {
          "base_uri": "https://localhost:8080/"
        },
        "id": "WadPX93wdijG",
        "outputId": "10e6e4a3-f5d6-4ed0-c81a-6ad6d4f30386"
      },
      "outputs": [
        {
          "output_type": "stream",
          "name": "stdout",
          "text": [
            "Ball Dragon\n"
          ]
        }
      ],
      "source": [
        "STRR=\"{1} {0}\".format(\"Dragon\", \"Ball\")\n",
        "print(STRR)"
      ]
    },
    {
      "cell_type": "code",
      "execution_count": 179,
      "metadata": {
        "colab": {
          "base_uri": "https://localhost:8080/"
        },
        "id": "fFohD_WsFoEA",
        "outputId": "c7ec7e11-5cd4-445f-b0dd-60937189bcb5"
      },
      "outputs": [
        {
          "output_type": "stream",
          "name": "stdout",
          "text": [
            "Polo Marco\n"
          ]
        }
      ],
      "source": [
        "my_string = \"{1} {0}\".format('Marco', 'Polo')\n",
        "print(my_string)"
      ]
    },
    {
      "cell_type": "markdown",
      "metadata": {
        "id": "81iiRyDCFoEB"
      },
      "source": [
        "We use braces (`{}`) to indicate parts of the string that will be filled in later and we use the arguments of the `format()` function to provide the values to substitute. The numbers within the braces indicate the index of the value in the `format()` arguments."
      ]
    },
    {
      "cell_type": "markdown",
      "metadata": {
        "id": "CdGtNZpCFoEB"
      },
      "source": [
        "See the `format()` [documentation](https://docs.python.org/2/library/string.html#format-examples) for additional examples."
      ]
    },
    {
      "cell_type": "markdown",
      "metadata": {
        "id": "r0_borerFoEB"
      },
      "source": [
        "If you need some quick and dirty formatting, you can instead use the `%` symbol, called the string formatting operator. "
      ]
    },
    {
      "cell_type": "code",
      "execution_count": 180,
      "metadata": {
        "colab": {
          "base_uri": "https://localhost:8080/"
        },
        "id": "l1sIt2_TFoEB",
        "outputId": "83a3c40c-85e8-4c00-ec2b-9b4b77693654"
      },
      "outputs": [
        {
          "output_type": "stream",
          "name": "stdout",
          "text": [
            "insert value here\n"
          ]
        }
      ],
      "source": [
        "print('insert %s here' % 'value')"
      ]
    },
    {
      "cell_type": "markdown",
      "metadata": {
        "id": "oLTK1_mIFoEB"
      },
      "source": [
        "The `%` symbol basically cues Python to create a placeholder. Whatever character follows the `%` (in the string) indicates what sort of type the value put into the placeholder will have. This character is called a *conversion type*. Once the string has been closed, we need another `%` that will be followed by the values to insert. In the case of one value, you can just put it there. If you are inserting more than one value, they must be enclosed in a tuple."
      ]
    },
    {
      "cell_type": "code",
      "execution_count": 181,
      "metadata": {
        "colab": {
          "base_uri": "https://localhost:8080/"
        },
        "id": "lGeMTz_8FoEB",
        "outputId": "3d857af1-a2b2-4eb0-93f5-358c6b369dbb"
      },
      "outputs": [
        {
          "output_type": "stream",
          "name": "stdout",
          "text": [
            "There are 13 cats in my apartment\n"
          ]
        }
      ],
      "source": [
        "print('There are %s cats in my %s' % (13, 'apartment'))"
      ]
    },
    {
      "cell_type": "markdown",
      "metadata": {
        "id": "mf-q0PdJer8B"
      },
      "source": [
        "**My Own Example 89**"
      ]
    },
    {
      "cell_type": "code",
      "execution_count": 182,
      "metadata": {
        "colab": {
          "base_uri": "https://localhost:8080/"
        },
        "id": "5GlHmjHKex75",
        "outputId": "38de54dd-cef2-40a5-f85f-18a0ae79b387"
      },
      "outputs": [
        {
          "output_type": "stream",
          "name": "stdout",
          "text": [
            "Este es el 89vo ejemplo  de 200\n"
          ]
        }
      ],
      "source": [
        "print(\"Este es el %svo ejemplo  %s\" % (89, \"de 200\"))"
      ]
    },
    {
      "cell_type": "markdown",
      "metadata": {
        "id": "iYj3P-VEFoEB"
      },
      "source": [
        "In these examples, the `%s` indicates that Python should convert the values into strings. There are multiple conversion types that you can use to get more specific with the the formatting. See the string formatting [documentation](https://docs.python.org/2/library/stdtypes.html#string-formatting) for additional examples and more complete details on use."
      ]
    },
    {
      "cell_type": "markdown",
      "metadata": {
        "id": "1FITrDL9FoEC"
      },
      "source": [
        "## Logical Operators\n",
        "### Basic Logic\n",
        "\n",
        "Logical operators deal with `boolean` values, as we briefly covered before. If you recall, a `bool` takes on one of two values, `True` or `False` (or $1$ or $0$). The basic logical statements that we can make are defined using the built-in comparators. These are `==` (equal), `!=` (not equal), `<` (less than), `>` (greater than), `<=` (less than or equal to), and `>=` (greater than or equal to)."
      ]
    },
    {
      "cell_type": "code",
      "execution_count": 183,
      "metadata": {
        "colab": {
          "base_uri": "https://localhost:8080/"
        },
        "id": "kQqgs1_iFoEC",
        "outputId": "02b24983-c5f5-4647-f8c8-d0ed8d866011"
      },
      "outputs": [
        {
          "output_type": "stream",
          "name": "stdout",
          "text": [
            "True\n"
          ]
        }
      ],
      "source": [
        "print(5 == 5)"
      ]
    },
    {
      "cell_type": "markdown",
      "metadata": {
        "id": "gFxPIkLMfp6_"
      },
      "source": [
        "**My Own Example 90**"
      ]
    },
    {
      "cell_type": "code",
      "execution_count": 184,
      "metadata": {
        "colab": {
          "base_uri": "https://localhost:8080/"
        },
        "id": "muMAb9_Fftvk",
        "outputId": "a6ae8936-68c9-417f-e063-9c91b04812b3"
      },
      "outputs": [
        {
          "output_type": "stream",
          "name": "stdout",
          "text": [
            "False\n"
          ]
        }
      ],
      "source": [
        "print( 555==88)"
      ]
    },
    {
      "cell_type": "code",
      "execution_count": 185,
      "metadata": {
        "colab": {
          "base_uri": "https://localhost:8080/"
        },
        "id": "8D2UNKM5FoEC",
        "outputId": "0bad3ad3-fd7b-4af2-822b-ebadd9b3fd9d"
      },
      "outputs": [
        {
          "output_type": "stream",
          "name": "stdout",
          "text": [
            "False\n"
          ]
        }
      ],
      "source": [
        "print(5 > 5)"
      ]
    },
    {
      "cell_type": "markdown",
      "metadata": {
        "id": "jyv_lc1hfx0l"
      },
      "source": [
        "**My Own Example 91**"
      ]
    },
    {
      "cell_type": "code",
      "execution_count": 186,
      "metadata": {
        "colab": {
          "base_uri": "https://localhost:8080/"
        },
        "id": "Z8BUKk5xf4Kp",
        "outputId": "630d3002-cbe9-410b-b7e7-69009e369425"
      },
      "outputs": [
        {
          "output_type": "stream",
          "name": "stdout",
          "text": [
            "True\n"
          ]
        }
      ],
      "source": [
        "print(900>8)"
      ]
    },
    {
      "cell_type": "markdown",
      "metadata": {
        "id": "b8UleYT_FoEC"
      },
      "source": [
        "These comparators also work in conjunction with variables."
      ]
    },
    {
      "cell_type": "code",
      "execution_count": 187,
      "metadata": {
        "colab": {
          "base_uri": "https://localhost:8080/"
        },
        "id": "HHEygt0vFoEC",
        "outputId": "5dad12fd-3b9f-4c9a-b9f1-74c861334581"
      },
      "outputs": [
        {
          "output_type": "stream",
          "name": "stdout",
          "text": [
            "True\n"
          ]
        }
      ],
      "source": [
        "m = 2\n",
        "n = 23\n",
        "print(m < n)"
      ]
    },
    {
      "cell_type": "markdown",
      "metadata": {
        "id": "3kRjOwB6FoEC"
      },
      "source": [
        "We can string these comparators together to make more complex logical statements using the logical operators `or`, `and`, and `not`. "
      ]
    },
    {
      "cell_type": "code",
      "execution_count": 188,
      "metadata": {
        "colab": {
          "base_uri": "https://localhost:8080/"
        },
        "id": "VbeJOQ3mFoEC",
        "outputId": "c3b239d1-e0b0-4431-ede6-49989f1d4d36"
      },
      "outputs": [
        {
          "output_type": "stream",
          "name": "stdout",
          "text": [
            "Statement 1 truth value: True\n",
            "Statement 2 truth value: True\n",
            "Statement 1 and Statement 2: True\n"
          ]
        }
      ],
      "source": [
        "statement_1 = 10 > 2\n",
        "statement_2 = 4 <= 6\n",
        "print(\"Statement 1 truth value: {0}\".format(statement_1))\n",
        "print(\"Statement 2 truth value: {0}\".format(statement_2))\n",
        "print(\"Statement 1 and Statement 2: {0}\".format(statement_1 and statement_2))"
      ]
    },
    {
      "cell_type": "markdown",
      "metadata": {
        "id": "YifI4YkiFoEC"
      },
      "source": [
        "The `or` operator performs a logical `or` calculation. This is an inclusive `or`, so if either component paired together by `or` is `True`, the whole statement will be `True`. The `and` statement only outputs `True` if all components that are `and`ed together are True. Otherwise it will output `False`. The `not` statement simply inverts the truth value of whichever statement follows it. So a `True` statement will be evaluated as `False` when a `not` is placed in front of it. Similarly, a `False` statement will become `True` when a `not` is in front of it.\n",
        "\n",
        "Say that we have two logical statements, or assertions, $P$ and $Q$. The truth table for the basic logical operators is as follows:\n",
        "\n",
        "|  P  |  Q  | `not` P| P `and` Q | P `or` Q|\n",
        "|:-----:|:-----:|:---:|:---:|:---:|\n",
        "| `True` | `True` | `False` | `True` | `True` |\n",
        "| `False` | `True` | `True` | `False` | `True` |\n",
        "| `True` | `False` | `False` | `False` | `True` |\n",
        "| `False` | `False` | `True` | `False` | `False` |\n",
        "\n",
        "We can string multiple logical statements together using the logical operators."
      ]
    },
    {
      "cell_type": "code",
      "execution_count": 189,
      "metadata": {
        "colab": {
          "base_uri": "https://localhost:8080/"
        },
        "id": "UJVjSNyRFoEC",
        "outputId": "047809ea-432e-44f7-b233-fde628a2b15b"
      },
      "outputs": [
        {
          "output_type": "stream",
          "name": "stdout",
          "text": [
            "True\n"
          ]
        }
      ],
      "source": [
        "print (((2 < 3) and (3 > 0)) or ((5 > 6) and not (4 < 2)))"
      ]
    },
    {
      "cell_type": "markdown",
      "metadata": {
        "id": "0QLKjq36gemu"
      },
      "source": [
        "**My Own Example 92**\n",
        "\n",
        "\n",
        "\n"
      ]
    },
    {
      "cell_type": "code",
      "execution_count": 190,
      "metadata": {
        "colab": {
          "base_uri": "https://localhost:8080/"
        },
        "id": "fUhh3OlegmE7",
        "outputId": "f9999dfb-ebdc-4fba-9949-6d0e87e3350d"
      },
      "outputs": [
        {
          "output_type": "stream",
          "name": "stdout",
          "text": [
            "True\n"
          ]
        }
      ],
      "source": [
        "print((2<56) or (66==66) and (88>678))"
      ]
    },
    {
      "cell_type": "markdown",
      "metadata": {
        "id": "1KvAi3oDFoED"
      },
      "source": [
        "Logical statements can be as simple or complex as we like, depending on what we need to express. Evaluating the above logical statement step by step we see that we are evaluating (`True and True`) `or` (`False and not False`). This becomes `True or (False and True`), subsequently becoming `True or False`, ultimately being evaluated as `True`."
      ]
    },
    {
      "cell_type": "markdown",
      "metadata": {
        "id": "jOnWfDnpFoED"
      },
      "source": [
        "#### Truthiness\n",
        "\n",
        "Data types in Python have a fun characteristic called truthiness. What this means is that most built-in types will evaluate as either `True` or `False` when a boolean value is needed (such as with an if-statement). As a general rule, containers like strings, tuples, dictionaries, lists, and sets, will return `True` if they contain anything at all and `False` if they contain nothing."
      ]
    },
    {
      "cell_type": "code",
      "execution_count": 191,
      "metadata": {
        "colab": {
          "base_uri": "https://localhost:8080/"
        },
        "id": "_wmZPFZ2FoED",
        "outputId": "babfd7cb-b856-47b4-9548-f9db0abac2f7"
      },
      "outputs": [
        {
          "output_type": "stream",
          "name": "stdout",
          "text": [
            "False\n"
          ]
        }
      ],
      "source": [
        "# Similar to how float() and int() work, bool() forces a value to be considered a boolean!\n",
        "print(bool(''))"
      ]
    },
    {
      "cell_type": "code",
      "execution_count": 192,
      "metadata": {
        "colab": {
          "base_uri": "https://localhost:8080/"
        },
        "id": "V1GH2saiFoED",
        "outputId": "4b7c3027-6357-4b7d-f88d-04fef072451c"
      },
      "outputs": [
        {
          "output_type": "stream",
          "name": "stdout",
          "text": [
            "True\n"
          ]
        }
      ],
      "source": [
        "print(bool('I have character!'))"
      ]
    },
    {
      "cell_type": "code",
      "execution_count": 193,
      "metadata": {
        "colab": {
          "base_uri": "https://localhost:8080/"
        },
        "id": "rElnUFxzFoED",
        "outputId": "6f03f8c4-c0ae-47b6-9f39-3a0c0aeaaf0f"
      },
      "outputs": [
        {
          "output_type": "stream",
          "name": "stdout",
          "text": [
            "False\n"
          ]
        }
      ],
      "source": [
        "print(bool([]))"
      ]
    },
    {
      "cell_type": "code",
      "execution_count": 194,
      "metadata": {
        "colab": {
          "base_uri": "https://localhost:8080/"
        },
        "id": "nMM8RgbyFoED",
        "outputId": "861c21cc-3466-44ed-9cf7-56ab6a015fe6"
      },
      "outputs": [
        {
          "output_type": "stream",
          "name": "stdout",
          "text": [
            "True\n"
          ]
        }
      ],
      "source": [
        "print(bool([1, 2, 3]))"
      ]
    },
    {
      "cell_type": "markdown",
      "metadata": {
        "id": "NoUtLB1yoCWl"
      },
      "source": [
        "**My Own Example 93**"
      ]
    },
    {
      "cell_type": "code",
      "execution_count": 195,
      "metadata": {
        "colab": {
          "base_uri": "https://localhost:8080/"
        },
        "id": "oc2nis2Lth6m",
        "outputId": "ec9efc40-9a4a-42ee-a49c-0e020056cc13"
      },
      "outputs": [
        {
          "output_type": "stream",
          "name": "stdout",
          "text": [
            "True\n",
            "True\n",
            "False\n"
          ]
        }
      ],
      "source": [
        "print(bool(1))\n",
        "print(bool(6))\n",
        "print(bool(0))"
      ]
    },
    {
      "cell_type": "markdown",
      "metadata": {
        "id": "tmJMx3jpFoED"
      },
      "source": [
        "And so on, for the other collections and containers. `None` also evaluates as `False`. The number `1` is equivalent to `True` and the number `0` is equivalent to `False` as well, in a boolean context."
      ]
    },
    {
      "cell_type": "markdown",
      "metadata": {
        "id": "tBp-6Le6FoED"
      },
      "source": [
        "### If-statements\n",
        "\n",
        "We can create segments of code that only execute if a set of conditions is met. We use if-statements in conjunction with logical statements in order to create branches in our code. \n",
        "\n",
        "An `if` block gets entered when the condition is considered to be `True`. If condition is evaluated as `False`, the `if` block will simply be skipped unless there is an `else` block to accompany it. Conditions are made using either logical operators or by using the truthiness of values in Python. An if-statement is defined with a colon and a block of indented text."
      ]
    },
    {
      "cell_type": "code",
      "execution_count": 196,
      "metadata": {
        "colab": {
          "base_uri": "https://localhost:8080/"
        },
        "id": "mxFMnO_IFoEE",
        "outputId": "18cf30a7-3b0a-4910-cef6-65dd046504f9"
      },
      "outputs": [
        {
          "output_type": "stream",
          "name": "stdout",
          "text": [
            "True\n"
          ]
        }
      ],
      "source": [
        "# This is the basic format of an if statement. This is a vacuous example. \n",
        "# The string \"Condition\" will always evaluated as True because it is a\n",
        "# non-empty string. he purpose of this code is to show the formatting of\n",
        "# an if-statement.\n",
        "if \"Condition\": \n",
        "    # This block of code will execute because the string is non-empty\n",
        "    # Everything on these indented lines\n",
        "    print(True)\n",
        "else:\n",
        "    # So if the condition that we examined with if is in fact False\n",
        "    # This block of code will execute INSTEAD of the first block of code\n",
        "    # Everything on these indented lines\n",
        "    print(False)\n",
        "# The else block here will never execute because \"Condition\" is a non-empty string."
      ]
    },
    {
      "cell_type": "code",
      "execution_count": 197,
      "metadata": {
        "id": "My8WwU_1FoEE"
      },
      "outputs": [],
      "source": [
        "i = 4\n",
        "if i == 5:\n",
        "    print('The variable i has a value of 5')"
      ]
    },
    {
      "cell_type": "markdown",
      "metadata": {
        "id": "TbO0lHSNFoEE"
      },
      "source": [
        "Because in this example `i = 4` and the if-statement is only looking for whether `i` is equal to `5`, the print statement will never be executed. We can add in an `else` statement to create a contingency block of code in case the condition in the if-statement is not evaluated as `True`."
      ]
    },
    {
      "cell_type": "code",
      "execution_count": 198,
      "metadata": {
        "colab": {
          "base_uri": "https://localhost:8080/"
        },
        "id": "CnG8Il02FoEE",
        "outputId": "8fbbf872-21d7-4360-dd4d-721d3693144f"
      },
      "outputs": [
        {
          "output_type": "stream",
          "name": "stdout",
          "text": [
            "All lines in this indented block are part of this block\n",
            "The variable i is not equal to 5\n"
          ]
        }
      ],
      "source": [
        "i = 4\n",
        "if i == 5:\n",
        "    print(\"All lines in this indented block are part of this block\")\n",
        "    print('The variable i has a value of 5')\n",
        "else:\n",
        "    print(\"All lines in this indented block are part of this block\")\n",
        "    print('The variable i is not equal to 5')"
      ]
    },
    {
      "cell_type": "markdown",
      "metadata": {
        "id": "s_8QtoiCtsoH"
      },
      "source": [
        "**My Own Example 94**"
      ]
    },
    {
      "cell_type": "code",
      "execution_count": 199,
      "metadata": {
        "colab": {
          "base_uri": "https://localhost:8080/"
        },
        "id": "p2f-8qkytxBd",
        "outputId": "a7037ad5-b83b-42b6-fcc5-0f441ce5ff7d"
      },
      "outputs": [
        {
          "output_type": "stream",
          "name": "stdout",
          "text": [
            "Azul\n"
          ]
        }
      ],
      "source": [
        "o=88\n",
        "if o==67:\n",
        "  print(\"Rojo\")\n",
        "else:\n",
        "   print(\"Azul\")  \n"
      ]
    },
    {
      "cell_type": "markdown",
      "metadata": {
        "id": "zddc9WQ6FoEE"
      },
      "source": [
        "We can implement other branches off of the same if-statement by using `elif`, an abbreviation of \"else if\". We can include as many `elifs` as we like until we have exhausted all the logical branches of a condition."
      ]
    },
    {
      "cell_type": "code",
      "execution_count": 200,
      "metadata": {
        "colab": {
          "base_uri": "https://localhost:8080/"
        },
        "id": "TVT7JgSEFoEE",
        "outputId": "17dda2f2-8df0-41ff-868e-473f9f7c88dc"
      },
      "outputs": [
        {
          "output_type": "stream",
          "name": "stdout",
          "text": [
            "The variable i has a value of 1\n"
          ]
        }
      ],
      "source": [
        "i = 1\n",
        "if i == 1:\n",
        "    print('The variable i has a value of 1')\n",
        "elif i == 2:\n",
        "    print('The variable i has a value of 2')\n",
        "elif i == 3:\n",
        "    print('The variable i has a value of 3')\n",
        "else:\n",
        "    print(\"I don't care what i is\")"
      ]
    },
    {
      "cell_type": "markdown",
      "metadata": {
        "id": "r5RmsmJrFoEE"
      },
      "source": [
        "You can also nest if-statements within if-statements to check for further conditions."
      ]
    },
    {
      "cell_type": "code",
      "execution_count": 201,
      "metadata": {
        "colab": {
          "base_uri": "https://localhost:8080/"
        },
        "id": "VZG0jXoBFoEF",
        "outputId": "acd51aa1-5b54-4bab-bb66-9220b411b2ee"
      },
      "outputs": [
        {
          "output_type": "stream",
          "name": "stdout",
          "text": [
            "i is divisible by both 2 and 5! Wow!\n"
          ]
        }
      ],
      "source": [
        "i = 10\n",
        "if i % 2 == 0:\n",
        "    if i % 3 == 0:\n",
        "        print('i is divisible by both 2 and 3! Wow!')\n",
        "    elif i % 5 == 0:\n",
        "        print('i is divisible by both 2 and 5! Wow!')\n",
        "    else:\n",
        "        print('i is divisible by 2, but not 3 or 5. Meh.')\n",
        "else:\n",
        "    print('I guess that i is an odd number. Boring.')"
      ]
    },
    {
      "cell_type": "markdown",
      "metadata": {
        "id": "CrVlxKmiFoEF"
      },
      "source": [
        "Remember that we can group multiple conditions together by using the logical operators!"
      ]
    },
    {
      "cell_type": "code",
      "execution_count": 202,
      "metadata": {
        "id": "EG6jRcrqFoEF"
      },
      "outputs": [],
      "source": [
        "i = 5\n",
        "j = 12\n",
        "#if i < 10 and j > 11:\n",
        "    #print(\"aa\",\"ww\").format(i, j)"
      ]
    },
    {
      "cell_type": "markdown",
      "metadata": {
        "id": "gtbboMvVFoEF"
      },
      "source": [
        "You can use the logical comparators to compare strings!"
      ]
    },
    {
      "cell_type": "code",
      "execution_count": 203,
      "metadata": {
        "colab": {
          "base_uri": "https://localhost:8080/"
        },
        "id": "lorg4NQSFoEF",
        "outputId": "9d81f56f-c193-4a3b-d3a9-fa500e8c347b"
      },
      "outputs": [
        {
          "output_type": "stream",
          "name": "stdout",
          "text": [
            "And so it was! For the glory of Rome!\n"
          ]
        }
      ],
      "source": [
        "my_string = \"Carthago delenda est\"\n",
        "if my_string == \"Carthago delenda est\":\n",
        "    print('And so it was! For the glory of Rome!')\n",
        "else:\n",
        "    print('War elephants are TERRIFYING. I am staying home.')"
      ]
    },
    {
      "cell_type": "markdown",
      "metadata": {
        "id": "85BQC2citF-A"
      },
      "source": [
        "**My Own Example 95**"
      ]
    },
    {
      "cell_type": "code",
      "execution_count": 204,
      "metadata": {
        "colab": {
          "base_uri": "https://localhost:8080/"
        },
        "id": "R9z0yK9iuO5F",
        "outputId": "b6d166f3-e5b2-4225-a8c0-41d2a36f43c1"
      },
      "outputs": [
        {
          "output_type": "stream",
          "name": "stdout",
          "text": [
            "Felicidades\n"
          ]
        }
      ],
      "source": [
        "Frase= \"Entender tu mente\"\n",
        "if Frase==\"No entiendo mi mente\":\n",
        "  print(\"Vuelve  a intetarlo\")\n",
        "else:\n",
        "  print(\"Felicidades\")  \n"
      ]
    },
    {
      "cell_type": "markdown",
      "metadata": {
        "id": "6dJwNfn7FoEF"
      },
      "source": [
        "As with other data types, `==` will check for whether the two things on either side of it have the same value. In this case, we compare whether the value of the strings are the same. Using `>` or `<` or any of the other comparators is not quite so intuitive, however, so we will stay from using comparators with strings in this lecture. Comparators will examine the [lexicographical order](https://en.wikipedia.org/wiki/Lexicographical_order) of the strings, which might be a bit more in-depth than you might like."
      ]
    },
    {
      "cell_type": "markdown",
      "metadata": {
        "id": "9aBoNyUCFoEF"
      },
      "source": [
        "Some built-in functions return a boolean value, so they can be used as conditions in an if-statement. User-defined functions can also be constructed so that they return a boolean value. This will be covered later with function definition!\n",
        "\n",
        "The `in` keyword is generally used to check membership of a value within another value. We can check memebership in the context of an if-statement and use it to output a truth value."
      ]
    },
    {
      "cell_type": "code",
      "execution_count": 205,
      "metadata": {
        "colab": {
          "base_uri": "https://localhost:8080/"
        },
        "id": "iZrCba4nFoEG",
        "outputId": "86070cb6-fba8-4a70-99d1-35fba97d34a8"
      },
      "outputs": [
        {
          "output_type": "stream",
          "name": "stdout",
          "text": [
            "Those are my favorite vowels!\n"
          ]
        }
      ],
      "source": [
        "if 'a' in my_string or 'e' in my_string:\n",
        "    print('Those are my favorite vowels!')"
      ]
    },
    {
      "cell_type": "markdown",
      "metadata": {
        "id": "UkLMSA32u3aA"
      },
      "source": [
        "**My Own Example 96**"
      ]
    },
    {
      "cell_type": "code",
      "execution_count": 206,
      "metadata": {
        "colab": {
          "base_uri": "https://localhost:8080/"
        },
        "id": "Ttz2sLVzu-Rr",
        "outputId": "7ba3da46-157d-482e-c02a-4109c036e62b"
      },
      "outputs": [
        {
          "output_type": "stream",
          "name": "stdout",
          "text": [
            "Genios\n"
          ]
        }
      ],
      "source": [
        "q= \"El método de Newton Raphson\"\n",
        "\n",
        "if \"Newton\" in q or \"Einstein\" in quit:\n",
        "  print(\"Genios\")"
      ]
    },
    {
      "cell_type": "markdown",
      "metadata": {
        "id": "Hk0QWMh1FoEG"
      },
      "source": [
        "Here we use `in` to check whether the variable `my_string` contains any particular letters. We will later use `in` to iterate through lists!"
      ]
    },
    {
      "cell_type": "markdown",
      "metadata": {
        "id": "T9Ls0C_tFoEG"
      },
      "source": [
        "## Loop Structures\n",
        "\n",
        "Loop structures are one of the most important parts of programming. The `for` loop and the `while` loop provide a way to repeatedly run a block of code repeatedly. A `while` loop will iterate until a certain condition has been met. If at any point after an iteration that condition is no longer satisfied, the loop terminates. A `for` loop will iterate over a sequence of values and terminate when the sequence has ended. You can instead include conditions within the `for` loop to decide whether it should terminate early or you could simply let it run its course."
      ]
    },
    {
      "cell_type": "code",
      "execution_count": 207,
      "metadata": {
        "colab": {
          "base_uri": "https://localhost:8080/"
        },
        "id": "Ms-WVlLFFoEG",
        "outputId": "8912c2a9-1e41-4f31-cae9-22e69db5659f"
      },
      "outputs": [
        {
          "output_type": "stream",
          "name": "stdout",
          "text": [
            "I am looping! 4 more to go!\n",
            "I am looping! 3 more to go!\n",
            "I am looping! 2 more to go!\n",
            "I am looping! 1 more to go!\n",
            "I am looping! 0 more to go!\n"
          ]
        }
      ],
      "source": [
        "i = 5\n",
        "while i > 0: # We can write this as 'while i:' because 0 is False!\n",
        "    i -= 1\n",
        "    print(('I am looping! {0} more to go!').format(i))"
      ]
    },
    {
      "cell_type": "markdown",
      "metadata": {
        "id": "exBe25tFvqWC"
      },
      "source": [
        "**My Own Example 97**"
      ]
    },
    {
      "cell_type": "code",
      "execution_count": 208,
      "metadata": {
        "colab": {
          "base_uri": "https://localhost:8080/"
        },
        "id": "M2gLQjujvuAu",
        "outputId": "3b0b0d27-5ab4-438f-972b-31c6d57e986f"
      },
      "outputs": [
        {
          "output_type": "stream",
          "name": "stdout",
          "text": [
            "Numero 91 en pantalla\n",
            "Numero 93 en pantalla\n",
            "Numero 95 en pantalla\n",
            "Numero 97 en pantalla\n",
            "Numero 99 en pantalla\n",
            "Numero 101 en pantalla\n"
          ]
        }
      ],
      "source": [
        "c= 89\n",
        "while c<100:\n",
        "  c= c+2\n",
        "  print((\"Numero {0} en pantalla\").format(c)) "
      ]
    },
    {
      "cell_type": "markdown",
      "metadata": {
        "id": "n8nh_T9NFoEG"
      },
      "source": [
        "\n",
        "With `while` loops we need to make sure that something actually changes from iteration to iteration so that that the loop actually terminates. In this case, we use the shorthand `i -= 1` (short for `i = i - 1`) so that the value of `i` gets smaller with each iteration. Eventually `i` will be reduced to `0`, rendering the condition `False` and exiting the loop."
      ]
    },
    {
      "cell_type": "markdown",
      "metadata": {
        "id": "QrsyozWkFoEG"
      },
      "source": [
        "A `for` loop iterates a set number of times, determined when you state the entry into the loop. In this case we are iterating over the list returned from `range()`. The `for` loop selects a value from the list, in order, and temporarily assigns the value of `i` to it so that operations can be performed with the value."
      ]
    },
    {
      "cell_type": "code",
      "execution_count": 209,
      "metadata": {
        "colab": {
          "base_uri": "https://localhost:8080/"
        },
        "id": "FzSaDOCkFoEG",
        "outputId": "61a98830-e9e4-4031-ff9c-65766a22b89d"
      },
      "outputs": [
        {
          "output_type": "stream",
          "name": "stdout",
          "text": [
            "I am looping! I have looped 1 times!\n",
            "I am looping! I have looped 2 times!\n",
            "I am looping! I have looped 3 times!\n",
            "I am looping! I have looped 4 times!\n",
            "I am looping! I have looped 5 times!\n"
          ]
        }
      ],
      "source": [
        "for i in range(5):\n",
        "    print(('I am looping! I have looped {0} times!').format(i + 1))"
      ]
    },
    {
      "cell_type": "markdown",
      "metadata": {
        "id": "-IwHrSYpyvk7"
      },
      "source": [
        "**My Own Example 98**"
      ]
    },
    {
      "cell_type": "code",
      "execution_count": 210,
      "metadata": {
        "colab": {
          "base_uri": "https://localhost:8080/"
        },
        "id": "KYXP7Tm1y0ba",
        "outputId": "6490e09f-fa23-433a-d083-4d35f8f7f59a"
      },
      "outputs": [
        {
          "output_type": "stream",
          "name": "stdout",
          "text": [
            "loop #1\n",
            "loop #2\n",
            "loop #3\n",
            "loop #4\n",
            "loop #5\n",
            "loop #6\n",
            "loop #7\n",
            "loop #8\n",
            "loop #9\n",
            "loop #10\n"
          ]
        }
      ],
      "source": [
        "for c in range (10):\n",
        "  print(\"loop #{0}\".format(c+1))"
      ]
    },
    {
      "cell_type": "markdown",
      "metadata": {
        "id": "xTZFJmuJFoEG"
      },
      "source": [
        "Note that in this `for` loop we use the `in` keyword. Use of the `in` keyword is not limited to checking for membership as in the if-statement example. You can iterate over any collection with a `for` loop by using the `in` keyword.\n",
        "\n",
        "In this next example, we will iterate over a `set` because we want to check for containment and add to a new set."
      ]
    },
    {
      "cell_type": "code",
      "execution_count": 211,
      "metadata": {
        "colab": {
          "base_uri": "https://localhost:8080/"
        },
        "id": "Q3WFM4JhFoEG",
        "outputId": "a2ab9c17-2f6e-4f68-e27c-fb1169ae4880"
      },
      "outputs": [
        {
          "output_type": "stream",
          "name": "stdout",
          "text": [
            "{'humans', 'dogs', 'cows', 'bats', 'cats'}\n"
          ]
        }
      ],
      "source": [
        "my_list = {'cats', 'dogs', 'lizards', 'cows', 'bats', 'sponges', 'humans'} # Lists all the animals in the world\n",
        "mammal_list = {'cats', 'dogs', 'cows', 'bats', 'humans'} # Lists all the mammals in the world\n",
        "my_new_list = set()\n",
        "for animal in my_list:\n",
        "    if animal in mammal_list:\n",
        "        # This adds any animal that is both in my_list and mammal_list to my_new_list\n",
        "        my_new_list.add(animal)\n",
        "        \n",
        "print(my_new_list)"
      ]
    },
    {
      "cell_type": "markdown",
      "metadata": {
        "id": "RfneVEo4FoEH"
      },
      "source": [
        "There are two statements that are very helpful in dealing with both `for` and `while` loops. These are `break` and `continue`. If `break` is encountered at any point while a loop is executing, the loop will immediately end."
      ]
    },
    {
      "cell_type": "code",
      "execution_count": 212,
      "metadata": {
        "colab": {
          "base_uri": "https://localhost:8080/"
        },
        "id": "9_6L7mg9FoEH",
        "outputId": "3f5d4f14-61c7-4622-fb53-52cc38775914"
      },
      "outputs": [
        {
          "output_type": "stream",
          "name": "stdout",
          "text": [
            "11\n",
            "12\n",
            "13\n",
            "14\n"
          ]
        }
      ],
      "source": [
        "i = 10\n",
        "while True:\n",
        "    if i == 14:\n",
        "        break\n",
        "    i += 1 # This is shorthand for i = i + 1. It increments i with each iteration.\n",
        "    print(i)"
      ]
    },
    {
      "cell_type": "code",
      "execution_count": 213,
      "metadata": {
        "colab": {
          "base_uri": "https://localhost:8080/"
        },
        "id": "lMOrNMXrFoEH",
        "outputId": "9e202f6d-e443-411c-a622-9caf3ba1ae6f"
      },
      "outputs": [
        {
          "output_type": "stream",
          "name": "stdout",
          "text": [
            "0\n",
            "1\n"
          ]
        }
      ],
      "source": [
        "for i in range(5):\n",
        "    if i == 2:\n",
        "        break\n",
        "    print(i)"
      ]
    },
    {
      "cell_type": "markdown",
      "metadata": {
        "id": "4PWUv6rPFoEH"
      },
      "source": [
        "The `continue` statement will tell the loop to immediately end this iteration and continue onto the next iteration of the loop."
      ]
    },
    {
      "cell_type": "code",
      "execution_count": 214,
      "metadata": {
        "colab": {
          "base_uri": "https://localhost:8080/"
        },
        "id": "5yTU37UcFoEH",
        "outputId": "e89fb44e-4f40-4d4c-b7d4-72a40d24abed"
      },
      "outputs": [
        {
          "output_type": "stream",
          "name": "stdout",
          "text": [
            "1\n",
            "2\n",
            "4\n",
            "5\n"
          ]
        }
      ],
      "source": [
        "i = 0\n",
        "while i < 5:\n",
        "    i += 1\n",
        "    if i == 3:\n",
        "        continue\n",
        "    print(i)"
      ]
    },
    {
      "cell_type": "markdown",
      "metadata": {
        "id": "Xpaqn34tzzPO"
      },
      "source": [
        "**My Own Example 99**"
      ]
    },
    {
      "cell_type": "code",
      "execution_count": 215,
      "metadata": {
        "colab": {
          "base_uri": "https://localhost:8080/"
        },
        "id": "yTJBDDg6z4w4",
        "outputId": "982f67fe-4215-49ca-c892-5597da7b1513"
      },
      "outputs": [
        {
          "output_type": "stream",
          "name": "stdout",
          "text": [
            "0\n",
            "1\n",
            "2\n",
            "3\n",
            "4\n",
            "5\n",
            "6\n",
            "7\n",
            "8\n",
            "9\n",
            "10\n",
            "11\n",
            "12\n",
            "13\n",
            "14\n"
          ]
        }
      ],
      "source": [
        "for c in range(20):\n",
        "  if c== 15:\n",
        "    break\n",
        "  print(c) "
      ]
    },
    {
      "cell_type": "markdown",
      "metadata": {
        "id": "_DqPNV75FoEH"
      },
      "source": [
        "This loop skips printing the number $3$ because of the `continue` statement that executes when we enter the if-statement. The code never sees the command to print the number $3$ because it has already moved to the next iteration. The `break` and `continue` statements are further tools to help you control the flow of your loops and, as a result, your code."
      ]
    },
    {
      "cell_type": "markdown",
      "metadata": {
        "id": "lHXxNx1UFoEH"
      },
      "source": [
        "The variable that we use to iterate over a loop will retain its value when the loop exits. Similarly, any variables defined within the context of the loop will continue to exist outside of it."
      ]
    },
    {
      "cell_type": "code",
      "execution_count": 216,
      "metadata": {
        "colab": {
          "base_uri": "https://localhost:8080/"
        },
        "id": "omj2nhhSFoEH",
        "outputId": "0d0f0b2e-c452-4d3f-a748-da027f52f9ea"
      },
      "outputs": [
        {
          "output_type": "stream",
          "name": "stdout",
          "text": [
            "I am eternal! I am 0 and I exist everywhere!\n",
            "I am eternal! I am 1 and I exist everywhere!\n",
            "I am eternal! I am 2 and I exist everywhere!\n",
            "I am eternal! I am 3 and I exist everywhere!\n",
            "I am eternal! I am 4 and I exist everywhere!\n",
            "I persist! My value is 4\n",
            "I transcend the loop!\n"
          ]
        }
      ],
      "source": [
        "for i in range(5):\n",
        "    loop_string = 'I transcend the loop!'\n",
        "    print('I am eternal! I am {0} and I exist everywhere!'.format(i))\n",
        "\n",
        "print('I persist! My value is {0}'.format(i))\n",
        "print(loop_string)"
      ]
    },
    {
      "cell_type": "markdown",
      "metadata": {
        "id": "DXzwZ5vNFoEH"
      },
      "source": [
        "We can also iterate over a dictionary!"
      ]
    },
    {
      "cell_type": "code",
      "execution_count": 217,
      "metadata": {
        "id": "0I96X2iGFoEI"
      },
      "outputs": [],
      "source": [
        "my_dict = {'firstname' : 'Inigo', 'lastname' : 'Montoya', 'nemesis' : 'Rugen'}"
      ]
    },
    {
      "cell_type": "code",
      "execution_count": 218,
      "metadata": {
        "id": "hL_4lsFsFoEI",
        "colab": {
          "base_uri": "https://localhost:8080/"
        },
        "outputId": "dc1179ab-353c-48e6-b1fc-ea5a34bf360a"
      },
      "outputs": [
        {
          "output_type": "stream",
          "name": "stdout",
          "text": [
            "firstname\n",
            "lastname\n",
            "nemesis\n"
          ]
        }
      ],
      "source": [
        "for key in my_dict:\n",
        "    print(key)"
      ]
    },
    {
      "cell_type": "markdown",
      "metadata": {
        "id": "6f0EFigBFoEI"
      },
      "source": [
        "If we just iterate over a dictionary without doing anything else, we will only get the keys. We can either use the keys to get the values, like so:"
      ]
    },
    {
      "cell_type": "code",
      "execution_count": 219,
      "metadata": {
        "id": "s7lUuL-KFoEI",
        "colab": {
          "base_uri": "https://localhost:8080/"
        },
        "outputId": "b1bc6920-c8b5-4138-d5c3-ca829f395bc8"
      },
      "outputs": [
        {
          "output_type": "stream",
          "name": "stdout",
          "text": [
            "Inigo\n",
            "Montoya\n",
            "Rugen\n"
          ]
        }
      ],
      "source": [
        "for key in my_dict:\n",
        "    print(my_dict[key])"
      ]
    },
    {
      "cell_type": "markdown",
      "metadata": {
        "id": "Qg2pT2fVFoEI"
      },
      "source": [
        "Or we can use the `items()` function to get both key and value at the same time."
      ]
    },
    {
      "cell_type": "code",
      "execution_count": 220,
      "metadata": {
        "id": "tht1QrB3FoEI",
        "colab": {
          "base_uri": "https://localhost:8080/"
        },
        "outputId": "ce6b74a6-be7a-4150-aee6-5ba3ae0d8759"
      },
      "outputs": [
        {
          "output_type": "stream",
          "name": "stdout",
          "text": [
            "firstname : Inigo\n",
            "lastname : Montoya\n",
            "nemesis : Rugen\n"
          ]
        }
      ],
      "source": [
        "for key, value in my_dict.items():\n",
        "    print(key, ':', value)"
      ]
    },
    {
      "cell_type": "markdown",
      "metadata": {
        "id": "5p1itnERFoEI"
      },
      "source": [
        "The `items()` function creates a tuple of each key-value pair and the for loop unpacks that tuple into `key, value` on each separate execution of the loop!"
      ]
    },
    {
      "cell_type": "markdown",
      "metadata": {
        "id": "p45mzY-ZFoEI"
      },
      "source": [
        "## Functions\n",
        "\n",
        "A function is a reusable block of code that you can call repeatedly to make calculations, output data, or really do anything that you want. This is one of the key aspects of using a programming language. To add to the built-in functions in Python, you can define your own!"
      ]
    },
    {
      "cell_type": "code",
      "execution_count": 221,
      "metadata": {
        "id": "LvqCYc8tFoEI",
        "colab": {
          "base_uri": "https://localhost:8080/"
        },
        "outputId": "6ac5e3d1-7228-4041-eb0b-9682fa5bdc9f"
      },
      "outputs": [
        {
          "output_type": "stream",
          "name": "stdout",
          "text": [
            "Hello, world!\n"
          ]
        }
      ],
      "source": [
        "def hello_world():\n",
        "    \"\"\" Prints Hello, world! \"\"\"\n",
        "    print('Hello, world!')\n",
        "\n",
        "hello_world()"
      ]
    },
    {
      "cell_type": "markdown",
      "metadata": {
        "id": "3zTVy5ig2yRu"
      },
      "source": [
        "**My Own Example 100**"
      ]
    },
    {
      "cell_type": "code",
      "execution_count": 222,
      "metadata": {
        "id": "0N3GQxPt21X2",
        "colab": {
          "base_uri": "https://localhost:8080/"
        },
        "outputId": "f44cd556-adbf-49b8-9a93-834e32c599b7"
      },
      "outputs": [
        {
          "output_type": "stream",
          "name": "stdout",
          "text": [
            "Este es el ejemplo número 100\n"
          ]
        }
      ],
      "source": [
        "def funcion_ejemplo():\n",
        "\n",
        "  print(\"Este es el ejemplo número 100\")\n",
        "\n",
        "funcion_ejemplo()"
      ]
    },
    {
      "cell_type": "code",
      "execution_count": 223,
      "metadata": {
        "id": "ErmlaARJFoEJ",
        "colab": {
          "base_uri": "https://localhost:8080/"
        },
        "outputId": "690a3f91-5647-4173-e73c-868a7df30e71"
      },
      "outputs": [
        {
          "output_type": "stream",
          "name": "stdout",
          "text": [
            "Hello, world!\n",
            "Hello, world!\n",
            "Hello, world!\n",
            "Hello, world!\n",
            "Hello, world!\n"
          ]
        }
      ],
      "source": [
        "for i in range(5):\n",
        "    hello_world()"
      ]
    },
    {
      "cell_type": "markdown",
      "metadata": {
        "id": "XODIHqcmFoEJ"
      },
      "source": [
        "Functions are defined with `def`, a function name, a list of parameters, and a colon. Everything indented below the colon will be included in the definition of the function.\n",
        "\n",
        "We can have our functions do anything that you can do with a normal block of code. For example, our `hello_world()` function prints a string every time it is called. If we want to keep a value that a function calculates, we can define the function so that it will `return` the value we want. This is a very important feature of functions, as any variable defined purely within a function will not exist outside of it."
      ]
    },
    {
      "cell_type": "code",
      "execution_count": 224,
      "metadata": {
        "id": "p_AzCIJpFoEJ"
      },
      "outputs": [],
      "source": [
        "def see_the_scope():\n",
        "    in_function_string = \"I'm stuck in here!\"\n",
        "\n",
        "    see_the_scope()\n",
        "    print(in_function_string)"
      ]
    },
    {
      "cell_type": "markdown",
      "metadata": {
        "id": "iMxFYUWeFoEJ"
      },
      "source": [
        " The **scope** of a variable is the part of a block of code where that variable is tied to a particular value. Functions in Python have an enclosed scope, making it so that variables defined within them can only be accessed directly within them. If we pass those values to a return statement we can get them out of the function. This makes it so that the function call returns values so that you can store them in variables that have a greater scope.\n",
        " \n",
        "In this case specifically, including a return statement allows us to keep the string value that we define in the function."
      ]
    },
    {
      "cell_type": "code",
      "execution_count": 225,
      "metadata": {
        "id": "nXjHW4VDFoEJ",
        "colab": {
          "base_uri": "https://localhost:8080/"
        },
        "outputId": "5dd43010-0f1b-4b49-cafb-d2ff784f66a7"
      },
      "outputs": [
        {
          "output_type": "stream",
          "name": "stdout",
          "text": [
            "Anything you can do I can do better!\n"
          ]
        }
      ],
      "source": [
        "def free_the_scope():\n",
        "    in_function_string = \"Anything you can do I can do better!\"\n",
        "    return in_function_string\n",
        "my_string = free_the_scope()\n",
        "print(my_string)"
      ]
    },
    {
      "cell_type": "markdown",
      "metadata": {
        "id": "CoOZKOmeFoEJ"
      },
      "source": [
        "Just as we can get values out of a function, we can also put values into a function. We do this by defining our function with parameters."
      ]
    },
    {
      "cell_type": "code",
      "execution_count": 226,
      "metadata": {
        "id": "1Q0AALExFoEJ",
        "colab": {
          "base_uri": "https://localhost:8080/"
        },
        "outputId": "f66cd254-33f6-4a5c-bd0f-99673ffb5139"
      },
      "outputs": [
        {
          "output_type": "stream",
          "name": "stdout",
          "text": [
            "4\n",
            "20\n"
          ]
        }
      ],
      "source": [
        "def multiply_by_five(x):\n",
        "    \"\"\" Multiplies an input number by 5 \"\"\"\n",
        "    return x * 5\n",
        "\n",
        "n = 4\n",
        "print(n)\n",
        "print(multiply_by_five(n))"
      ]
    },
    {
      "cell_type": "markdown",
      "metadata": {
        "id": "yzn-35uf4NId"
      },
      "source": [
        "**My Own Example 101**"
      ]
    },
    {
      "cell_type": "code",
      "execution_count": 227,
      "metadata": {
        "id": "F-HyZth34RXD",
        "colab": {
          "base_uri": "https://localhost:8080/"
        },
        "outputId": "c2f209b2-7ef4-4cbd-8f8d-4d0e6d6e937f"
      },
      "outputs": [
        {
          "output_type": "stream",
          "name": "stdout",
          "text": [
            "32.333333333333336\n"
          ]
        }
      ],
      "source": [
        "def division_3 (j):\n",
        "  return j/3\n",
        "\n",
        "j=97\n",
        "\n",
        "print(division_3(j))"
      ]
    },
    {
      "cell_type": "markdown",
      "metadata": {
        "id": "PxfK5nbo3vav"
      },
      "source": [
        "**My Own Example 102**"
      ]
    },
    {
      "cell_type": "code",
      "execution_count": 228,
      "metadata": {
        "id": "HInsYJwL3y5A",
        "colab": {
          "base_uri": "https://localhost:8080/"
        },
        "outputId": "fa9b0b0d-974b-45a4-dd73-82c7f50065dd"
      },
      "outputs": [
        {
          "output_type": "stream",
          "name": "stdout",
          "text": [
            "2640\n"
          ]
        }
      ],
      "source": [
        "def volumen_cubo(l,a,p):\n",
        "  return l*a*p\n",
        "\n",
        "l=88\n",
        "a=15\n",
        "p=2\n",
        "\n",
        "print(volumen_cubo(l,a,p))"
      ]
    },
    {
      "cell_type": "markdown",
      "metadata": {
        "id": "3EPbcGc7FoEJ"
      },
      "source": [
        "In this example we only had one parameter for our function, `x`. We can easily add more parameters, separating everything with a comma."
      ]
    },
    {
      "cell_type": "code",
      "execution_count": 229,
      "metadata": {
        "id": "aAUcIayKFoEK"
      },
      "outputs": [],
      "source": [
        "def calculate_area(length, width):\n",
        "    \"\"\" Calculates the area of a rectangle \"\"\"\n",
        "    return length * width"
      ]
    },
    {
      "cell_type": "code",
      "execution_count": 230,
      "metadata": {
        "id": "hUZ-fcMlFoEK",
        "colab": {
          "base_uri": "https://localhost:8080/"
        },
        "outputId": "2c87e5d6-66a0-4c36-eba5-010fc6f1306b"
      },
      "outputs": [
        {
          "output_type": "stream",
          "name": "stdout",
          "text": [
            "Area:  50\n",
            "Length:  5\n",
            "Width:  10\n"
          ]
        }
      ],
      "source": [
        "l = 5\n",
        "w = 10\n",
        "print('Area: ', calculate_area(l, w))\n",
        "print('Length: ', l)\n",
        "print('Width: ', w)"
      ]
    },
    {
      "cell_type": "code",
      "execution_count": 231,
      "metadata": {
        "id": "25FkWIIFFoEK"
      },
      "outputs": [],
      "source": [
        "def calculate_volume(length, width, depth):\n",
        "    \"\"\" Calculates the volume of a rectangular prism \"\"\"\n",
        "    return length * width * depth"
      ]
    },
    {
      "cell_type": "markdown",
      "metadata": {
        "id": "cAULjP2QFoEK"
      },
      "source": [
        "If we want to, we can define a function so that it takes an arbitrary number of parameters. We tell Python that we want this by using an asterisk (`*`)."
      ]
    },
    {
      "cell_type": "code",
      "execution_count": 232,
      "metadata": {
        "id": "5XfySOQ_FoEK"
      },
      "outputs": [],
      "source": [
        "def sum_values(*args):\n",
        "    sum_val = 0\n",
        "    for i in args:\n",
        "        sum_val += i\n",
        "    return sum_val"
      ]
    },
    {
      "cell_type": "code",
      "execution_count": 233,
      "metadata": {
        "id": "ABOB7qh2FoEK",
        "colab": {
          "base_uri": "https://localhost:8080/"
        },
        "outputId": "6673e22e-e81e-42b5-b828-14eb0a64b189"
      },
      "outputs": [
        {
          "output_type": "stream",
          "name": "stdout",
          "text": [
            "6\n",
            "150\n",
            "343\n"
          ]
        }
      ],
      "source": [
        "print(sum_values(1, 2, 3))\n",
        "print(sum_values(10, 20, 30, 40, 50))\n",
        "print(sum_values(4, 2, 5, 1, 10, 249, 25, 24, 13, 6, 4))"
      ]
    },
    {
      "cell_type": "markdown",
      "metadata": {
        "id": "SiJi5u2DFoEK"
      },
      "source": [
        "The time to use `*args` as a parameter for your function is when you do not know how many values may be passed to it, as in the case of our sum function. The asterisk in this case is the syntax that tells Python that you are going to pass an arbitrary number of parameters into your function. These parameters are stored in the form of a tuple."
      ]
    },
    {
      "cell_type": "code",
      "execution_count": 234,
      "metadata": {
        "id": "uyhAdHC9FoEK",
        "colab": {
          "base_uri": "https://localhost:8080/"
        },
        "outputId": "dc4988d6-a415-457b-a8cd-428d7aa4b108"
      },
      "outputs": [
        {
          "output_type": "stream",
          "name": "stdout",
          "text": [
            "<class 'tuple'>\n"
          ]
        }
      ],
      "source": [
        "def test_args(*args):\n",
        "    print(type(args))\n",
        "\n",
        "test_args(1, 2, 3, 4, 5, 6)"
      ]
    },
    {
      "cell_type": "markdown",
      "metadata": {
        "id": "1I8sAMD-FoEL"
      },
      "source": [
        "We can put as many elements into the `args` tuple as we want to when we call the function. However, because `args` is a tuple, we cannot modify it after it has been created.\n",
        "\n",
        "The `args` name of the variable is purely by convention. You could just as easily name your parameter `*vars` or `*things`. You can treat the `args` tuple like you would any other tuple, easily accessing `arg`'s values and iterating over it, as in the above `sum_values(*args)` function."
      ]
    },
    {
      "cell_type": "markdown",
      "metadata": {
        "id": "6m0gmheeFoEL"
      },
      "source": [
        "Our functions can return any data type. This makes it easy for us to create functions that check for conditions that we might want to monitor.\n",
        "\n",
        "Here we define a function that returns a boolean value. We can easily use this in conjunction with if-statements and  other situations that require a boolean."
      ]
    },
    {
      "cell_type": "code",
      "execution_count": 235,
      "metadata": {
        "id": "Oj31FFUeFoEL"
      },
      "outputs": [],
      "source": [
        "def has_a_vowel(word):\n",
        "    \"\"\" \n",
        "    Checks to see whether a word contains a vowel \n",
        "    If it doesn't contain a conventional vowel, it\n",
        "    will check for the presence of 'y' or 'w'. Does\n",
        "    not check to see whether those are in the word\n",
        "    in a vowel context.\n",
        "    \"\"\"\n",
        "    vowel_list = ['a', 'e', 'i', 'o', 'u']\n",
        "    \n",
        "    for vowel in vowel_list:\n",
        "        if vowel in word:\n",
        "            return True\n",
        "    # If there is a vowel in the word, the function returns, preventing anything after this loop from running\n",
        "    return False"
      ]
    },
    {
      "cell_type": "code",
      "execution_count": 236,
      "metadata": {
        "id": "O6kx19IgFoEL",
        "colab": {
          "base_uri": "https://localhost:8080/"
        },
        "outputId": "603b4ff1-93ef-4fb1-d809-f3d4acfeb444"
      },
      "outputs": [
        {
          "output_type": "stream",
          "name": "stdout",
          "text": [
            "How surprising, an english word contains a vowel.\n"
          ]
        }
      ],
      "source": [
        "my_word = 'catnapping'\n",
        "if has_a_vowel(my_word):\n",
        "    print('How surprising, an english word contains a vowel.')\n",
        "else:\n",
        "    print('This is actually surprising.')"
      ]
    },
    {
      "cell_type": "code",
      "execution_count": 237,
      "metadata": {
        "id": "vB6wGRy7FoEL"
      },
      "outputs": [],
      "source": [
        "def point_maker(x, y):\n",
        "    \"\"\" Groups x and y values into a point, technically a tuple \"\"\"\n",
        "    return x, y"
      ]
    },
    {
      "cell_type": "markdown",
      "metadata": {
        "id": "l9AO7884FoEL"
      },
      "source": [
        "This above function returns an ordered pair of the input parameters, stored as a tuple."
      ]
    },
    {
      "cell_type": "code",
      "execution_count": 238,
      "metadata": {
        "id": "IQr6BWpnFoEL",
        "scrolled": true,
        "colab": {
          "base_uri": "https://localhost:8080/"
        },
        "outputId": "9fea5358-cf09-40a0-d5fa-f56d829ddaa1"
      },
      "outputs": [
        {
          "output_type": "stream",
          "name": "stdout",
          "text": [
            "The slope between a and b is -1.4\n"
          ]
        }
      ],
      "source": [
        "a = point_maker(0, 10)\n",
        "b = point_maker(5, 3)\n",
        "def calculate_slope(point_a, point_b):\n",
        "    \"\"\" Calculates the linear slope between two points \"\"\"\n",
        "    return (point_b[1] - point_a[1])/(point_b[0] - point_a[0])\n",
        "print(\"The slope between a and b is {0}\".format(calculate_slope(a, b)))"
      ]
    },
    {
      "cell_type": "markdown",
      "metadata": {
        "id": "4qLxRJ6vFoEL"
      },
      "source": [
        "And that one calculates the slope between two points!"
      ]
    },
    {
      "cell_type": "code",
      "execution_count": 239,
      "metadata": {
        "id": "d5RKJsE5FoEL",
        "colab": {
          "base_uri": "https://localhost:8080/"
        },
        "outputId": "9986e048-129c-4326-efaf-aec18cc2dedb"
      },
      "outputs": [
        {
          "output_type": "stream",
          "name": "stdout",
          "text": [
            "The slope-intercept form of the line between a and b, using point a, is: y - 10 = -1.4(x - 0)\n"
          ]
        }
      ],
      "source": [
        "print(\"The slope-intercept form of the line between a and b, using point a, is: y - {0} = {2}(x - {1})\".format(a[1], a[0], calculate_slope(a, b)))"
      ]
    },
    {
      "cell_type": "markdown",
      "metadata": {
        "id": "v04drhqWFoEM"
      },
      "source": [
        "With the proper syntax, you can define functions to do whatever calculations you want. This makes them an indispensible part of programming in any language."
      ]
    },
    {
      "cell_type": "markdown",
      "metadata": {
        "id": "TGUZCs8cFoEM"
      },
      "source": [
        "## Next Steps\n",
        "\n",
        "This was a lot of material and there is still even more to cover! Make sure you play around with the cells in each notebook to accustom yourself to the syntax featured here and to figure out any limitations. If you want to delve even deeper into the material, the [documentation for Python](https://docs.python.org/2/) is all available online. We are in the process of developing a second part to this Python tutorial, designed to provide you with even more programming knowledge, so keep an eye on the [Quantopian Lectures Page](quantopian.com/lectures) and the [forums](quantopian.com/posts) for any new lectures."
      ]
    },
    {
      "cell_type": "markdown",
      "metadata": {
        "id": "J5VNrzrqFoEM"
      },
      "source": [
        "*This presentation is for informational purposes only and does not constitute an offer to sell, a solicitation to buy, or a recommendation for any security; nor does it constitute an offer to provide investment advisory or other services by Quantopian, Inc. (\"Quantopian\"). Nothing contained herein constitutes investment advice or offers any opinion with respect to the suitability of any security, and any views expressed herein should not be taken as advice to buy, sell, or hold any security or as an endorsement of any security or company.  In preparing the information contained herein, Quantopian, Inc. has not taken into account the investment needs, objectives, and financial circumstances of any particular investor. Any views expressed and data illustrated herein were prepared based upon information, believed to be reliable, available to Quantopian, Inc. at the time of publication. Quantopian makes no guarantees as to their accuracy or completeness. All information is subject to change and may quickly become unreliable for various reasons, including changes in market conditions or economic circumstances.*"
      ]
    },
    {
      "cell_type": "markdown",
      "metadata": {
        "id": "3WxjwzlPHs0I"
      },
      "source": [
        "<div align=\"center\">\n",
        "<img style=\"display: block; margin: auto;\" alt=\"photo\" src=\"https://upload.wikimedia.org/wikipedia/en/d/de/Quantopian_logo_2017.png\">\n",
        "</div> \n",
        "\n",
        "# Introduction to pandas\n",
        "by Maxwell Margenot\n",
        "\n",
        "Part of the Quantopian Lecture Series:\n",
        "\n",
        "* [www.quantopian.com/lectures](https://www.quantopian.com/lectures)\n",
        "* [github.com/quantopian/research_public](https://github.com/quantopian/research_public)\n",
        "\n"
      ]
    },
    {
      "cell_type": "markdown",
      "metadata": {
        "id": "eOKqPldlHs0L"
      },
      "source": [
        "pandas is a Python library that provides a collection of powerful data structures to better help you manage data. In this lecture, we will cover how to use the `Series` and `DataFrame` objects to handle data. These objects have a strong integration with NumPy, covered elsewhere in the [lecture series](http://www.quantopian.com/lectures#Introduction-to-NumPy), allowing us to easily do the necessary statistical and mathematical calculations that we need for finance."
      ]
    },
    {
      "cell_type": "code",
      "execution_count": 240,
      "metadata": {
        "id": "pzhf-KnPHs0M"
      },
      "outputs": [],
      "source": [
        "import numpy as np\n",
        "import pandas as pd\n",
        "import matplotlib.pyplot as plt"
      ]
    },
    {
      "cell_type": "markdown",
      "metadata": {
        "id": "euf90nnmHs0N"
      },
      "source": [
        "With pandas, it is easy to store, visualize, and perform calculations on your data. With only a few lines of code we can modify our data and present it in an easily-understandable way. Here we simulate some returns in NumPy, put them into a pandas `DataFrame`, and perform calculations to turn them into prices and plot them, all only using a few lines of code."
      ]
    },
    {
      "cell_type": "code",
      "execution_count": 241,
      "metadata": {
        "id": "1hn_hFOJHs0N",
        "colab": {
          "base_uri": "https://localhost:8080/",
          "height": 295
        },
        "outputId": "9ef3d26d-8089-41f6-eff9-7e341aab835f"
      },
      "outputs": [
        {
          "output_type": "display_data",
          "data": {
            "text/plain": [
              "<Figure size 432x288 with 1 Axes>"
            ],
            "image/png": "[encoded data removed]"
          },
          "metadata": {
            "needs_background": "light"
          }
        }
      ],
      "source": [
        "returns = pd.DataFrame(np.random.normal(1.0, 0.03, (100, 10)))\n",
        "prices = returns.cumprod()\n",
        "prices.plot()\n",
        "plt.title('Randomly-generated Prices')\n",
        "plt.xlabel('Time')\n",
        "plt.ylabel('Price')\n",
        "plt.legend(loc=0);"
      ]
    },
    {
      "cell_type": "markdown",
      "metadata": {
        "id": "suw-dukd46-N"
      },
      "source": [
        "**My Own Example 103**"
      ]
    },
    {
      "cell_type": "code",
      "execution_count": 242,
      "metadata": {
        "id": "Z_KdlOQo49o4",
        "colab": {
          "base_uri": "https://localhost:8080/",
          "height": 295
        },
        "outputId": "5954451d-fd11-47f7-beca-6ef9ddcf65b7"
      },
      "outputs": [
        {
          "output_type": "display_data",
          "data": {
            "text/plain": [
              "<Figure size 432x288 with 1 Axes>"
            ],
            "image/png": "[encoded data removed]"
          },
          "metadata": {
            "needs_background": "light"
          }
        }
      ],
      "source": [
        "returns = pd.DataFrame(np.random.normal(15.0, 0.9, (8, 5)))\n",
        "prices = returns.cumprod()\n",
        "prices.plot()\n",
        "plt.title('Valores totalmente al azar')\n",
        "plt.xlabel('Time')\n",
        "plt.ylabel('Valores Random')\n",
        "plt.legend(loc=0);"
      ]
    },
    {
      "cell_type": "markdown",
      "metadata": {
        "id": "GI4-UHmBHs0O"
      },
      "source": [
        "So let's have a look at how we actually build up to this point!"
      ]
    },
    {
      "cell_type": "markdown",
      "metadata": {
        "id": "k3cHCvk2Hs0O"
      },
      "source": [
        "## pandas Data Structures\n",
        "\n",
        "### `Series`\n",
        "\n",
        "A pandas `Series` is a 1-dimensional array with labels that can contain any data type. We primarily use them for handling time series data. Creating a `Series` is as easy as calling `pandas.Series()` on a Python list or NumPy array."
      ]
    },
    {
      "cell_type": "code",
      "execution_count": 243,
      "metadata": {
        "id": "gtjfgCEfHs0P",
        "colab": {
          "base_uri": "https://localhost:8080/"
        },
        "outputId": "000bc260-644a-4adc-edf9-37459c9ebdf1"
      },
      "outputs": [
        {
          "output_type": "stream",
          "name": "stdout",
          "text": [
            "0    1.0\n",
            "1    2.0\n",
            "2    NaN\n",
            "3    4.0\n",
            "4    5.0\n",
            "dtype: float64\n"
          ]
        }
      ],
      "source": [
        "s = pd.Series([1, 2, np.nan, 4, 5])\n",
        "print(s)"
      ]
    },
    {
      "cell_type": "markdown",
      "metadata": {
        "id": "XUs33U405fqo"
      },
      "source": [
        "**My Own Example 104**"
      ]
    },
    {
      "cell_type": "code",
      "execution_count": 244,
      "metadata": {
        "id": "h4ZqKXfG5ePS",
        "colab": {
          "base_uri": "https://localhost:8080/"
        },
        "outputId": "a42f99cb-b194-4a27-d9cd-de67e5503d1e"
      },
      "outputs": [
        {
          "output_type": "stream",
          "name": "stdout",
          "text": [
            "0    88.0\n",
            "1     6.0\n",
            "2    36.0\n",
            "3     NaN\n",
            "4    78.0\n",
            "dtype: float64\n"
          ]
        }
      ],
      "source": [
        "qq= pd.Series([88, 6, 36, np.nan, 78])\n",
        "print(qq)"
      ]
    },
    {
      "cell_type": "markdown",
      "metadata": {
        "id": "Do2pkpaOHs0Q"
      },
      "source": [
        "Every `Series` has a name. We can give the series a name as a parameter or we can define it afterwards by directly accessing the name attribute. In this case, we have given our time series no name so the attribute should be empty."
      ]
    },
    {
      "cell_type": "code",
      "execution_count": 245,
      "metadata": {
        "id": "ygQ492kjHs0Q",
        "colab": {
          "base_uri": "https://localhost:8080/"
        },
        "outputId": "81909d21-c8a7-4b53-e006-810a71b63489"
      },
      "outputs": [
        {
          "output_type": "stream",
          "name": "stdout",
          "text": [
            "None\n"
          ]
        }
      ],
      "source": [
        "print(s.name)"
      ]
    },
    {
      "cell_type": "markdown",
      "metadata": {
        "id": "FALihLzs5_fh"
      },
      "source": [
        "**My Own Example 105**"
      ]
    },
    {
      "cell_type": "code",
      "execution_count": 246,
      "metadata": {
        "id": "PqtrBNp76C6A",
        "colab": {
          "base_uri": "https://localhost:8080/"
        },
        "outputId": "724ecbe4-cd9d-4d63-d775-20f47309f59f"
      },
      "outputs": [
        {
          "output_type": "stream",
          "name": "stdout",
          "text": [
            "None\n"
          ]
        }
      ],
      "source": [
        "print(qq.name)"
      ]
    },
    {
      "cell_type": "markdown",
      "metadata": {
        "id": "1O6Prsw_Hs0R"
      },
      "source": [
        "This name can be directly modified with no repercussions."
      ]
    },
    {
      "cell_type": "code",
      "execution_count": 247,
      "metadata": {
        "id": "9tyh6s2oHs0R",
        "colab": {
          "base_uri": "https://localhost:8080/"
        },
        "outputId": "f485b73a-679f-4dbd-da31-d6f2318a5fe8"
      },
      "outputs": [
        {
          "output_type": "stream",
          "name": "stdout",
          "text": [
            "Toy Series\n"
          ]
        }
      ],
      "source": [
        "s.name = \"Toy Series\"\n",
        "print(s.name)"
      ]
    },
    {
      "cell_type": "markdown",
      "metadata": {
        "id": "WmKSRQfN6M4r"
      },
      "source": [
        "**My own Example 106**"
      ]
    },
    {
      "cell_type": "code",
      "execution_count": 248,
      "metadata": {
        "id": "MCUnDm7F6Pbd",
        "colab": {
          "base_uri": "https://localhost:8080/"
        },
        "outputId": "735f230c-6063-4800-85ce-41810bc31794"
      },
      "outputs": [
        {
          "output_type": "stream",
          "name": "stdout",
          "text": [
            "Star Wars Ep 7\n"
          ]
        }
      ],
      "source": [
        "qq.name = \"Star Wars Ep 7\"\n",
        "print(qq.name)"
      ]
    },
    {
      "cell_type": "markdown",
      "metadata": {
        "id": "KAPwzGRU6Zch"
      },
      "source": [
        "**My Own Example 107**"
      ]
    },
    {
      "cell_type": "code",
      "execution_count": 249,
      "metadata": {
        "id": "pFOWysX76dag",
        "colab": {
          "base_uri": "https://localhost:8080/"
        },
        "outputId": "4972447b-54da-4ea3-a893-61ea8ecd7bd3"
      },
      "outputs": [
        {
          "output_type": "stream",
          "name": "stdout",
          "text": [
            "El Pianista\n"
          ]
        }
      ],
      "source": [
        "qq.name = \"El Pianista\"\n",
        "print(qq.name)"
      ]
    },
    {
      "cell_type": "markdown",
      "metadata": {
        "id": "GFpVlGQqHs0S"
      },
      "source": [
        "We call the collected axis labels of a `Series` its index. An index can either passed to a `Series` as a parameter or added later, similarly to its name. In the absence of an index, a `Series` will simply contain an index composed of integers, starting at $0$, as in the case of our \"Toy Series\"."
      ]
    },
    {
      "cell_type": "code",
      "execution_count": 250,
      "metadata": {
        "id": "PNbzjAg9Hs0S",
        "colab": {
          "base_uri": "https://localhost:8080/"
        },
        "outputId": "321963b4-316c-40b7-8d47-4bd59ca559e9"
      },
      "outputs": [
        {
          "output_type": "stream",
          "name": "stdout",
          "text": [
            "RangeIndex(start=0, stop=5, step=1)\n"
          ]
        }
      ],
      "source": [
        "print(s.index)"
      ]
    },
    {
      "cell_type": "markdown",
      "metadata": {
        "id": "kWSmK1U16rE_"
      },
      "source": [
        "**My Own Example 108**"
      ]
    },
    {
      "cell_type": "code",
      "execution_count": 251,
      "metadata": {
        "id": "HFa1Ao0C6v9c",
        "colab": {
          "base_uri": "https://localhost:8080/"
        },
        "outputId": "9237dcfc-46a7-49de-bb47-3509a2161fe4"
      },
      "outputs": [
        {
          "output_type": "stream",
          "name": "stdout",
          "text": [
            "RangeIndex(start=0, stop=5, step=1)\n"
          ]
        }
      ],
      "source": [
        "print(qq.index)"
      ]
    },
    {
      "cell_type": "markdown",
      "metadata": {
        "id": "JMhFrJRiHs0S"
      },
      "source": [
        "pandas has a built-in function specifically for creating date indices, `date_range()`. We use the function here to create a new index for `s`."
      ]
    },
    {
      "cell_type": "code",
      "execution_count": 252,
      "metadata": {
        "id": "p1tq3INsHs0S",
        "colab": {
          "base_uri": "https://localhost:8080/"
        },
        "outputId": "5ed99144-05bf-4eb0-c54a-68d5cec8d099"
      },
      "outputs": [
        {
          "output_type": "stream",
          "name": "stdout",
          "text": [
            "DatetimeIndex(['2016-01-01', '2016-01-02', '2016-01-03', '2016-01-04',\n",
            "               '2016-01-05'],\n",
            "              dtype='datetime64[ns]', freq='D')\n"
          ]
        }
      ],
      "source": [
        "new_index = pd.date_range(\"2016-01-01\", periods=len(s), freq=\"D\")\n",
        "print(new_index)"
      ]
    },
    {
      "cell_type": "markdown",
      "metadata": {
        "id": "gOlf377v639D"
      },
      "source": [
        "**My Own Example 109**"
      ]
    },
    {
      "cell_type": "code",
      "execution_count": 253,
      "metadata": {
        "id": "fkEaxWWb67Pj",
        "colab": {
          "base_uri": "https://localhost:8080/"
        },
        "outputId": "a64bf6ea-469f-4d6f-b437-f281d5ac7f4a"
      },
      "outputs": [
        {
          "output_type": "stream",
          "name": "stdout",
          "text": [
            "DatetimeIndex(['2021-04-04 00:00:00', '2021-04-04 00:01:00',\n",
            "               '2021-04-04 00:02:00', '2021-04-04 00:03:00',\n",
            "               '2021-04-04 00:04:00'],\n",
            "              dtype='datetime64[ns]', freq='T')\n"
          ]
        }
      ],
      "source": [
        "indiceqq= pd.date_range(\"2021-04-04\", periods=len(qq), freq=\"T\")\n",
        "print(indiceqq)"
      ]
    },
    {
      "cell_type": "markdown",
      "metadata": {
        "id": "ngTfZsDFHs0T"
      },
      "source": [
        "An index must be exactly the same length as the `Series` itself. Each index must match one-to-one with each element of the `Series`. Once this is satisfied, we can directly modify the `Series` index, as with the name, to use our new and more informative index (relatively speaking)."
      ]
    },
    {
      "cell_type": "code",
      "execution_count": 254,
      "metadata": {
        "id": "L_rdI8juHs0T",
        "colab": {
          "base_uri": "https://localhost:8080/"
        },
        "outputId": "ceab912b-9318-418a-a079-b45171660d14"
      },
      "outputs": [
        {
          "output_type": "stream",
          "name": "stdout",
          "text": [
            "DatetimeIndex(['2016-01-01', '2016-01-02', '2016-01-03', '2016-01-04',\n",
            "               '2016-01-05'],\n",
            "              dtype='datetime64[ns]', freq='D')\n"
          ]
        }
      ],
      "source": [
        "s.index = new_index\n",
        "print(s.index)"
      ]
    },
    {
      "cell_type": "markdown",
      "metadata": {
        "id": "isgpJF2d7Q7E"
      },
      "source": [
        "**My Own Example 110**"
      ]
    },
    {
      "cell_type": "code",
      "execution_count": 255,
      "metadata": {
        "id": "40rili9y7UlY",
        "colab": {
          "base_uri": "https://localhost:8080/"
        },
        "outputId": "22bca052-f091-4c55-b659-d5f36b95fbfe"
      },
      "outputs": [
        {
          "output_type": "stream",
          "name": "stdout",
          "text": [
            "DatetimeIndex(['2021-04-04 00:00:00', '2021-04-04 00:01:00',\n",
            "               '2021-04-04 00:02:00', '2021-04-04 00:03:00',\n",
            "               '2021-04-04 00:04:00'],\n",
            "              dtype='datetime64[ns]', freq='T')\n"
          ]
        }
      ],
      "source": [
        "qq.index=indiceqq\n",
        "print(qq.index)"
      ]
    },
    {
      "cell_type": "markdown",
      "metadata": {
        "id": "cv6qygOuHs0T"
      },
      "source": [
        "The index of the `Series` is crucial for handling time series, which we will get into a little later."
      ]
    },
    {
      "cell_type": "markdown",
      "metadata": {
        "id": "Eb-i9HDWHs0U"
      },
      "source": [
        "#### Accessing `Series` Elements\n",
        "\n",
        "`Series` are typically accessed using the `iloc[]` and `loc[]` methods. We use `iloc[]` to access elements by integer index and we use `loc[]` to access the index of the Series."
      ]
    },
    {
      "cell_type": "code",
      "execution_count": 256,
      "metadata": {
        "id": "KFCz7QIpHs0U",
        "colab": {
          "base_uri": "https://localhost:8080/"
        },
        "outputId": "a3419d64-29d6-4ca5-c351-4b6922c05c3f"
      },
      "outputs": [
        {
          "output_type": "stream",
          "name": "stdout",
          "text": [
            "First element of the series:  1.0\n",
            "Last element of the series:  5.0\n"
          ]
        }
      ],
      "source": [
        "print(\"First element of the series: \",s.iloc[0])\n",
        "print(\"Last element of the series: \",s.iloc[len(s)-1])"
      ]
    },
    {
      "cell_type": "markdown",
      "metadata": {
        "id": "C4M6Xex27rvs"
      },
      "source": [
        "**My Own Example 111**"
      ]
    },
    {
      "cell_type": "code",
      "execution_count": 257,
      "metadata": {
        "id": "g3u3hhps7xdi",
        "colab": {
          "base_uri": "https://localhost:8080/"
        },
        "outputId": "2417750c-97b1-4920-c8f3-a4c42739e33d"
      },
      "outputs": [
        {
          "output_type": "stream",
          "name": "stdout",
          "text": [
            "Primer elemento de qq:  88.0\n",
            "Último elemento de qq:  78.0\n"
          ]
        }
      ],
      "source": [
        "print(\"Primer elemento de qq: \",qq.iloc[0])\n",
        "print(\"Último elemento de qq: \",qq.iloc[len(qq)-1])"
      ]
    },
    {
      "cell_type": "markdown",
      "metadata": {
        "id": "Cv-UzEsMHs0U"
      },
      "source": [
        "We can slice a `Series` similarly to our favorite collections, Python lists and NumPy arrays. We use the colon operator to indicate the slice."
      ]
    },
    {
      "cell_type": "code",
      "execution_count": 258,
      "metadata": {
        "id": "Rwr5OIQIHs0U",
        "colab": {
          "base_uri": "https://localhost:8080/"
        },
        "outputId": "80b587de-31e3-47b3-e9cd-65213a1c615c"
      },
      "outputs": [
        {
          "output_type": "execute_result",
          "data": {
            "text/plain": [
              "2016-01-01    1.0\n",
              "2016-01-02    2.0\n",
              "Freq: D, Name: Toy Series, dtype: float64"
            ]
          },
          "metadata": {},
          "execution_count": 258
        }
      ],
      "source": [
        "s.iloc[:2]"
      ]
    },
    {
      "cell_type": "markdown",
      "metadata": {
        "id": "jD_s5BEF8BwX"
      },
      "source": [
        "**My Own Example 112**"
      ]
    },
    {
      "cell_type": "code",
      "execution_count": 259,
      "metadata": {
        "id": "I8LfXgvf8GOd",
        "colab": {
          "base_uri": "https://localhost:8080/"
        },
        "outputId": "9071d4bc-7cfa-4249-8670-e94e5d97ec31"
      },
      "outputs": [
        {
          "output_type": "execute_result",
          "data": {
            "text/plain": [
              "2021-04-04 00:00:00    88.0\n",
              "2021-04-04 00:01:00     6.0\n",
              "2021-04-04 00:02:00    36.0\n",
              "Freq: T, Name: El Pianista, dtype: float64"
            ]
          },
          "metadata": {},
          "execution_count": 259
        }
      ],
      "source": [
        "qq.iloc[:3]"
      ]
    },
    {
      "cell_type": "markdown",
      "metadata": {
        "id": "hkOpO4kI8Ojo"
      },
      "source": [
        "**My Own Example 113**"
      ]
    },
    {
      "cell_type": "code",
      "execution_count": 260,
      "metadata": {
        "id": "F8XtEfLn8RCD",
        "colab": {
          "base_uri": "https://localhost:8080/"
        },
        "outputId": "d620228b-9a27-41ff-adb0-a36ca93a11bd"
      },
      "outputs": [
        {
          "output_type": "execute_result",
          "data": {
            "text/plain": [
              "2021-04-04    88.0\n",
              "Freq: T, Name: El Pianista, dtype: float64"
            ]
          },
          "metadata": {},
          "execution_count": 260
        }
      ],
      "source": [
        "qq.iloc[:1]"
      ]
    },
    {
      "cell_type": "markdown",
      "metadata": {
        "id": "ELufJEW-Hs0V"
      },
      "source": [
        "When creating a slice, we have the options of specifying a beginning, an end, and a step. The slice will begin at the start index, and take steps of size `step` until it passes the end index, not including the end."
      ]
    },
    {
      "cell_type": "code",
      "execution_count": 261,
      "metadata": {
        "id": "cppKemi1Hs0V",
        "colab": {
          "base_uri": "https://localhost:8080/"
        },
        "outputId": "b48162d8-9a03-4fa7-d57d-03eb58778cf1"
      },
      "outputs": [
        {
          "output_type": "execute_result",
          "data": {
            "text/plain": [
              "2016-01-01    1.0\n",
              "2016-01-02    2.0\n",
              "2016-01-03    NaN\n",
              "2016-01-04    4.0\n",
              "Freq: D, Name: Toy Series, dtype: float64"
            ]
          },
          "metadata": {},
          "execution_count": 261
        }
      ],
      "source": [
        "start = 0\n",
        "end = len(s) - 1\n",
        "step = 1\n",
        "\n",
        "s.iloc[start:end:step]"
      ]
    },
    {
      "cell_type": "markdown",
      "metadata": {
        "id": "MapiMY6A8YIW"
      },
      "source": [
        "**My own Example 114**"
      ]
    },
    {
      "cell_type": "code",
      "execution_count": 262,
      "metadata": {
        "id": "Yv7NwlCY8eHc",
        "colab": {
          "base_uri": "https://localhost:8080/"
        },
        "outputId": "4438881d-2c8e-420f-c142-241ba6c9bf82"
      },
      "outputs": [
        {
          "output_type": "execute_result",
          "data": {
            "text/plain": [
              "2021-04-04 00:02:00    36.0\n",
              "Freq: 2T, Name: El Pianista, dtype: float64"
            ]
          },
          "metadata": {},
          "execution_count": 262
        }
      ],
      "source": [
        "start = 2\n",
        "end = len(qq) - 1\n",
        "step = 2\n",
        "\n",
        "qq.iloc[start:end:step]"
      ]
    },
    {
      "cell_type": "markdown",
      "metadata": {
        "id": "vrVpxeMrHs0V"
      },
      "source": [
        "We can even reverse a `Series` by specifying a negative step size. Similarly, we can index the start and end with a negative integer value."
      ]
    },
    {
      "cell_type": "code",
      "execution_count": 263,
      "metadata": {
        "id": "1_CoIrtSHs0V",
        "colab": {
          "base_uri": "https://localhost:8080/"
        },
        "outputId": "8c95d37b-2257-44df-8138-1c37cbf51139"
      },
      "outputs": [
        {
          "output_type": "execute_result",
          "data": {
            "text/plain": [
              "2016-01-05    5.0\n",
              "2016-01-04    4.0\n",
              "2016-01-03    NaN\n",
              "2016-01-02    2.0\n",
              "2016-01-01    1.0\n",
              "Freq: -1D, Name: Toy Series, dtype: float64"
            ]
          },
          "metadata": {},
          "execution_count": 263
        }
      ],
      "source": [
        "s.iloc[::-1]"
      ]
    },
    {
      "cell_type": "markdown",
      "metadata": {
        "id": "KtnEHJsR8v2h"
      },
      "source": [
        "**My Own Example 115**"
      ]
    },
    {
      "cell_type": "code",
      "execution_count": 264,
      "metadata": {
        "id": "ryXZC68Y88OS",
        "colab": {
          "base_uri": "https://localhost:8080/"
        },
        "outputId": "24b2aa62-ab55-499d-e581-4d82849e7e0f"
      },
      "outputs": [
        {
          "output_type": "execute_result",
          "data": {
            "text/plain": [
              "2021-04-04 00:04:00    78.0\n",
              "2021-04-04 00:03:00     NaN\n",
              "2021-04-04 00:02:00    36.0\n",
              "2021-04-04 00:01:00     6.0\n",
              "2021-04-04 00:00:00    88.0\n",
              "Freq: -1T, Name: El Pianista, dtype: float64"
            ]
          },
          "metadata": {},
          "execution_count": 264
        }
      ],
      "source": [
        "qq.iloc[::-1]"
      ]
    },
    {
      "cell_type": "markdown",
      "metadata": {
        "id": "FMGjtc63Hs0W"
      },
      "source": [
        "This returns a slice of the series that starts from the second to last element and ends at the third to last element (because the fourth to last is not included, taking steps of size $1$)."
      ]
    },
    {
      "cell_type": "code",
      "execution_count": 265,
      "metadata": {
        "id": "WBPIIryLHs0W",
        "colab": {
          "base_uri": "https://localhost:8080/"
        },
        "outputId": "09167524-67d2-4e83-d6fb-f86b78673e8c"
      },
      "outputs": [
        {
          "output_type": "execute_result",
          "data": {
            "text/plain": [
              "2016-01-04    4.0\n",
              "2016-01-03    NaN\n",
              "Freq: -1D, Name: Toy Series, dtype: float64"
            ]
          },
          "metadata": {},
          "execution_count": 265
        }
      ],
      "source": [
        "s.iloc[-2:-4:-1]"
      ]
    },
    {
      "cell_type": "markdown",
      "metadata": {
        "id": "0ddWqw1w9GDS"
      },
      "source": [
        "**My Own Example 116**"
      ]
    },
    {
      "cell_type": "code",
      "execution_count": 266,
      "metadata": {
        "id": "4X1hx2Ms9KR7",
        "colab": {
          "base_uri": "https://localhost:8080/"
        },
        "outputId": "de89dfdf-b988-4cd9-abbe-3f76fae749a5"
      },
      "outputs": [
        {
          "output_type": "execute_result",
          "data": {
            "text/plain": [
              "2021-04-04 00:03:00     NaN\n",
              "2021-04-04 00:02:00    36.0\n",
              "Freq: -1T, Name: El Pianista, dtype: float64"
            ]
          },
          "metadata": {},
          "execution_count": 266
        }
      ],
      "source": [
        "qq.iloc[-2:-4:-1]"
      ]
    },
    {
      "cell_type": "markdown",
      "metadata": {
        "id": "NGcgARRsHs0W"
      },
      "source": [
        "We can also access a series by using the values of its index. Since we indexed `s` with a collection of dates (`Timestamp` objects) we can look at the value contained in `s` for a particular date."
      ]
    },
    {
      "cell_type": "code",
      "execution_count": 267,
      "metadata": {
        "id": "BvAWyZvkHs0W",
        "colab": {
          "base_uri": "https://localhost:8080/"
        },
        "outputId": "d68efd43-ee93-445a-8354-06e4d2907bdc"
      },
      "outputs": [
        {
          "output_type": "execute_result",
          "data": {
            "text/plain": [
              "1.0"
            ]
          },
          "metadata": {},
          "execution_count": 267
        }
      ],
      "source": [
        "s.loc['2016-01-01']"
      ]
    },
    {
      "cell_type": "markdown",
      "metadata": {
        "id": "J_2fk7wE9gfn"
      },
      "source": [
        "**My Own Example 117**"
      ]
    },
    {
      "cell_type": "code",
      "execution_count": 268,
      "metadata": {
        "id": "8ju0YGwA9kIG",
        "colab": {
          "base_uri": "https://localhost:8080/"
        },
        "outputId": "83b1e088-33aa-477a-d927-ffbf999c685f"
      },
      "outputs": [
        {
          "output_type": "execute_result",
          "data": {
            "text/plain": [
              "2021-04-04 00:00:00    88.0\n",
              "2021-04-04 00:01:00     6.0\n",
              "2021-04-04 00:02:00    36.0\n",
              "2021-04-04 00:03:00     NaN\n",
              "2021-04-04 00:04:00    78.0\n",
              "Freq: T, Name: El Pianista, dtype: float64"
            ]
          },
          "metadata": {},
          "execution_count": 268
        }
      ],
      "source": [
        "qq.loc['2021-04-04']"
      ]
    },
    {
      "cell_type": "markdown",
      "metadata": {
        "id": "Nj7OVKhVHs0W"
      },
      "source": [
        "Or even for a range of dates!"
      ]
    },
    {
      "cell_type": "code",
      "execution_count": 269,
      "metadata": {
        "id": "mi_7afOcHs0W",
        "colab": {
          "base_uri": "https://localhost:8080/"
        },
        "outputId": "5ed962a7-8ef0-4517-bde4-0413eac84567"
      },
      "outputs": [
        {
          "output_type": "execute_result",
          "data": {
            "text/plain": [
              "2016-01-02    2.0\n",
              "2016-01-03    NaN\n",
              "2016-01-04    4.0\n",
              "Freq: D, Name: Toy Series, dtype: float64"
            ]
          },
          "metadata": {},
          "execution_count": 269
        }
      ],
      "source": [
        "s.loc['2016-01-02':'2016-01-04']"
      ]
    },
    {
      "cell_type": "markdown",
      "metadata": {
        "id": "p25gL_JIHs0X"
      },
      "source": [
        "With `Series`, we *can* just use the brackets (`[]`) to access elements, but this is not best practice. The brackets are ambiguous because they can be used to access `Series` (and `DataFrames`) using both index and integer values and the results will change based on context (especially with `DataFrames`)."
      ]
    },
    {
      "cell_type": "markdown",
      "metadata": {
        "id": "_kV2rjSTHs0X"
      },
      "source": [
        "#### Boolean Indexing\n",
        "\n",
        "In addition to the above-mentioned access methods, you can filter `Series` using boolean arrays. `Series` are compatible with your standard comparators. Once compared with whatever condition you like, you get back yet another `Series`, this time filled with boolean values."
      ]
    },
    {
      "cell_type": "code",
      "execution_count": 270,
      "metadata": {
        "id": "f6e7gd5OHs0X",
        "colab": {
          "base_uri": "https://localhost:8080/"
        },
        "outputId": "b581869a-4ee0-4370-c4dd-72bface393ef"
      },
      "outputs": [
        {
          "output_type": "stream",
          "name": "stdout",
          "text": [
            "2016-01-01     True\n",
            "2016-01-02     True\n",
            "2016-01-03    False\n",
            "2016-01-04    False\n",
            "2016-01-05    False\n",
            "Freq: D, Name: Toy Series, dtype: bool\n"
          ]
        }
      ],
      "source": [
        "print(s < 3)"
      ]
    },
    {
      "cell_type": "markdown",
      "metadata": {
        "id": "QG5H2Yn2-M1J"
      },
      "source": [
        "**My Own Example 118**"
      ]
    },
    {
      "cell_type": "code",
      "execution_count": 271,
      "metadata": {
        "id": "YstzrGdu-VA3",
        "colab": {
          "base_uri": "https://localhost:8080/"
        },
        "outputId": "5230b382-cdfc-4e47-d9b5-b229279a3dc2"
      },
      "outputs": [
        {
          "output_type": "stream",
          "name": "stdout",
          "text": [
            "2021-04-04 00:00:00     True\n",
            "2021-04-04 00:01:00    False\n",
            "2021-04-04 00:02:00     True\n",
            "2021-04-04 00:03:00    False\n",
            "2021-04-04 00:04:00     True\n",
            "Freq: T, Name: El Pianista, dtype: bool\n"
          ]
        }
      ],
      "source": [
        "print(qq>8)"
      ]
    },
    {
      "cell_type": "markdown",
      "metadata": {
        "id": "RgFMmK8e-aPO"
      },
      "source": [
        "**My Own Example 119**"
      ]
    },
    {
      "cell_type": "code",
      "execution_count": 272,
      "metadata": {
        "id": "WVorJLQS-dKk",
        "colab": {
          "base_uri": "https://localhost:8080/"
        },
        "outputId": "b098e0a0-22d7-4ce9-a185-b9e2caaca0bf"
      },
      "outputs": [
        {
          "output_type": "stream",
          "name": "stdout",
          "text": [
            "2021-04-04 00:00:00     True\n",
            "2021-04-04 00:01:00    False\n",
            "2021-04-04 00:02:00    False\n",
            "2021-04-04 00:03:00    False\n",
            "2021-04-04 00:04:00     True\n",
            "Freq: T, Name: El Pianista, dtype: bool\n"
          ]
        }
      ],
      "source": [
        "print(qq>50)"
      ]
    },
    {
      "cell_type": "markdown",
      "metadata": {
        "id": "FI-6yhq5Hs0X"
      },
      "source": [
        "We can pass *this* `Series` back into the original `Series` to filter out only the elements for which our condition is `True`."
      ]
    },
    {
      "cell_type": "code",
      "execution_count": 273,
      "metadata": {
        "id": "WE_RUJl8Hs0X",
        "colab": {
          "base_uri": "https://localhost:8080/"
        },
        "outputId": "4eb5e4d6-dd7a-4e31-a4ab-8531423ec02e"
      },
      "outputs": [
        {
          "output_type": "stream",
          "name": "stdout",
          "text": [
            "2016-01-01    1.0\n",
            "2016-01-02    2.0\n",
            "Freq: D, Name: Toy Series, dtype: float64\n"
          ]
        }
      ],
      "source": [
        "print(s.loc[s < 3])"
      ]
    },
    {
      "cell_type": "markdown",
      "metadata": {
        "id": "FZ-ur0jt-oYE"
      },
      "source": [
        "**My Own Example 120**"
      ]
    },
    {
      "cell_type": "code",
      "execution_count": 274,
      "metadata": {
        "id": "SxY7l4F2-rtp",
        "colab": {
          "base_uri": "https://localhost:8080/"
        },
        "outputId": "597f5aa7-ff92-41df-b7a9-ad80fa28a4d2"
      },
      "outputs": [
        {
          "output_type": "stream",
          "name": "stdout",
          "text": [
            "2021-04-04 00:01:00    6.0\n",
            "Freq: T, Name: El Pianista, dtype: float64\n"
          ]
        }
      ],
      "source": [
        "print(qq.loc[qq < 18])"
      ]
    },
    {
      "cell_type": "markdown",
      "metadata": {
        "id": "Shld9-uTHs0Y"
      },
      "source": [
        "If we so desire, we can group multiple conditions together using the logical operators `&`, `|`, and `~` (and, or, and not, respectively)."
      ]
    },
    {
      "cell_type": "code",
      "execution_count": 275,
      "metadata": {
        "id": "we1dMwOOHs0Y",
        "colab": {
          "base_uri": "https://localhost:8080/"
        },
        "outputId": "9d674e18-475d-4563-b85c-953f1ed9a367"
      },
      "outputs": [
        {
          "output_type": "stream",
          "name": "stdout",
          "text": [
            "2016-01-02    2.0\n",
            "Freq: D, Name: Toy Series, dtype: float64\n"
          ]
        }
      ],
      "source": [
        "print(s.loc[(s < 3) & (s > 1)])"
      ]
    },
    {
      "cell_type": "markdown",
      "metadata": {
        "id": "hCXz3dFb-yNd"
      },
      "source": [
        "**My Own Example 121**"
      ]
    },
    {
      "cell_type": "code",
      "execution_count": 276,
      "metadata": {
        "id": "AjZPwbcl-1sp",
        "colab": {
          "base_uri": "https://localhost:8080/"
        },
        "outputId": "9611b28b-fdb2-40d0-87ac-05b6f2756dac"
      },
      "outputs": [
        {
          "output_type": "stream",
          "name": "stdout",
          "text": [
            "2021-04-04 00:01:00    6.0\n",
            "Freq: T, Name: El Pianista, dtype: float64\n"
          ]
        }
      ],
      "source": [
        "print(qq.loc[(qq < 18) & (qq > 4)])"
      ]
    },
    {
      "cell_type": "markdown",
      "metadata": {
        "id": "iMoKC5wMHs0Y"
      },
      "source": [
        "This is very convenient for getting only elements of a `Series` that fulfill specific criteria that we need. It gets even more convenient when we are handling `DataFrames`."
      ]
    },
    {
      "cell_type": "markdown",
      "metadata": {
        "id": "NrupLS36Hs0Y"
      },
      "source": [
        "#### Indexing and Time Series\n",
        "\n",
        "Since we use `Series` for handling time series, it's worth covering a little bit of how we handle the time component. For our purposes we use pandas `Timestamp` objects. Let's pull a full time series, complete with all the appropriate labels, by using our `get_pricing()` method. All data pulled with `get_pricing()` or using our Pipeline API will be in either `Series` or `DataFrame` format. We can modify this index however we like."
      ]
    },
    {
      "cell_type": "code",
      "execution_count": 277,
      "metadata": {
        "id": "TuKa80JD_ZkA"
      },
      "outputs": [],
      "source": [
        "import pandas_datareader as pdr\n",
        "import datetime"
      ]
    },
    {
      "cell_type": "code",
      "execution_count": 278,
      "metadata": {
        "id": "9oXZVn1o_n7p",
        "colab": {
          "base_uri": "https://localhost:8080/"
        },
        "outputId": "9d2b9004-0212-447e-f7dd-14268775acba"
      },
      "outputs": [
        {
          "output_type": "stream",
          "name": "stdout",
          "text": [
            "Requirement already satisfied: pandas-datareader in /usr/local/lib/python3.7/dist-packages (0.10.0)\n",
            "Requirement already satisfied: requests>=2.19.0 in /usr/local/lib/python3.7/dist-packages (from pandas-datareader) (2.27.1)\n",
            "Requirement already satisfied: lxml in /usr/local/lib/python3.7/dist-packages (from pandas-datareader) (4.8.0)\n",
            "Requirement already satisfied: pandas>=0.23 in /usr/local/lib/python3.7/dist-packages (from pandas-datareader) (1.3.5)\n",
            "Requirement already satisfied: python-dateutil>=2.7.3 in /usr/local/lib/python3.7/dist-packages (from pandas>=0.23->pandas-datareader) (2.8.2)\n",
            "Requirement already satisfied: numpy>=1.17.3 in /usr/local/lib/python3.7/dist-packages (from pandas>=0.23->pandas-datareader) (1.21.5)\n",
            "Requirement already satisfied: pytz>=2017.3 in /usr/local/lib/python3.7/dist-packages (from pandas>=0.23->pandas-datareader) (2018.9)\n",
            "Requirement already satisfied: six>=1.5 in /usr/local/lib/python3.7/dist-packages (from python-dateutil>=2.7.3->pandas>=0.23->pandas-datareader) (1.15.0)\n",
            "Requirement already satisfied: charset-normalizer~=2.0.0 in /usr/local/lib/python3.7/dist-packages (from requests>=2.19.0->pandas-datareader) (2.0.12)\n",
            "Requirement already satisfied: idna<4,>=2.5 in /usr/local/lib/python3.7/dist-packages (from requests>=2.19.0->pandas-datareader) (2.10)\n",
            "Requirement already satisfied: urllib3<1.27,>=1.21.1 in /usr/local/lib/python3.7/dist-packages (from requests>=2.19.0->pandas-datareader) (1.24.3)\n",
            "Requirement already satisfied: certifi>=2017.4.17 in /usr/local/lib/python3.7/dist-packages (from requests>=2.19.0->pandas-datareader) (2021.10.8)\n"
          ]
        }
      ],
      "source": [
        "!pip install --upgrade pandas-datareader\n"
      ]
    },
    {
      "cell_type": "code",
      "execution_count": 279,
      "metadata": {
        "id": "GxCAmvucHs0Y"
      },
      "outputs": [],
      "source": [
        "symbol = \"CMG\"\n",
        "start = \"2012-01-01\"\n",
        "end = \"2016-01-01\"\n",
        "prices =pdr.get_data_yahoo(symbol, start=start, end=end)['Adj Close']\n"
      ]
    },
    {
      "cell_type": "markdown",
      "metadata": {
        "id": "aZfyn70xAIa4"
      },
      "source": [
        "**My Own Example 122**"
      ]
    },
    {
      "cell_type": "code",
      "execution_count": 280,
      "metadata": {
        "id": "gjKpvZ_gAMBT"
      },
      "outputs": [],
      "source": [
        "symbol = \"AMD\"\n",
        "start = \"2017-01-01\"\n",
        "end = \"2020-01-01\"\n",
        "prices =pdr.get_data_yahoo(symbol, start=start, end=end)['Adj Close']"
      ]
    },
    {
      "cell_type": "markdown",
      "metadata": {
        "id": "SH9w8y8lHs0Y"
      },
      "source": [
        "We can display the first few elements of our series by using the `head()` method and specifying the number of elements that we want. The analogous method for the last few elements is `tail()`."
      ]
    },
    {
      "cell_type": "code",
      "execution_count": 281,
      "metadata": {
        "id": "7eQOihahHs0Y",
        "colab": {
          "base_uri": "https://localhost:8080/"
        },
        "outputId": "6a6de688-0a30-4ba1-f9ed-58fdc0f106c6"
      },
      "outputs": [
        {
          "output_type": "stream",
          "name": "stdout",
          "text": [
            "\n",
            " <class 'pandas.core.series.Series'>\n"
          ]
        },
        {
          "output_type": "execute_result",
          "data": {
            "text/plain": [
              "Date\n",
              "2017-01-03    11.43\n",
              "2017-01-04    11.43\n",
              "2017-01-05    11.24\n",
              "2017-01-06    11.32\n",
              "2017-01-09    11.49\n",
              "Name: Adj Close, dtype: float64"
            ]
          },
          "metadata": {},
          "execution_count": 281
        }
      ],
      "source": [
        "print(\"\\n\", type(prices))\n",
        "prices.head(5) "
      ]
    },
    {
      "cell_type": "markdown",
      "metadata": {
        "id": "G4Gg2PucAXNN"
      },
      "source": [
        "**My Own Example 123**"
      ]
    },
    {
      "cell_type": "code",
      "execution_count": 282,
      "metadata": {
        "id": "n7uTQ8kZAbYa",
        "colab": {
          "base_uri": "https://localhost:8080/"
        },
        "outputId": "39656eee-3c60-4b91-a7e6-02d53a52ee3a"
      },
      "outputs": [
        {
          "output_type": "stream",
          "name": "stdout",
          "text": [
            "\n",
            " <class 'pandas.core.series.Series'>\n"
          ]
        },
        {
          "output_type": "execute_result",
          "data": {
            "text/plain": [
              "Date\n",
              "2019-12-13    41.150002\n",
              "2019-12-16    42.349998\n",
              "2019-12-17    42.770000\n",
              "2019-12-18    42.299999\n",
              "2019-12-19    42.830002\n",
              "2019-12-20    44.150002\n",
              "2019-12-23    45.459999\n",
              "2019-12-24    46.540001\n",
              "2019-12-26    46.630001\n",
              "2019-12-27    46.180000\n",
              "2019-12-30    45.520000\n",
              "2019-12-31    45.860001\n",
              "Name: Adj Close, dtype: float64"
            ]
          },
          "metadata": {},
          "execution_count": 282
        }
      ],
      "source": [
        "print(\"\\n\", type(prices))\n",
        "prices.tail(12) "
      ]
    },
    {
      "cell_type": "markdown",
      "metadata": {
        "id": "8_-B8mzpHs0Z"
      },
      "source": [
        "As with our toy example, we can specify a name for our time series, if only to clarify the name the `get_pricing()` provides us."
      ]
    },
    {
      "cell_type": "code",
      "execution_count": 283,
      "metadata": {
        "id": "CTSLVePxHs0Z",
        "scrolled": true,
        "colab": {
          "base_uri": "https://localhost:8080/"
        },
        "outputId": "14c888e3-042a-4251-d4da-13a09588001e"
      },
      "outputs": [
        {
          "output_type": "stream",
          "name": "stdout",
          "text": [
            "Old name:  Adj Close\n",
            "New name:  AMD\n"
          ]
        }
      ],
      "source": [
        "print('Old name: ', prices.name)\n",
        "prices.name = symbol\n",
        "print('New name: ', prices.name)"
      ]
    },
    {
      "cell_type": "markdown",
      "metadata": {
        "id": "05kXpL77BHSY"
      },
      "source": [
        "**My Own Example 124**"
      ]
    },
    {
      "cell_type": "code",
      "execution_count": 284,
      "metadata": {
        "id": "lW8V7zDpA7LD",
        "colab": {
          "base_uri": "https://localhost:8080/"
        },
        "outputId": "31ead6dd-5c7c-484a-acd3-d44a48ca6f4a"
      },
      "outputs": [
        {
          "output_type": "stream",
          "name": "stdout",
          "text": [
            "Nombre Previo:  AMD\n",
            "Nombre asignado:  AMD\n"
          ]
        }
      ],
      "source": [
        "print('Nombre Previo: ', prices.name)\n",
        "prices.name = symbol\n",
        "print('Nombre asignado: ', prices.name)"
      ]
    },
    {
      "cell_type": "markdown",
      "metadata": {
        "id": "lJcC9Y-mHs0Z"
      },
      "source": [
        "Let's take a closer look at the `DatetimeIndex` of our `prices` time series."
      ]
    },
    {
      "cell_type": "code",
      "execution_count": 285,
      "metadata": {
        "id": "LYIuAIezHs0Z",
        "colab": {
          "base_uri": "https://localhost:8080/"
        },
        "outputId": "bc7203c9-5629-47d4-a0dc-b5c4345cadcd"
      },
      "outputs": [
        {
          "output_type": "stream",
          "name": "stdout",
          "text": [
            "DatetimeIndex(['2017-01-03', '2017-01-04', '2017-01-05', '2017-01-06',\n",
            "               '2017-01-09', '2017-01-10', '2017-01-11', '2017-01-12',\n",
            "               '2017-01-13', '2017-01-17',\n",
            "               ...\n",
            "               '2019-12-17', '2019-12-18', '2019-12-19', '2019-12-20',\n",
            "               '2019-12-23', '2019-12-24', '2019-12-26', '2019-12-27',\n",
            "               '2019-12-30', '2019-12-31'],\n",
            "              dtype='datetime64[ns]', name='Date', length=754, freq=None)\n"
          ]
        }
      ],
      "source": [
        "print(prices.index)"
      ]
    },
    {
      "cell_type": "markdown",
      "metadata": {
        "id": "ckzGNBJ9Hs0Z"
      },
      "source": [
        "Notice that this `DatetimeIndex` has a collection of associated information. In particular it has an associated frequency (`freq`) and an associated timezone (`tz`). The frequency indicates whether the data is daily vs monthly vs some other period while the timezone indicates what locale this index is relative to. We can modify all of this extra information!\n",
        "\n",
        "If we resample our `Series`, we can adjust the frequency of our data. We currently have daily data (excluding weekends) because `get_pricing()` pulls only data from market days. Let's up-sample from this daily data to monthly data using the `resample()` method."
      ]
    },
    {
      "cell_type": "code",
      "execution_count": 286,
      "metadata": {
        "id": "XYEz0k4wHs0Z",
        "colab": {
          "base_uri": "https://localhost:8080/"
        },
        "outputId": "ab854ece-abf5-4d98-a3c3-76daf01c4e00"
      },
      "outputs": [
        {
          "output_type": "execute_result",
          "data": {
            "text/plain": [
              "Date\n",
              "2017-01-31    11.43\n",
              "2017-02-28    12.06\n",
              "2017-03-31    14.96\n",
              "2017-04-30    14.64\n",
              "2017-05-31    13.62\n",
              "2017-06-30    10.93\n",
              "2017-07-31    12.15\n",
              "2017-08-31    13.71\n",
              "2017-09-30    13.19\n",
              "2017-10-31    12.71\n",
              "Freq: M, Name: AMD, dtype: float64"
            ]
          },
          "metadata": {},
          "execution_count": 286
        }
      ],
      "source": [
        "monthly_prices= prices.resample('M').first()\n",
        "monthly_prices.head(10)"
      ]
    },
    {
      "cell_type": "markdown",
      "metadata": {
        "id": "IajDQUblB-dP"
      },
      "source": [
        "**My Own Example 125**"
      ]
    },
    {
      "cell_type": "code",
      "execution_count": 287,
      "metadata": {
        "id": "Mdhj7-47CE1K",
        "colab": {
          "base_uri": "https://localhost:8080/"
        },
        "outputId": "dc62cad4-1e1a-42ce-c55b-a4b38baa5997"
      },
      "outputs": [
        {
          "output_type": "execute_result",
          "data": {
            "text/plain": [
              "Date\n",
              "2017-01-31    10.595\n",
              "2017-02-28    13.490\n",
              "2017-03-31    13.790\n",
              "2017-04-30    13.130\n",
              "2017-05-31    11.020\n",
              "2017-06-30    12.330\n",
              "2017-07-31    13.805\n",
              "2017-08-31    12.630\n",
              "Freq: M, Name: AMD, dtype: float64"
            ]
          },
          "metadata": {},
          "execution_count": 287
        }
      ],
      "source": [
        "monthly_prices= prices.resample('M').median()\n",
        "monthly_prices.head(8)"
      ]
    },
    {
      "cell_type": "markdown",
      "metadata": {
        "id": "oBFeQ1ixHs0i"
      },
      "source": [
        "### `DataFrames`\n",
        "\n",
        "Many of the aspects of working with `Series` carry over into `DataFrames`. pandas `DataFrames` allow us to easily manage our data with their intuitive structure. \n",
        "\n",
        "Like `Series`, `DataFrames` can hold multiple types of data, but `DataFrames` are 2-dimensional objects, unlike `Series`. Each `DataFrame` has an index and a columns attribute, which we will cover more in-depth when we start actually playing with an object. The index attribute is like the index of a `Series`, though indices in pandas have some extra features that we will unfortunately not be able to cover here. If you are interested in this, check out the [pandas documentation](http://pandas.pydata.org/pandas-docs/version/0.18.1/advanced.html) on advanced indexing. The columns attribute is what provides the second dimension of our `DataFrames`, allowing us to combine named columns (all `Series`), into a cohesive object with the index lined-up.\n",
        "\n",
        "We can create a `DataFrame` by calling `pandas.DataFrame()` on a dictionary or NumPy `ndarray`. We can also concatenate a group of pandas `Series` into a `DataFrame` using `pandas.concat()`."
      ]
    },
    {
      "cell_type": "code",
      "execution_count": 288,
      "metadata": {
        "id": "IKL7KTNJHs0i",
        "colab": {
          "base_uri": "https://localhost:8080/"
        },
        "outputId": "eebbf4db-d440-4f36-a54e-dd3734908d00"
      },
      "outputs": [
        {
          "output_type": "stream",
          "name": "stdout",
          "text": [
            "{'a': [1, 2, 3, 4, 5], 'b': ['L', 'K', 'J', 'M', 'Z'], 'c': array([ 0.52501205, -0.84001789, -1.75170928,  0.89176901, -0.36216771])}\n"
          ]
        }
      ],
      "source": [
        "dict_data = {\n",
        "    'a' : [1, 2, 3, 4, 5],\n",
        "    'b' : ['L', 'K', 'J', 'M', 'Z'],\n",
        "    'c' : np.random.normal(0, 1, 5)\n",
        "}\n",
        "print(dict_data)"
      ]
    },
    {
      "cell_type": "markdown",
      "source": [
        "**My Own Example 126**"
      ],
      "metadata": {
        "id": "CcvFKT0Aseqj"
      }
    },
    {
      "cell_type": "code",
      "source": [
        "DatoS= {\n",
        "    'a' : [88, 55, 3, 5, 223],\n",
        "    'b' : ['N', 'A', 'F', 'J', 'B'],\n",
        "    'c' : np.random.normal(0, 1, 8)\n",
        "}\n",
        "print(DatoS)"
      ],
      "metadata": {
        "colab": {
          "base_uri": "https://localhost:8080/"
        },
        "id": "SV8pPAc2shnG",
        "outputId": "a8e4a61f-3141-41a8-b427-6920c5cfb70f"
      },
      "execution_count": 289,
      "outputs": [
        {
          "output_type": "stream",
          "name": "stdout",
          "text": [
            "{'a': [88, 55, 3, 5, 223], 'b': ['N', 'A', 'F', 'J', 'B'], 'c': array([ 1.73560233,  1.2402987 ,  1.10059889,  1.25117474,  0.67140715,\n",
            "        0.38653881, -0.68879964,  0.64672199])}\n"
          ]
        }
      ]
    },
    {
      "cell_type": "markdown",
      "metadata": {
        "id": "kktroM8yHs0i"
      },
      "source": [
        "Each `DataFrame` has a few key attributes that we need to keep in mind. The first of these is the index attribute. We can easily include an index of `Timestamp` objects like we did with `Series`."
      ]
    },
    {
      "cell_type": "code",
      "execution_count": 290,
      "metadata": {
        "id": "tVHd7ThAHs0i",
        "scrolled": false,
        "colab": {
          "base_uri": "https://localhost:8080/"
        },
        "outputId": "85c86bce-e8ed-45b5-be84-546880ebbf5b"
      },
      "outputs": [
        {
          "output_type": "stream",
          "name": "stdout",
          "text": [
            "            a  b         c\n",
            "2016-01-01  1  L  0.525012\n",
            "2016-01-02  2  K -0.840018\n",
            "2016-01-03  3  J -1.751709\n",
            "2016-01-04  4  M  0.891769\n",
            "2016-01-05  5  Z -0.362168\n"
          ]
        }
      ],
      "source": [
        "frame_data = pd.DataFrame(dict_data, index=pd.date_range('2016-01-01', periods=5))\n",
        "print(frame_data)"
      ]
    },
    {
      "cell_type": "markdown",
      "metadata": {
        "id": "bziTLOGzHs0k"
      },
      "source": [
        "This returns a NumPy array."
      ]
    },
    {
      "cell_type": "markdown",
      "metadata": {
        "id": "GJ_Rmuf3Hs0s"
      },
      "source": [
        "# Next Steps\n",
        "\n",
        "Managing data gets a lot easier when you deal with pandas, though this has been a very general introduction. There are many more tools within the package which you may discover while trying to get your data to do precisely what you want. If you would rather read more on the additional capabilities of pandas, check out the [documentation](http://pandas.pydata.org/pandas-docs/stable/)."
      ]
    },
    {
      "cell_type": "markdown",
      "metadata": {
        "collapsed": true,
        "id": "7xEGS11xHs0s"
      },
      "source": [
        "*This presentation is for informational purposes only and does not constitute an offer to sell, a solicitation to buy, or a recommendation for any security; nor does it constitute an offer to provide investment advisory or other services by Quantopian, Inc. (\"Quantopian\"). Nothing contained herein constitutes investment advice or offers any opinion with respect to the suitability of any security, and any views expressed herein should not be taken as advice to buy, sell, or hold any security or as an endorsement of any security or company.  In preparing the information contained herein, Quantopian, Inc. has not taken into account the investment needs, objectives, and financial circumstances of any particular investor. Any views expressed and data illustrated herein were prepared based upon information, believed to be reliable, available to Quantopian, Inc. at the time of publication. Quantopian makes no guarantees as to their accuracy or completeness. All information is subject to change and may quickly become unreliable for various reasons, including changes in market conditions or economic circumstances.*"
      ]
    },
    {
      "cell_type": "markdown",
      "metadata": {
        "id": "eQzBbvyKQymx"
      },
      "source": [
        "<div align=\"center\">\n",
        "<img style=\"display: block; margin: auto;\" alt=\"photo\" src=\"https://cdn.quantconnect.com/web/i/icon.png\">\n",
        "</div> \n",
        "\n",
        "Quantconnect\n",
        "\n",
        "Introduction to Financial Python\n",
        "</div>\n",
        "\n",
        "#Data Types and Data Structures\n",
        "\n",
        "# Introduction\n",
        "\n",
        "This tutorial provides a basic introduction to the Python programming language. If you are new to Python, you should run the code snippets while reading this tutorial. If you are an advanced Python user, please feel free to skip this chapter.\n",
        "\n",
        "# Basic Variable Types\n",
        "The basic types of variables in Python are: strings, integers, floating point numbers and booleans.\n",
        "\n",
        "Strings in python are identified as a contiguous set of characters represented in either single quotes (' ') or double quotes (\" \").\n"
      ]
    },
    {
      "cell_type": "code",
      "execution_count": 291,
      "metadata": {
        "id": "N5t-UrcfOqid",
        "colab": {
          "base_uri": "https://localhost:8080/"
        },
        "outputId": "5027e217-f25a-4460-83ce-882ecc55bcd3"
      },
      "outputs": [
        {
          "output_type": "stream",
          "name": "stdout",
          "text": [
            "Welcome to QuantConnect\n"
          ]
        }
      ],
      "source": [
        "my_string1 = 'Welcome to'\n",
        "my_string2 = \"QuantConnect\"\n",
        "print(my_string1 + ' ' + my_string2)"
      ]
    },
    {
      "cell_type": "markdown",
      "source": [
        "**My Own Example 127**"
      ],
      "metadata": {
        "id": "Q5KT-MMZv5Kp"
      }
    },
    {
      "cell_type": "code",
      "source": [
        "x= \"Ya quedan menos de la mitad\"\n",
        "y= \"de los ejemplos\"\n",
        "print(x+\" \"+y)"
      ],
      "metadata": {
        "colab": {
          "base_uri": "https://localhost:8080/"
        },
        "id": "JAIhzC9Hv9NU",
        "outputId": "e6f35bb5-ee8c-40c9-f094-f2cbe10a184d"
      },
      "execution_count": 292,
      "outputs": [
        {
          "output_type": "stream",
          "name": "stdout",
          "text": [
            "Ya quedan menos de la mitad de los ejemplos\n"
          ]
        }
      ]
    },
    {
      "cell_type": "markdown",
      "metadata": {
        "id": "bXHnxZyHSd1M"
      },
      "source": [
        "An integer is a round number with no values after the decimal point."
      ]
    },
    {
      "cell_type": "code",
      "execution_count": 293,
      "metadata": {
        "id": "pNjuz3toOqif",
        "colab": {
          "base_uri": "https://localhost:8080/"
        },
        "outputId": "6953fb7a-c8a1-4ddd-dde0-36000d66ff08"
      },
      "outputs": [
        {
          "output_type": "stream",
          "name": "stdout",
          "text": [
            "10\n",
            "<class 'int'>\n"
          ]
        }
      ],
      "source": [
        "my_int = 10\n",
        "print(my_int)\n",
        "print(type(my_int))"
      ]
    },
    {
      "cell_type": "markdown",
      "source": [
        "**My Own Example 128**"
      ],
      "metadata": {
        "id": "HoFtAOiewVsR"
      }
    },
    {
      "cell_type": "code",
      "source": [
        "Entero= 8888\n",
        "print(Entero)\n",
        "print(type(Entero))"
      ],
      "metadata": {
        "colab": {
          "base_uri": "https://localhost:8080/"
        },
        "id": "eN6-dhR-wY5H",
        "outputId": "804f453d-8971-44d9-bfc4-a5c4c17a02e0"
      },
      "execution_count": 294,
      "outputs": [
        {
          "output_type": "stream",
          "name": "stdout",
          "text": [
            "8888\n",
            "<class 'int'>\n"
          ]
        }
      ]
    },
    {
      "cell_type": "markdown",
      "metadata": {
        "id": "_1ZanWrYSnzF"
      },
      "source": [
        "The built-in function int() can convert a string into an integer."
      ]
    },
    {
      "cell_type": "code",
      "execution_count": 295,
      "metadata": {
        "id": "zPwGb20FOqif",
        "colab": {
          "base_uri": "https://localhost:8080/"
        },
        "outputId": "466aa94e-330c-4a46-aa23-183de435db99"
      },
      "outputs": [
        {
          "output_type": "stream",
          "name": "stdout",
          "text": [
            "<class 'str'>\n",
            "<class 'int'>\n"
          ]
        }
      ],
      "source": [
        "my_string = \"100\"\n",
        "print(type(my_string))\n",
        "my_int = int(my_string)\n",
        "print(type(my_int))"
      ]
    },
    {
      "cell_type": "markdown",
      "source": [
        "**My Own Example 129**"
      ],
      "metadata": {
        "id": "YqboaXjpwjK4"
      }
    },
    {
      "cell_type": "code",
      "source": [
        "Texto= \"5567\"\n",
        "print(type(Texto))\n",
        "EnteroConv= int(Texto)\n",
        "print(EnteroConv)\n",
        "print(type(EnteroConv))"
      ],
      "metadata": {
        "colab": {
          "base_uri": "https://localhost:8080/"
        },
        "id": "jGLAjoZ3wmB9",
        "outputId": "15d8bab3-b3de-4376-89ad-f3ce35e07984"
      },
      "execution_count": 296,
      "outputs": [
        {
          "output_type": "stream",
          "name": "stdout",
          "text": [
            "<class 'str'>\n",
            "5567\n",
            "<class 'int'>\n"
          ]
        }
      ]
    },
    {
      "cell_type": "markdown",
      "metadata": {
        "id": "WqMDPDTHSrE9"
      },
      "source": [
        "A floating point number, or a float, is a real number in mathematics. In Python we need to include a value after a decimal point to define it as a float"
      ]
    },
    {
      "cell_type": "code",
      "execution_count": 297,
      "metadata": {
        "id": "otCzKKW9Oqig",
        "colab": {
          "base_uri": "https://localhost:8080/"
        },
        "outputId": "10950355-aebf-42cc-9077-02a1241c58c1"
      },
      "outputs": [
        {
          "output_type": "stream",
          "name": "stdout",
          "text": [
            "<class 'float'>\n"
          ]
        }
      ],
      "source": [
        "my_string = \"100\"\n",
        "my_float = float(my_string)\n",
        "print(type(my_float))"
      ]
    },
    {
      "cell_type": "markdown",
      "source": [
        "**My Own Example 130**"
      ],
      "metadata": {
        "id": "1_OV2lFVxG-I"
      }
    },
    {
      "cell_type": "code",
      "source": [
        "Texto= \"9800\"\n",
        "Decimal = float(Texto)\n",
        "print(type(Decimal))"
      ],
      "metadata": {
        "colab": {
          "base_uri": "https://localhost:8080/"
        },
        "id": "FaqFEYtzxJ75",
        "outputId": "495ab1dd-9a71-4083-cdd3-a3d9caccf65a"
      },
      "execution_count": 298,
      "outputs": [
        {
          "output_type": "stream",
          "name": "stdout",
          "text": [
            "<class 'float'>\n"
          ]
        }
      ]
    },
    {
      "cell_type": "markdown",
      "metadata": {
        "id": "2iuyv8Q7StTJ"
      },
      "source": [
        "As you can see above, if we don't include a decimal value, the variable would be defined as an integer. The built-in function float() can convert a string or an integer into a float."
      ]
    },
    {
      "cell_type": "code",
      "execution_count": 299,
      "metadata": {
        "id": "wwLw5VthOqig",
        "colab": {
          "base_uri": "https://localhost:8080/"
        },
        "outputId": "720fcac5-76cb-4c60-a5e7-7708f870618b"
      },
      "outputs": [
        {
          "output_type": "stream",
          "name": "stdout",
          "text": [
            "False\n",
            "<class 'bool'>\n"
          ]
        }
      ],
      "source": [
        "my_bool = False\n",
        "print(my_bool)\n",
        "print(type(my_bool))"
      ]
    },
    {
      "cell_type": "markdown",
      "source": [
        "**My Own Example 131**"
      ],
      "metadata": {
        "id": "Z1lxvhl2xYyT"
      }
    },
    {
      "cell_type": "code",
      "source": [
        "Booleano = True\n",
        "print(Booleano)\n",
        "print(type(Booleano))"
      ],
      "metadata": {
        "colab": {
          "base_uri": "https://localhost:8080/"
        },
        "id": "I6lr53VIxcxO",
        "outputId": "ef216a2f-f47c-4b91-c43b-b6996678ae55"
      },
      "execution_count": 300,
      "outputs": [
        {
          "output_type": "stream",
          "name": "stdout",
          "text": [
            "True\n",
            "<class 'bool'>\n"
          ]
        }
      ]
    },
    {
      "cell_type": "markdown",
      "metadata": {
        "id": "bnGMwH21Szr_"
      },
      "source": [
        "A boolean, or bool, is a binary variable. Its value can only be True or False. It is useful when we do some logic operations, which would be covered in our next chapter."
      ]
    },
    {
      "cell_type": "code",
      "execution_count": 301,
      "metadata": {
        "id": "DMa6pDl5Oqig",
        "colab": {
          "base_uri": "https://localhost:8080/"
        },
        "outputId": "5bb63ab5-fb97-49f9-ecac-2d35376f4c2b"
      },
      "outputs": [
        {
          "output_type": "stream",
          "name": "stdout",
          "text": [
            "Addition  2\n",
            "Subtraction  3\n",
            "Multiplication  6\n",
            "Division  5.0\n",
            "exponent 8\n"
          ]
        }
      ],
      "source": [
        "print(\"Addition \", 1+1)\n",
        "print(\"Subtraction \", 5-2)\n",
        "print(\"Multiplication \", 2*3)\n",
        "print(\"Division \", 10/2)\n",
        "print('exponent', 2**3)"
      ]
    },
    {
      "cell_type": "markdown",
      "source": [
        "**My Own Example 132**"
      ],
      "metadata": {
        "id": "_FVS30p_ygav"
      }
    },
    {
      "cell_type": "code",
      "source": [
        "print(\"8+8=\",8+8)"
      ],
      "metadata": {
        "colab": {
          "base_uri": "https://localhost:8080/"
        },
        "id": "z-51wRiQykEW",
        "outputId": "9da22770-880a-4b9f-fab8-b16eb499f822"
      },
      "execution_count": 302,
      "outputs": [
        {
          "output_type": "stream",
          "name": "stdout",
          "text": [
            "8+8= 16\n"
          ]
        }
      ]
    },
    {
      "cell_type": "markdown",
      "source": [
        "**My Own Example 133**"
      ],
      "metadata": {
        "id": "tEICg824ywpc"
      }
    },
    {
      "cell_type": "code",
      "source": [
        "print(\"8*8=\", 8*8)"
      ],
      "metadata": {
        "colab": {
          "base_uri": "https://localhost:8080/"
        },
        "id": "uzRNBD-tyz7f",
        "outputId": "7b7cbbbf-8762-4e90-c50a-21ef733b90fc"
      },
      "execution_count": 303,
      "outputs": [
        {
          "output_type": "stream",
          "name": "stdout",
          "text": [
            "8*8= 64\n"
          ]
        }
      ]
    },
    {
      "cell_type": "markdown",
      "metadata": {
        "id": "1Xc9G9_sS2ju"
      },
      "source": [
        "# Basic Math Operations\n",
        "\n",
        "The basic math operators in python are demonstrated below:"
      ]
    },
    {
      "cell_type": "code",
      "execution_count": 304,
      "metadata": {
        "id": "KE9gUryAOqig",
        "colab": {
          "base_uri": "https://localhost:8080/"
        },
        "outputId": "6375fd72-ee0d-49e9-b111-2c13dd9422e6"
      },
      "outputs": [
        {
          "output_type": "stream",
          "name": "stdout",
          "text": [
            "0.3333333333333333\n",
            "0.3333333333333333\n"
          ]
        }
      ],
      "source": [
        "print(1/3)\n",
        "print(1.0/3)"
      ]
    },
    {
      "cell_type": "markdown",
      "source": [
        "**My Own Example 134**"
      ],
      "metadata": {
        "id": "60YFiJAa1A7b"
      }
    },
    {
      "cell_type": "code",
      "source": [
        "print(88/57)"
      ],
      "metadata": {
        "colab": {
          "base_uri": "https://localhost:8080/"
        },
        "id": "e4583Ys_1E0F",
        "outputId": "53cffe32-dbba-4867-ba0f-4291c020d223"
      },
      "execution_count": 305,
      "outputs": [
        {
          "output_type": "stream",
          "name": "stdout",
          "text": [
            "1.543859649122807\n"
          ]
        }
      ]
    },
    {
      "cell_type": "markdown",
      "metadata": {
        "id": "AN5Oa3DoS_Nf"
      },
      "source": [
        "# Data Collections\n",
        "\n",
        "## List\n",
        "A list is an ordered collection of values. A list is mutable, which means you can change a list's value without changing the list itself. Creating a list is simply putting different comma-separated values between square brackets."
      ]
    },
    {
      "cell_type": "code",
      "execution_count": 306,
      "metadata": {
        "id": "-tQdNqCvOqig",
        "colab": {
          "base_uri": "https://localhost:8080/"
        },
        "outputId": "16781be5-3cb2-4154-d69a-e321e15f4e94"
      },
      "outputs": [
        {
          "output_type": "stream",
          "name": "stdout",
          "text": [
            "['Quant', 'Connect', 1, 2, 3]\n"
          ]
        }
      ],
      "source": [
        "my_list = ['Quant', 'Connect', 1,2,3]\n",
        "print(my_list)"
      ]
    },
    {
      "cell_type": "markdown",
      "source": [
        "**My Own Example 135**"
      ],
      "metadata": {
        "id": "J0CcXOND1MIw"
      }
    },
    {
      "cell_type": "code",
      "source": [
        "LL=[99,45,33,\"Carro\",\"Casa\"]\n",
        "print(LL)"
      ],
      "metadata": {
        "colab": {
          "base_uri": "https://localhost:8080/"
        },
        "id": "S1OlD1no1O-e",
        "outputId": "fcee0f35-6a83-455c-b5ca-163e8f573857"
      },
      "execution_count": 307,
      "outputs": [
        {
          "output_type": "stream",
          "name": "stdout",
          "text": [
            "[99, 45, 33, 'Carro', 'Casa']\n"
          ]
        }
      ]
    },
    {
      "cell_type": "markdown",
      "metadata": {
        "id": "1O0TsgZCTHrM"
      },
      "source": [
        "The values in a list are called \"elements\". We can access list elements by indexing. Python index starts from 0. So if you have a list of length n, the index of the first element will be 0, and that of the last element will be n − 1. By the way, the length of a list can be obtained by the built-in function len()."
      ]
    },
    {
      "cell_type": "code",
      "execution_count": 308,
      "metadata": {
        "id": "QhuVhRR5Oqih",
        "colab": {
          "base_uri": "https://localhost:8080/"
        },
        "outputId": "a1b93210-e611-4f48-d2eb-8fa51038a052"
      },
      "outputs": [
        {
          "output_type": "stream",
          "name": "stdout",
          "text": [
            "5\n",
            "Quant\n",
            "3\n"
          ]
        }
      ],
      "source": [
        "my_list = ['Quant', 'Connect', 1,2,3]\n",
        "print(len(my_list))\n",
        "print(my_list[0])\n",
        "print(my_list[len(my_list) -1])"
      ]
    },
    {
      "cell_type": "markdown",
      "source": [
        "**My Own Example 136**"
      ],
      "metadata": {
        "id": "sjfRRxS11dP0"
      }
    },
    {
      "cell_type": "code",
      "source": [
        "LM = ['Nacional', 'Millonarios', 7,32,8]\n",
        "print(len(LM))\n",
        "print(LM[0])\n",
        "print(LM[len(LM) -1])"
      ],
      "metadata": {
        "colab": {
          "base_uri": "https://localhost:8080/"
        },
        "id": "Iv92FsVd1hCa",
        "outputId": "2b1bba91-4b75-4d19-a72b-d8a71c99487b"
      },
      "execution_count": 309,
      "outputs": [
        {
          "output_type": "stream",
          "name": "stdout",
          "text": [
            "5\n",
            "Nacional\n",
            "8\n"
          ]
        }
      ]
    },
    {
      "cell_type": "markdown",
      "metadata": {
        "id": "jgSZy1VGTKSc"
      },
      "source": [
        "You can also change the elements in the list by accessing an index and assigning a new value."
      ]
    },
    {
      "cell_type": "code",
      "execution_count": 310,
      "metadata": {
        "id": "NQBNLjAvOqih",
        "colab": {
          "base_uri": "https://localhost:8080/"
        },
        "outputId": "43da5e73-9ef4-40a5-c03a-18cd68a7b55f"
      },
      "outputs": [
        {
          "output_type": "stream",
          "name": "stdout",
          "text": [
            "['Quant', 'Connect', 'go', 2, 3]\n"
          ]
        }
      ],
      "source": [
        "my_list = ['Quant','Connect',1,2,3]\n",
        "my_list[2] = 'go'\n",
        "print(my_list)"
      ]
    },
    {
      "cell_type": "markdown",
      "source": [
        "**My Own Example 137**"
      ],
      "metadata": {
        "id": "fEVpW0wX96xu"
      }
    },
    {
      "cell_type": "code",
      "source": [
        "Listt= ['UNAL','Ingeniería',8,5,6,7,1]\n",
        "Listt[4] = 'Mecánica'\n",
        "print(Listt)"
      ],
      "metadata": {
        "colab": {
          "base_uri": "https://localhost:8080/"
        },
        "id": "80qGfctk96R5",
        "outputId": "7a912e37-3f27-4c53-9ac1-81d5a87fa5a7"
      },
      "execution_count": 311,
      "outputs": [
        {
          "output_type": "stream",
          "name": "stdout",
          "text": [
            "['UNAL', 'Ingeniería', 8, 5, 'Mecánica', 7, 1]\n"
          ]
        }
      ]
    },
    {
      "cell_type": "markdown",
      "metadata": {
        "id": "EQPs5ojoTVrk"
      },
      "source": [
        "A list can also be sliced with a colon:"
      ]
    },
    {
      "cell_type": "code",
      "execution_count": 312,
      "metadata": {
        "id": "keNX2RbtOqii",
        "colab": {
          "base_uri": "https://localhost:8080/"
        },
        "outputId": "7d187b33-eda1-46d9-dbb4-17d1b0b51171"
      },
      "outputs": [
        {
          "output_type": "stream",
          "name": "stdout",
          "text": [
            "['Connect', 1]\n"
          ]
        }
      ],
      "source": [
        "my_list = ['Quant','Connect',1,2,3]\n",
        "print(my_list[1:3])"
      ]
    },
    {
      "cell_type": "markdown",
      "source": [
        "**My Own Example 138**"
      ],
      "metadata": {
        "id": "OVBB7gP4-XFz"
      }
    },
    {
      "cell_type": "code",
      "source": [
        "Listt= ['UNAL','Ingeniería',8,5,6,7,1]\n",
        "print(Listt[1:2])"
      ],
      "metadata": {
        "colab": {
          "base_uri": "https://localhost:8080/"
        },
        "id": "Fzwirqgq-a2t",
        "outputId": "c87a89bd-a2b2-4dfd-8ad4-2687dda28e44"
      },
      "execution_count": 313,
      "outputs": [
        {
          "output_type": "stream",
          "name": "stdout",
          "text": [
            "['Ingeniería']\n"
          ]
        }
      ]
    },
    {
      "cell_type": "markdown",
      "metadata": {
        "id": "AZqQd0K8TYul"
      },
      "source": [
        "The slice starts from the first element indicated, but excludes the last element indicated. Here we select all elements starting from index 1, which refers to the second element:"
      ]
    },
    {
      "cell_type": "code",
      "execution_count": 314,
      "metadata": {
        "id": "0-76sLfkOqii",
        "colab": {
          "base_uri": "https://localhost:8080/"
        },
        "outputId": "e6b3825d-8729-49fa-d670-d1ba49ab2787"
      },
      "outputs": [
        {
          "output_type": "stream",
          "name": "stdout",
          "text": [
            "['Connect', 1, 2, 3]\n"
          ]
        }
      ],
      "source": [
        "print(my_list[1:])"
      ]
    },
    {
      "cell_type": "markdown",
      "source": [
        "**My Own Example 139**"
      ],
      "metadata": {
        "id": "5OFQanB1-mr5"
      }
    },
    {
      "cell_type": "code",
      "source": [
        "print(Listt[1:])"
      ],
      "metadata": {
        "colab": {
          "base_uri": "https://localhost:8080/"
        },
        "id": "1VhI9g9N-p9P",
        "outputId": "f79d3536-2a41-4869-fb4f-7a2e36c5d248"
      },
      "execution_count": 315,
      "outputs": [
        {
          "output_type": "stream",
          "name": "stdout",
          "text": [
            "['Ingeniería', 8, 5, 6, 7, 1]\n"
          ]
        }
      ]
    },
    {
      "cell_type": "markdown",
      "metadata": {
        "id": "XBqvhUdZVKWs"
      },
      "source": [
        "And all elements up to but excluding index 3:"
      ]
    },
    {
      "cell_type": "code",
      "execution_count": 316,
      "metadata": {
        "id": "5NWr75L9Oqii",
        "colab": {
          "base_uri": "https://localhost:8080/"
        },
        "outputId": "8f5c3bf2-7fa1-48b3-a901-e8dce3125ef3"
      },
      "outputs": [
        {
          "output_type": "stream",
          "name": "stdout",
          "text": [
            "['Quant', 'Connect', 1]\n"
          ]
        }
      ],
      "source": [
        "print(my_list[:3])"
      ]
    },
    {
      "cell_type": "markdown",
      "source": [
        "**My Own Example 140**"
      ],
      "metadata": {
        "id": "Bypdy-s6--I4"
      }
    },
    {
      "cell_type": "code",
      "source": [
        "print(Listt[:5])"
      ],
      "metadata": {
        "colab": {
          "base_uri": "https://localhost:8080/"
        },
        "id": "6e_d_20y_BTO",
        "outputId": "dfdd7131-c68c-4936-81de-53b96a913519"
      },
      "execution_count": 317,
      "outputs": [
        {
          "output_type": "stream",
          "name": "stdout",
          "text": [
            "['UNAL', 'Ingeniería', 8, 5, 6]\n"
          ]
        }
      ]
    },
    {
      "cell_type": "markdown",
      "metadata": {
        "id": "eAFmM6bkTZz9"
      },
      "source": [
        "If you wish to add or remove an element from a list, you can use the append() and remove() methods for lists as follows:"
      ]
    },
    {
      "cell_type": "code",
      "execution_count": 318,
      "metadata": {
        "id": "pHmgTPElTo19",
        "colab": {
          "base_uri": "https://localhost:8080/"
        },
        "outputId": "69fdfd5d-5615-4a6a-e734-566d5139472b"
      },
      "outputs": [
        {
          "output_type": "stream",
          "name": "stdout",
          "text": [
            "['Hello', 'Quant', 'Hello']\n"
          ]
        }
      ],
      "source": [
        "my_list = ['Hello', 'Quant']\n",
        "my_list.append('Hello')\n",
        "print(my_list)\n",
        "\n"
      ]
    },
    {
      "cell_type": "markdown",
      "source": [
        "**My Own Example 141**"
      ],
      "metadata": {
        "id": "FrR2fHRB_LAi"
      }
    },
    {
      "cell_type": "code",
      "source": [
        "Listt.append(\"Nueva cadena\")\n",
        "print(Listt)"
      ],
      "metadata": {
        "colab": {
          "base_uri": "https://localhost:8080/"
        },
        "id": "ACgA1isL_Oo9",
        "outputId": "84d06a04-cc18-4f44-c109-2ced9d00c675"
      },
      "execution_count": 319,
      "outputs": [
        {
          "output_type": "stream",
          "name": "stdout",
          "text": [
            "['UNAL', 'Ingeniería', 8, 5, 6, 7, 1, 'Nueva cadena']\n"
          ]
        }
      ]
    },
    {
      "cell_type": "code",
      "execution_count": 320,
      "metadata": {
        "id": "4C4U1Yf0Tr8l",
        "colab": {
          "base_uri": "https://localhost:8080/"
        },
        "outputId": "37f6c1a0-4fef-4302-de98-d0d19246a910"
      },
      "outputs": [
        {
          "output_type": "stream",
          "name": "stdout",
          "text": [
            "['Quant', 'Hello']\n"
          ]
        }
      ],
      "source": [
        "my_list.remove('Hello')\n",
        "print(my_list)"
      ]
    },
    {
      "cell_type": "markdown",
      "source": [
        "**My Own Example 142**"
      ],
      "metadata": {
        "id": "Ru01o5D8_xZy"
      }
    },
    {
      "cell_type": "code",
      "source": [
        "Listt.remove(\"UNAL\")\n",
        "print(Listt)"
      ],
      "metadata": {
        "colab": {
          "base_uri": "https://localhost:8080/"
        },
        "id": "Hnwxpunn_0hj",
        "outputId": "5b6608f5-b4d7-400f-fde2-5c14ecf9cb8e"
      },
      "execution_count": 321,
      "outputs": [
        {
          "output_type": "stream",
          "name": "stdout",
          "text": [
            "['Ingeniería', 8, 5, 6, 7, 1, 'Nueva cadena']\n"
          ]
        }
      ]
    },
    {
      "cell_type": "markdown",
      "metadata": {
        "id": "11W1gG-cVmOU"
      },
      "source": [
        "When there are repeated instances of \"Hello\", the first one is removed.\n",
        "\n",
        "## Tuple\n",
        "A tuple is a data structure type similar to a list. The difference is that a tuple is immutable, which means you can't change the elements in it once it's defined. We create a tuple by putting comma-separated values between parentheses."
      ]
    },
    {
      "cell_type": "code",
      "execution_count": 322,
      "metadata": {
        "collapsed": true,
        "id": "vPmn6BAaOqii"
      },
      "outputs": [],
      "source": [
        "my_tuple = ('Welcome','to','QuantConnect')"
      ]
    },
    {
      "cell_type": "markdown",
      "metadata": {
        "id": "zMIme4dDV0Wz"
      },
      "source": [
        "Just like a list, a tuple can be sliced by using index."
      ]
    },
    {
      "cell_type": "markdown",
      "source": [
        "**My Own Example 143**"
      ],
      "metadata": {
        "id": "f2apOtJVAXKO"
      }
    },
    {
      "cell_type": "code",
      "source": [
        "Tuplaa=(\"Bogotá\",\"Cali\",\"Neiva\")\n",
        "print(Tuplaa)"
      ],
      "metadata": {
        "colab": {
          "base_uri": "https://localhost:8080/"
        },
        "id": "vqQ6vPvpAazc",
        "outputId": "2058e0c9-84dc-46d1-d9ff-35285b80047a"
      },
      "execution_count": 323,
      "outputs": [
        {
          "output_type": "stream",
          "name": "stdout",
          "text": [
            "('Bogotá', 'Cali', 'Neiva')\n"
          ]
        }
      ]
    },
    {
      "cell_type": "code",
      "execution_count": 324,
      "metadata": {
        "id": "8P-ddO0sOqii",
        "colab": {
          "base_uri": "https://localhost:8080/"
        },
        "outputId": "c9e61dfa-9ea9-4c85-e672-46a29603ddae"
      },
      "outputs": [
        {
          "output_type": "stream",
          "name": "stdout",
          "text": [
            "('to', 'QuantConnect')\n"
          ]
        }
      ],
      "source": [
        "my_tuple = ('Welcome','to','QuantConnect')\n",
        "print(my_tuple[1:])"
      ]
    },
    {
      "cell_type": "markdown",
      "metadata": {
        "id": "l2JqbusAV1Y2"
      },
      "source": [
        "## Set\n",
        "A set is an **unordered**  collection with **no duplicate** elements. The built-in function **set()** can be used to create sets."
      ]
    },
    {
      "cell_type": "code",
      "execution_count": 325,
      "metadata": {
        "id": "Plau8r-UOqij",
        "colab": {
          "base_uri": "https://localhost:8080/"
        },
        "outputId": "30015518-3e63-4d92-f066-11ef861a2804"
      },
      "outputs": [
        {
          "output_type": "stream",
          "name": "stdout",
          "text": [
            "{'F', 'AAPL', 'FB', 'IBM', 'GOOG'}\n"
          ]
        }
      ],
      "source": [
        "stock_list = ['AAPL','GOOG','IBM','AAPL','IBM','FB','F','GOOG']\n",
        "stock_set = set(stock_list)\n",
        "print(stock_set)"
      ]
    },
    {
      "cell_type": "markdown",
      "source": [
        "**My Own Example 144**"
      ],
      "metadata": {
        "id": "4N6lk19OArzD"
      }
    },
    {
      "cell_type": "code",
      "source": [
        "ListaRep=[\"Ferrari\",\"Audi\",\"Mercedes\",\"Renault\",\"Porsche\",\"Ferrari\",\"Ferrari\"]\n",
        "Nconjunto= set(ListaRep)\n",
        "print(Nconjunto)"
      ],
      "metadata": {
        "colab": {
          "base_uri": "https://localhost:8080/"
        },
        "id": "kEk3CLZwAv9O",
        "outputId": "49f3c50a-e265-4a77-cb32-05d85890cfde"
      },
      "execution_count": 326,
      "outputs": [
        {
          "output_type": "stream",
          "name": "stdout",
          "text": [
            "{'Ferrari', 'Mercedes', 'Porsche', 'Audi', 'Renault'}\n"
          ]
        }
      ]
    },
    {
      "cell_type": "markdown",
      "metadata": {
        "id": "Jyb4GGIoWIHk"
      },
      "source": [
        "Set is an easy way to remove duplicate elements from a list.\n",
        "\n",
        "##Dictionary\n",
        "A dictionary is one of the most important data structures in Python. Unlike sequences which are indexed by integers, dictionaries are indexed by keys which can be either strings or floats.\n",
        "\n",
        "A dictionary is an **unordered** collection of key : value pairs, with the requirement that the keys are unique. We create a dictionary by placing a comma-separated list of key : value pairs within the braces."
      ]
    },
    {
      "cell_type": "code",
      "execution_count": 327,
      "metadata": {
        "collapsed": true,
        "id": "36mTe5BaOqij"
      },
      "outputs": [],
      "source": [
        "my_dic = {'AAPL':'AAPLE', 'FB':'FaceBook', 'GOOG':'Alphabet'}"
      ]
    },
    {
      "cell_type": "markdown",
      "source": [
        "**My Own Example 145**"
      ],
      "metadata": {
        "id": "zyg4xQmLBVf1"
      }
    },
    {
      "cell_type": "code",
      "source": [
        "Diccionario={\"Comida\":\"Pasta\",\"Bebida\":\"Jugo\",\"Postre\":\"Gelatina\"}\n",
        "print(Diccionario)"
      ],
      "metadata": {
        "colab": {
          "base_uri": "https://localhost:8080/"
        },
        "id": "oM5KJjgWBZfz",
        "outputId": "ccce79f9-8915-4ecc-edf0-1ceefccefad2"
      },
      "execution_count": 328,
      "outputs": [
        {
          "output_type": "stream",
          "name": "stdout",
          "text": [
            "{'Comida': 'Pasta', 'Bebida': 'Jugo', 'Postre': 'Gelatina'}\n"
          ]
        }
      ]
    },
    {
      "cell_type": "code",
      "execution_count": 329,
      "metadata": {
        "id": "KUfdVf43Oqij",
        "colab": {
          "base_uri": "https://localhost:8080/"
        },
        "outputId": "2f50bb2c-cfc1-45e7-a547-1714f41fa7f0"
      },
      "outputs": [
        {
          "output_type": "stream",
          "name": "stdout",
          "text": [
            "Alphabet\n"
          ]
        }
      ],
      "source": [
        "print(my_dic['GOOG'])"
      ]
    },
    {
      "cell_type": "markdown",
      "source": [
        "**My Own Example 146**"
      ],
      "metadata": {
        "id": "DnXy70lzB4E7"
      }
    },
    {
      "cell_type": "code",
      "source": [
        "print(Diccionario[\"Bebida\"])"
      ],
      "metadata": {
        "colab": {
          "base_uri": "https://localhost:8080/"
        },
        "id": "_arMlkc1B7Up",
        "outputId": "f4dc5d5f-8b4e-4815-c3a0-86aab3d652df"
      },
      "execution_count": 330,
      "outputs": [
        {
          "output_type": "stream",
          "name": "stdout",
          "text": [
            "Jugo\n"
          ]
        }
      ]
    },
    {
      "cell_type": "markdown",
      "metadata": {
        "id": "gSicoNqDWP4c"
      },
      "source": [
        "After defining a dictionary, we can access any value by indicating its key in brackets."
      ]
    },
    {
      "cell_type": "code",
      "execution_count": 331,
      "metadata": {
        "id": "IrTZdq9FOqij",
        "colab": {
          "base_uri": "https://localhost:8080/"
        },
        "outputId": "f5fd12c3-0416-4965-f1dd-5072ccf5deb0"
      },
      "outputs": [
        {
          "output_type": "stream",
          "name": "stdout",
          "text": [
            "Alphabet Company\n"
          ]
        }
      ],
      "source": [
        "my_dic['GOOG'] = 'Alphabet Company'\n",
        "print(my_dic['GOOG'])"
      ]
    },
    {
      "cell_type": "markdown",
      "source": [
        "**My Own Example 147**"
      ],
      "metadata": {
        "id": "1ydOoNz3CWdO"
      }
    },
    {
      "cell_type": "code",
      "source": [
        "Diccionario[\"Bebida\"]= \"Gaseosa\"\n",
        "print(Diccionario[\"Bebida\"])"
      ],
      "metadata": {
        "colab": {
          "base_uri": "https://localhost:8080/"
        },
        "id": "4zE-C7GgCZ9I",
        "outputId": "886b9491-3e95-4762-ea69-faa872a44d7e"
      },
      "execution_count": 332,
      "outputs": [
        {
          "output_type": "stream",
          "name": "stdout",
          "text": [
            "Gaseosa\n"
          ]
        }
      ]
    },
    {
      "cell_type": "markdown",
      "metadata": {
        "id": "M9sDsTEMWQvc"
      },
      "source": [
        "We can also change the value associated with a specified key:"
      ]
    },
    {
      "cell_type": "code",
      "execution_count": 333,
      "metadata": {
        "id": "lupRHf1_Oqij",
        "colab": {
          "base_uri": "https://localhost:8080/"
        },
        "outputId": "e7073e72-f602-4747-c3cf-ed0c3786fee8"
      },
      "outputs": [
        {
          "output_type": "stream",
          "name": "stdout",
          "text": [
            "dict_keys(['AAPL', 'FB', 'GOOG'])\n"
          ]
        }
      ],
      "source": [
        "print(my_dic.keys())"
      ]
    },
    {
      "cell_type": "markdown",
      "source": [
        "**My Own Example 148**"
      ],
      "metadata": {
        "id": "9170g8yzCo8k"
      }
    },
    {
      "cell_type": "code",
      "source": [
        "print(Diccionario.keys())"
      ],
      "metadata": {
        "colab": {
          "base_uri": "https://localhost:8080/"
        },
        "id": "HewCiQ2-Csej",
        "outputId": "80a47021-bb14-414b-bfb3-d406d32112b5"
      },
      "execution_count": 334,
      "outputs": [
        {
          "output_type": "stream",
          "name": "stdout",
          "text": [
            "dict_keys(['Comida', 'Bebida', 'Postre'])\n"
          ]
        }
      ]
    },
    {
      "cell_type": "markdown",
      "metadata": {
        "id": "VPuDinlwWS9D"
      },
      "source": [
        "The built-in method of the dictionary object dict.keys() returns a list of all the keys used in the dictionary."
      ]
    },
    {
      "cell_type": "markdown",
      "metadata": {
        "id": "kSGzgNb2Womz"
      },
      "source": [
        "# Common String Operations\n",
        "A string is an immutable sequence of characters. It can be sliced by index just like a tuple:"
      ]
    },
    {
      "cell_type": "code",
      "execution_count": 335,
      "metadata": {
        "id": "xPojDnm9Oqik",
        "colab": {
          "base_uri": "https://localhost:8080/"
        },
        "outputId": "a36612f5-840c-4a2b-e2f1-d919319d6019"
      },
      "outputs": [
        {
          "output_type": "stream",
          "name": "stdout",
          "text": [
            "to QuantConnect\n"
          ]
        }
      ],
      "source": [
        "my_str = 'Welcome to QuantConnect'\n",
        "print(my_str[8:])"
      ]
    },
    {
      "cell_type": "markdown",
      "source": [
        "**My Own Example 149**"
      ],
      "metadata": {
        "id": "5ChTemgmC1Cr"
      }
    },
    {
      "cell_type": "code",
      "source": [
        "TeXx= \"La dura vida del joven artista\"\n",
        "print(TeXx[6:])"
      ],
      "metadata": {
        "colab": {
          "base_uri": "https://localhost:8080/"
        },
        "id": "so1cqTqBC4_H",
        "outputId": "952feb42-6331-4e5d-af46-c8bdfcdef13b"
      },
      "execution_count": 336,
      "outputs": [
        {
          "output_type": "stream",
          "name": "stdout",
          "text": [
            "a vida del joven artista\n"
          ]
        }
      ]
    },
    {
      "cell_type": "markdown",
      "metadata": {
        "id": "wuJYy7tvWtM7"
      },
      "source": [
        "There are many methods associated with strings. We can use string.count() to count the occurrences of a character in a string, use string.find() to return the index of a specific character, and use string.replace() to replace characters"
      ]
    },
    {
      "cell_type": "code",
      "execution_count": 337,
      "metadata": {
        "id": "u9deZq1SOqik",
        "colab": {
          "base_uri": "https://localhost:8080/"
        },
        "outputId": "d9810acf-fa26-40bb-a5d8-ed7710073e81"
      },
      "outputs": [
        {
          "output_type": "stream",
          "name": "stdout",
          "text": [
            "7\n",
            "2\n",
            "ell the e in this sentence now becomes e\n"
          ]
        }
      ],
      "source": [
        "print('Counting the number of e appears in this sentence'.count('e'))\n",
        "print('The first time e appears in this sentence'.find('e'))\n",
        "print('all the a in this sentence now becomes e'.replace('a','e'))"
      ]
    },
    {
      "cell_type": "markdown",
      "metadata": {
        "id": "sJPn3rkvWwHN"
      },
      "source": [
        "The most commonly used method for strings is string.split(). This method will split the string by the indicated character and return a list:"
      ]
    },
    {
      "cell_type": "code",
      "execution_count": 338,
      "metadata": {
        "id": "hbIaFLFHOqik",
        "colab": {
          "base_uri": "https://localhost:8080/"
        },
        "outputId": "905ae20e-5b4b-41a8-f15c-d59ca5857295"
      },
      "outputs": [
        {
          "output_type": "stream",
          "name": "stdout",
          "text": [
            "2016-04-01 09:43:00\n",
            "09\n"
          ]
        }
      ],
      "source": [
        "Time = '2016-04-01 09:43:00'\n",
        "splited_list = Time.split(' ')\n",
        "date = splited_list[0]\n",
        "time = splited_list[1]\n",
        "print(date, time)\n",
        "hour = time.split(':')[0]\n",
        "print(hour)"
      ]
    },
    {
      "cell_type": "markdown",
      "metadata": {
        "id": "9cJQGk96WyVc"
      },
      "source": [
        "We can replace parts of a string by our variable. This is called string formatting."
      ]
    },
    {
      "cell_type": "code",
      "execution_count": 339,
      "metadata": {
        "id": "-E_rIvv6Oqik",
        "colab": {
          "base_uri": "https://localhost:8080/"
        },
        "outputId": "27eff86b-6b71-44bd-d189-524795ec05f1"
      },
      "outputs": [
        {
          "output_type": "stream",
          "name": "stdout",
          "text": [
            "Hour: 09, Minute:43\n"
          ]
        }
      ],
      "source": [
        "my_time = 'Hour: {}, Minute:{}'.format('09','43')\n",
        "print(my_time)"
      ]
    },
    {
      "cell_type": "markdown",
      "metadata": {
        "id": "1_NbVldpWzAs"
      },
      "source": [
        "Another way to format a string is to use the % symbol."
      ]
    },
    {
      "cell_type": "code",
      "execution_count": 340,
      "metadata": {
        "id": "4rZ4rkD2Oqik",
        "colab": {
          "base_uri": "https://localhost:8080/"
        },
        "outputId": "56d4efe3-a117-4fa2-8d6a-720584fd2645"
      },
      "outputs": [
        {
          "output_type": "stream",
          "name": "stdout",
          "text": [
            "the pi number is 3.140000\n",
            "Welcome to Quantconnect\n"
          ]
        }
      ],
      "source": [
        "print('the pi number is %f'%3.14)\n",
        "print('%s to %s'%('Welcome','Quantconnect'))"
      ]
    },
    {
      "cell_type": "markdown",
      "source": [
        "**My Own Example 150**"
      ],
      "metadata": {
        "id": "72ov6pnhDeYq"
      }
    },
    {
      "cell_type": "code",
      "source": [
        "print(\"La mejor jugador del equipo es el %f\" %42)"
      ],
      "metadata": {
        "colab": {
          "base_uri": "https://localhost:8080/"
        },
        "id": "1mmqtwDKDixV",
        "outputId": "5c4f7667-a8cb-4956-fbdc-21634c3e9c7d"
      },
      "execution_count": 341,
      "outputs": [
        {
          "output_type": "stream",
          "name": "stdout",
          "text": [
            "La mejor jugador del equipo es el 42.000000\n"
          ]
        }
      ]
    },
    {
      "cell_type": "markdown",
      "metadata": {
        "id": "v_5cocrDW3MN"
      },
      "source": [
        "# Summary\n",
        "\n",
        "Weave seen the basic data types and data structures in Python. It's important to keep practicing to become familiar with these data structures. In the next tutorial, we will cover for and while loops and logical operations in Python."
      ]
    },
    {
      "cell_type": "markdown",
      "metadata": {
        "id": "QL6dNxwCXNEt"
      },
      "source": [
        "<div align=\"center\">\n",
        "<img style=\"display: block; margin: auto;\" alt=\"photo\" src=\"https://cdn.quantconnect.com/web/i/icon.png\">\n",
        "</div> \n",
        "\n",
        "Quantconnect\n",
        "\n",
        "Introduction to Financial Python\n",
        "</div>\n",
        "\n",
        "# Logical Operations and Loops\n",
        "\n",
        "# Introduction\n",
        "We discussed the basic data types and data structures in Python in the last tutorial. This chapter covers logical operations and loops in Python, which are very common in programming.\n",
        "\n",
        "# Logical Operations\n",
        "Like most programming languages, Python has comparison operators:"
      ]
    },
    {
      "cell_type": "code",
      "execution_count": 342,
      "metadata": {
        "id": "70Guys_rOv7a",
        "colab": {
          "base_uri": "https://localhost:8080/"
        },
        "outputId": "b3cd5757-b456-49da-d6e5-df5e14d09e39"
      },
      "outputs": [
        {
          "output_type": "stream",
          "name": "stdout",
          "text": [
            "False\n",
            "True\n",
            "True\n",
            "True\n",
            "False\n"
          ]
        }
      ],
      "source": [
        "print(1 == 0)\n",
        "print(1 == 1)\n",
        "print(1 != 0)\n",
        "print(5 >= 5)\n",
        "print(5 >= 6)"
      ]
    },
    {
      "cell_type": "markdown",
      "source": [
        "**My Own Example 151**"
      ],
      "metadata": {
        "id": "ckngXUq_EIra"
      }
    },
    {
      "cell_type": "code",
      "source": [
        "print(888==67)"
      ],
      "metadata": {
        "colab": {
          "base_uri": "https://localhost:8080/"
        },
        "id": "ywxv_IawEL3C",
        "outputId": "bc360819-524e-4012-e9d3-2685a4fea49d"
      },
      "execution_count": 343,
      "outputs": [
        {
          "output_type": "stream",
          "name": "stdout",
          "text": [
            "False\n"
          ]
        }
      ]
    },
    {
      "cell_type": "markdown",
      "metadata": {
        "id": "8aFHYDj-YTXt"
      },
      "source": [
        "Each statement above has a boolean value, which must be either True or False, but not both.\n",
        "\n",
        "We can combine simple statements P and Q to form complex statements using logical operators:\n",
        "\n",
        "- The statement \"P and Q\" is true if both P and Q are true, otherwise it is false.\n",
        "- The statement \"P or Q\" is false if both P and Q are false, otherwise it is true.\n",
        "- The statement \"not P\" is true if P is false, and vice versa."
      ]
    },
    {
      "cell_type": "code",
      "execution_count": 344,
      "metadata": {
        "id": "O5YEEcUbOv7d",
        "colab": {
          "base_uri": "https://localhost:8080/"
        },
        "outputId": "c45000b6-e7d7-49a6-b090-ff7af3f57d01"
      },
      "outputs": [
        {
          "output_type": "stream",
          "name": "stdout",
          "text": [
            "True\n",
            "False\n",
            "True\n",
            "False\n"
          ]
        }
      ],
      "source": [
        "print(2 > 1 and 3 > 2)\n",
        "print(2 > 1 and 3 < 2) \n",
        "print(2 > 1 or 3 < 2)\n",
        "print(2 < 1 and 3 < 2)"
      ]
    },
    {
      "cell_type": "markdown",
      "metadata": {
        "id": "Dy7yzoSXYXmL"
      },
      "source": [
        "When dealing with a very complex logical statement that involves in several statements, we can use brackets to separate and combine them."
      ]
    },
    {
      "cell_type": "code",
      "execution_count": 345,
      "metadata": {
        "id": "QZ-W2xJZOv7d",
        "colab": {
          "base_uri": "https://localhost:8080/"
        },
        "outputId": "7c475edb-9a52-41d1-b812-306cfc0f00bb"
      },
      "outputs": [
        {
          "output_type": "stream",
          "name": "stdout",
          "text": [
            "False\n",
            "True\n"
          ]
        }
      ],
      "source": [
        "print((3 > 2 or 1 < 3) and (1!=3 and 4>3) and not ( 3 < 2 or 1 < 3 and (1!=3 and 4>3)))\n",
        "print(3 > 2 or 1 < 3 and (1!=3 and 4>3) and not ( 3 < 2 or 1 < 3 and (1!=3 and 4>3)))"
      ]
    },
    {
      "cell_type": "markdown",
      "metadata": {
        "id": "s95xoRYMYaPD"
      },
      "source": [
        "Comparing the above two statements, we can see that it's wise to use brackets when we make a complex logical statement.\n",
        "\n",
        "# If Statement\n",
        "An if statement executes a segment of code only if its condition is true. A standard if statement consists of 3 segments: if, elif and else."
      ]
    },
    {
      "cell_type": "markdown",
      "metadata": {
        "id": "aRzMMitAaBOL"
      },
      "source": [
        "```python\n",
        "if statement1:\n",
        "    # if the statement1 is true, execute the code here.\n",
        "    # code.....\n",
        "    # code.....\n",
        "elif statement2:\n",
        "    # if the statement 1 is false, skip the codes above to this part.\n",
        "    # code......\n",
        "    # code......\n",
        "else:\n",
        "    # if none of the above statements is True, skip to this part\n",
        "    # code......\n",
        "```"
      ]
    },
    {
      "cell_type": "markdown",
      "metadata": {
        "id": "l59R2AS8aH2K"
      },
      "source": [
        "An if statement doesn't necessarily has elif and else part. If it's not specified, the indented block of code will be executed when the condition is true, otherwise the whole if statement will be skipped."
      ]
    },
    {
      "cell_type": "code",
      "execution_count": 346,
      "metadata": {
        "id": "FZ5GoTXfOv7e",
        "colab": {
          "base_uri": "https://localhost:8080/"
        },
        "outputId": "cddc0c56-8181-47b4-8849-777887e0a5ab"
      },
      "outputs": [
        {
          "output_type": "stream",
          "name": "stdout",
          "text": [
            "i==0 is True\n"
          ]
        }
      ],
      "source": [
        "i = 0\n",
        "if i == 0:\n",
        "    print('i==0 is True')"
      ]
    },
    {
      "cell_type": "markdown",
      "metadata": {
        "id": "nPNW-l5eaJn8"
      },
      "source": [
        "As we mentioned above, we can write some complex statements here:"
      ]
    },
    {
      "cell_type": "code",
      "execution_count": 347,
      "metadata": {
        "id": "gh-U6nMzOv7e",
        "colab": {
          "base_uri": "https://localhost:8080/"
        },
        "outputId": "897df08c-8a97-46a1-cc4f-3bd4e652f3f0"
      },
      "outputs": [
        {
          "output_type": "stream",
          "name": "stdout",
          "text": [
            "q is false\n"
          ]
        }
      ],
      "source": [
        "p = 1 > 0\n",
        "q = 2 > 3\n",
        "if p and q:\n",
        "    print('p and q is true')\n",
        "elif p and not q:\n",
        "    print('q is false')\n",
        "elif q and not p:\n",
        "    print('p is false')\n",
        "else:\n",
        "    print('None of p and q is true')"
      ]
    },
    {
      "cell_type": "markdown",
      "metadata": {
        "id": "tgRDwiAsaMOL"
      },
      "source": [
        "# Loop Structure\n",
        "Loops are an essential part of programming. The \"for\" and \"while\" loops run a block of code repeatedly.\n",
        "\n",
        "## While Loop\n",
        "A \"while\" loop will run repeatedly until a certain condition has been met."
      ]
    },
    {
      "cell_type": "code",
      "execution_count": 348,
      "metadata": {
        "id": "uQLau8d5Ov7f",
        "colab": {
          "base_uri": "https://localhost:8080/"
        },
        "outputId": "13a748e7-100c-4054-a2e9-fa206c66f4bc"
      },
      "outputs": [
        {
          "output_type": "stream",
          "name": "stdout",
          "text": [
            "0\n",
            "1\n",
            "2\n",
            "3\n",
            "4\n"
          ]
        }
      ],
      "source": [
        "i = 0\n",
        "while i < 5:\n",
        "    print(i)\n",
        "    i += 1  "
      ]
    },
    {
      "cell_type": "markdown",
      "source": [
        "**My Own Example 152**"
      ],
      "metadata": {
        "id": "hgXrGVb0Kjqs"
      }
    },
    {
      "cell_type": "code",
      "source": [
        "z = 8\n",
        "while z < 15:\n",
        "    print(z)\n",
        "    z += 1"
      ],
      "metadata": {
        "colab": {
          "base_uri": "https://localhost:8080/"
        },
        "id": "9bl0KR4lKm-f",
        "outputId": "532cfabc-e4d1-47ed-8587-71fb72554401"
      },
      "execution_count": 349,
      "outputs": [
        {
          "output_type": "stream",
          "name": "stdout",
          "text": [
            "8\n",
            "9\n",
            "10\n",
            "11\n",
            "12\n",
            "13\n",
            "14\n"
          ]
        }
      ]
    },
    {
      "cell_type": "markdown",
      "metadata": {
        "id": "ydLddFAPaTOE"
      },
      "source": [
        "When making a while loop, we need to ensure that something changes from iteration to iteration so that the while loop will terminate, otherwise, it will run forever. Here we used i += 1 (short for i = i + 1) to make i larger after each iteration. This is the most commonly used method to control a while loop.\n",
        "\n",
        "## For Loop\n",
        "A \"for\" loop will iterate over a sequence of value and terminate when the sequence has ended."
      ]
    },
    {
      "cell_type": "code",
      "execution_count": 350,
      "metadata": {
        "id": "kt8Ie8u1Ov7f",
        "colab": {
          "base_uri": "https://localhost:8080/"
        },
        "outputId": "7ff9eb04-95ff-4da1-890d-de264ffc645e"
      },
      "outputs": [
        {
          "output_type": "stream",
          "name": "stdout",
          "text": [
            "1\n",
            "2\n",
            "3\n",
            "4\n",
            "5\n"
          ]
        }
      ],
      "source": [
        "for i in [1,2,3,4,5]:\n",
        "    print(i)"
      ]
    },
    {
      "cell_type": "markdown",
      "metadata": {
        "id": "yWStqpreaX-T"
      },
      "source": [
        "We can also add if statements in a for loop. Here is a real example from our pairs trading algorithm:"
      ]
    },
    {
      "cell_type": "markdown",
      "source": [
        "**My Own Example 153**"
      ],
      "metadata": {
        "id": "mKg3yA73K6nG"
      }
    },
    {
      "cell_type": "code",
      "source": [
        "for z in [\"Azul\",\"Casa\",3,5,7]:\n",
        "    print(z)"
      ],
      "metadata": {
        "colab": {
          "base_uri": "https://localhost:8080/"
        },
        "id": "q2KEj_l5K-L7",
        "outputId": "9aa3f141-8d35-4eeb-b668-d223eff04a8b"
      },
      "execution_count": 351,
      "outputs": [
        {
          "output_type": "stream",
          "name": "stdout",
          "text": [
            "Azul\n",
            "Casa\n",
            "3\n",
            "5\n",
            "7\n"
          ]
        }
      ]
    },
    {
      "cell_type": "code",
      "execution_count": 352,
      "metadata": {
        "id": "kElmffvFOv7f",
        "colab": {
          "base_uri": "https://localhost:8080/"
        },
        "outputId": "eeb29ec4-7312-4fe7-f1a0-89bfd47f492a"
      },
      "outputs": [
        {
          "output_type": "stream",
          "name": "stdout",
          "text": [
            "['AAPL', 'GOOG', 'IBM', 'FB', 'F', 'V', 'G', 'GE']\n"
          ]
        }
      ],
      "source": [
        "stocks = ['AAPL','GOOG','IBM','FB','F','V', 'G', 'GE']\n",
        "selected = ['AAPL','IBM']\n",
        "new_list = []\n",
        "for i in stocks:\n",
        "    if i not in selected:\n",
        "        new_list.append(i)\n",
        "print(stocks)"
      ]
    },
    {
      "cell_type": "markdown",
      "metadata": {
        "id": "wb2hry9dahE0"
      },
      "source": [
        "Here we iterated all the elements in the list 'stocks'. Later in this chapter, we will introduce a smarter way to do this, which is just a one-line code.\n",
        "\n",
        "## Break and continue\n",
        "These are two commonly used commands in a for loop. If \"break\" is triggered while a loop is executing, the loop will terminate immediately:"
      ]
    },
    {
      "cell_type": "code",
      "execution_count": 353,
      "metadata": {
        "id": "yF5wMVItOv7g",
        "colab": {
          "base_uri": "https://localhost:8080/"
        },
        "outputId": "3b09adbd-e547-492a-aaac-6333cb6f18dd"
      },
      "outputs": [
        {
          "output_type": "stream",
          "name": "stdout",
          "text": [
            "AAPL\n",
            "GOOG\n",
            "IBM\n",
            "FB\n"
          ]
        }
      ],
      "source": [
        "stocks = ['AAPL','GOOG','IBM','FB','F','V', 'G', 'GE']\n",
        "for i in stocks:\n",
        "    print(i)\n",
        "    if i == 'FB':\n",
        "        break"
      ]
    },
    {
      "cell_type": "markdown",
      "metadata": {
        "id": "R0toxyp3ao0T"
      },
      "source": [
        "The \"continue\" command tells the loop to end this iteration and skip to the next iteration:"
      ]
    },
    {
      "cell_type": "code",
      "execution_count": 354,
      "metadata": {
        "id": "Stg-CH6IOv7g",
        "colab": {
          "base_uri": "https://localhost:8080/"
        },
        "outputId": "b2c8f452-4287-4315-faf5-cc5c72e10d9d"
      },
      "outputs": [
        {
          "output_type": "stream",
          "name": "stdout",
          "text": [
            "AAPL\n",
            "GOOG\n",
            "IBM\n",
            "F\n",
            "V\n",
            "G\n",
            "GE\n"
          ]
        }
      ],
      "source": [
        "stocks = ['AAPL','GOOG','IBM','FB','F','V', 'G', 'GE']\n",
        "for i in stocks:\n",
        "    if i == 'FB':\n",
        "        continue\n",
        "    print(i)"
      ]
    },
    {
      "cell_type": "markdown",
      "metadata": {
        "id": "4NusvdhBaxpZ"
      },
      "source": [
        "# List Comprehension\n",
        "List comprehension is a Pythonic way to create lists. Common applications are to make new lists where each element is the result of some operations applied to each member of another sequence. For example, if we want to create a list of squares using for loop:"
      ]
    },
    {
      "cell_type": "code",
      "execution_count": 355,
      "metadata": {
        "id": "bdxxeOABOv7h",
        "colab": {
          "base_uri": "https://localhost:8080/"
        },
        "outputId": "c5dff7e1-3918-4894-d7c3-7cdfc4d88fe8"
      },
      "outputs": [
        {
          "output_type": "stream",
          "name": "stdout",
          "text": [
            "[1, 4, 9, 16, 25]\n"
          ]
        }
      ],
      "source": [
        "squares = []\n",
        "for i in [1,2,3,4,5]:\n",
        "    squares.append(i**2)\n",
        "print(squares)"
      ]
    },
    {
      "cell_type": "markdown",
      "metadata": {
        "id": "--KliJBOa1CC"
      },
      "source": [
        "Using list comprehension:"
      ]
    },
    {
      "cell_type": "code",
      "execution_count": 356,
      "metadata": {
        "id": "440-yjG8Ov7h",
        "colab": {
          "base_uri": "https://localhost:8080/"
        },
        "outputId": "c9b34429-b0fe-4986-9199-f07e37b5bfb3"
      },
      "outputs": [
        {
          "output_type": "stream",
          "name": "stdout",
          "text": [
            "[1, 4, 9, 16, 25]\n"
          ]
        }
      ],
      "source": [
        "list = [1,2,3,4,5]\n",
        "squares = [x**2 for x in list]\n",
        "print(squares)"
      ]
    },
    {
      "cell_type": "markdown",
      "metadata": {
        "id": "uMuCfR3ya3zT"
      },
      "source": [
        "Recall the example above where we used a for loop to select stocks. Here we use list comprehension:"
      ]
    },
    {
      "cell_type": "code",
      "execution_count": 357,
      "metadata": {
        "id": "ZGtCtog2Ov7h",
        "colab": {
          "base_uri": "https://localhost:8080/"
        },
        "outputId": "779e0855-cfc8-4a12-8c77-f784dc7c3042"
      },
      "outputs": [
        {
          "output_type": "stream",
          "name": "stdout",
          "text": [
            "['AAPL', 'IBM']\n"
          ]
        }
      ],
      "source": [
        "stocks = ['AAPL','GOOG','IBM','FB','F','V', 'G', 'GE']\n",
        "selected = ['AAPL','IBM']\n",
        "new_list = [x for x in stocks if x in selected]\n",
        "print(new_list)"
      ]
    },
    {
      "cell_type": "markdown",
      "metadata": {
        "id": "EPeUv6Lia5oD"
      },
      "source": [
        "A list comprehension consists of square brackets containing an expression followed by a \"for\" clause, and possibly \"for\" or \"if\" clauses. For example:"
      ]
    },
    {
      "cell_type": "code",
      "execution_count": 358,
      "metadata": {
        "id": "O1AMB5d7Ov7i",
        "colab": {
          "base_uri": "https://localhost:8080/"
        },
        "outputId": "cb164f22-3202-434a-a955-285724d64d44"
      },
      "outputs": [
        {
          "output_type": "stream",
          "name": "stdout",
          "text": [
            "[(1, 3), (1, 4), (2, 3), (2, 1), (2, 4), (3, 1), (3, 4)]\n",
            "['AAPL vs F', 'AAPL vs V', 'AAPL vs G', 'AAPL vs GE', 'GOOG vs F', 'GOOG vs V', 'GOOG vs G', 'GOOG vs GE', 'IBM vs F', 'IBM vs V', 'IBM vs G', 'IBM vs GE', 'FB vs F', 'FB vs V', 'FB vs G', 'FB vs GE']\n"
          ]
        }
      ],
      "source": [
        "print([(x, y) for x in [1,2,3] for y in [3,1,4] if x != y])\n",
        "print([str(x)+' vs '+str(y) for x in ['AAPL','GOOG','IBM','FB'] for y in ['F','V','G','GE'] if x!=y])"
      ]
    },
    {
      "cell_type": "markdown",
      "metadata": {
        "id": "jJpvq-o4a8P7"
      },
      "source": [
        "List comprehension is an elegant way to organize one or more for loops when creating a list.\n",
        "\n",
        "# Summary\n",
        "This chapter has introduced logical operations, loops, and list comprehension. In the next chapter, we will introduce functions and object-oriented programming, which will enable us to make our codes clean and versatile."
      ]
    },
    {
      "cell_type": "markdown",
      "metadata": {
        "id": "Tef_X2wJbdhn"
      },
      "source": [
        "<div align=\"center\">\n",
        "<img style=\"display: block; margin: auto;\" alt=\"photo\" src=\"https://cdn.quantconnect.com/web/i/icon.png\">\n",
        "\n",
        "Quantconnect\n",
        "\n",
        "Introduction to Financial Python\n",
        "</div>\n",
        "\n",
        "# Functions and Object-Oriented Programming\n",
        "\n",
        "# Introduction\n",
        "\n",
        "In the last tutorial we introduced logical operations, loops and list comprehension. We will introduce functions and object-oriented programming in this chapter, which will enable us to build complex algorithms in more flexible ways.\n",
        "\n",
        "# Functions\n",
        "A function is a reusable block of code. We can use a function to output a value, or do anything else we want. We can easily define our own function by using the keyword \"def\"."
      ]
    },
    {
      "cell_type": "code",
      "execution_count": 359,
      "metadata": {
        "id": "eE_NkTiSO2PO",
        "colab": {
          "base_uri": "https://localhost:8080/"
        },
        "outputId": "841d55e3-efe9-48d8-dfc1-c72394068cec"
      },
      "outputs": [
        {
          "output_type": "stream",
          "name": "stdout",
          "text": [
            "6\n",
            "50\n"
          ]
        }
      ],
      "source": [
        "def product(x,y):\n",
        "    return x*y\n",
        "print(product(2,3))\n",
        "print(product(5,10))"
      ]
    },
    {
      "cell_type": "markdown",
      "source": [
        "**My Own Example 154**"
      ],
      "metadata": {
        "id": "oRJqoE_mLtbO"
      }
    },
    {
      "cell_type": "code",
      "source": [
        "def operacion(a,b,c,d):\n",
        "  return a**b+(c/d)\n",
        "print(operacion(2,4,6,3))  \n"
      ],
      "metadata": {
        "colab": {
          "base_uri": "https://localhost:8080/"
        },
        "id": "bSXBme3xL2rZ",
        "outputId": "54e1db25-2a61-48f2-ca7d-4a726d08cfc8"
      },
      "execution_count": 360,
      "outputs": [
        {
          "output_type": "stream",
          "name": "stdout",
          "text": [
            "18.0\n"
          ]
        }
      ]
    },
    {
      "cell_type": "markdown",
      "metadata": {
        "id": "4oRU_dVJbsdD"
      },
      "source": [
        "The keyword \"def\" is followed by the function name and the parenthesized list of formal parameters. The statements that form the body of the function start at the next line, and must be indented. The product() function above has \"x\" and \"y\" as its parameters. A function doesn't necessarily have parameters:"
      ]
    },
    {
      "cell_type": "code",
      "execution_count": 361,
      "metadata": {
        "id": "JhdWVLbUO2PQ",
        "colab": {
          "base_uri": "https://localhost:8080/"
        },
        "outputId": "f084a089-b122-4354-a6df-e4c16b552833"
      },
      "outputs": [
        {
          "output_type": "stream",
          "name": "stdout",
          "text": [
            "Welcome to QuantConnect\n"
          ]
        }
      ],
      "source": [
        "def say_hi():\n",
        "    print('Welcome to QuantConnect')\n",
        "say_hi()"
      ]
    },
    {
      "cell_type": "markdown",
      "metadata": {
        "id": "lHwqVpWVb1Jr"
      },
      "source": [
        "# Built-in Function\n",
        "**range()** is a function that creates a list containing an arithmetic sequence. It's often used in for loops. The arguments must be integers. If the \"step\" argument is omitted, it defaults to 1."
      ]
    },
    {
      "cell_type": "code",
      "execution_count": 362,
      "metadata": {
        "id": "VVOTELcIO2PQ",
        "colab": {
          "base_uri": "https://localhost:8080/"
        },
        "outputId": "53267f77-aec4-4f0e-e903-fd3575e6217a"
      },
      "outputs": [
        {
          "output_type": "stream",
          "name": "stdout",
          "text": [
            "range(0, 10)\n",
            "range(1, 11)\n",
            "range(1, 11, 2)\n"
          ]
        }
      ],
      "source": [
        "print(range(10))\n",
        "print(range(1,11))\n",
        "print(range(1,11,2))"
      ]
    },
    {
      "cell_type": "markdown",
      "metadata": {
        "id": "PD0cSgiwcQ4L"
      },
      "source": [
        "**len()** is another function used together with range() to create a for loop. This function returns the length of an object. The argument must be a sequence or a collection."
      ]
    },
    {
      "cell_type": "code",
      "execution_count": 363,
      "metadata": {
        "id": "Hg18c7v-O2PR",
        "colab": {
          "base_uri": "https://localhost:8080/"
        },
        "outputId": "f1dfb4d2-a818-4470-c757-66a330248982"
      },
      "outputs": [
        {
          "output_type": "stream",
          "name": "stdout",
          "text": [
            "The length of tickers is 8\n",
            "AAPL\n",
            "GOOG\n",
            "IBM\n",
            "FB\n",
            "F\n",
            "V\n",
            "G\n",
            "GE\n"
          ]
        }
      ],
      "source": [
        "tickers = ['AAPL','GOOG','IBM','FB','F','V', 'G', 'GE']\n",
        "print('The length of tickers is {}'.format(len(tickers)))\n",
        "for i in range(len(tickers)):\n",
        "    print(tickers[i])"
      ]
    },
    {
      "cell_type": "markdown",
      "metadata": {
        "id": "OIQSuub1cWgi"
      },
      "source": [
        "Note: If you want to print only the tickers without those numbers, then simply write \"for ticker in tickers: print ticker\"\n",
        "\n",
        "**map(**) is a function that applies a specific function to every item of a sequence or collection, and returns a list of the results."
      ]
    },
    {
      "cell_type": "code",
      "execution_count": 364,
      "metadata": {
        "id": "78DyKVOyO2PR"
      },
      "outputs": [],
      "source": [
        "#tickers = ['AAPL','GOOG','IBM','FB','F','V', 'G', 'GE']\n",
        "#print(list(map(len,tickers)))"
      ]
    },
    {
      "cell_type": "markdown",
      "metadata": {
        "id": "mvr06UM7ca7b"
      },
      "source": [
        "The **lambda operator** is a way to create small anonymous functions. These functions are just needed where they have been created. For example:"
      ]
    },
    {
      "cell_type": "code",
      "execution_count": 365,
      "metadata": {
        "id": "pAEHADYXO2PR"
      },
      "outputs": [],
      "source": [
        "#list(map(lambda x: x**2, range(10)))"
      ]
    },
    {
      "cell_type": "markdown",
      "metadata": {
        "id": "Mgixpxomcj3T"
      },
      "source": [
        "map() can be applied to more than one list. The lists have to have the same length."
      ]
    },
    {
      "cell_type": "code",
      "execution_count": 366,
      "metadata": {
        "id": "HtckhAaJO2PS"
      },
      "outputs": [],
      "source": [
        "#list(map(lambda x, y: x+y, [1,2,3,4,5],[5,4,3,2,1]))"
      ]
    },
    {
      "cell_type": "markdown",
      "metadata": {
        "id": "ZDnMTH-KcklT"
      },
      "source": [
        "**sorted()** takes a list or set and returns a new sorted list"
      ]
    },
    {
      "cell_type": "code",
      "execution_count": 367,
      "metadata": {
        "id": "P0sHUMFWO2PS",
        "colab": {
          "base_uri": "https://localhost:8080/"
        },
        "outputId": "3543c719-cf2f-4d0a-be84-3e03dc231e1d"
      },
      "outputs": [
        {
          "output_type": "execute_result",
          "data": {
            "text/plain": [
              "[1, 2, 3, 4, 5]"
            ]
          },
          "metadata": {},
          "execution_count": 367
        }
      ],
      "source": [
        "sorted([5,2,3,4,1])"
      ]
    },
    {
      "cell_type": "markdown",
      "source": [
        "**My Own Example 156**"
      ],
      "metadata": {
        "id": "LaJO-07-NIYU"
      }
    },
    {
      "cell_type": "code",
      "source": [
        "sorted([66,33,88,22,4,85,3])"
      ],
      "metadata": {
        "colab": {
          "base_uri": "https://localhost:8080/"
        },
        "id": "1StlffyVOEt7",
        "outputId": "6689aea3-bb42-4763-a3fa-6c867782e1cd"
      },
      "execution_count": 368,
      "outputs": [
        {
          "output_type": "execute_result",
          "data": {
            "text/plain": [
              "[3, 4, 22, 33, 66, 85, 88]"
            ]
          },
          "metadata": {},
          "execution_count": 368
        }
      ]
    },
    {
      "cell_type": "markdown",
      "metadata": {
        "id": "-N5_EDOFcnsc"
      },
      "source": [
        "We can add a \"key\" parameter to specify a function to be called on each list element prior to making comparisons. For example:"
      ]
    },
    {
      "cell_type": "code",
      "execution_count": 369,
      "metadata": {
        "id": "0i3peZ0bO2PS",
        "colab": {
          "base_uri": "https://localhost:8080/"
        },
        "outputId": "d04e0799-9826-4b4b-a18f-693837e3f2d4"
      },
      "outputs": [
        {
          "output_type": "execute_result",
          "data": {
            "text/plain": [
              "[('MSFT', 69), ('WMT', 75.32), ('AAPL', 144.09), ('FB', 150), ('GOOG', 911.71)]"
            ]
          },
          "metadata": {},
          "execution_count": 369
        }
      ],
      "source": [
        "price_list = [('AAPL',144.09),('GOOG',911.71),('MSFT',69),('FB',150),('WMT',75.32)]\n",
        "sorted(price_list, key = lambda x: x[1])"
      ]
    },
    {
      "cell_type": "markdown",
      "metadata": {
        "id": "yun2zptKcxe_"
      },
      "source": [
        "By default the values are sorted by ascending order. We can change it to descending by adding an optional parameter \"reverse'."
      ]
    },
    {
      "cell_type": "code",
      "execution_count": 370,
      "metadata": {
        "id": "dEZqdl94O2PT",
        "colab": {
          "base_uri": "https://localhost:8080/"
        },
        "outputId": "695b1d87-88ba-4956-874e-c22f7eacddaf"
      },
      "outputs": [
        {
          "output_type": "execute_result",
          "data": {
            "text/plain": [
              "[('GOOG', 911.71), ('FB', 150), ('AAPL', 144.09), ('WMT', 75.32), ('MSFT', 69)]"
            ]
          },
          "metadata": {},
          "execution_count": 370
        }
      ],
      "source": [
        "price_list = [('AAPL',144.09),('GOOG',911.71),('MSFT',69),('FB',150),('WMT',75.32)]\n",
        "sorted(price_list, key = lambda x: x[1],reverse = True)"
      ]
    },
    {
      "cell_type": "markdown",
      "metadata": {
        "id": "OA2wYAa0c6Dn"
      },
      "source": [
        "Lists also have a function list.sort(). This function takes the same \"key\" and \"reverse\" arguments as sorted(), but it doesn't return a new list."
      ]
    },
    {
      "cell_type": "code",
      "execution_count": 371,
      "metadata": {
        "id": "pG9VQCLnO2PT",
        "colab": {
          "base_uri": "https://localhost:8080/"
        },
        "outputId": "5c5b1c12-d363-4622-c64e-120211664e08"
      },
      "outputs": [
        {
          "output_type": "stream",
          "name": "stdout",
          "text": [
            "[('MSFT', 69), ('WMT', 75.32), ('AAPL', 144.09), ('FB', 150), ('GOOG', 911.71)]\n"
          ]
        }
      ],
      "source": [
        "price_list = [('AAPL',144.09),('GOOG',911.71),('MSFT',69),('FB',150),('WMT',75.32)]\n",
        "price_list.sort(key = lambda x: x[1])\n",
        "print(price_list)"
      ]
    },
    {
      "cell_type": "markdown",
      "metadata": {
        "id": "mxljL1W1c_c5"
      },
      "source": [
        "# Object-Oriented Programming\n",
        "Python is an object-oriented programming language. It's important to understand the concept of \"objects\" because almost every kind of data from QuantConnect API is an object.\n",
        "\n",
        "## Class\n",
        "A class is a type of data, just like a string, float, or list. When we create an object of that data type, we call it an instance of a class.\n",
        "\n",
        "In Python, everything is an object - everything is an instance of some class. The data stored inside an object are called attributes, and the functions which are associated with the object are called methods.\n",
        "\n",
        "For example, as mentioned above, a list is an object of the \"list\" class, and it has a method list.sort().\n",
        "\n",
        "We can create our own objects by defining a class. We would do this when it's helpful to group certain functions together. For example, we define a class named \"Stock\" here:"
      ]
    },
    {
      "cell_type": "code",
      "execution_count": 372,
      "metadata": {
        "id": "zC4Y4PgDO2PT"
      },
      "outputs": [],
      "source": [
        "class stock:\n",
        "    def __init__(self, ticker, open, close, volume):\n",
        "        self.ticker = ticker\n",
        "        self.open = open\n",
        "        self.close = close\n",
        "        self.volume = volume\n",
        "        self.rate_return = float(close)/open - 1\n",
        " \n",
        "    def update(self, open, close):\n",
        "        self.open = open\n",
        "        self.close = close\n",
        "        self.rate_return = float(self.close)/self.open - 1\n",
        " \n",
        "    def print_return(self):\n",
        "        print(self.rate_return)"
      ]
    },
    {
      "cell_type": "markdown",
      "metadata": {
        "id": "rV06INT5dETi"
      },
      "source": [
        "The \"Stock\" class has attributes \"ticker\", \"open\", \"close\", \"volume\" and \"rate_return\". Inside the class body, the first method is called __init__, which is a special method. When we create a new instance of the class, the __init__ method is immediately executed with all the parameters that we pass to the \"Stock\" object. The purpose of this method is to set up a new \"Stock\" object using data we have provided.\n",
        "\n",
        "Here we create two Stock objects named \"apple\" and \"google\"."
      ]
    },
    {
      "cell_type": "code",
      "execution_count": 373,
      "metadata": {
        "id": "8tIpNk93O2PU"
      },
      "outputs": [],
      "source": [
        "apple = stock('AAPL', 143.69, 144.09, 20109375)\n",
        "google = stock('GOOG', 898.7, 911.7, 1561616)"
      ]
    },
    {
      "cell_type": "markdown",
      "metadata": {
        "id": "VxmELNiHdPKS"
      },
      "source": [
        "Stock objects also have two other methods: update() and print_return(). We can access the attribues of a Stock object and call its methods:"
      ]
    },
    {
      "cell_type": "code",
      "execution_count": 374,
      "metadata": {
        "id": "SsiIkmekO2PU",
        "colab": {
          "base_uri": "https://localhost:8080/"
        },
        "outputId": "07bf9e34-6f03-4923-cf1d-6581f0d2994c"
      },
      "outputs": [
        {
          "output_type": "stream",
          "name": "stdout",
          "text": [
            "0.014465338822744034\n",
            "0.0006573181419806673\n"
          ]
        }
      ],
      "source": [
        "apple.ticker\n",
        "google.print_return()\n",
        "google.update(912.8,913.4)\n",
        "google.print_return()"
      ]
    },
    {
      "cell_type": "markdown",
      "metadata": {
        "id": "Q8fl7keNdVKF"
      },
      "source": [
        "By calling the update() function, we updated the open and close prices of a stock. Please note that when we use the attributes or call the methods **inside a class**, we need to specify them as self.attribute or self.method(), otherwise Python will deem them as global variables and thus raise an error.\n",
        "\n",
        "We can add an attribute to an object anywhere:"
      ]
    },
    {
      "cell_type": "code",
      "execution_count": 375,
      "metadata": {
        "id": "rO4OLnqOO2PU",
        "colab": {
          "base_uri": "https://localhost:8080/",
          "height": 36
        },
        "outputId": "f90f1f4f-7500-4743-f208-c7b25bf18f9f"
      },
      "outputs": [
        {
          "output_type": "execute_result",
          "data": {
            "text/plain": [
              "'Tim Cook'"
            ],
            "application/vnd.google.colaboratory.intrinsic+json": {
              "type": "string"
            }
          },
          "metadata": {},
          "execution_count": 375
        }
      ],
      "source": [
        "apple.ceo = 'Tim Cook'\n",
        "apple.ceo"
      ]
    },
    {
      "cell_type": "markdown",
      "source": [
        "**My Own Example 157**"
      ],
      "metadata": {
        "id": "p9gdkZ5JORen"
      }
    },
    {
      "cell_type": "code",
      "source": [
        "apple.ceo= \"Yu Takeuchi\"\n",
        "apple.ceo"
      ],
      "metadata": {
        "colab": {
          "base_uri": "https://localhost:8080/",
          "height": 36
        },
        "id": "9tf8PY4JOZvy",
        "outputId": "2abecdf4-7c08-4a64-c0fe-ed36e220b72a"
      },
      "execution_count": 376,
      "outputs": [
        {
          "output_type": "execute_result",
          "data": {
            "text/plain": [
              "'Yu Takeuchi'"
            ],
            "application/vnd.google.colaboratory.intrinsic+json": {
              "type": "string"
            }
          },
          "metadata": {},
          "execution_count": 376
        }
      ]
    },
    {
      "cell_type": "markdown",
      "metadata": {
        "id": "WyfnFgVidh4J"
      },
      "source": [
        "We can check what names (i.e. attributes and methods) are defined on an object using the dir() function:"
      ]
    },
    {
      "cell_type": "code",
      "execution_count": 377,
      "metadata": {
        "id": "pPoz0LA8O2PU",
        "colab": {
          "base_uri": "https://localhost:8080/"
        },
        "outputId": "c90e3fd8-6689-402f-d70c-c99bd5faf74b"
      },
      "outputs": [
        {
          "output_type": "execute_result",
          "data": {
            "text/plain": [
              "['__class__',\n",
              " '__delattr__',\n",
              " '__dict__',\n",
              " '__dir__',\n",
              " '__doc__',\n",
              " '__eq__',\n",
              " '__format__',\n",
              " '__ge__',\n",
              " '__getattribute__',\n",
              " '__gt__',\n",
              " '__hash__',\n",
              " '__init__',\n",
              " '__init_subclass__',\n",
              " '__le__',\n",
              " '__lt__',\n",
              " '__module__',\n",
              " '__ne__',\n",
              " '__new__',\n",
              " '__reduce__',\n",
              " '__reduce_ex__',\n",
              " '__repr__',\n",
              " '__setattr__',\n",
              " '__sizeof__',\n",
              " '__str__',\n",
              " '__subclasshook__',\n",
              " '__weakref__',\n",
              " 'ceo',\n",
              " 'close',\n",
              " 'open',\n",
              " 'print_return',\n",
              " 'rate_return',\n",
              " 'ticker',\n",
              " 'update',\n",
              " 'volume']"
            ]
          },
          "metadata": {},
          "execution_count": 377
        }
      ],
      "source": [
        "dir(apple)"
      ]
    },
    {
      "cell_type": "markdown",
      "metadata": {
        "id": "Qpemj1UZd2aa"
      },
      "source": [
        "## Inheritance\n",
        "Inheritance is a way of arranging classes in a hierarchy from the most general to the most specific. A \"child\" class is a more specific type of a \"parent\" class because a child class will inherit all the attribues and methods of its parent. For example, we define a class named \"Child\" which inherits \"Stock\":"
      ]
    },
    {
      "cell_type": "code",
      "execution_count": 378,
      "metadata": {
        "id": "UELXnxomO2PV"
      },
      "outputs": [],
      "source": [
        "class child(stock):\n",
        "    def __init__(self,name):\n",
        "        self.name = name"
      ]
    },
    {
      "cell_type": "code",
      "execution_count": 379,
      "metadata": {
        "id": "ffS2THZyO2PV",
        "colab": {
          "base_uri": "https://localhost:8080/"
        },
        "outputId": "f9bfb6be-87e1-43d3-de3e-5dfa66e571e7"
      },
      "outputs": [
        {
          "output_type": "stream",
          "name": "stdout",
          "text": [
            "aa\n",
            "100\n",
            "102\n",
            "0.020000000000000018\n",
            "None\n"
          ]
        }
      ],
      "source": [
        "aa = child('aa')\n",
        "print(aa.name)\n",
        "aa.update(100,102)\n",
        "print(aa.open)\n",
        "print(aa.close)\n",
        "print(aa.print_return())"
      ]
    },
    {
      "cell_type": "markdown",
      "source": [
        "**My Own Example 158**"
      ],
      "metadata": {
        "id": "tvMlyGu9OlLu"
      }
    },
    {
      "cell_type": "code",
      "source": [
        "lk = child('Andrés Felipe Lopez')\n",
        "print(lk.name)\n",
        "lk.update(100,102)\n",
        "print(lk.open)\n",
        "print(lk.close)\n",
        "print(lk.print_return())"
      ],
      "metadata": {
        "colab": {
          "base_uri": "https://localhost:8080/"
        },
        "id": "Q6ezCu0UOr5d",
        "outputId": "ba63f42d-f6b2-42bb-f47d-60faca77990c"
      },
      "execution_count": 380,
      "outputs": [
        {
          "output_type": "stream",
          "name": "stdout",
          "text": [
            "Andrés Felipe Lopez\n",
            "100\n",
            "102\n",
            "0.020000000000000018\n",
            "None\n"
          ]
        }
      ]
    },
    {
      "cell_type": "markdown",
      "metadata": {
        "id": "pdIEjUv2eJqL"
      },
      "source": [
        "As seen above, the new class Child has inherited the methods from Stock.\n",
        "\n",
        "#Summary\n",
        "\n",
        "In this chapter we have introduced functions and classes. When we write a QuantConnect algorithm, we would define our algorithm as a class (QCAlgorithm). This means our algorithm inherited the QC API methods from QCAlgorithm class.\n",
        "\n",
        "In the next chapter, we will introduce NumPy and Pandas, which enable us to conduct scientific calculations in Python."
      ]
    },
    {
      "cell_type": "markdown",
      "metadata": {
        "id": "wVaJf76bHBG2"
      },
      "source": [
        "<div align=\"center\">\n",
        "<img style=\"display: block; margin: auto;\" alt=\"photo\" src=\"https://upload.wikimedia.org/wikipedia/en/d/de/Quantopian_logo_2017.png\">\n",
        "</div> \n",
        "\n",
        "# Introduction to NumPy\n",
        "by Maxwell Margenot\n",
        "\n",
        "Part of the Quantopian Lecture Series:\n",
        "\n",
        "* [www.quantopian.com/lectures](https://www.quantopian.com/lectures)\n",
        "* [github.com/quantopian/research_public](https://github.com/quantopian/research_public)\n",
        "\n",
        "Notebook released under the Creative Commons Attribution 4.0 License."
      ]
    },
    {
      "cell_type": "markdown",
      "metadata": {
        "id": "IAK83zxDHBG5"
      },
      "source": [
        "NumPy is an incredibly powerful package in Python that is ubiquitous throughout the Quantopian platform. It has strong integration with Pandas, another tool we will be covering in the lecture series. NumPy adds support for multi-dimensional arrays and mathematical functions that allow you to easily perform linear algebra calculations. This lecture will be a collection of linear algebra examples computed using NumPy."
      ]
    },
    {
      "cell_type": "code",
      "execution_count": 381,
      "metadata": {
        "collapsed": true,
        "id": "dM_wDhYaHBG6"
      },
      "outputs": [],
      "source": [
        "import numpy as np\n",
        "import matplotlib.pyplot as plt"
      ]
    },
    {
      "cell_type": "markdown",
      "metadata": {
        "id": "WRqhcyh8HBG7"
      },
      "source": [
        "### Basic NumPy arrays"
      ]
    },
    {
      "cell_type": "markdown",
      "metadata": {
        "id": "RwBafjlxHBG7"
      },
      "source": [
        "The most basic way that we could make use of NumPy in finance is calculating the mean return of a portfolio. Say that we have a list containing the historical return of several stocks."
      ]
    },
    {
      "cell_type": "code",
      "execution_count": 382,
      "metadata": {
        "collapsed": true,
        "id": "FUQksY7SHBG7"
      },
      "outputs": [],
      "source": [
        "stock_list = [3.5, 5, 2, 8, 4.2]"
      ]
    },
    {
      "cell_type": "markdown",
      "source": [
        "**My Own Example 159**"
      ],
      "metadata": {
        "id": "QFcThjO-YcQq"
      }
    },
    {
      "cell_type": "code",
      "source": [
        "ListaSt=[8.8,6.8,3.3,1.2,9.8]"
      ],
      "metadata": {
        "id": "-pKc4CgSYgiB"
      },
      "execution_count": 383,
      "outputs": []
    },
    {
      "cell_type": "markdown",
      "metadata": {
        "id": "C18w8L6DHBG8"
      },
      "source": [
        "We can make an array by calling a function on the list:"
      ]
    },
    {
      "cell_type": "code",
      "execution_count": 384,
      "metadata": {
        "id": "Mr7MYGIeHBG8",
        "colab": {
          "base_uri": "https://localhost:8080/"
        },
        "outputId": "38f24451-a7cb-460b-930a-d9bb2f94f742"
      },
      "outputs": [
        {
          "output_type": "stream",
          "name": "stdout",
          "text": [
            "[3.5 5.  2.  8.  4.2] <class 'numpy.ndarray'>\n"
          ]
        }
      ],
      "source": [
        "returns = np.array(stock_list)\n",
        "print(returns, type(returns))"
      ]
    },
    {
      "cell_type": "markdown",
      "source": [
        "**My Own Example 160**"
      ],
      "metadata": {
        "id": "lfbtLVJTYsMy"
      }
    },
    {
      "cell_type": "code",
      "source": [
        "devolver = np.array(ListaSt)\n",
        "print(devolver, type(devolver))"
      ],
      "metadata": {
        "colab": {
          "base_uri": "https://localhost:8080/"
        },
        "id": "Mcy2TYOpYviI",
        "outputId": "6eb0f88f-eaee-4853-c9e1-6c08048d2b98"
      },
      "execution_count": 385,
      "outputs": [
        {
          "output_type": "stream",
          "name": "stdout",
          "text": [
            "[8.8 6.8 3.3 1.2 9.8] <class 'numpy.ndarray'>\n"
          ]
        }
      ]
    },
    {
      "cell_type": "markdown",
      "metadata": {
        "id": "1HqIY_bRHBG-"
      },
      "source": [
        "You'll notice that the type of our array is 'ndarray', not just 'array'. This is because NumPy arrays can be created with multiple dimensions. If we pass np.array() a list of lists, it will create a 2-dimensional array. If we pass a list of lists of lists, it will create a 3-dimensional array, and so on and so forth."
      ]
    },
    {
      "cell_type": "code",
      "execution_count": 386,
      "metadata": {
        "id": "SkVTB_FhHBG-",
        "colab": {
          "base_uri": "https://localhost:8080/"
        },
        "outputId": "231caac1-dbdc-402b-9cbe-008c2144a294"
      },
      "outputs": [
        {
          "output_type": "stream",
          "name": "stdout",
          "text": [
            "[[1 2]\n",
            " [3 4]] <class 'numpy.ndarray'>\n"
          ]
        }
      ],
      "source": [
        "A = np.array([[1, 2], [3, 4]])\n",
        "print(A, type(A))"
      ]
    },
    {
      "cell_type": "markdown",
      "source": [
        "**My Own Example 161**"
      ],
      "metadata": {
        "id": "1C5Y141NZQDq"
      }
    },
    {
      "cell_type": "code",
      "source": [
        "ZZZ = np.array([[231, 34], [67, 98]])\n",
        "print(ZZZ, type(ZZZ))"
      ],
      "metadata": {
        "colab": {
          "base_uri": "https://localhost:8080/"
        },
        "id": "WIB8pfTAZVRg",
        "outputId": "16e22035-0932-476f-8abe-2e20896dcd22"
      },
      "execution_count": 387,
      "outputs": [
        {
          "output_type": "stream",
          "name": "stdout",
          "text": [
            "[[231  34]\n",
            " [ 67  98]] <class 'numpy.ndarray'>\n"
          ]
        }
      ]
    },
    {
      "cell_type": "markdown",
      "metadata": {
        "id": "4VKkEby_HBG_"
      },
      "source": [
        "We can access the dimensions of an array by looking at its `shape` member variable."
      ]
    },
    {
      "cell_type": "code",
      "execution_count": 388,
      "metadata": {
        "id": "7LTqF61fHBG_",
        "colab": {
          "base_uri": "https://localhost:8080/"
        },
        "outputId": "932330fe-3e8d-45e3-b9aa-9552f885db01"
      },
      "outputs": [
        {
          "output_type": "stream",
          "name": "stdout",
          "text": [
            "(2, 2)\n"
          ]
        }
      ],
      "source": [
        "print(A.shape)"
      ]
    },
    {
      "cell_type": "markdown",
      "source": [
        "**My Own Example 162**"
      ],
      "metadata": {
        "id": "_wyM5nE2ZEKi"
      }
    },
    {
      "cell_type": "code",
      "source": [
        "print(ZZZ.shape)"
      ],
      "metadata": {
        "colab": {
          "base_uri": "https://localhost:8080/"
        },
        "id": "dfW5i2dhZHSf",
        "outputId": "4ecee0d1-de56-49a2-e96a-0583aed90d2c"
      },
      "execution_count": 389,
      "outputs": [
        {
          "output_type": "stream",
          "name": "stdout",
          "text": [
            "(2, 2)\n"
          ]
        }
      ]
    },
    {
      "cell_type": "markdown",
      "metadata": {
        "id": "MZ4c2ugEHBG_"
      },
      "source": [
        "Arrays are indexed in much the same way as lists in Python. Elements of a list begin indexing from $0$ and end at $n - 1$, where $n$ is the length of the array."
      ]
    },
    {
      "cell_type": "code",
      "execution_count": 390,
      "metadata": {
        "id": "dGmwVWJ7HBHA",
        "colab": {
          "base_uri": "https://localhost:8080/"
        },
        "outputId": "f33b3938-2e85-4617-c538-e71b470c2195"
      },
      "outputs": [
        {
          "output_type": "stream",
          "name": "stdout",
          "text": [
            "3.5 4.2\n"
          ]
        }
      ],
      "source": [
        "print(returns[0], returns[len(returns) - 1])"
      ]
    },
    {
      "cell_type": "markdown",
      "source": [
        "**My Own Example 163**"
      ],
      "metadata": {
        "id": "8Bpowj5qZzqJ"
      }
    },
    {
      "cell_type": "code",
      "source": [
        "print(devolver[3], devolver[len(devolver) - 1])"
      ],
      "metadata": {
        "colab": {
          "base_uri": "https://localhost:8080/"
        },
        "id": "yMtJ0qszZ42m",
        "outputId": "45bc49e6-7274-42b6-f115-857613737666"
      },
      "execution_count": 391,
      "outputs": [
        {
          "output_type": "stream",
          "name": "stdout",
          "text": [
            "1.2 9.8\n"
          ]
        }
      ]
    },
    {
      "cell_type": "markdown",
      "metadata": {
        "id": "FQjELc7_HBHA"
      },
      "source": [
        "We can take a slice of an array using a colon, just like in a list."
      ]
    },
    {
      "cell_type": "code",
      "execution_count": 392,
      "metadata": {
        "id": "htvKur0-HBHA",
        "colab": {
          "base_uri": "https://localhost:8080/"
        },
        "outputId": "c94ef0ab-469a-463b-ca65-d07d6b343aea"
      },
      "outputs": [
        {
          "output_type": "stream",
          "name": "stdout",
          "text": [
            "[5.]\n"
          ]
        }
      ],
      "source": [
        "print(returns[1:2])"
      ]
    },
    {
      "cell_type": "markdown",
      "source": [
        "**My Own Example 164**"
      ],
      "metadata": {
        "id": "oiSXYvnfaFkU"
      }
    },
    {
      "cell_type": "code",
      "source": [
        "print(devolver[1:4])"
      ],
      "metadata": {
        "colab": {
          "base_uri": "https://localhost:8080/"
        },
        "id": "uw-hWcCoaJQc",
        "outputId": "c46c5e1d-5148-4fce-cdec-ff33b43ebd83"
      },
      "execution_count": 393,
      "outputs": [
        {
          "output_type": "stream",
          "name": "stdout",
          "text": [
            "[6.8 3.3 1.2]\n"
          ]
        }
      ]
    },
    {
      "cell_type": "markdown",
      "metadata": {
        "id": "-H58RLTUHBHB"
      },
      "source": [
        "A slice of an array, like in a list, will select a group of elements in the array starting from the first element indicated and going up to (but not including) the last element indicated.\n",
        "\n",
        "In the case of multidimensional arrays, many of the same conventions with slicing and indexing hold. We can access the first column of a 2-dimensional array like so:"
      ]
    },
    {
      "cell_type": "code",
      "execution_count": 394,
      "metadata": {
        "id": "yYijy0W9HBHB",
        "colab": {
          "base_uri": "https://localhost:8080/"
        },
        "outputId": "030d136e-4f86-4ee7-9d41-9c42aec58eda"
      },
      "outputs": [
        {
          "output_type": "stream",
          "name": "stdout",
          "text": [
            "[1 3]\n"
          ]
        }
      ],
      "source": [
        "print(A[:, 0])"
      ]
    },
    {
      "cell_type": "markdown",
      "source": [
        "**My Own Example 165**"
      ],
      "metadata": {
        "id": "Ror4ogJRaoea"
      }
    },
    {
      "cell_type": "code",
      "source": [
        "print(ZZZ[:, 0])"
      ],
      "metadata": {
        "colab": {
          "base_uri": "https://localhost:8080/"
        },
        "id": "NRg34Orbase3",
        "outputId": "a36f9386-8052-48cf-b3d5-cf5805a27740"
      },
      "execution_count": 395,
      "outputs": [
        {
          "output_type": "stream",
          "name": "stdout",
          "text": [
            "[231  67]\n"
          ]
        }
      ]
    },
    {
      "cell_type": "markdown",
      "metadata": {
        "id": "xhQVM7NnHBHB"
      },
      "source": [
        "And the first row of a 2-dimensional array like so:"
      ]
    },
    {
      "cell_type": "code",
      "execution_count": 396,
      "metadata": {
        "id": "wkSgQPPwHBHC",
        "colab": {
          "base_uri": "https://localhost:8080/"
        },
        "outputId": "5aa10249-e62c-48c6-fcc7-5f885f69f405"
      },
      "outputs": [
        {
          "output_type": "stream",
          "name": "stdout",
          "text": [
            "[1 2]\n"
          ]
        }
      ],
      "source": [
        "print(A[0, :])"
      ]
    },
    {
      "cell_type": "markdown",
      "source": [
        "**My Own Example 166**"
      ],
      "metadata": {
        "id": "7pRVfGq-aidL"
      }
    },
    {
      "cell_type": "code",
      "source": [
        "print(ZZZ[0, :])"
      ],
      "metadata": {
        "colab": {
          "base_uri": "https://localhost:8080/"
        },
        "id": "4f7hQFb3am6j",
        "outputId": "82e7c78d-3096-4884-aa55-5c120f9267e7"
      },
      "execution_count": 397,
      "outputs": [
        {
          "output_type": "stream",
          "name": "stdout",
          "text": [
            "[231  34]\n"
          ]
        }
      ]
    },
    {
      "cell_type": "markdown",
      "metadata": {
        "id": "SDTAtESGHBHC"
      },
      "source": [
        "Notice that each slice of the array returns yet another array!"
      ]
    },
    {
      "cell_type": "code",
      "execution_count": 398,
      "metadata": {
        "id": "i-b_etOwHBHC",
        "colab": {
          "base_uri": "https://localhost:8080/"
        },
        "outputId": "9b29de46-e18f-409e-f94e-fbebd8dbc3b8"
      },
      "outputs": [
        {
          "output_type": "stream",
          "name": "stdout",
          "text": [
            "<class 'numpy.ndarray'>\n"
          ]
        }
      ],
      "source": [
        "print(type(A[0,:]))"
      ]
    },
    {
      "cell_type": "markdown",
      "metadata": {
        "id": "nU9uyhBoHBHC"
      },
      "source": [
        "Passing only one index to a 2-dimensional array will result in returning the row with the given index as well, providing us with another way to access individual rows."
      ]
    },
    {
      "cell_type": "code",
      "execution_count": 399,
      "metadata": {
        "id": "3TKqNl1HHBHD",
        "colab": {
          "base_uri": "https://localhost:8080/"
        },
        "outputId": "d44fcba8-0eb2-4ec0-8c93-c87f239cb5b1"
      },
      "outputs": [
        {
          "output_type": "stream",
          "name": "stdout",
          "text": [
            "[1 2]\n"
          ]
        }
      ],
      "source": [
        "print(A[0])"
      ]
    },
    {
      "cell_type": "markdown",
      "source": [
        "**My Own Example 167**"
      ],
      "metadata": {
        "id": "OJumTc58bG__"
      }
    },
    {
      "cell_type": "code",
      "source": [
        "print(ZZZ[0])"
      ],
      "metadata": {
        "colab": {
          "base_uri": "https://localhost:8080/"
        },
        "id": "iF8cg4NWbK1i",
        "outputId": "b828fe8b-772f-4fe4-ab45-1b5e015751c1"
      },
      "execution_count": 400,
      "outputs": [
        {
          "output_type": "stream",
          "name": "stdout",
          "text": [
            "[231  34]\n"
          ]
        }
      ]
    },
    {
      "cell_type": "markdown",
      "metadata": {
        "id": "YU3JrOlTHBHD"
      },
      "source": [
        "Accessing the index of an individual element will return only the element."
      ]
    },
    {
      "cell_type": "code",
      "execution_count": 401,
      "metadata": {
        "id": "wRAqWXdMHBHD",
        "colab": {
          "base_uri": "https://localhost:8080/"
        },
        "outputId": "70ed5215-2e6b-4dba-894b-790a20ec8d64"
      },
      "outputs": [
        {
          "output_type": "stream",
          "name": "stdout",
          "text": [
            "4\n"
          ]
        }
      ],
      "source": [
        "print(A[1, 1])"
      ]
    },
    {
      "cell_type": "markdown",
      "metadata": {
        "id": "xFQO6Fs6HBHD"
      },
      "source": [
        "#### Array functions\n",
        "\n",
        "Functions built into NumPy can be easily called on arrays. Most functions are applied to an array element-wise (as scalar multiplication is). For example, if we call `log()` on an array, the logarithm will be taken of each element."
      ]
    },
    {
      "cell_type": "code",
      "execution_count": 402,
      "metadata": {
        "id": "DjSH9iNsHBHE",
        "colab": {
          "base_uri": "https://localhost:8080/"
        },
        "outputId": "bd84ffc7-929d-4efa-d418-efb2069b8368"
      },
      "outputs": [
        {
          "output_type": "stream",
          "name": "stdout",
          "text": [
            "[1.25276297 1.60943791 0.69314718 2.07944154 1.43508453]\n"
          ]
        }
      ],
      "source": [
        "print(np.log(returns))"
      ]
    },
    {
      "cell_type": "markdown",
      "source": [
        "**My Own Example 168**"
      ],
      "metadata": {
        "id": "drZ_c9QcbbMl"
      }
    },
    {
      "cell_type": "code",
      "source": [
        "print(np.log(devolver))"
      ],
      "metadata": {
        "colab": {
          "base_uri": "https://localhost:8080/"
        },
        "id": "eL9BiUKwbfFM",
        "outputId": "95ddff36-d6f5-4ff8-b1e5-7235ff1fc65d"
      },
      "execution_count": 403,
      "outputs": [
        {
          "output_type": "stream",
          "name": "stdout",
          "text": [
            "[2.17475172 1.91692261 1.19392247 0.18232156 2.28238239]\n"
          ]
        }
      ]
    },
    {
      "cell_type": "markdown",
      "metadata": {
        "id": "_V-GzEzEHBHE"
      },
      "source": [
        "Some functions return a single value. This is because they treat the array as a collection (similar to a list), performing the designated function. For example, the `mean()` function will do exactly what you expect, calculating the mean of an array."
      ]
    },
    {
      "cell_type": "code",
      "execution_count": 404,
      "metadata": {
        "id": "R282crA5HBHE",
        "colab": {
          "base_uri": "https://localhost:8080/"
        },
        "outputId": "c0763087-099d-46c7-bd18-f08945d1d0b6"
      },
      "outputs": [
        {
          "output_type": "stream",
          "name": "stdout",
          "text": [
            "4.54\n"
          ]
        }
      ],
      "source": [
        "print(np.mean(returns))"
      ]
    },
    {
      "cell_type": "markdown",
      "source": [
        "**My Own Example 169**"
      ],
      "metadata": {
        "id": "Wh5Nz-v9ch0s"
      }
    },
    {
      "cell_type": "code",
      "source": [
        "print(np.mean(devolver))"
      ],
      "metadata": {
        "colab": {
          "base_uri": "https://localhost:8080/"
        },
        "id": "QGvcH7Rvcl4w",
        "outputId": "b6af7d7c-1e91-475d-ee00-44c7b6a7b890"
      },
      "execution_count": 405,
      "outputs": [
        {
          "output_type": "stream",
          "name": "stdout",
          "text": [
            "5.98\n"
          ]
        }
      ]
    },
    {
      "cell_type": "markdown",
      "metadata": {
        "id": "OxaJ11yqHBHE"
      },
      "source": [
        "Or the `max()` function will return the maximum element of an array."
      ]
    },
    {
      "cell_type": "code",
      "execution_count": 406,
      "metadata": {
        "id": "Eh2nhunpHBHE",
        "colab": {
          "base_uri": "https://localhost:8080/"
        },
        "outputId": "6a4085d5-5b8b-481a-bc4e-aa2ea58dfb03"
      },
      "outputs": [
        {
          "output_type": "stream",
          "name": "stdout",
          "text": [
            "8.0\n"
          ]
        }
      ],
      "source": [
        "print(np.max(returns))"
      ]
    },
    {
      "cell_type": "markdown",
      "source": [
        "**My Own Example 170**"
      ],
      "metadata": {
        "id": "ARA_wgrPctIK"
      }
    },
    {
      "cell_type": "code",
      "source": [
        "print(np.max(devolver))"
      ],
      "metadata": {
        "colab": {
          "base_uri": "https://localhost:8080/"
        },
        "id": "udcNS87ZcyPR",
        "outputId": "68710016-9bcd-47d7-b1d6-e8682167b8be"
      },
      "execution_count": 407,
      "outputs": [
        {
          "output_type": "stream",
          "name": "stdout",
          "text": [
            "9.8\n"
          ]
        }
      ]
    },
    {
      "cell_type": "markdown",
      "metadata": {
        "id": "eH1KYrrWHBHF"
      },
      "source": [
        "For further reading on the universal functions in NumPy, check out the [documentation](https://docs.scipy.org/doc/numpy/user/quickstart.html#universal-functions)."
      ]
    },
    {
      "cell_type": "markdown",
      "metadata": {
        "id": "oEcjMM3IHBHF"
      },
      "source": [
        "### Return to the returns\n",
        "\n",
        "Now let's modify our returns array with scalar values. If we add a scalar value to an array it will be added to every element of the array. If we multiply an array by a scalar value it will be multiplied against every element of the array. If we do both, both will happen!"
      ]
    },
    {
      "cell_type": "code",
      "execution_count": 408,
      "metadata": {
        "id": "Jv4n194OHBHF",
        "scrolled": false,
        "colab": {
          "base_uri": "https://localhost:8080/"
        },
        "outputId": "679d6090-83b5-4061-c864-48fc88cc9773"
      },
      "outputs": [
        {
          "output_type": "execute_result",
          "data": {
            "text/plain": [
              "array([12. , 15. ,  9. , 21. , 13.4])"
            ]
          },
          "metadata": {},
          "execution_count": 408
        }
      ],
      "source": [
        "returns*2 + 5"
      ]
    },
    {
      "cell_type": "markdown",
      "source": [
        "**My Own Example 171**"
      ],
      "metadata": {
        "id": "WiPnt3iGgw49"
      }
    },
    {
      "cell_type": "code",
      "source": [
        "devolver*88"
      ],
      "metadata": {
        "colab": {
          "base_uri": "https://localhost:8080/"
        },
        "id": "xKvw7pVKg1MM",
        "outputId": "c2cb5a27-32c5-4488-e4ef-cd342200ac12"
      },
      "execution_count": 409,
      "outputs": [
        {
          "output_type": "execute_result",
          "data": {
            "text/plain": [
              "array([774.4, 598.4, 290.4, 105.6, 862.4])"
            ]
          },
          "metadata": {},
          "execution_count": 409
        }
      ]
    },
    {
      "cell_type": "markdown",
      "metadata": {
        "id": "M73hAzi8HBHF"
      },
      "source": [
        "NumPy also has functions specifically built to operate on arrays. Let's take the mean and standard deviation of this group of returns."
      ]
    },
    {
      "cell_type": "code",
      "execution_count": 410,
      "metadata": {
        "id": "fw5ln9DRHBHF",
        "colab": {
          "base_uri": "https://localhost:8080/"
        },
        "outputId": "a774a409-b673-427c-9308-9f8531878d08"
      },
      "outputs": [
        {
          "output_type": "stream",
          "name": "stdout",
          "text": [
            "Mean:  4.54\n"
          ]
        },
        {
          "output_type": "execute_result",
          "data": {
            "text/plain": [
              "(None, 'Std Dev: ', 1.9915822855207364)"
            ]
          },
          "metadata": {},
          "execution_count": 410
        }
      ],
      "source": [
        "print(\"Mean: \", np.mean(returns)), \"Std Dev: \", np.std(returns)"
      ]
    },
    {
      "cell_type": "markdown",
      "metadata": {
        "id": "3_BKgW1pHBHF"
      },
      "source": [
        "Let's simulate a universe of stocks using NumPy's functions. First we need to create the arrays to hold the assets and returns that we will use to build a portfolio. This is because arrays are created with a fixed size. Their dimensions can't be changed without creating a new array."
      ]
    },
    {
      "cell_type": "code",
      "execution_count": 411,
      "metadata": {
        "collapsed": true,
        "id": "EtDKFh5-HBHG"
      },
      "outputs": [],
      "source": [
        "N = 10\n",
        "assets = np.zeros((N, 100))\n",
        "returns = np.zeros((N, 100))"
      ]
    },
    {
      "cell_type": "markdown",
      "metadata": {
        "id": "GVcY465tHBHG"
      },
      "source": [
        "This function, `zeroes()`, creates a NumPy array with the given dimensions that is entirely filled in with $0$. We can pass a single value or a tuple of as many dimensions as we like. Passing in the tuple `(N, 100)`, will return a two-dimensional array with $N$ rows and $100$ columns. Our result is a $N \\times 100$ array.\n",
        "\n",
        "Now we will simulate a base asset. We want the universe of stocks to be correlated with each other so we will use this initial value to generate the others."
      ]
    },
    {
      "cell_type": "markdown",
      "source": [
        "**My Own Example 172**"
      ],
      "metadata": {
        "id": "wkP-0EwyhLRH"
      }
    },
    {
      "cell_type": "code",
      "source": [
        "M= 23\n",
        "AST = np.zeros((M, 100))\n",
        "RET = np.zeros((M, 100))"
      ],
      "metadata": {
        "id": "i4sxO3phhOfm"
      },
      "execution_count": 412,
      "outputs": []
    },
    {
      "cell_type": "code",
      "execution_count": 413,
      "metadata": {
        "id": "Qipf5egbHBHG"
      },
      "outputs": [],
      "source": [
        "R_1 = np.random.normal(1.01, 0.03, 100)\n",
        "returns[0] = R_1\n",
        "assets[0] = np.cumprod(R_1)"
      ]
    },
    {
      "cell_type": "markdown",
      "source": [
        "**My own Example 173**"
      ],
      "metadata": {
        "id": "vnd0GugehGPi"
      }
    },
    {
      "cell_type": "code",
      "source": [
        "R_1 = np.random.normal(2.11, 0.889, 100)\n",
        "RET[0] = R_1\n",
        "AST[0] = np.cumprod(R_1)"
      ],
      "metadata": {
        "id": "WIBVebnnhYTX"
      },
      "execution_count": 414,
      "outputs": []
    },
    {
      "cell_type": "markdown",
      "metadata": {
        "id": "ToLVQXotHBHG"
      },
      "source": [
        "The `random` module in NumPy is exceedingly useful. It contains methods for sampling from many different probability distributions, some of which are covered in the [random variables lecture](https://www.quantopian.com/lectures/random-variables) in the Quantopian lecture series. In this case we draw $N = 100$ random samples from a normal distribution with mean $1.01$ and standard deviation $0.03$. We treat these as the daily percentage returns of our asset and take the cumulative product of these samples to get the current price.\n",
        "\n",
        "The way we have generated our universe, the the individual $R_i$ vectors are each 1-dimensional arrays and the `returns` and `assets` variables contain 2-dimensional arrays. Above, we set the initial row of both `returns` and `assets` to be the first $R_i$ vector and the cumulative asset price based on those returns, respectively.\n",
        "\n",
        "We will now use this base asset to create a few other random assets that are correlated with it."
      ]
    },
    {
      "cell_type": "code",
      "execution_count": 415,
      "metadata": {
        "id": "LgPyF_6kHBHG"
      },
      "outputs": [],
      "source": [
        " #Generate assets that are correlated with R_1\n",
        "for i in range(1, N):\n",
        "    R_i = R_1 + np.random.normal(0.001, 0.02, 100)\n",
        "    returns[i] = R_i # Set each row of returns equal to the new R_i array\n",
        "    assets[i] = np.cumprod(R_i)\n",
        "    \n",
        "mean_returns = [(np.mean(R) - 1)*100 for R in returns]\n",
        "return_volatilities = [np.std(R) for R in returns]"
      ]
    },
    {
      "cell_type": "markdown",
      "metadata": {
        "id": "tv3LuKy-HBHG"
      },
      "source": [
        "Here we generate the remaining $N - 1$ securities that we want in our universe by adding random noise to $R_1$. This ensures that our $N - 1$ other assets will be correlated with the base asset because they have some underlying information that is shared.\n",
        "\n",
        "Let's plot what the mean return of each asset looks like:"
      ]
    },
    {
      "cell_type": "code",
      "execution_count": 416,
      "metadata": {
        "id": "mJReUq0aHBHH",
        "scrolled": false,
        "colab": {
          "base_uri": "https://localhost:8080/",
          "height": 295
        },
        "outputId": "d9bedbf7-8359-4898-97dc-9a9234297358"
      },
      "outputs": [
        {
          "output_type": "display_data",
          "data": {
            "text/plain": [
              "<Figure size 432x288 with 1 Axes>"
            ],
            "image/png": "[encoded data removed]"
          },
          "metadata": {
            "needs_background": "light"
          }
        }
      ],
      "source": [
        "plt.bar(np.arange(len(mean_returns)), mean_returns)\n",
        "plt.xlabel('Stock')\n",
        "plt.ylabel('Returns')\n",
        "plt.title('Returns for {0} Random Assets'.format(N));"
      ]
    },
    {
      "cell_type": "markdown",
      "metadata": {
        "id": "OY0_iqBMHBHH"
      },
      "source": [
        "### Calculating Expected Return\n",
        "\n",
        "So we have a universe of stocks. Great! Now let's put them together in a portfolio and calculate its expected return and risk.\n",
        "\n",
        "We will start off by generating $N$ random weights for each asset in our portfolio."
      ]
    },
    {
      "cell_type": "code",
      "execution_count": 417,
      "metadata": {
        "id": "9YjglefxHBHH"
      },
      "outputs": [],
      "source": [
        "weights = np.random.uniform(0, 1, N)\n",
        "weights = weights/np.sum(weights)"
      ]
    },
    {
      "cell_type": "markdown",
      "source": [
        "**My Own Example 174**\n",
        "\n"
      ],
      "metadata": {
        "id": "G_LCrQyGj07L"
      }
    },
    {
      "cell_type": "code",
      "source": [
        "WWW= np.random.uniform(10, 15, N)\n",
        "WWW = WWW/np.sum(WWW)"
      ],
      "metadata": {
        "id": "U1-wwPkGk44Q"
      },
      "execution_count": 418,
      "outputs": []
    },
    {
      "cell_type": "markdown",
      "metadata": {
        "id": "CnycaAodHBHH"
      },
      "source": [
        "We have to rescale the weights so that they all add up to $1$. We do this by scaling the weights vector by the sum total of all the weights. This step ensures that we will be using $100\\%$ of the portfolio's cash.\n",
        "\n",
        "To calculate the mean return of the portfolio, we have to scale each asset's return by its designated weight. We can pull each element of each array and multiply them individually, but it's quicker to use NumPy's linear algebra methods. The function that we want is `dot()`. This will calculate the dot product between two arrays for us. So if $v = \\left[ 1, 2, 3 \\right]$ and $w = \\left[4, 5, 6 \\right]$, then:\n",
        "\n",
        "$$ v \\cdot w = 1 \\times 4 + 2 \\times 5 + 3 \\times 6 $$\n",
        "\n",
        "For a one-dimensional vector, the dot product will multiply each element pointwise and add all the products together! In our case, we have a vector of weights, $\\omega = \\left[ \\omega_1, \\omega_2, \\dots \\omega_N\\right]$ and a vector of returns, $\\mu = \\left[ \\mu_1, \\mu_2, \\dots, \\mu_N\\right]$. If we take the dot product of these two we will get:\n",
        "\n",
        "$$ \\omega \\cdot \\mu = \\omega_1\\mu_1 + \\omega_2\\mu_2 + \\dots + \\omega_N\\mu_N = \\mu_P $$\n",
        "\n",
        "This yields the sum of all the asset returns scaled by their respective weights. This the the portfolio's overall expected return!"
      ]
    },
    {
      "cell_type": "code",
      "execution_count": 419,
      "metadata": {
        "id": "QfJNTq81HBHH",
        "colab": {
          "base_uri": "https://localhost:8080/"
        },
        "outputId": "33da2b30-dbe1-4ff8-8bc7-c9ab0472addb"
      },
      "outputs": [
        {
          "output_type": "stream",
          "name": "stdout",
          "text": [
            "Expected return of the portfolio:  102.84589332039396\n"
          ]
        }
      ],
      "source": [
        "p_returns = np.dot(weights, mean_returns)\n",
        "print(\"Expected return of the portfolio: \", p_returns)"
      ]
    },
    {
      "cell_type": "markdown",
      "source": [
        "**My Own Example 175**"
      ],
      "metadata": {
        "id": "yKgAIIlhlP6j"
      }
    },
    {
      "cell_type": "code",
      "source": [
        "PR= np.dot(WWW, mean_returns)\n",
        "print(\"Tasa de retorno: \", PR)"
      ],
      "metadata": {
        "colab": {
          "base_uri": "https://localhost:8080/"
        },
        "id": "aazstmvflTjo",
        "outputId": "168aaf39-f9cd-4088-8275-3e50b3c36483"
      },
      "execution_count": 420,
      "outputs": [
        {
          "output_type": "stream",
          "name": "stdout",
          "text": [
            "Tasa de retorno:  105.59815918084817\n"
          ]
        }
      ]
    },
    {
      "cell_type": "markdown",
      "metadata": {
        "id": "ehttm4bbHBHH"
      },
      "source": [
        "Calculating the mean return is fairly intuitive and does not require too much explanation of linear algebra. However, calculating the variance of our portfolio requires a bit more background."
      ]
    },
    {
      "cell_type": "markdown",
      "metadata": {
        "id": "TJ8BiACSHBHI"
      },
      "source": [
        "#### Beware of NaN values\n",
        "\n",
        "Most of the time, all of these calculations will work without an issue. However, when working with real data we run the risk of having `nan` values in our arrays. This is NumPy's way of saying that the data there is missing or doesn't exist. These `nan` values can lead to errors in mathematical calculations so it is important to be aware of whether your array contains `nan` values and to know how to drop them."
      ]
    },
    {
      "cell_type": "code",
      "execution_count": 421,
      "metadata": {
        "id": "FqxKQxBxHBHK",
        "colab": {
          "base_uri": "https://localhost:8080/"
        },
        "outputId": "a1f638ee-4d95-447d-e410-f8dc6e4c5496"
      },
      "outputs": [
        {
          "output_type": "stream",
          "name": "stdout",
          "text": [
            "[ 1.  2. nan  4.  5.]\n"
          ]
        }
      ],
      "source": [
        "v = np.array([1, 2, np.nan, 4, 5])\n",
        "print(v)"
      ]
    },
    {
      "cell_type": "markdown",
      "source": [
        "**My Own Example 176**"
      ],
      "metadata": {
        "id": "TDWbpV5vl_hX"
      }
    },
    {
      "cell_type": "code",
      "source": [
        "D = np.array([np.nan, 43, np.nan, 88, 23])\n",
        "print(D)"
      ],
      "metadata": {
        "colab": {
          "base_uri": "https://localhost:8080/"
        },
        "id": "WhSZSPo_mDBY",
        "outputId": "e208f7d2-af97-415c-93dc-45b79c43bdfa"
      },
      "execution_count": 422,
      "outputs": [
        {
          "output_type": "stream",
          "name": "stdout",
          "text": [
            "[nan 43. nan 88. 23.]\n"
          ]
        }
      ]
    },
    {
      "cell_type": "markdown",
      "metadata": {
        "id": "jovsVDZhHBHK"
      },
      "source": [
        "Let's see what happens when we try to take the mean of this array."
      ]
    },
    {
      "cell_type": "code",
      "execution_count": 423,
      "metadata": {
        "id": "ZpyttI4aHBHK",
        "colab": {
          "base_uri": "https://localhost:8080/"
        },
        "outputId": "a0568ba9-4e6a-4934-9d1a-a538f018800a"
      },
      "outputs": [
        {
          "output_type": "stream",
          "name": "stdout",
          "text": [
            "nan\n"
          ]
        }
      ],
      "source": [
        "print(np.mean(v))"
      ]
    },
    {
      "cell_type": "markdown",
      "source": [
        "**My Own Example 177**"
      ],
      "metadata": {
        "id": "I_UR04SpmREx"
      }
    },
    {
      "cell_type": "code",
      "source": [
        "print(np.mean(D))"
      ],
      "metadata": {
        "colab": {
          "base_uri": "https://localhost:8080/"
        },
        "id": "4cW54gmymUn6",
        "outputId": "54950abc-a742-4920-8c0a-7af07806b100"
      },
      "execution_count": 424,
      "outputs": [
        {
          "output_type": "stream",
          "name": "stdout",
          "text": [
            "nan\n"
          ]
        }
      ]
    },
    {
      "cell_type": "markdown",
      "metadata": {
        "id": "LalxZM_tHBHK"
      },
      "source": [
        "Clearly, `nan` values can have a large impact on our calculations. Fortunately, we can check for `nan` values with the `isnan()` function."
      ]
    },
    {
      "cell_type": "code",
      "execution_count": 425,
      "metadata": {
        "id": "GtE-Kib4HBHL",
        "colab": {
          "base_uri": "https://localhost:8080/"
        },
        "outputId": "b35de98f-c06f-4856-e084-cce083228653"
      },
      "outputs": [
        {
          "output_type": "execute_result",
          "data": {
            "text/plain": [
              "array([False, False,  True, False, False])"
            ]
          },
          "metadata": {},
          "execution_count": 425
        }
      ],
      "source": [
        "np.isnan(v)"
      ]
    },
    {
      "cell_type": "markdown",
      "source": [
        "**My Own Example 178**"
      ],
      "metadata": {
        "id": "ZRI95Q-omgMo"
      }
    },
    {
      "cell_type": "code",
      "source": [
        "np.isnan(D)"
      ],
      "metadata": {
        "colab": {
          "base_uri": "https://localhost:8080/"
        },
        "id": "9k1uLVztmjMb",
        "outputId": "2e9d008d-4b24-4625-b086-f32db57b7248"
      },
      "execution_count": 426,
      "outputs": [
        {
          "output_type": "execute_result",
          "data": {
            "text/plain": [
              "array([ True, False,  True, False, False])"
            ]
          },
          "metadata": {},
          "execution_count": 426
        }
      ]
    },
    {
      "cell_type": "markdown",
      "metadata": {
        "id": "06Lh33QAHBHL"
      },
      "source": [
        "Calling `isnan()` on an array will call the function on each value of the array, returning a value of `True` if the element is `nan` and `False` if the element is valid. Now, knowing whether your array contains `nan` values is all well and good, but how do we remove `nan`s? Handily enough, NumPy arrays can be indexed by boolean values (`True` or `False`). If we use a boolean array to index an array, we will remove all values of the array that register as `False` under the condition. We use the `isnan()` function in create a boolean array, assigning a `True` value to everything that is *not* `nan` and a `False` to the `nan`s and we use that to index the same array."
      ]
    },
    {
      "cell_type": "code",
      "execution_count": 427,
      "metadata": {
        "id": "RMHjCUzxHBHL",
        "colab": {
          "base_uri": "https://localhost:8080/"
        },
        "outputId": "ba4c529b-0f9c-4872-cd08-e6cc5b622470"
      },
      "outputs": [
        {
          "output_type": "stream",
          "name": "stdout",
          "text": [
            "[1. 2. 4. 5.]\n"
          ]
        }
      ],
      "source": [
        "ix = ~np.isnan(v) # the ~ indicates a logical not, inverting the bools\n",
        "print(v[ix]) # We can also just write v = v[~np.isnan(v)]"
      ]
    },
    {
      "cell_type": "markdown",
      "source": [
        "**My Own Example 179**"
      ],
      "metadata": {
        "id": "-Tw1-_swm4b6"
      }
    },
    {
      "cell_type": "code",
      "source": [
        "DX = ~np.isnan(D) \n",
        "print(D[DX])"
      ],
      "metadata": {
        "colab": {
          "base_uri": "https://localhost:8080/"
        },
        "id": "xIw54NNwm7zb",
        "outputId": "7df728cf-d866-44d6-b39e-d1dec7ec8982"
      },
      "execution_count": 428,
      "outputs": [
        {
          "output_type": "stream",
          "name": "stdout",
          "text": [
            "[43. 88. 23.]\n"
          ]
        }
      ]
    },
    {
      "cell_type": "code",
      "execution_count": 429,
      "metadata": {
        "id": "RKoso7f-HBHL",
        "colab": {
          "base_uri": "https://localhost:8080/"
        },
        "outputId": "aa9edae7-8734-4e12-a6bf-62b62232b4c0"
      },
      "outputs": [
        {
          "output_type": "stream",
          "name": "stdout",
          "text": [
            "3.0\n"
          ]
        }
      ],
      "source": [
        "print(np.mean(v[ix]))"
      ]
    },
    {
      "cell_type": "markdown",
      "source": [
        "**My Own Example 180**"
      ],
      "metadata": {
        "id": "cgkqsCgGnG_V"
      }
    },
    {
      "cell_type": "code",
      "source": [
        "print(np.mean(D[DX]))"
      ],
      "metadata": {
        "colab": {
          "base_uri": "https://localhost:8080/"
        },
        "id": "YtMPxkL4nKqP",
        "outputId": "a0da3265-c72c-484f-ea84-a05f633d8357"
      },
      "execution_count": 430,
      "outputs": [
        {
          "output_type": "stream",
          "name": "stdout",
          "text": [
            "51.333333333333336\n"
          ]
        }
      ]
    },
    {
      "cell_type": "markdown",
      "metadata": {
        "id": "S5KkmW4lHBHL"
      },
      "source": [
        "There are a few shortcuts to this process in the form of NumPy functions specifically built to handle them, such as `nanmean()`."
      ]
    },
    {
      "cell_type": "code",
      "execution_count": 431,
      "metadata": {
        "id": "th_l3CojHBHL",
        "colab": {
          "base_uri": "https://localhost:8080/"
        },
        "outputId": "9ebe1935-d05a-4e63-8758-7fbc1233cc46"
      },
      "outputs": [
        {
          "output_type": "stream",
          "name": "stdout",
          "text": [
            "3.0\n"
          ]
        }
      ],
      "source": [
        "print(np.nanmean(v))"
      ]
    },
    {
      "cell_type": "markdown",
      "source": [
        "**My own Example 181**"
      ],
      "metadata": {
        "id": "8yCopH3Ioa0p"
      }
    },
    {
      "cell_type": "code",
      "source": [
        "print(np.nanmean(D))"
      ],
      "metadata": {
        "colab": {
          "base_uri": "https://localhost:8080/"
        },
        "id": "Q5G5CYTXoeES",
        "outputId": "ec2bc576-96f0-465c-aeb4-cfd92e27e063"
      },
      "execution_count": 432,
      "outputs": [
        {
          "output_type": "stream",
          "name": "stdout",
          "text": [
            "51.333333333333336\n"
          ]
        }
      ]
    },
    {
      "cell_type": "markdown",
      "metadata": {
        "id": "CYSm8JaqHBHM"
      },
      "source": [
        "The `nanmean()` function simply calculates the mean of the array as if there were no `nan` values at all! There are a few more of these functions, so feel free to read more about them in the [documentation](https://docs.scipy.org/doc/numpy/user/index.html). These indeterminate values are more an issue with data than linear algebra itself so it is helpful that there are ways to handle them."
      ]
    },
    {
      "cell_type": "markdown",
      "metadata": {
        "id": "w6HW_O7IHBHM"
      },
      "source": [
        "### Conclusion\n",
        "\n",
        "Linear algebra is pervasive in finance and in general. For example, the calculation of *optimal* weights according to modern portfolio theory is done using linear algebra techniques. The arrays and functions in NumPy allow us to handle these calculations in an intuitive way. For a quick intro to linear algebra and how to use NumPy to do more significant matrix calculations, proceed to the next section."
      ]
    },
    {
      "cell_type": "markdown",
      "metadata": {
        "id": "S3RL2XaeHBHM"
      },
      "source": [
        "## A brief foray into linear algebra\n",
        "\n",
        "Let's start with a basic overview of some linear algebra. Linear algebra comes down to the multiplication and composition of scalar and matrix values. A scalar value is just a real number that we multiply against an array. When we scale a matrix or array using a scalar, we multiply each individual element of that matrix or array by the scalar.\n",
        "\n",
        "A matrix is a collection of values, typically represented by an $m \\times n$ grid, where $m$ is the number of rows and $n$ is the number of columns. The edge lengths $m$ and $n$ do not necessarily have to be different. If we have $m = n$, we call this a square matrix. A particularly interesting case of a matrix is when $m = 1$ or $n = 1$. In this case we have a special case of a matrix that we call a vector. While there is a matrix object in NumPy we will be doing everything using NumPy arrays because they can have dimensions greater than $2$. For the purpose of this section, we will be using matrix and array interchangeably.\n",
        "\n",
        "We can express the matrix equation as:\n",
        "\n",
        "$$ y = A\\cdot x $$\n",
        "\n",
        "Where $A$ is an $m \\times n$ matrix, $y$ is a $m \\times 1$ vector, and $x$ is a $n \\times 1$ vector. On the right-hand side of the equation we are multiplying a matrix by a vector. This requires a little bit more clarification, lest we think that we can go about multiplying any matrices by any other matrices.\n",
        "\n",
        "#### Matrix multiplication\n",
        "\n",
        "With matrix multiplication, the order in which the matrices are multiplied matters. Multiplying a matrix on the left side by another matrix may be just fine, but multiplying on the right may be undefined."
      ]
    },
    {
      "cell_type": "code",
      "execution_count": 433,
      "metadata": {
        "collapsed": true,
        "id": "_mdCveHyHBHM"
      },
      "outputs": [],
      "source": [
        "A = np.array([\n",
        "        [1, 2, 3, 12],\n",
        "        [4, 5, 6, 15],\n",
        "        [7, 8, 9, 10]        \n",
        "    ])\n",
        "B = np.array([\n",
        "        [4, 4, 2],\n",
        "        [2, 3, 1],\n",
        "        [6, 5, 8],\n",
        "        [9, 9, 9]\n",
        "    ])"
      ]
    },
    {
      "cell_type": "markdown",
      "source": [
        "**My Own Example 182**"
      ],
      "metadata": {
        "id": "NT4Y-Brro-rv"
      }
    },
    {
      "cell_type": "code",
      "source": [
        "Z = np.array([\n",
        "        [8, 45, 3, 24],\n",
        "        [4, 4, 6, 15],\n",
        "        [34, 1, 1, 12]        \n",
        "    ])\n",
        "C = np.array([\n",
        "        [8, 8, 2],\n",
        "        [3, 3, 1],\n",
        "        [2, 4, 2],\n",
        "        [1, 1, 7]\n",
        "    ])"
      ],
      "metadata": {
        "id": "SmwgeGbQpB09"
      },
      "execution_count": 434,
      "outputs": []
    },
    {
      "cell_type": "markdown",
      "metadata": {
        "id": "ucJsqPTgHBHM"
      },
      "source": [
        "Notice that the above-defined matrices, $A$ and $B$, have different dimensions. $A$ is $3 \\times 5$ and $B$ is $4 \\times 3$. The general rule of what can and cannot be multiplied in which order is based on the dimensions of the matrices. Specifically, the number of columns in the matrix on the left must be equal to the number of rows in the matrix on the right. In super informal terms, let's say that we have an $m \\times n$ matrix and a $p \\times q$ matrix. If we multiply the first by the second on the right, we get the following:\n",
        "\n",
        "$$ (m \\times n) \\cdot (p \\times q) = (m \\times q) $$\n",
        "\n",
        "So the resultant product has the same number of rows as the left matrix and the same number of columns as the right matrix. This limitation of matrix multiplication with regards to dimensions is important to keep track of when writing code. To demonstrate this, we use the `dot()` function to multiply our matrices below:"
      ]
    },
    {
      "cell_type": "code",
      "execution_count": 435,
      "metadata": {
        "id": "olOhfTedHBHM",
        "colab": {
          "base_uri": "https://localhost:8080/"
        },
        "outputId": "8a392634-decc-4c66-d4e2-89f43c8f5a9c"
      },
      "outputs": [
        {
          "output_type": "stream",
          "name": "stdout",
          "text": [
            "[[134 133 136]\n",
            " [197 196 196]\n",
            " [188 187 184]]\n"
          ]
        }
      ],
      "source": [
        "print(np.dot(A,B))"
      ]
    },
    {
      "cell_type": "markdown",
      "source": [
        "**My Own Example 183**"
      ],
      "metadata": {
        "id": "Bdw0jTYzqVMn"
      }
    },
    {
      "cell_type": "code",
      "source": [
        "print(np.dot(A,B))"
      ],
      "metadata": {
        "id": "5nyoyGqwqa_Q",
        "colab": {
          "base_uri": "https://localhost:8080/"
        },
        "outputId": "db0c7c9a-7d15-4c55-8aaf-190cb3ca3330"
      },
      "execution_count": 436,
      "outputs": [
        {
          "output_type": "stream",
          "name": "stdout",
          "text": [
            "[[134 133 136]\n",
            " [197 196 196]\n",
            " [188 187 184]]\n"
          ]
        }
      ]
    },
    {
      "cell_type": "markdown",
      "metadata": {
        "id": "tAXRuTTsHBHN"
      },
      "source": [
        "These results make sense in accordance with our rule. Multiplying a $3 \\times 5$ matrix on the right by a $4 \\times 3$ matrix results in an error while multiplying a $4 \\times 3$ matrix on the right by a $3 \\times 5$ matrix results in a $4 \\times 5$ matrix."
      ]
    },
    {
      "cell_type": "code",
      "execution_count": 437,
      "metadata": {
        "id": "fLaCWrVeHBHN",
        "colab": {
          "base_uri": "https://localhost:8080/"
        },
        "outputId": "6cb0e8de-f515-4542-8445-04c3d85ec5a7"
      },
      "outputs": [
        {
          "output_type": "stream",
          "name": "stdout",
          "text": [
            "[[229 235 235]\n",
            " [ 71  83 129]\n",
            " [289 291 155]]\n"
          ]
        }
      ],
      "source": [
        "print(np.dot(Z, C))"
      ]
    },
    {
      "cell_type": "markdown",
      "metadata": {
        "id": "wzxdWcAmHBHN"
      },
      "source": [
        "### Portfolio Variance\n",
        "\n",
        "Let's return to our portfolio example from before. We calculated the expected return of the portfolio, but how do we calculate the variance? We start by trying to evaluate the portfolio as a sum of each individual asset, scaled by it's weight.\n",
        "\n",
        "$$ VAR[P] = VAR[\\omega_1 S_1 + \\omega_2 S_2 + \\cdots + \\omega_N S_N] $$\n",
        "\n",
        "Where $S_0, \\cdots, S_N$ are the assets contained within our universe. If all of our assets were independent of each other, we could simply evaluate this as\n",
        "\n",
        "$$ VAR[P] = VAR[\\omega_1 S_1] + VAR[\\omega_2 S_2] + \\cdots + VAR[\\omega_N S_N] = \\omega_1^2\\sigma_1^2 + \\omega_2^2\\sigma_2^2 + \\cdots + \\omega_N^2\\sigma_N^2 $$\n",
        "\n",
        "However, all of our assets depend on each other by their construction. They are all in some way related to our base asset and therefore each other. We thus have to calculate the variance of the portfolio by including the individual pairwise covariances of each asset. Our formula for the variance of the portfolio:\n",
        "\n",
        "$$ VAR[P] = \\sigma_P^2 = \\sum_i \\omega_i^2\\sigma_i^2 + \\sum_i\\sum_{i\\neq j} \\omega_i\\omega_j\\sigma_i\\sigma_j\\rho_{i, j}, \\ i, j \\in \\lbrace 1, 2, \\cdots, N \\rbrace $$\n",
        "\n",
        "Where $\\rho_{i,j}$ is the correlation between $S_i$ and $S_j$, $\\rho_{i, j} = \\frac{COV[S_i, S_j]}{\\sigma_i\\sigma_j}$. This seems exceedingly complicated, but we can easily handle all of this using NumPy arrays. First, we calculate the covariance matrix that relates all the individual stocks in our universe."
      ]
    },
    {
      "cell_type": "code",
      "execution_count": 438,
      "metadata": {
        "id": "ij-oswm1HBHN",
        "colab": {
          "base_uri": "https://localhost:8080/"
        },
        "outputId": "c3926627-016f-4183-f895-1ea42da66b18"
      },
      "outputs": [
        {
          "output_type": "stream",
          "name": "stdout",
          "text": [
            "[[0.00094    0.00322888 0.0032623  0.00319577 0.00316856 0.00318876\n",
            "  0.00327758 0.00328581 0.00328203 0.0032718 ]\n",
            " [0.00322888 0.82446872 0.82593143 0.82600685 0.81888607 0.82650065\n",
            "  0.82647317 0.82322772 0.82694576 0.8208835 ]\n",
            " [0.0032623  0.82593143 0.82827414 0.82796458 0.82070399 0.82840672\n",
            "  0.82846056 0.825147   0.82883199 0.82273271]\n",
            " [0.00319577 0.82600685 0.82796458 0.82836536 0.82084909 0.82854148\n",
            "  0.82854162 0.82525041 0.82894023 0.82286261]\n",
            " [0.00316856 0.81888607 0.82070399 0.82084909 0.81415792 0.82135598\n",
            "  0.82135712 0.81813176 0.82179616 0.81579157]\n",
            " [0.00318876 0.82650065 0.82840672 0.82854148 0.82135598 0.82938013\n",
            "  0.82902068 0.8256488  0.8293939  0.82336179]\n",
            " [0.00327758 0.82647317 0.82846056 0.82854162 0.82135712 0.82902068\n",
            "  0.82939676 0.82573387 0.82944799 0.82334119]\n",
            " [0.00328581 0.82322772 0.825147   0.82525041 0.81813176 0.8256488\n",
            "  0.82573387 0.8228049  0.82611335 0.82009397]\n",
            " [0.00328203 0.82694576 0.82883199 0.82894023 0.82179616 0.8293939\n",
            "  0.82944799 0.82611335 0.83029401 0.82378479]\n",
            " [0.0032718  0.8208835  0.82273271 0.82286261 0.81579157 0.82336179\n",
            "  0.82334119 0.82009397 0.82378479 0.81811702]]\n"
          ]
        }
      ],
      "source": [
        "cov_mat = np.cov(returns)\n",
        "print(cov_mat)"
      ]
    },
    {
      "cell_type": "markdown",
      "metadata": {
        "id": "7KplrG4QHBHN"
      },
      "source": [
        "This array is not formatted particularly nicely, but a covariance matrix is a very important concept. The covariance matrix is of the form:\n",
        "\n",
        "$$ \\left[\\begin{matrix}\n",
        "VAR[S_1] & COV[S_1, S_2] & \\cdots & COV[S_1, S_N] \\\\\n",
        "COV[S_2, S_1] & VAR[S_2] & \\cdots & COV[S_2, S_N] \\\\\n",
        "\\vdots & \\vdots & \\ddots & \\vdots \\\\\n",
        "COV[S_N, S_1] & COV[S_N, S_2] & \\cdots & VAR[S_N]\n",
        "\\end{matrix}\\right] $$\n",
        "\n",
        "So each diagonal entry is the variance of that asset at that index and each off-diagonal holds the covariance of two assets indexed by the column and row number. What is important is that once we have the covariance matrix we are able to do some very quick linear algebra to calculate the variance of the overall portfolio. We can represent the variance of the portfolio in array form as:\n",
        "\n",
        "$$ \\sigma_p^2 = \\omega \\ C \\ \\omega^\\intercal$$\n",
        "\n",
        "Where $C$ is the covariance matrix of all the assets and $\\omega$ is the array containing the weights of each individual asset. The superscript $\\intercal$ on the second $\\omega$ listed above denotes the **transpose** of $\\omega$. For a reference on the evaluation of the variance of a portfolio as a matrix equation, please see the Wikipedia article on [modern portfolio theory](https://en.wikipedia.org/wiki/Modern_portfolio_theory).\n",
        "\n",
        "The transpose of an array is what you get when you switch the rows and columns of an array. This has the effect of reflecting an array across what you might imagine as a diagonal. For example, take our array $A$ from before:"
      ]
    },
    {
      "cell_type": "code",
      "execution_count": 439,
      "metadata": {
        "id": "kDlUVI4BHBHN",
        "colab": {
          "base_uri": "https://localhost:8080/"
        },
        "outputId": "5a03ed33-f0ee-4065-aec2-7cba661e3f18"
      },
      "outputs": [
        {
          "output_type": "stream",
          "name": "stdout",
          "text": [
            "[[ 1  2  3 12]\n",
            " [ 4  5  6 15]\n",
            " [ 7  8  9 10]]\n"
          ]
        }
      ],
      "source": [
        "print(A)"
      ]
    },
    {
      "cell_type": "markdown",
      "source": [
        "**My Own Example 184**"
      ],
      "metadata": {
        "id": "72GlVb9HrOAQ"
      }
    },
    {
      "cell_type": "code",
      "source": [
        "print(Z)"
      ],
      "metadata": {
        "colab": {
          "base_uri": "https://localhost:8080/"
        },
        "id": "Z57OKNuwrVH7",
        "outputId": "2231a9c0-c754-4cd7-d72c-61880bdcd05c"
      },
      "execution_count": 440,
      "outputs": [
        {
          "output_type": "stream",
          "name": "stdout",
          "text": [
            "[[ 8 45  3 24]\n",
            " [ 4  4  6 15]\n",
            " [34  1  1 12]]\n"
          ]
        }
      ]
    },
    {
      "cell_type": "markdown",
      "source": [
        "**My Own Example 185**"
      ],
      "metadata": {
        "id": "tdlwAoXPrZgJ"
      }
    },
    {
      "cell_type": "code",
      "source": [
        "print(C)"
      ],
      "metadata": {
        "colab": {
          "base_uri": "https://localhost:8080/"
        },
        "id": "n1RD_2PArdld",
        "outputId": "7a42c801-5a8d-4e62-a461-46c9b1b6b3bd"
      },
      "execution_count": 441,
      "outputs": [
        {
          "output_type": "stream",
          "name": "stdout",
          "text": [
            "[[8 8 2]\n",
            " [3 3 1]\n",
            " [2 4 2]\n",
            " [1 1 7]]\n"
          ]
        }
      ]
    },
    {
      "cell_type": "markdown",
      "metadata": {
        "id": "w8Is5m9VHBHO"
      },
      "source": [
        "The transpose looks like a mirror image of the same array."
      ]
    },
    {
      "cell_type": "code",
      "execution_count": 442,
      "metadata": {
        "id": "Xip_lJLtHBHO",
        "colab": {
          "base_uri": "https://localhost:8080/"
        },
        "outputId": "38df7527-4b27-4706-9f74-b999652584d4"
      },
      "outputs": [
        {
          "output_type": "stream",
          "name": "stdout",
          "text": [
            "[[ 1  4  7]\n",
            " [ 2  5  8]\n",
            " [ 3  6  9]\n",
            " [12 15 10]]\n"
          ]
        }
      ],
      "source": [
        "print(np.transpose(A))"
      ]
    },
    {
      "cell_type": "markdown",
      "source": [
        "**My Own Example 186**"
      ],
      "metadata": {
        "id": "_E2IxOp4rlUQ"
      }
    },
    {
      "cell_type": "code",
      "source": [
        "print(np.transpose(Z))"
      ],
      "metadata": {
        "colab": {
          "base_uri": "https://localhost:8080/"
        },
        "id": "ze0iyrmPrqlG",
        "outputId": "b3d20f98-20c3-4be3-ef6a-e0e767beef2a"
      },
      "execution_count": 443,
      "outputs": [
        {
          "output_type": "stream",
          "name": "stdout",
          "text": [
            "[[ 8  4 34]\n",
            " [45  4  1]\n",
            " [ 3  6  1]\n",
            " [24 15 12]]\n"
          ]
        }
      ]
    },
    {
      "cell_type": "markdown",
      "source": [
        "**My Own Example 187**"
      ],
      "metadata": {
        "id": "q0V85xOQrwP4"
      }
    },
    {
      "cell_type": "code",
      "source": [
        "print(np.transpose(C))"
      ],
      "metadata": {
        "colab": {
          "base_uri": "https://localhost:8080/"
        },
        "id": "nwHm00bgr1Xi",
        "outputId": "dfbe866c-de95-4370-f9c2-56fad86c34be"
      },
      "execution_count": 444,
      "outputs": [
        {
          "output_type": "stream",
          "name": "stdout",
          "text": [
            "[[8 3 2 1]\n",
            " [8 3 4 1]\n",
            " [2 1 2 7]]\n"
          ]
        }
      ]
    },
    {
      "cell_type": "markdown",
      "metadata": {
        "id": "XIvEKOu-HBHO"
      },
      "source": [
        "But $\\omega$ here is a 1-dimensional array, a vector! It makes perfect to take the transpose of $A$, a $3 \\times 5$ array, as the output will be a $5 \\times 3$ array, but a 1-dimensional array is not quite as intuitive. A typical 1-dimensional array can be thought of as a $1 \\times n$ horizontal vector. Thus, taking the tranpose of this array essentially means changing it into a $n \\times 1$ vertical vector. This makes sense because 1-dimensional arrays are still arrays and any multiplication done between 1-dimensional and higher dimensional arrays must keep in line with our dimensionality issue of matrix multiplication.\n",
        "\n",
        "To make a long story short, we think of $\\omega$ as $1 \\times N$ since we have $N$ securities. This makes it so that $\\omega^\\intercal$ is $N \\times 1$. Again, our covariance matrix is $N \\times N$. So the overall multiplication works out like so, in informal terms:\n",
        "\n",
        "$$ \\text{Dimensions}(\\sigma_p^2) = \\text{Dimensions}(\\omega C \\omega^\\intercal) = (1 \\times N)\\cdot (N \\times N)\\cdot (N \\times 1) = (1 \\times 1)$$\n",
        "\n",
        "Multiplying the covariance matrix on the left by the plain horizontal vector and on the right by that vector's transpose results in the calculation of a single scalar ($1 \\times 1$) value, our portfolio's variance.\n",
        "\n",
        "So knowing this, let's proceed and calculate the portfolio variance! We can easily calculate the product of these arrays by using `dot()` for matrix multiplication, though this time we have to do it twice."
      ]
    },
    {
      "cell_type": "code",
      "execution_count": 445,
      "metadata": {
        "id": "VE5Ospd4HBHO",
        "scrolled": false,
        "colab": {
          "base_uri": "https://localhost:8080/"
        },
        "outputId": "904ccdd6-5579-43c4-ec52-2781e0c467a2"
      },
      "outputs": [
        {
          "output_type": "stream",
          "name": "stdout",
          "text": [
            "Portfolio volatility:  0.7855526703028995\n"
          ]
        }
      ],
      "source": [
        "# Calculating the portfolio volatility\n",
        "var_p = np.dot(np.dot(weights, cov_mat), weights.T)\n",
        "vol_p = np.sqrt(var_p)\n",
        "print(\"Portfolio volatility: \", vol_p)"
      ]
    },
    {
      "cell_type": "markdown",
      "source": [
        "**My Own Example 188**"
      ],
      "metadata": {
        "id": "t6OS7xbysClG"
      }
    },
    {
      "cell_type": "code",
      "source": [
        "VAP = np.dot(np.dot(WWW, cov_mat), WWW.T)\n",
        "VOP = np.sqrt(VAP)\n",
        "print(\"Portfolio volatility: \", vol_p)"
      ],
      "metadata": {
        "colab": {
          "base_uri": "https://localhost:8080/"
        },
        "id": "OouiMOobsHBk",
        "outputId": "46cd37af-2c8f-451f-8237-21a353f5fd11"
      },
      "execution_count": 446,
      "outputs": [
        {
          "output_type": "stream",
          "name": "stdout",
          "text": [
            "Portfolio volatility:  0.7855526703028995\n"
          ]
        }
      ]
    },
    {
      "cell_type": "markdown",
      "metadata": {
        "id": "5n59MVIiWUVx"
      },
      "source": [
        "# Next Steps\n",
        "\n",
        "Managing data gets a lot easier when you deal with pandas, though this has been a very general introduction. There are many more tools within the package which you may discover while trying to get your data to do precisely what you want. If you would rather read more on the additional capabilities of pandas, check out the [documentation](http://pandas.pydata.org/pandas-docs/stable/)."
      ]
    },
    {
      "cell_type": "markdown",
      "metadata": {
        "collapsed": true,
        "id": "1srsOru6WUVx"
      },
      "source": [
        "*This presentation is for informational purposes only and does not constitute an offer to sell, a solicitation to buy, or a recommendation for any security; nor does it constitute an offer to provide investment advisory or other services by Quantopian, Inc. (\"Quantopian\"). Nothing contained herein constitutes investment advice or offers any opinion with respect to the suitability of any security, and any views expressed herein should not be taken as advice to buy, sell, or hold any security or as an endorsement of any security or company.  In preparing the information contained herein, Quantopian, Inc. has not taken into account the investment needs, objectives, and financial circumstances of any particular investor. Any views expressed and data illustrated herein were prepared based upon information, believed to be reliable, available to Quantopian, Inc. at the time of publication. Quantopian makes no guarantees as to their accuracy or completeness. All information is subject to change and may quickly become unreliable for various reasons, including changes in market conditions or economic circumstances.*"
      ]
    },
    {
      "cell_type": "markdown",
      "metadata": {
        "id": "dQbENH6mexTd"
      },
      "source": [
        "<div align=\"center\">\n",
        "<img style=\"display: block; margin: auto;\" alt=\"photo\" src=\"https://cdn.quantconnect.com/web/i/icon.png\">\n",
        "</div>\n",
        "\n",
        "Quantconnect\n",
        "\n",
        "Introduction to Financial Python\n",
        "</div>\n",
        "\n",
        "# NumPy and Basic Pandas\n",
        "\n",
        "# Introduction\n",
        "\n",
        "Now that we have introduced the fundamentals of Python, it's time to learn about NumPy and Pandas.\n",
        "\n",
        "# NumPy\n",
        "NumPy is the core library for scientific computing in Python. It provides a high-performance multidimensional array object, and tools for working with these arrays. It also has strong integration with Pandas, which is another powerful tool for manipulating financial data.\n",
        "\n",
        "Python packages like NumPy and Pandas contain classes and methods which we can use by importing the package:"
      ]
    },
    {
      "cell_type": "code",
      "execution_count": 447,
      "metadata": {
        "id": "aIESp-rdO58h"
      },
      "outputs": [],
      "source": [
        "import numpy as np"
      ]
    },
    {
      "cell_type": "markdown",
      "metadata": {
        "id": "GScHHJ5ke7ea"
      },
      "source": [
        "## Basic NumPy Arrays\n",
        "A NumPy array is a grid of values, all of the same type, and is indexed by a tuple of nonnegative integers. Here we make an array by passing a list of Apple stock prices:"
      ]
    },
    {
      "cell_type": "code",
      "execution_count": 448,
      "metadata": {
        "id": "lZI1wkwDO58i",
        "colab": {
          "base_uri": "https://localhost:8080/"
        },
        "outputId": "b64bfc18-711b-4595-c74a-92a88af7420d"
      },
      "outputs": [
        {
          "output_type": "stream",
          "name": "stdout",
          "text": [
            "[143.73 145.83 143.68 144.02 143.5  142.62] <class 'numpy.ndarray'>\n"
          ]
        }
      ],
      "source": [
        "price_list = [143.73, 145.83, 143.68, 144.02, 143.5, 142.62]\n",
        "price_array = np.array(price_list)\n",
        "print(price_array, type(price_array))"
      ]
    },
    {
      "cell_type": "markdown",
      "source": [
        "**My Own Example 189**"
      ],
      "metadata": {
        "id": "ncZkV2zZwJMP"
      }
    },
    {
      "cell_type": "code",
      "source": [
        "PL = [88.87, 25.83, 455.2, 44.02, 56.5, 223.62]\n",
        "PA = np.array(PL)\n",
        "print(PA, type(PA))"
      ],
      "metadata": {
        "colab": {
          "base_uri": "https://localhost:8080/"
        },
        "id": "zMan7NxCwOnQ",
        "outputId": "77095966-9332-41ad-a2c2-ab21c12b6101"
      },
      "execution_count": 449,
      "outputs": [
        {
          "output_type": "stream",
          "name": "stdout",
          "text": [
            "[ 88.87  25.83 455.2   44.02  56.5  223.62] <class 'numpy.ndarray'>\n"
          ]
        }
      ]
    },
    {
      "cell_type": "markdown",
      "metadata": {
        "id": "-5Yj6u9ifB-t"
      },
      "source": [
        "Notice that the type of array is \"ndarray\" which is a multi-dimensional array. If we pass np.array() a list of lists, it will create a 2-dimensional array."
      ]
    },
    {
      "cell_type": "code",
      "execution_count": 450,
      "metadata": {
        "id": "obvIZrK-O58j",
        "colab": {
          "base_uri": "https://localhost:8080/"
        },
        "outputId": "f035d05f-950e-47b6-825a-f8b1dceffaef"
      },
      "outputs": [
        {
          "output_type": "stream",
          "name": "stdout",
          "text": [
            "[[1 3]\n",
            " [2 4]] <class 'numpy.ndarray'>\n"
          ]
        }
      ],
      "source": [
        "Ar = np.array([[1,3],[2,4]])\n",
        "print(Ar, type(Ar))"
      ]
    },
    {
      "cell_type": "markdown",
      "source": [
        "**My Own Example 190**"
      ],
      "metadata": {
        "id": "VkElGwEBxIQs"
      }
    },
    {
      "cell_type": "code",
      "source": [
        "MAT= np.array([[4,56],[56,8]])\n",
        "print(MAT, type(MAT))"
      ],
      "metadata": {
        "colab": {
          "base_uri": "https://localhost:8080/"
        },
        "id": "7yT1kfy5xLut",
        "outputId": "1532eb51-5a20-494c-f9af-d2e4ae2c9cc3"
      },
      "execution_count": 451,
      "outputs": [
        {
          "output_type": "stream",
          "name": "stdout",
          "text": [
            "[[ 4 56]\n",
            " [56  8]] <class 'numpy.ndarray'>\n"
          ]
        }
      ]
    },
    {
      "cell_type": "markdown",
      "metadata": {
        "id": "uDdfLD9HfHkl"
      },
      "source": [
        "We get the dimensions of an ndarray using the .shape attribute:"
      ]
    },
    {
      "cell_type": "code",
      "execution_count": 452,
      "metadata": {
        "id": "G2txdn73O58j",
        "colab": {
          "base_uri": "https://localhost:8080/"
        },
        "outputId": "ff10f068-e462-4fa9-bf68-45ac1b43fa3a"
      },
      "outputs": [
        {
          "output_type": "stream",
          "name": "stdout",
          "text": [
            "(2, 2)\n"
          ]
        }
      ],
      "source": [
        "print(Ar.shape)"
      ]
    },
    {
      "cell_type": "markdown",
      "source": [
        "**My Own Example 191**"
      ],
      "metadata": {
        "id": "_GyOY_VzxatK"
      }
    },
    {
      "cell_type": "code",
      "source": [
        "print(MAT.shape)"
      ],
      "metadata": {
        "colab": {
          "base_uri": "https://localhost:8080/"
        },
        "id": "ftalUox_xeQ4",
        "outputId": "0475373c-5a77-43fb-bb22-3490e0d77fa6"
      },
      "execution_count": 453,
      "outputs": [
        {
          "output_type": "stream",
          "name": "stdout",
          "text": [
            "(2, 2)\n"
          ]
        }
      ]
    },
    {
      "cell_type": "markdown",
      "metadata": {
        "id": "87W5ueORfPEy"
      },
      "source": [
        "If we create an 2-dimensional array (i.e. matrix), each row can be accessed by index:"
      ]
    },
    {
      "cell_type": "code",
      "execution_count": 454,
      "metadata": {
        "id": "x_QV9aPbO58j",
        "colab": {
          "base_uri": "https://localhost:8080/"
        },
        "outputId": "c06b4d2e-bbd1-4555-91ec-d0639cc3d124"
      },
      "outputs": [
        {
          "output_type": "stream",
          "name": "stdout",
          "text": [
            "[1 3]\n",
            "[2 4]\n"
          ]
        }
      ],
      "source": [
        "print(Ar[0])\n",
        "print(Ar[1])"
      ]
    },
    {
      "cell_type": "markdown",
      "source": [
        "**My Own Example 192**"
      ],
      "metadata": {
        "id": "BBXJSvEizFl3"
      }
    },
    {
      "cell_type": "code",
      "source": [
        "print(MAT[0])"
      ],
      "metadata": {
        "colab": {
          "base_uri": "https://localhost:8080/"
        },
        "id": "cwFJsdKTzO6A",
        "outputId": "e6247bf8-e788-4574-89de-05319adbeede"
      },
      "execution_count": 455,
      "outputs": [
        {
          "output_type": "stream",
          "name": "stdout",
          "text": [
            "[ 4 56]\n"
          ]
        }
      ]
    },
    {
      "cell_type": "markdown",
      "source": [
        "**My Own Example 193**"
      ],
      "metadata": {
        "id": "hfs050jgzUwq"
      }
    },
    {
      "cell_type": "code",
      "source": [
        "print(MAT[1])"
      ],
      "metadata": {
        "colab": {
          "base_uri": "https://localhost:8080/"
        },
        "id": "LINWgP2lzZH8",
        "outputId": "0db63117-9987-430b-9683-794e9ce7aff6"
      },
      "execution_count": 456,
      "outputs": [
        {
          "output_type": "stream",
          "name": "stdout",
          "text": [
            "[56  8]\n"
          ]
        }
      ]
    },
    {
      "cell_type": "markdown",
      "metadata": {
        "id": "5Hke7Vt-fSGB"
      },
      "source": [
        "If we want to access the matrix by column instead:"
      ]
    },
    {
      "cell_type": "code",
      "execution_count": 457,
      "metadata": {
        "id": "gHVwbPfOO58j",
        "colab": {
          "base_uri": "https://localhost:8080/"
        },
        "outputId": "5de65dc3-a051-4a3e-c800-7fe1495b9c47"
      },
      "outputs": [
        {
          "output_type": "stream",
          "name": "stdout",
          "text": [
            "the first column:  [1 2]\n",
            "the second column:  [3 4]\n"
          ]
        }
      ],
      "source": [
        "print('the first column: ', Ar[:,0])\n",
        "print('the second column: ', Ar[:,1])"
      ]
    },
    {
      "cell_type": "markdown",
      "source": [
        "**My Own Example 194**"
      ],
      "metadata": {
        "id": "GlW_h76zzhup"
      }
    },
    {
      "cell_type": "code",
      "source": [
        "print('Columna 1: ', MAT[:,0])\n",
        "print('Columna 2: ', MAT[:,1])"
      ],
      "metadata": {
        "colab": {
          "base_uri": "https://localhost:8080/"
        },
        "id": "GZGstsNCzmF_",
        "outputId": "340f63a7-59fd-4ad4-f2f8-0ff9b9d7b02b"
      },
      "execution_count": 458,
      "outputs": [
        {
          "output_type": "stream",
          "name": "stdout",
          "text": [
            "Columna 1:  [ 4 56]\n",
            "Columna 2:  [56  8]\n"
          ]
        }
      ]
    },
    {
      "cell_type": "markdown",
      "metadata": {
        "id": "T61cD0HMfStB"
      },
      "source": [
        "## Array Functions\n",
        "Some functions built in NumPy that allow us to perform calculations on arrays. For example, we can apply the natural logarithm to each element of an array:"
      ]
    },
    {
      "cell_type": "code",
      "execution_count": 459,
      "metadata": {
        "id": "PKhwtJ7XO58k",
        "colab": {
          "base_uri": "https://localhost:8080/"
        },
        "outputId": "449399b4-964f-4fb0-8680-3ef13dcc31fd"
      },
      "outputs": [
        {
          "output_type": "stream",
          "name": "stdout",
          "text": [
            "[4.96793654 4.98244156 4.9675886  4.96995218 4.96633504 4.96018375]\n"
          ]
        }
      ],
      "source": [
        "print(np.log(price_array))"
      ]
    },
    {
      "cell_type": "markdown",
      "source": [
        "**My Own Example 195**"
      ],
      "metadata": {
        "id": "MZEiIXIdz4HB"
      }
    },
    {
      "cell_type": "code",
      "source": [
        "PARR=5*price_array\n",
        "print(np.log(PARR))"
      ],
      "metadata": {
        "colab": {
          "base_uri": "https://localhost:8080/"
        },
        "id": "MYGoiJAfz751",
        "outputId": "5a93e4b8-fa0f-4a99-dc43-7e569c3d0165"
      },
      "execution_count": 460,
      "outputs": [
        {
          "output_type": "stream",
          "name": "stdout",
          "text": [
            "[6.57737445 6.59187947 6.57702652 6.57939009 6.57577295 6.56962166]\n"
          ]
        }
      ]
    },
    {
      "cell_type": "markdown",
      "metadata": {
        "id": "uzjBRFBLfZ-D"
      },
      "source": [
        "Other functions return a single value:"
      ]
    },
    {
      "cell_type": "code",
      "execution_count": 461,
      "metadata": {
        "id": "nQuABZqUO58k",
        "colab": {
          "base_uri": "https://localhost:8080/"
        },
        "outputId": "29671c72-5a13-4020-abff-d0240edf7f58"
      },
      "outputs": [
        {
          "output_type": "stream",
          "name": "stdout",
          "text": [
            "143.89666666666668\n",
            "0.9673790478515796\n",
            "863.38\n",
            "145.83\n"
          ]
        }
      ],
      "source": [
        "print(np.mean(price_array))\n",
        "print(np.std(price_array))\n",
        "print(np.sum(price_array))\n",
        "print(np.max(price_array))"
      ]
    },
    {
      "cell_type": "markdown",
      "source": [
        "**My Own Example 196**"
      ],
      "metadata": {
        "id": "oN1Rf0lc0UfX"
      }
    },
    {
      "cell_type": "code",
      "source": [
        "print(np.mean(PARR))\n",
        "print(np.std(PARR))"
      ],
      "metadata": {
        "colab": {
          "base_uri": "https://localhost:8080/"
        },
        "id": "Y1OiUT__0YMg",
        "outputId": "253fe44f-c5fe-4503-f8e8-81264b152758"
      },
      "execution_count": 462,
      "outputs": [
        {
          "output_type": "stream",
          "name": "stdout",
          "text": [
            "719.4833333333335\n",
            "4.836895239257905\n"
          ]
        }
      ]
    },
    {
      "cell_type": "markdown",
      "metadata": {
        "id": "IRW95BsifgDB"
      },
      "source": [
        "The functions above return the mean, standard deviation, total and maximum value of an array.\n",
        "\n",
        "# Pandas\n",
        "Pandas is one of the most powerful tools for dealing with financial data. \n",
        "\n",
        "First we need to import Pandas:"
      ]
    },
    {
      "cell_type": "code",
      "execution_count": 463,
      "metadata": {
        "id": "xIYH4oUfO58k"
      },
      "outputs": [],
      "source": [
        "import pandas as pd"
      ]
    },
    {
      "cell_type": "markdown",
      "metadata": {
        "id": "zOig5gORfnJU"
      },
      "source": [
        "## Series\n",
        "Series is a one-dimensional labeled array capable of holding any data type (integers, strings, float, Python object, etc.)\n",
        "\n",
        "We create a Series by calling pd.Series(data), where data can be a dictionary, an array or just a scalar value."
      ]
    },
    {
      "cell_type": "code",
      "execution_count": 464,
      "metadata": {
        "id": "JmzoNzrPO58k",
        "colab": {
          "base_uri": "https://localhost:8080/"
        },
        "outputId": "59df3595-e1ee-4f6e-83e8-ba9996a888a5"
      },
      "outputs": [
        {
          "output_type": "execute_result",
          "data": {
            "text/plain": [
              "0    143.73\n",
              "1    145.83\n",
              "2    143.68\n",
              "3    144.02\n",
              "4    143.50\n",
              "5    142.62\n",
              "dtype: float64"
            ]
          },
          "metadata": {},
          "execution_count": 464
        }
      ],
      "source": [
        "price = [143.73, 145.83, 143.68, 144.02, 143.5, 142.62]\n",
        "s = pd.Series(price)\n",
        "s"
      ]
    },
    {
      "cell_type": "markdown",
      "source": [
        "**My Own Example 197**"
      ],
      "metadata": {
        "id": "uLC362My1Fcf"
      }
    },
    {
      "cell_type": "code",
      "source": [
        "Valores = [556.25, 888.88, 654.22,789.65,456.36,221.98]\n",
        "q = pd.Series(Valores)\n",
        "q"
      ],
      "metadata": {
        "id": "Yg5jlsJt1I17",
        "colab": {
          "base_uri": "https://localhost:8080/"
        },
        "outputId": "0c3eb3f2-6d7b-47db-c0b1-691bb9e04a94"
      },
      "execution_count": 465,
      "outputs": [
        {
          "output_type": "execute_result",
          "data": {
            "text/plain": [
              "0    556.25\n",
              "1    888.88\n",
              "2    654.22\n",
              "3    789.65\n",
              "4    456.36\n",
              "5    221.98\n",
              "dtype: float64"
            ]
          },
          "metadata": {},
          "execution_count": 465
        }
      ]
    },
    {
      "cell_type": "markdown",
      "metadata": {
        "id": "tP5iDnunfq46"
      },
      "source": [
        "We can customize the indices of a new Series:"
      ]
    },
    {
      "cell_type": "code",
      "execution_count": 466,
      "metadata": {
        "id": "eswQC3ZPO58l",
        "colab": {
          "base_uri": "https://localhost:8080/"
        },
        "outputId": "59879148-2132-4862-98d0-f6dd382161d1"
      },
      "outputs": [
        {
          "output_type": "execute_result",
          "data": {
            "text/plain": [
              "a    143.73\n",
              "b    145.83\n",
              "c    143.68\n",
              "d    144.02\n",
              "e    143.50\n",
              "f    142.62\n",
              "dtype: float64"
            ]
          },
          "metadata": {},
          "execution_count": 466
        }
      ],
      "source": [
        "s = pd.Series(price,index = ['a','b','c','d','e','f'])\n",
        "s"
      ]
    },
    {
      "cell_type": "markdown",
      "source": [
        "**My Own Example 198**"
      ],
      "metadata": {
        "id": "aQQDUYMDTXYg"
      }
    },
    {
      "cell_type": "code",
      "source": [
        "q= pd.Series(Valores,index=[\"Primero\",\"Segundo\",\"Tercero\",\"Cuarto\",\"Quinto\",\"Sexto\"])\n",
        "q"
      ],
      "metadata": {
        "colab": {
          "base_uri": "https://localhost:8080/"
        },
        "id": "sQjf4qzPTZ71",
        "outputId": "103f711f-2437-4754-91ab-ca4a097acfc1"
      },
      "execution_count": 467,
      "outputs": [
        {
          "output_type": "execute_result",
          "data": {
            "text/plain": [
              "Primero    556.25\n",
              "Segundo    888.88\n",
              "Tercero    654.22\n",
              "Cuarto     789.65\n",
              "Quinto     456.36\n",
              "Sexto      221.98\n",
              "dtype: float64"
            ]
          },
          "metadata": {},
          "execution_count": 467
        }
      ]
    },
    {
      "cell_type": "markdown",
      "metadata": {
        "id": "wdZrb8pEfuua"
      },
      "source": [
        "Or we can change the indices of an existing Series:"
      ]
    },
    {
      "cell_type": "code",
      "execution_count": 468,
      "metadata": {
        "id": "MwlRnPF6O58l",
        "colab": {
          "base_uri": "https://localhost:8080/"
        },
        "outputId": "0a74b468-ac24-4774-df03-27944141c40f"
      },
      "outputs": [
        {
          "output_type": "execute_result",
          "data": {
            "text/plain": [
              "6    143.73\n",
              "5    145.83\n",
              "4    143.68\n",
              "3    144.02\n",
              "2    143.50\n",
              "1    142.62\n",
              "dtype: float64"
            ]
          },
          "metadata": {},
          "execution_count": 468
        }
      ],
      "source": [
        "s.index = [6,5,4,3,2,1]\n",
        "s"
      ]
    },
    {
      "cell_type": "markdown",
      "metadata": {
        "id": "6cGNQZwLfxIz"
      },
      "source": [
        "Series is like a list since it can be sliced by index:"
      ]
    },
    {
      "cell_type": "markdown",
      "source": [
        "**My Own Example 199**"
      ],
      "metadata": {
        "id": "CqoNLHc3kgjN"
      }
    },
    {
      "cell_type": "code",
      "source": [
        "q.index = [88,888,8,111,11,1]\n",
        "q"
      ],
      "metadata": {
        "colab": {
          "base_uri": "https://localhost:8080/"
        },
        "id": "nuvL1XrvkjYP",
        "outputId": "5ec157e7-ad0c-4b50-93e6-2d7ad1c4e177"
      },
      "execution_count": 477,
      "outputs": [
        {
          "output_type": "execute_result",
          "data": {
            "text/plain": [
              "88     556.25\n",
              "888    888.88\n",
              "8      654.22\n",
              "111    789.65\n",
              "11     456.36\n",
              "1      221.98\n",
              "dtype: float64"
            ]
          },
          "metadata": {},
          "execution_count": 477
        }
      ]
    },
    {
      "cell_type": "code",
      "execution_count": 469,
      "metadata": {
        "id": "N9bBSg6cO58l",
        "colab": {
          "base_uri": "https://localhost:8080/"
        },
        "outputId": "d8c2a8ba-f36e-4bc4-b4a6-6a5a81f3c263"
      },
      "outputs": [
        {
          "output_type": "stream",
          "name": "stdout",
          "text": [
            "5    145.83\n",
            "4    143.68\n",
            "3    144.02\n",
            "2    143.50\n",
            "1    142.62\n",
            "dtype: float64\n",
            "6    143.73\n",
            "5    145.83\n",
            "4    143.68\n",
            "3    144.02\n",
            "dtype: float64\n"
          ]
        }
      ],
      "source": [
        "print(s[1:])\n",
        "print(s[:-2])"
      ]
    },
    {
      "cell_type": "markdown",
      "metadata": {
        "id": "5V25nViZfz3Z"
      },
      "source": [
        "Series is also like a dictionary whose values can be set or fetched by index label:"
      ]
    },
    {
      "cell_type": "code",
      "execution_count": 470,
      "metadata": {
        "id": "b3Y0kKGYO58l",
        "colab": {
          "base_uri": "https://localhost:8080/"
        },
        "outputId": "74beb657-35e8-4949-80c4-d999c39ec4cc"
      },
      "outputs": [
        {
          "output_type": "stream",
          "name": "stdout",
          "text": [
            "143.68\n",
            "6    143.73\n",
            "5    145.83\n",
            "4      0.00\n",
            "3    144.02\n",
            "2    143.50\n",
            "1    142.62\n",
            "dtype: float64\n"
          ]
        }
      ],
      "source": [
        "print(s[4])\n",
        "s[4] = 0\n",
        "print(s)"
      ]
    },
    {
      "cell_type": "markdown",
      "metadata": {
        "id": "RQ1P7Gkyf060"
      },
      "source": [
        "Series can also have a name attribute, which will be used when we make up a Pandas DataFrame using several series."
      ]
    },
    {
      "cell_type": "code",
      "execution_count": 471,
      "metadata": {
        "id": "ZeD4-p7KO58m",
        "colab": {
          "base_uri": "https://localhost:8080/"
        },
        "outputId": "73277697-954f-42c3-c7ed-2b73f4ca057e"
      },
      "outputs": [
        {
          "output_type": "stream",
          "name": "stdout",
          "text": [
            "0    143.73\n",
            "1    145.83\n",
            "2    143.68\n",
            "3    144.02\n",
            "4    143.50\n",
            "5    142.62\n",
            "Name: Apple Price List, dtype: float64\n",
            "Apple Price List\n"
          ]
        }
      ],
      "source": [
        "s = pd.Series(price, name = 'Apple Price List')\n",
        "print(s)\n",
        "print(s.name)"
      ]
    },
    {
      "cell_type": "markdown",
      "metadata": {
        "id": "geJb1pGHf5Et"
      },
      "source": [
        "We can get the statistical summaries of a Series:"
      ]
    },
    {
      "cell_type": "code",
      "execution_count": 472,
      "metadata": {
        "id": "mGPtFcjegm4i",
        "colab": {
          "base_uri": "https://localhost:8080/"
        },
        "outputId": "6532c681-cc56-4536-c065-1d26ba72fc9e"
      },
      "outputs": [
        {
          "output_type": "stream",
          "name": "stdout",
          "text": [
            "count      6.000000\n",
            "mean     143.896667\n",
            "std        1.059711\n",
            "min      142.620000\n",
            "25%      143.545000\n",
            "50%      143.705000\n",
            "75%      143.947500\n",
            "max      145.830000\n",
            "Name: Apple Price List, dtype: float64\n"
          ]
        }
      ],
      "source": [
        "print(s.describe())"
      ]
    },
    {
      "cell_type": "markdown",
      "source": [
        "**My Own Example 200*"
      ],
      "metadata": {
        "id": "b4adUgArlFU7"
      }
    },
    {
      "cell_type": "code",
      "source": [
        "print(q.describe())"
      ],
      "metadata": {
        "colab": {
          "base_uri": "https://localhost:8080/"
        },
        "id": "BI1-4_fRlH69",
        "outputId": "f30e222a-3080-462d-bbb8-1c32afb06af8"
      },
      "execution_count": 478,
      "outputs": [
        {
          "output_type": "stream",
          "name": "stdout",
          "text": [
            "count      6.000000\n",
            "mean     594.556667\n",
            "std      239.844299\n",
            "min      221.980000\n",
            "25%      481.332500\n",
            "50%      605.235000\n",
            "75%      755.792500\n",
            "max      888.880000\n",
            "dtype: float64\n"
          ]
        }
      ]
    },
    {
      "cell_type": "markdown",
      "metadata": {
        "id": "qohIWRK_IgZd"
      },
      "source": [
        "*This presentation is for informational purposes only and does not constitute an offer to sell, a solicitation to buy, or a recommendation for any security; nor does it constitute an offer to provide investment advisory or other services by Quantopian, Inc. (\"Quantopian\"). Nothing contained herein constitutes investment advice or offers any opinion with respect to the suitability of any security, and any views expressed herein should not be taken as advice to buy, sell, or hold any security or as an endorsement of any security or company.  In preparing the information contained herein, Quantopian, Inc. has not taken into account the investment needs, objectives, and financial circumstances of any particular investor. Any views expressed and data illustrated herein were prepared based upon information, believed to be reliable, available to Quantopian, Inc. at the time of publication. Quantopian makes no guarantees as to their accuracy or completeness. All information is subject to change and may quickly become unreliable for various reasons, including changes in market conditions or economic circumstances.*"
      ]
    }
  ],
  "metadata": {
    "colab": {
      "collapsed_sections": [],
      "name": "alopezbr_Lab1.ipynb",
      "provenance": []
    },
    "kernelspec": {
      "display_name": "Python 2",
      "language": "python",
      "name": "python2"
    },
    "language_info": {
      "codemirror_mode": {
        "name": "ipython",
        "version": 2
      },
      "file_extension": ".py",
      "mimetype": "text/x-python",
      "name": "python",
      "nbconvert_exporter": "python",
      "pygments_lexer": "ipython2",
      "version": "2.7.12"
    }
  },
  "nbformat": 4,
  "nbformat_minor": 0
}